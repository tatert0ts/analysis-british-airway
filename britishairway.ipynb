{
 "cells": [
  {
   "cell_type": "code",
   "execution_count": 30,
   "metadata": {},
   "outputs": [],
   "source": [
    "import pandas as pd\n",
    "import re"
   ]
  },
  {
   "cell_type": "code",
   "execution_count": 31,
   "metadata": {},
   "outputs": [],
   "source": [
    "# pd.set_option('display.max_colwidth', None)"
   ]
  },
  {
   "cell_type": "code",
   "execution_count": 32,
   "metadata": {},
   "outputs": [],
   "source": [
    "raw_df = pd.read_csv(r'C:\\Users\\niyai\\git\\british-analysis\\British_Airway_Review.csv')"
   ]
  },
  {
   "cell_type": "code",
   "execution_count": 33,
   "metadata": {},
   "outputs": [],
   "source": [
    "df = raw_df"
   ]
  },
  {
   "cell_type": "code",
   "execution_count": 34,
   "metadata": {},
   "outputs": [
    {
     "name": "stdout",
     "output_type": "stream",
     "text": [
      "<class 'pandas.core.frame.DataFrame'>\n",
      "RangeIndex: 2500 entries, 0 to 2499\n",
      "Data columns (total 8 columns):\n",
      " #   Column             Non-Null Count  Dtype \n",
      "---  ------             --------------  ----- \n",
      " 0   reviews            2500 non-null   object\n",
      " 1   date               2500 non-null   object\n",
      " 2   country            2500 non-null   object\n",
      " 3   seat_type          2500 non-null   object\n",
      " 4   recommended        2500 non-null   object\n",
      " 5   stars              2500 non-null   int64 \n",
      " 6   route              2500 non-null   object\n",
      " 7   type_of_traveller  2500 non-null   object\n",
      "dtypes: int64(1), object(7)\n",
      "memory usage: 156.4+ KB\n"
     ]
    }
   ],
   "source": [
    "df.info()"
   ]
  },
  {
   "cell_type": "code",
   "execution_count": 35,
   "metadata": {},
   "outputs": [
    {
     "data": {
      "text/html": [
       "<div>\n",
       "<style scoped>\n",
       "    .dataframe tbody tr th:only-of-type {\n",
       "        vertical-align: middle;\n",
       "    }\n",
       "\n",
       "    .dataframe tbody tr th {\n",
       "        vertical-align: top;\n",
       "    }\n",
       "\n",
       "    .dataframe thead th {\n",
       "        text-align: right;\n",
       "    }\n",
       "</style>\n",
       "<table border=\"1\" class=\"dataframe\">\n",
       "  <thead>\n",
       "    <tr style=\"text-align: right;\">\n",
       "      <th></th>\n",
       "      <th>reviews</th>\n",
       "      <th>date</th>\n",
       "      <th>country</th>\n",
       "      <th>seat_type</th>\n",
       "      <th>recommended</th>\n",
       "      <th>stars</th>\n",
       "      <th>route</th>\n",
       "      <th>type_of_traveller</th>\n",
       "    </tr>\n",
       "  </thead>\n",
       "  <tbody>\n",
       "    <tr>\n",
       "      <th>0</th>\n",
       "      <td>✅ Trip Verified |  I had the most fantastic BA Flight today. The cabin crew in my seat zone 6D were of the best I have experienced. Although the 777 had the old style rear/front seating - it was comfortable and felt open and spacious. BA have done great things with the menu - it was nice not to have to eat breakfast food on the pre-arrival meal into HKG at 1730PM local time having left London at 2200 the night before. The dinner offering was equally ample and delicious. The inflight entertainment had a great collection of TV and current films and the inflight map was first rate. Previously not a huge BA fan - but after this 12 hour flight I could only recommend it without reserve. I flew the new BA suite in J class on a recent Delhi to London flight and enjoyed that product (although I felt it slightly more cramped ) but I think BA have stepped up with really comfortable bedding and food and very friendly crew who engaged throughout the flight in the best way. Couldn't recommend BA more on this flight today</td>\n",
       "      <td>1st August 2023</td>\n",
       "      <td>Hong Kong</td>\n",
       "      <td>Business Class</td>\n",
       "      <td>yes</td>\n",
       "      <td>5</td>\n",
       "      <td>Heathrow to Las Vegas</td>\n",
       "      <td>Family Leisure</td>\n",
       "    </tr>\n",
       "  </tbody>\n",
       "</table>\n",
       "</div>"
      ],
      "text/plain": [
       "                                                                                                                                                                                                                                                                                                                                                                                                                                                                                                                                                                                                                                                                                                                                                                                                                                                                                                                                                                                                                                                          reviews  \\\n",
       "0  ✅ Trip Verified |  I had the most fantastic BA Flight today. The cabin crew in my seat zone 6D were of the best I have experienced. Although the 777 had the old style rear/front seating - it was comfortable and felt open and spacious. BA have done great things with the menu - it was nice not to have to eat breakfast food on the pre-arrival meal into HKG at 1730PM local time having left London at 2200 the night before. The dinner offering was equally ample and delicious. The inflight entertainment had a great collection of TV and current films and the inflight map was first rate. Previously not a huge BA fan - but after this 12 hour flight I could only recommend it without reserve. I flew the new BA suite in J class on a recent Delhi to London flight and enjoyed that product (although I felt it slightly more cramped ) but I think BA have stepped up with really comfortable bedding and food and very friendly crew who engaged throughout the flight in the best way. Couldn't recommend BA more on this flight today   \n",
       "\n",
       "              date    country       seat_type recommended  stars  \\\n",
       "0  1st August 2023  Hong Kong  Business Class         yes      5   \n",
       "\n",
       "                   route type_of_traveller  \n",
       "0  Heathrow to Las Vegas    Family Leisure  "
      ]
     },
     "execution_count": 35,
     "metadata": {},
     "output_type": "execute_result"
    }
   ],
   "source": [
    "df.head(1)"
   ]
  },
  {
   "cell_type": "code",
   "execution_count": 36,
   "metadata": {},
   "outputs": [
    {
     "data": {
      "text/plain": [
       "array(['Business Class', 'Economy Class', 'Premium Economy',\n",
       "       'First Class'], dtype=object)"
      ]
     },
     "execution_count": 36,
     "metadata": {},
     "output_type": "execute_result"
    }
   ],
   "source": [
    "df.seat_type.unique()"
   ]
  },
  {
   "cell_type": "code",
   "execution_count": 37,
   "metadata": {},
   "outputs": [
    {
     "data": {
      "text/plain": [
       "array(['Family Leisure', 'Solo Leisure', 'Couple Leisure', 'Business'],\n",
       "      dtype=object)"
      ]
     },
     "execution_count": 37,
     "metadata": {},
     "output_type": "execute_result"
    }
   ],
   "source": [
    "df.type_of_traveller.unique()"
   ]
  },
  {
   "cell_type": "code",
   "execution_count": 38,
   "metadata": {},
   "outputs": [],
   "source": [
    "# Function to remove ordinal indicators from datetime strings\n",
    "# Remove ordinal indicators from the 'date' column\n",
    "def remove_ordinal_indicator(date_str):\n",
    "    return re.sub(r'(\\d+)(st|nd|rd|th)', r'\\1', date_str)\n",
    "\n",
    "df['date'] = df['date'].apply(remove_ordinal_indicator)"
   ]
  },
  {
   "cell_type": "code",
   "execution_count": 39,
   "metadata": {},
   "outputs": [],
   "source": [
    "# Convert the 'date' column to datetime type\n",
    "df['date'] = pd.to_datetime(df['date'], format='%d %B %Y')"
   ]
  },
  {
   "cell_type": "code",
   "execution_count": 40,
   "metadata": {},
   "outputs": [],
   "source": [
    "df['ym'] = df['date'].astype(str)\n",
    "df['ym'] = df['ym'].str[:7]"
   ]
  },
  {
   "cell_type": "code",
   "execution_count": 41,
   "metadata": {},
   "outputs": [],
   "source": [
    "df['day'] = df['date'].dt.day\n",
    "df['month'] = df['date'].dt.month\n",
    "df['year'] = df['date'].dt.year"
   ]
  },
  {
   "cell_type": "code",
   "execution_count": 42,
   "metadata": {},
   "outputs": [],
   "source": [
    "df['from'] = df['route'].str.split(' to ', expand = True)[0]\n",
    "df['to'] = df['route'].str.split(' to ', expand = True)[1]"
   ]
  },
  {
   "cell_type": "code",
   "execution_count": 43,
   "metadata": {},
   "outputs": [],
   "source": [
    "df['verified'] = df.reviews.str.startswith('✅ Trip Verified', '✅ Verified Review')"
   ]
  },
  {
   "cell_type": "code",
   "execution_count": 44,
   "metadata": {},
   "outputs": [],
   "source": [
    "prefix = ( # verified\n",
    "        '✅ Trip Verified'\n",
    "          , '✅ Verified Review'\n",
    "          # unverified\n",
    "          , 'Not Verified'\n",
    "          , '❎ Not Verified'\n",
    "          , '❎ Unverified')"
   ]
  },
  {
   "cell_type": "code",
   "execution_count": 45,
   "metadata": {},
   "outputs": [],
   "source": [
    "# Custom function to check if a string starts with a prefix\n",
    "def contains_prefix(row):\n",
    "    return any(row['reviews'].startswith(prefix) for prefix in prefix)\n",
    "\n",
    "# Apply the custom function to each row and store the result in a new column\n",
    "df['contains_prefix'] = df.apply(contains_prefix, axis=1)\n"
   ]
  },
  {
   "cell_type": "code",
   "execution_count": 46,
   "metadata": {},
   "outputs": [],
   "source": [
    "bool_to_yes_no = {True: 'Yes', False: 'No'}\n",
    "\n",
    "# Use mapping dictionary to replace values in the type_traveller column\n",
    "df['contains_prefix'] = df['contains_prefix'].map(bool_to_yes_no)\n",
    "df['verified'] = df['verified'].map(bool_to_yes_no)"
   ]
  },
  {
   "cell_type": "code",
   "execution_count": 47,
   "metadata": {},
   "outputs": [],
   "source": [
    "# Character after which you want to split the string\n",
    "character ='|' \n",
    "\n",
    "# Custom function to split the string and select values after the character\n",
    "def extract_value(value, character):\n",
    "    if character in value:\n",
    "        return value.split(character, 1)[-1]\n",
    "    else:\n",
    "        return value"
   ]
  },
  {
   "cell_type": "code",
   "execution_count": 48,
   "metadata": {},
   "outputs": [],
   "source": [
    "df['cleaned_reviews'] = df['reviews'].apply(lambda x: extract_value(x, character))"
   ]
  },
  {
   "cell_type": "code",
   "execution_count": 49,
   "metadata": {},
   "outputs": [],
   "source": [
    "newdf = df.drop(columns = ['reviews', 'route'])"
   ]
  },
  {
   "cell_type": "code",
   "execution_count": 50,
   "metadata": {},
   "outputs": [],
   "source": [
    "# newdf"
   ]
  },
  {
   "cell_type": "code",
   "execution_count": 51,
   "metadata": {},
   "outputs": [],
   "source": [
    "newdf.to_csv('British_Airway_Review_cleaned.csv', index = False)"
   ]
  },
  {
   "cell_type": "code",
   "execution_count": 52,
   "metadata": {},
   "outputs": [
    {
     "name": "stdout",
     "output_type": "stream",
     "text": [
      "<class 'pandas.core.frame.DataFrame'>\n",
      "RangeIndex: 2500 entries, 0 to 2499\n",
      "Data columns (total 15 columns):\n",
      " #   Column             Non-Null Count  Dtype         \n",
      "---  ------             --------------  -----         \n",
      " 0   date               2500 non-null   datetime64[ns]\n",
      " 1   country            2500 non-null   object        \n",
      " 2   seat_type          2500 non-null   object        \n",
      " 3   recommended        2500 non-null   object        \n",
      " 4   stars              2500 non-null   int64         \n",
      " 5   type_of_traveller  2500 non-null   object        \n",
      " 6   ym                 2500 non-null   object        \n",
      " 7   day                2500 non-null   int32         \n",
      " 8   month              2500 non-null   int32         \n",
      " 9   year               2500 non-null   int32         \n",
      " 10  from               2500 non-null   object        \n",
      " 11  to                 2500 non-null   object        \n",
      " 12  verified           2500 non-null   object        \n",
      " 13  contains_prefix    2500 non-null   object        \n",
      " 14  cleaned_reviews    2500 non-null   object        \n",
      "dtypes: datetime64[ns](1), int32(3), int64(1), object(10)\n",
      "memory usage: 263.8+ KB\n"
     ]
    }
   ],
   "source": [
    "newdf.info()"
   ]
  }
 ],
 "metadata": {
  "kernelspec": {
   "display_name": "Python 3",
   "language": "python",
   "name": "python3"
  },
  "language_info": {
   "codemirror_mode": {
    "name": "ipython",
    "version": 3
   },
   "file_extension": ".py",
   "mimetype": "text/x-python",
   "name": "python",
   "nbconvert_exporter": "python",
   "pygments_lexer": "ipython3",
   "version": "3.11.9"
  }
 },
 "nbformat": 4,
 "nbformat_minor": 2
}
