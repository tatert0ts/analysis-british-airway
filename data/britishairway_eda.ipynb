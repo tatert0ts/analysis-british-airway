{
 "cells": [
  {
   "cell_type": "code",
   "execution_count": 2,
   "metadata": {},
   "outputs": [],
   "source": [
    "import pandas as pd\n",
    "import plotly.express as px"
   ]
  },
  {
   "cell_type": "code",
   "execution_count": 3,
   "metadata": {},
   "outputs": [],
   "source": [
    "df = pd.read_csv('data\\British_Airway_Review_cleaned.csv')"
   ]
  },
  {
   "cell_type": "code",
   "execution_count": 4,
   "metadata": {},
   "outputs": [
    {
     "name": "stdout",
     "output_type": "stream",
     "text": [
      "<class 'pandas.core.frame.DataFrame'>\n",
      "RangeIndex: 2500 entries, 0 to 2499\n",
      "Data columns (total 15 columns):\n",
      " #   Column             Non-Null Count  Dtype \n",
      "---  ------             --------------  ----- \n",
      " 0   date               2500 non-null   object\n",
      " 1   country            2500 non-null   object\n",
      " 2   seat_type          2500 non-null   object\n",
      " 3   recommended        2500 non-null   object\n",
      " 4   stars              2500 non-null   int64 \n",
      " 5   type_of_traveller  2500 non-null   object\n",
      " 6   ym                 2500 non-null   object\n",
      " 7   day                2500 non-null   int64 \n",
      " 8   month              2500 non-null   int64 \n",
      " 9   year               2500 non-null   int64 \n",
      " 10  from               2500 non-null   object\n",
      " 11  to                 2500 non-null   object\n",
      " 12  verified           2500 non-null   object\n",
      " 13  contains_prefix    2500 non-null   object\n",
      " 14  cleaned_reviews    2500 non-null   object\n",
      "dtypes: int64(4), object(11)\n",
      "memory usage: 293.1+ KB\n"
     ]
    }
   ],
   "source": [
    "df.info()\n",
    "# no null values"
   ]
  },
  {
   "cell_type": "code",
   "execution_count": 5,
   "metadata": {},
   "outputs": [],
   "source": [
    "# Convert the 'date' column to datetime type\n",
    "df['date'] = pd.to_datetime(df['date'], format='%Y-%m-%d')"
   ]
  },
  {
   "cell_type": "code",
   "execution_count": 6,
   "metadata": {},
   "outputs": [],
   "source": [
    "# colors = {'coolblack' : '#01295C',\n",
    "#           'persianblue' : '#075AAA',\n",
    "#           'beaublue' : '#B9CFED',\n",
    "#           'pigmentred' : '#EB2226',\n",
    "#           'metallicsilver' : '#A7A9AC',\n",
    "#           'notwhite' : '#EFE9E5'\n",
    "#           }"
   ]
  },
  {
   "cell_type": "code",
   "execution_count": 7,
   "metadata": {},
   "outputs": [
    {
     "data": {
      "application/vnd.plotly.v1+json": {
       "config": {
        "plotlyServerURL": "https://plot.ly"
       },
       "data": [
        {
         "alignmentgroup": "True",
         "hovertemplate": "seat_type=Business Class<br>ym=%{x}<br>count=%{y}<extra></extra>",
         "legendgroup": "Business Class",
         "marker": {
          "color": "#075AAA",
          "pattern": {
           "shape": ""
          }
         },
         "name": "Business Class",
         "offsetgroup": "Business Class",
         "orientation": "v",
         "showlegend": true,
         "textposition": "auto",
         "type": "bar",
         "x": [
          "2015-11",
          "2015-12",
          "2016-01",
          "2016-02",
          "2016-03",
          "2016-04",
          "2016-05",
          "2016-06",
          "2016-07",
          "2016-08",
          "2016-09",
          "2016-10",
          "2016-11",
          "2016-12",
          "2017-01",
          "2017-02",
          "2017-03",
          "2017-04",
          "2017-05",
          "2017-06",
          "2017-07",
          "2017-08",
          "2017-09",
          "2017-10",
          "2017-11",
          "2017-12",
          "2018-01",
          "2018-02",
          "2018-03",
          "2018-04",
          "2018-05",
          "2018-06",
          "2018-07",
          "2018-08",
          "2018-09",
          "2018-10",
          "2018-11",
          "2018-12",
          "2019-01",
          "2019-02",
          "2019-03",
          "2019-04",
          "2019-05",
          "2019-06",
          "2019-07",
          "2019-08",
          "2019-09",
          "2019-10",
          "2019-11",
          "2019-12",
          "2020-01",
          "2020-02",
          "2020-03",
          "2020-04",
          "2020-05",
          "2020-06",
          "2020-09",
          "2020-12",
          "2021-04",
          "2021-05",
          "2021-06",
          "2021-07",
          "2021-08",
          "2021-09",
          "2021-10",
          "2021-11",
          "2021-12",
          "2022-01",
          "2022-02",
          "2022-03",
          "2022-04",
          "2022-05",
          "2022-06",
          "2022-07",
          "2022-08",
          "2022-09",
          "2022-10",
          "2022-11",
          "2022-12",
          "2023-01",
          "2023-02",
          "2023-03",
          "2023-04",
          "2023-05",
          "2023-06",
          "2023-07",
          "2023-08"
         ],
         "xaxis": "x",
         "y": [
          15,
          14,
          12,
          13,
          13,
          15,
          14,
          11,
          17,
          9,
          17,
          11,
          9,
          12,
          17,
          13,
          14,
          22,
          13,
          19,
          13,
          9,
          13,
          10,
          20,
          5,
          13,
          8,
          10,
          12,
          7,
          10,
          11,
          8,
          7,
          8,
          5,
          5,
          5,
          8,
          5,
          10,
          11,
          5,
          8,
          9,
          15,
          9,
          6,
          10,
          17,
          5,
          4,
          4,
          1,
          1,
          1,
          1,
          1,
          1,
          3,
          2,
          3,
          4,
          8,
          6,
          7,
          7,
          7,
          6,
          18,
          6,
          8,
          6,
          2,
          4,
          10,
          4,
          8,
          6,
          4,
          4,
          6,
          8,
          7,
          8,
          1
         ],
         "yaxis": "y"
        },
        {
         "alignmentgroup": "True",
         "hovertemplate": "seat_type=Economy Class<br>ym=%{x}<br>count=%{y}<extra></extra>",
         "legendgroup": "Economy Class",
         "marker": {
          "color": "#A7A9AC",
          "pattern": {
           "shape": ""
          }
         },
         "name": "Economy Class",
         "offsetgroup": "Economy Class",
         "orientation": "v",
         "showlegend": true,
         "textposition": "auto",
         "type": "bar",
         "x": [
          "2015-11",
          "2015-12",
          "2016-01",
          "2016-02",
          "2016-03",
          "2016-04",
          "2016-05",
          "2016-06",
          "2016-07",
          "2016-08",
          "2016-09",
          "2016-10",
          "2016-11",
          "2016-12",
          "2017-01",
          "2017-02",
          "2017-03",
          "2017-04",
          "2017-05",
          "2017-06",
          "2017-07",
          "2017-08",
          "2017-09",
          "2017-10",
          "2017-11",
          "2017-12",
          "2018-01",
          "2018-02",
          "2018-03",
          "2018-04",
          "2018-05",
          "2018-06",
          "2018-07",
          "2018-08",
          "2018-09",
          "2018-10",
          "2018-11",
          "2018-12",
          "2019-01",
          "2019-02",
          "2019-03",
          "2019-04",
          "2019-05",
          "2019-06",
          "2019-07",
          "2019-08",
          "2019-09",
          "2019-10",
          "2019-11",
          "2019-12",
          "2020-01",
          "2020-02",
          "2020-03",
          "2020-04",
          "2020-05",
          "2020-06",
          "2020-07",
          "2020-08",
          "2020-09",
          "2020-10",
          "2020-12",
          "2021-02",
          "2021-03",
          "2021-04",
          "2021-05",
          "2021-06",
          "2021-07",
          "2021-08",
          "2021-09",
          "2021-10",
          "2021-11",
          "2021-12",
          "2022-01",
          "2022-02",
          "2022-03",
          "2022-04",
          "2022-05",
          "2022-06",
          "2022-07",
          "2022-08",
          "2022-09",
          "2022-10",
          "2022-11",
          "2022-12",
          "2023-01",
          "2023-02",
          "2023-03",
          "2023-04",
          "2023-05",
          "2023-06",
          "2023-07"
         ],
         "xaxis": "x",
         "y": [
          20,
          32,
          28,
          14,
          29,
          20,
          31,
          19,
          10,
          21,
          30,
          26,
          35,
          24,
          35,
          36,
          27,
          39,
          35,
          21,
          35,
          23,
          20,
          26,
          23,
          14,
          14,
          13,
          13,
          16,
          20,
          14,
          17,
          12,
          11,
          9,
          13,
          13,
          20,
          14,
          15,
          12,
          18,
          22,
          17,
          23,
          12,
          24,
          18,
          15,
          15,
          6,
          12,
          8,
          2,
          2,
          2,
          3,
          1,
          3,
          5,
          4,
          1,
          2,
          2,
          1,
          3,
          4,
          5,
          9,
          8,
          5,
          6,
          4,
          9,
          11,
          9,
          17,
          10,
          7,
          7,
          11,
          6,
          8,
          11,
          10,
          23,
          14,
          10,
          24,
          15
         ],
         "yaxis": "y"
        },
        {
         "alignmentgroup": "True",
         "hovertemplate": "seat_type=First Class<br>ym=%{x}<br>count=%{y}<extra></extra>",
         "legendgroup": "First Class",
         "marker": {
          "color": "#B9CFED",
          "pattern": {
           "shape": ""
          }
         },
         "name": "First Class",
         "offsetgroup": "First Class",
         "orientation": "v",
         "showlegend": true,
         "textposition": "auto",
         "type": "bar",
         "x": [
          "2015-11",
          "2015-12",
          "2016-01",
          "2016-02",
          "2016-03",
          "2016-04",
          "2016-05",
          "2016-06",
          "2016-07",
          "2016-08",
          "2016-09",
          "2016-10",
          "2016-11",
          "2016-12",
          "2017-01",
          "2017-02",
          "2017-04",
          "2017-05",
          "2017-06",
          "2017-08",
          "2017-09",
          "2017-10",
          "2017-11",
          "2017-12",
          "2018-01",
          "2018-02",
          "2018-03",
          "2018-04",
          "2018-05",
          "2018-06",
          "2018-07",
          "2018-08",
          "2018-09",
          "2018-10",
          "2018-11",
          "2018-12",
          "2019-01",
          "2019-02",
          "2019-03",
          "2019-04",
          "2019-05",
          "2019-06",
          "2019-08",
          "2019-12",
          "2020-01",
          "2020-02",
          "2020-06",
          "2021-01",
          "2021-12",
          "2022-03",
          "2022-12",
          "2023-01",
          "2023-03"
         ],
         "xaxis": "x",
         "y": [
          5,
          4,
          4,
          6,
          4,
          3,
          1,
          7,
          4,
          3,
          4,
          6,
          13,
          3,
          4,
          1,
          2,
          1,
          3,
          1,
          1,
          1,
          3,
          5,
          2,
          1,
          1,
          1,
          2,
          4,
          2,
          2,
          1,
          2,
          1,
          4,
          1,
          3,
          3,
          1,
          2,
          2,
          1,
          1,
          1,
          1,
          1,
          1,
          1,
          1,
          1,
          1,
          1
         ],
         "yaxis": "y"
        },
        {
         "alignmentgroup": "True",
         "hovertemplate": "seat_type=Premium Economy<br>ym=%{x}<br>count=%{y}<extra></extra>",
         "legendgroup": "Premium Economy",
         "marker": {
          "color": "#01295C",
          "pattern": {
           "shape": ""
          }
         },
         "name": "Premium Economy",
         "offsetgroup": "Premium Economy",
         "orientation": "v",
         "showlegend": true,
         "textposition": "auto",
         "type": "bar",
         "x": [
          "2015-11",
          "2015-12",
          "2016-01",
          "2016-02",
          "2016-03",
          "2016-04",
          "2016-05",
          "2016-06",
          "2016-07",
          "2016-08",
          "2016-09",
          "2016-10",
          "2016-11",
          "2016-12",
          "2017-01",
          "2017-02",
          "2017-03",
          "2017-04",
          "2017-05",
          "2017-06",
          "2017-07",
          "2017-08",
          "2017-09",
          "2017-10",
          "2017-11",
          "2017-12",
          "2018-01",
          "2018-02",
          "2018-03",
          "2018-04",
          "2018-05",
          "2018-06",
          "2018-07",
          "2018-08",
          "2018-09",
          "2018-10",
          "2018-11",
          "2018-12",
          "2019-01",
          "2019-02",
          "2019-05",
          "2019-07",
          "2019-08",
          "2019-09",
          "2019-10",
          "2019-11",
          "2019-12",
          "2020-01",
          "2020-02",
          "2020-03",
          "2020-05",
          "2020-07",
          "2020-12",
          "2021-07",
          "2021-10",
          "2021-11",
          "2021-12",
          "2022-02",
          "2022-03",
          "2022-05",
          "2022-06",
          "2022-07",
          "2022-08",
          "2022-09",
          "2022-11",
          "2022-12",
          "2023-01",
          "2023-03",
          "2023-04",
          "2023-05",
          "2023-06",
          "2023-07"
         ],
         "xaxis": "x",
         "y": [
          7,
          8,
          7,
          4,
          8,
          5,
          5,
          6,
          3,
          2,
          4,
          7,
          9,
          12,
          3,
          4,
          5,
          4,
          4,
          14,
          2,
          3,
          1,
          2,
          3,
          3,
          1,
          4,
          1,
          5,
          2,
          5,
          3,
          2,
          4,
          1,
          1,
          3,
          8,
          5,
          1,
          3,
          2,
          2,
          8,
          1,
          1,
          1,
          2,
          1,
          2,
          1,
          1,
          1,
          3,
          1,
          1,
          1,
          4,
          2,
          2,
          4,
          1,
          1,
          1,
          4,
          3,
          3,
          4,
          2,
          1,
          3
         ],
         "yaxis": "y"
        }
       ],
       "layout": {
        "barmode": "relative",
        "hovermode": "x",
        "legend": {
         "title": {},
         "tracegroupgap": 0,
         "x": 0.99,
         "xanchor": "right",
         "y": 0.98,
         "yanchor": "top"
        },
        "margin": {
         "b": 30,
         "l": 50,
         "r": 40,
         "t": 50
        },
        "template": {
         "data": {
          "bar": [
           {
            "error_x": {
             "color": "#2a3f5f"
            },
            "error_y": {
             "color": "#2a3f5f"
            },
            "marker": {
             "line": {
              "color": "#E5ECF6",
              "width": 0.5
             },
             "pattern": {
              "fillmode": "overlay",
              "size": 10,
              "solidity": 0.2
             }
            },
            "type": "bar"
           }
          ],
          "barpolar": [
           {
            "marker": {
             "line": {
              "color": "#E5ECF6",
              "width": 0.5
             },
             "pattern": {
              "fillmode": "overlay",
              "size": 10,
              "solidity": 0.2
             }
            },
            "type": "barpolar"
           }
          ],
          "carpet": [
           {
            "aaxis": {
             "endlinecolor": "#2a3f5f",
             "gridcolor": "white",
             "linecolor": "white",
             "minorgridcolor": "white",
             "startlinecolor": "#2a3f5f"
            },
            "baxis": {
             "endlinecolor": "#2a3f5f",
             "gridcolor": "white",
             "linecolor": "white",
             "minorgridcolor": "white",
             "startlinecolor": "#2a3f5f"
            },
            "type": "carpet"
           }
          ],
          "choropleth": [
           {
            "colorbar": {
             "outlinewidth": 0,
             "ticks": ""
            },
            "type": "choropleth"
           }
          ],
          "contour": [
           {
            "colorbar": {
             "outlinewidth": 0,
             "ticks": ""
            },
            "colorscale": [
             [
              0,
              "#0d0887"
             ],
             [
              0.1111111111111111,
              "#46039f"
             ],
             [
              0.2222222222222222,
              "#7201a8"
             ],
             [
              0.3333333333333333,
              "#9c179e"
             ],
             [
              0.4444444444444444,
              "#bd3786"
             ],
             [
              0.5555555555555556,
              "#d8576b"
             ],
             [
              0.6666666666666666,
              "#ed7953"
             ],
             [
              0.7777777777777778,
              "#fb9f3a"
             ],
             [
              0.8888888888888888,
              "#fdca26"
             ],
             [
              1,
              "#f0f921"
             ]
            ],
            "type": "contour"
           }
          ],
          "contourcarpet": [
           {
            "colorbar": {
             "outlinewidth": 0,
             "ticks": ""
            },
            "type": "contourcarpet"
           }
          ],
          "heatmap": [
           {
            "colorbar": {
             "outlinewidth": 0,
             "ticks": ""
            },
            "colorscale": [
             [
              0,
              "#0d0887"
             ],
             [
              0.1111111111111111,
              "#46039f"
             ],
             [
              0.2222222222222222,
              "#7201a8"
             ],
             [
              0.3333333333333333,
              "#9c179e"
             ],
             [
              0.4444444444444444,
              "#bd3786"
             ],
             [
              0.5555555555555556,
              "#d8576b"
             ],
             [
              0.6666666666666666,
              "#ed7953"
             ],
             [
              0.7777777777777778,
              "#fb9f3a"
             ],
             [
              0.8888888888888888,
              "#fdca26"
             ],
             [
              1,
              "#f0f921"
             ]
            ],
            "type": "heatmap"
           }
          ],
          "heatmapgl": [
           {
            "colorbar": {
             "outlinewidth": 0,
             "ticks": ""
            },
            "colorscale": [
             [
              0,
              "#0d0887"
             ],
             [
              0.1111111111111111,
              "#46039f"
             ],
             [
              0.2222222222222222,
              "#7201a8"
             ],
             [
              0.3333333333333333,
              "#9c179e"
             ],
             [
              0.4444444444444444,
              "#bd3786"
             ],
             [
              0.5555555555555556,
              "#d8576b"
             ],
             [
              0.6666666666666666,
              "#ed7953"
             ],
             [
              0.7777777777777778,
              "#fb9f3a"
             ],
             [
              0.8888888888888888,
              "#fdca26"
             ],
             [
              1,
              "#f0f921"
             ]
            ],
            "type": "heatmapgl"
           }
          ],
          "histogram": [
           {
            "marker": {
             "pattern": {
              "fillmode": "overlay",
              "size": 10,
              "solidity": 0.2
             }
            },
            "type": "histogram"
           }
          ],
          "histogram2d": [
           {
            "colorbar": {
             "outlinewidth": 0,
             "ticks": ""
            },
            "colorscale": [
             [
              0,
              "#0d0887"
             ],
             [
              0.1111111111111111,
              "#46039f"
             ],
             [
              0.2222222222222222,
              "#7201a8"
             ],
             [
              0.3333333333333333,
              "#9c179e"
             ],
             [
              0.4444444444444444,
              "#bd3786"
             ],
             [
              0.5555555555555556,
              "#d8576b"
             ],
             [
              0.6666666666666666,
              "#ed7953"
             ],
             [
              0.7777777777777778,
              "#fb9f3a"
             ],
             [
              0.8888888888888888,
              "#fdca26"
             ],
             [
              1,
              "#f0f921"
             ]
            ],
            "type": "histogram2d"
           }
          ],
          "histogram2dcontour": [
           {
            "colorbar": {
             "outlinewidth": 0,
             "ticks": ""
            },
            "colorscale": [
             [
              0,
              "#0d0887"
             ],
             [
              0.1111111111111111,
              "#46039f"
             ],
             [
              0.2222222222222222,
              "#7201a8"
             ],
             [
              0.3333333333333333,
              "#9c179e"
             ],
             [
              0.4444444444444444,
              "#bd3786"
             ],
             [
              0.5555555555555556,
              "#d8576b"
             ],
             [
              0.6666666666666666,
              "#ed7953"
             ],
             [
              0.7777777777777778,
              "#fb9f3a"
             ],
             [
              0.8888888888888888,
              "#fdca26"
             ],
             [
              1,
              "#f0f921"
             ]
            ],
            "type": "histogram2dcontour"
           }
          ],
          "mesh3d": [
           {
            "colorbar": {
             "outlinewidth": 0,
             "ticks": ""
            },
            "type": "mesh3d"
           }
          ],
          "parcoords": [
           {
            "line": {
             "colorbar": {
              "outlinewidth": 0,
              "ticks": ""
             }
            },
            "type": "parcoords"
           }
          ],
          "pie": [
           {
            "automargin": true,
            "type": "pie"
           }
          ],
          "scatter": [
           {
            "fillpattern": {
             "fillmode": "overlay",
             "size": 10,
             "solidity": 0.2
            },
            "type": "scatter"
           }
          ],
          "scatter3d": [
           {
            "line": {
             "colorbar": {
              "outlinewidth": 0,
              "ticks": ""
             }
            },
            "marker": {
             "colorbar": {
              "outlinewidth": 0,
              "ticks": ""
             }
            },
            "type": "scatter3d"
           }
          ],
          "scattercarpet": [
           {
            "marker": {
             "colorbar": {
              "outlinewidth": 0,
              "ticks": ""
             }
            },
            "type": "scattercarpet"
           }
          ],
          "scattergeo": [
           {
            "marker": {
             "colorbar": {
              "outlinewidth": 0,
              "ticks": ""
             }
            },
            "type": "scattergeo"
           }
          ],
          "scattergl": [
           {
            "marker": {
             "colorbar": {
              "outlinewidth": 0,
              "ticks": ""
             }
            },
            "type": "scattergl"
           }
          ],
          "scattermapbox": [
           {
            "marker": {
             "colorbar": {
              "outlinewidth": 0,
              "ticks": ""
             }
            },
            "type": "scattermapbox"
           }
          ],
          "scatterpolar": [
           {
            "marker": {
             "colorbar": {
              "outlinewidth": 0,
              "ticks": ""
             }
            },
            "type": "scatterpolar"
           }
          ],
          "scatterpolargl": [
           {
            "marker": {
             "colorbar": {
              "outlinewidth": 0,
              "ticks": ""
             }
            },
            "type": "scatterpolargl"
           }
          ],
          "scatterternary": [
           {
            "marker": {
             "colorbar": {
              "outlinewidth": 0,
              "ticks": ""
             }
            },
            "type": "scatterternary"
           }
          ],
          "surface": [
           {
            "colorbar": {
             "outlinewidth": 0,
             "ticks": ""
            },
            "colorscale": [
             [
              0,
              "#0d0887"
             ],
             [
              0.1111111111111111,
              "#46039f"
             ],
             [
              0.2222222222222222,
              "#7201a8"
             ],
             [
              0.3333333333333333,
              "#9c179e"
             ],
             [
              0.4444444444444444,
              "#bd3786"
             ],
             [
              0.5555555555555556,
              "#d8576b"
             ],
             [
              0.6666666666666666,
              "#ed7953"
             ],
             [
              0.7777777777777778,
              "#fb9f3a"
             ],
             [
              0.8888888888888888,
              "#fdca26"
             ],
             [
              1,
              "#f0f921"
             ]
            ],
            "type": "surface"
           }
          ],
          "table": [
           {
            "cells": {
             "fill": {
              "color": "#EBF0F8"
             },
             "line": {
              "color": "white"
             }
            },
            "header": {
             "fill": {
              "color": "#C8D4E3"
             },
             "line": {
              "color": "white"
             }
            },
            "type": "table"
           }
          ]
         },
         "layout": {
          "annotationdefaults": {
           "arrowcolor": "#2a3f5f",
           "arrowhead": 0,
           "arrowwidth": 1
          },
          "autotypenumbers": "strict",
          "coloraxis": {
           "colorbar": {
            "outlinewidth": 0,
            "ticks": ""
           }
          },
          "colorscale": {
           "diverging": [
            [
             0,
             "#8e0152"
            ],
            [
             0.1,
             "#c51b7d"
            ],
            [
             0.2,
             "#de77ae"
            ],
            [
             0.3,
             "#f1b6da"
            ],
            [
             0.4,
             "#fde0ef"
            ],
            [
             0.5,
             "#f7f7f7"
            ],
            [
             0.6,
             "#e6f5d0"
            ],
            [
             0.7,
             "#b8e186"
            ],
            [
             0.8,
             "#7fbc41"
            ],
            [
             0.9,
             "#4d9221"
            ],
            [
             1,
             "#276419"
            ]
           ],
           "sequential": [
            [
             0,
             "#0d0887"
            ],
            [
             0.1111111111111111,
             "#46039f"
            ],
            [
             0.2222222222222222,
             "#7201a8"
            ],
            [
             0.3333333333333333,
             "#9c179e"
            ],
            [
             0.4444444444444444,
             "#bd3786"
            ],
            [
             0.5555555555555556,
             "#d8576b"
            ],
            [
             0.6666666666666666,
             "#ed7953"
            ],
            [
             0.7777777777777778,
             "#fb9f3a"
            ],
            [
             0.8888888888888888,
             "#fdca26"
            ],
            [
             1,
             "#f0f921"
            ]
           ],
           "sequentialminus": [
            [
             0,
             "#0d0887"
            ],
            [
             0.1111111111111111,
             "#46039f"
            ],
            [
             0.2222222222222222,
             "#7201a8"
            ],
            [
             0.3333333333333333,
             "#9c179e"
            ],
            [
             0.4444444444444444,
             "#bd3786"
            ],
            [
             0.5555555555555556,
             "#d8576b"
            ],
            [
             0.6666666666666666,
             "#ed7953"
            ],
            [
             0.7777777777777778,
             "#fb9f3a"
            ],
            [
             0.8888888888888888,
             "#fdca26"
            ],
            [
             1,
             "#f0f921"
            ]
           ]
          },
          "colorway": [
           "#636efa",
           "#EF553B",
           "#00cc96",
           "#ab63fa",
           "#FFA15A",
           "#19d3f3",
           "#FF6692",
           "#B6E880",
           "#FF97FF",
           "#FECB52"
          ],
          "font": {
           "color": "#2a3f5f"
          },
          "geo": {
           "bgcolor": "white",
           "lakecolor": "white",
           "landcolor": "#E5ECF6",
           "showlakes": true,
           "showland": true,
           "subunitcolor": "white"
          },
          "hoverlabel": {
           "align": "left"
          },
          "hovermode": "closest",
          "mapbox": {
           "style": "light"
          },
          "paper_bgcolor": "white",
          "plot_bgcolor": "#E5ECF6",
          "polar": {
           "angularaxis": {
            "gridcolor": "white",
            "linecolor": "white",
            "ticks": ""
           },
           "bgcolor": "#E5ECF6",
           "radialaxis": {
            "gridcolor": "white",
            "linecolor": "white",
            "ticks": ""
           }
          },
          "scene": {
           "xaxis": {
            "backgroundcolor": "#E5ECF6",
            "gridcolor": "white",
            "gridwidth": 2,
            "linecolor": "white",
            "showbackground": true,
            "ticks": "",
            "zerolinecolor": "white"
           },
           "yaxis": {
            "backgroundcolor": "#E5ECF6",
            "gridcolor": "white",
            "gridwidth": 2,
            "linecolor": "white",
            "showbackground": true,
            "ticks": "",
            "zerolinecolor": "white"
           },
           "zaxis": {
            "backgroundcolor": "#E5ECF6",
            "gridcolor": "white",
            "gridwidth": 2,
            "linecolor": "white",
            "showbackground": true,
            "ticks": "",
            "zerolinecolor": "white"
           }
          },
          "shapedefaults": {
           "line": {
            "color": "#2a3f5f"
           }
          },
          "ternary": {
           "aaxis": {
            "gridcolor": "white",
            "linecolor": "white",
            "ticks": ""
           },
           "baxis": {
            "gridcolor": "white",
            "linecolor": "white",
            "ticks": ""
           },
           "bgcolor": "#E5ECF6",
           "caxis": {
            "gridcolor": "white",
            "linecolor": "white",
            "ticks": ""
           }
          },
          "title": {
           "x": 0.05
          },
          "xaxis": {
           "automargin": true,
           "gridcolor": "white",
           "linecolor": "white",
           "ticks": "",
           "title": {
            "standoff": 15
           },
           "zerolinecolor": "white",
           "zerolinewidth": 2
          },
          "yaxis": {
           "automargin": true,
           "gridcolor": "white",
           "linecolor": "white",
           "ticks": "",
           "title": {
            "standoff": 15
           },
           "zerolinecolor": "white",
           "zerolinewidth": 2
          }
         }
        },
        "title": {
         "text": "Exploring the Volume of Reviews",
         "x": 0.5
        },
        "xaxis": {
         "anchor": "y",
         "domain": [
          0,
          1
         ],
         "title": {
          "text": "Date"
         }
        },
        "yaxis": {
         "anchor": "x",
         "domain": [
          0,
          1
         ],
         "title": {
          "text": "Number of Reviews"
         }
        }
       }
      }
     },
     "metadata": {},
     "output_type": "display_data"
    }
   ],
   "source": [
    "    rev_num = df.groupby(['ym', 'seat_type']).size().reset_index(name='count')\n",
    "    fig_rev_num = px.bar(rev_num, x = \"ym\", y = \"count\",\n",
    "                        color = 'seat_type',\n",
    "                        color_discrete_map = {'Business Class': '#075AAA', 'Economy Class': '#A7A9AC',\n",
    "                                              'First Class': '#B9CFED', 'Premium Economy' : '#01295C' }\n",
    "                        )\n",
    "    fig_rev_num.update_layout(hovermode=\"x\",\n",
    "                    title = \"Exploring the Volume of Reviews\",\n",
    "                    title_x = 0.5,\n",
    "                    yaxis_title = 'Number of Reviews',\n",
    "                    xaxis_title = 'Date',\n",
    "                    legend_title = None,\n",
    "                    legend = dict(yanchor = \"top\", y = 0.98,\n",
    "                              xanchor = \"right\", x = 0.99),\n",
    "                    margin = dict(l = 50, r = 40, t = 50, b = 30)\n",
    "                    )"
   ]
  },
  {
   "cell_type": "code",
   "execution_count": 8,
   "metadata": {},
   "outputs": [
    {
     "data": {
      "text/plain": [
       "array([5, 3, 1, 9, 7], dtype=int64)"
      ]
     },
     "execution_count": 8,
     "metadata": {},
     "output_type": "execute_result"
    }
   ],
   "source": [
    "df.stars.unique()"
   ]
  },
  {
   "cell_type": "code",
   "execution_count": 9,
   "metadata": {},
   "outputs": [
    {
     "data": {
      "text/plain": [
       "stars\n",
       "3    1137\n",
       "5     682\n",
       "1     227\n",
       "9     227\n",
       "7     227\n",
       "Name: count, dtype: int64"
      ]
     },
     "execution_count": 9,
     "metadata": {},
     "output_type": "execute_result"
    }
   ],
   "source": [
    "df['stars'].value_counts()"
   ]
  },
  {
   "cell_type": "code",
   "execution_count": 10,
   "metadata": {},
   "outputs": [
    {
     "data": {
      "application/vnd.plotly.v1+json": {
       "config": {
        "plotlyServerURL": "https://plot.ly"
       },
       "data": [
        {
         "alignmentgroup": "True",
         "box": {
          "visible": false
         },
         "hovertemplate": "recommended=Yes<br>stars=%{y}<extra></extra>",
         "legendgroup": "Yes",
         "marker": {
          "color": "#636efa"
         },
         "name": "Yes",
         "offsetgroup": "Yes",
         "orientation": "v",
         "scalegroup": "True",
         "showlegend": true,
         "type": "violin",
         "x0": " ",
         "xaxis": "x",
         "y": [
          5,
          3,
          5,
          5,
          5,
          5,
          3,
          7,
          5,
          3,
          7,
          3,
          1,
          1,
          5,
          5,
          3,
          5,
          5,
          9,
          1,
          5,
          5,
          5,
          3,
          5,
          3,
          5,
          5,
          3,
          7,
          3,
          5,
          5,
          3,
          3,
          7,
          3,
          1,
          7,
          5,
          3,
          3,
          3,
          1,
          9,
          3,
          3,
          5,
          3,
          3,
          9,
          3,
          5,
          3,
          5,
          3,
          3,
          1,
          9,
          3,
          3,
          3,
          3,
          5,
          3,
          1,
          5,
          3,
          3,
          5,
          3,
          3,
          3,
          5,
          3,
          3,
          5,
          3,
          3,
          7,
          3,
          3,
          5,
          9,
          5,
          3,
          3,
          9,
          7,
          3,
          3,
          3,
          3,
          3,
          7,
          3,
          5,
          5,
          3,
          3,
          3,
          5,
          1,
          7,
          3,
          3,
          3,
          5,
          5,
          9,
          5,
          5,
          3,
          3,
          1,
          9,
          7,
          5,
          3,
          3,
          3,
          7,
          3,
          5,
          5,
          3,
          3,
          5,
          7,
          3,
          3,
          5,
          3,
          3,
          9,
          7,
          3,
          3,
          9,
          7,
          3,
          3,
          5,
          5,
          3,
          3,
          5,
          3,
          5,
          1,
          5,
          3,
          5,
          5,
          3,
          7,
          1,
          9,
          5,
          3,
          5,
          3,
          3,
          9,
          3,
          5,
          5,
          5,
          3,
          9,
          7,
          3,
          3,
          5,
          5,
          5,
          5,
          5,
          3,
          3,
          1,
          5,
          3,
          9,
          3,
          5,
          3,
          3,
          9,
          3,
          3,
          1,
          5,
          3,
          3,
          5,
          3,
          1,
          5,
          3,
          3,
          3,
          3,
          5,
          3,
          3,
          5,
          3,
          5,
          3,
          9,
          7,
          3,
          5,
          3,
          5,
          3,
          1,
          9,
          3,
          3,
          3,
          3,
          5,
          3,
          9,
          3,
          5,
          3,
          9,
          3,
          5,
          3,
          1,
          3,
          5,
          3,
          5,
          1,
          3,
          5,
          3,
          5,
          3,
          9,
          3,
          1,
          7,
          5,
          3,
          3,
          5,
          5,
          3,
          9,
          9,
          3,
          5,
          5,
          3,
          9,
          7,
          3,
          5,
          9,
          7,
          3,
          5,
          3,
          3,
          9,
          7,
          3,
          5,
          5,
          3,
          7,
          5,
          3,
          5,
          3,
          9,
          7,
          5,
          3,
          3,
          9,
          7,
          5,
          5,
          1,
          3,
          3,
          3,
          3,
          5,
          5,
          3,
          1,
          9,
          5,
          5,
          3,
          3,
          9,
          3,
          5,
          3,
          5,
          3,
          1,
          9,
          7,
          5,
          1,
          3,
          1,
          9,
          3,
          5,
          3,
          3,
          3,
          3,
          3,
          5,
          3,
          9,
          3,
          5,
          1,
          9,
          5,
          9,
          7,
          5,
          3,
          5,
          5,
          7,
          5,
          3,
          7,
          5,
          5,
          3,
          9,
          3,
          3,
          5,
          5,
          7,
          3,
          3,
          3,
          9,
          7,
          3,
          5,
          1,
          7,
          3,
          3,
          1,
          9,
          5,
          3,
          3,
          5,
          3,
          1,
          1,
          7,
          5,
          3,
          3,
          3,
          3,
          9,
          5,
          5,
          3,
          5,
          3,
          7,
          3,
          3,
          9,
          3,
          5,
          5,
          3,
          1,
          3,
          3,
          9,
          5,
          3,
          5,
          5,
          9,
          3,
          3,
          3,
          3,
          3,
          3,
          1,
          7,
          5,
          3,
          3,
          3,
          5,
          3,
          3,
          3,
          5,
          5,
          5,
          3,
          7,
          3,
          3,
          3,
          3,
          3,
          5,
          5,
          5,
          3,
          3,
          1,
          5,
          3,
          1,
          3,
          3,
          5,
          3,
          3,
          3,
          3,
          5,
          3,
          5,
          5,
          9,
          7,
          3,
          3,
          3,
          1,
          9,
          3,
          3,
          9,
          7,
          3,
          3,
          5,
          9,
          3,
          3,
          5,
          5,
          5,
          3,
          1,
          9,
          7,
          3,
          5,
          3,
          9,
          3,
          5,
          1,
          5,
          3,
          3,
          7,
          3,
          7,
          5,
          5,
          1,
          9,
          7,
          3,
          3,
          3,
          5,
          3,
          3,
          1,
          9,
          7,
          5,
          5,
          3,
          5,
          9,
          3,
          3,
          3,
          9,
          5,
          3,
          3,
          1,
          9,
          5,
          1,
          9,
          3,
          5,
          3,
          5,
          3,
          9,
          3,
          3,
          3,
          3,
          9,
          5,
          3,
          5,
          3,
          3,
          5,
          5,
          3,
          3,
          3,
          3,
          3,
          5,
          9,
          3,
          5,
          3,
          7,
          3,
          3,
          1,
          7,
          3,
          3,
          5,
          5,
          3,
          1,
          7,
          3,
          3,
          5,
          7,
          3,
          3,
          3,
          3,
          3,
          3,
          3,
          5,
          3,
          7,
          3,
          3,
          3,
          3,
          5,
          3,
          3,
          9,
          5,
          3,
          1,
          7,
          5,
          3,
          1,
          3,
          5,
          3,
          5,
          3,
          1,
          5,
          5,
          9,
          7,
          3,
          5,
          3,
          5,
          5,
          9,
          3,
          3,
          5,
          5,
          9,
          5,
          3,
          5,
          3,
          9,
          7,
          3,
          5,
          1,
          7,
          3,
          3,
          1,
          3,
          5,
          5,
          3,
          9,
          7,
          3,
          5,
          5,
          9,
          3,
          5,
          3,
          5,
          3,
          9,
          5,
          3,
          9,
          7,
          3,
          5,
          3,
          5,
          5,
          1,
          7,
          3,
          1,
          3,
          3,
          9,
          7,
          5,
          5,
          1,
          7,
          3,
          5,
          3,
          1,
          3,
          1,
          3,
          3,
          5,
          3,
          3,
          5,
          3,
          3,
          5,
          5,
          3,
          3,
          1,
          9,
          7,
          3,
          1,
          9,
          3,
          3,
          5,
          5,
          1,
          9,
          7,
          5,
          3,
          3,
          3,
          5,
          3,
          3,
          3,
          5,
          3,
          5,
          1,
          7,
          3,
          3,
          3,
          1,
          9,
          7,
          3,
          3,
          5,
          3,
          3,
          3,
          5,
          3,
          3,
          5,
          3,
          7,
          5,
          5,
          3,
          5,
          3,
          7,
          3,
          5,
          3,
          3,
          1,
          9,
          3,
          5,
          7,
          3,
          5,
          3,
          3,
          5,
          5,
          3,
          3,
          1,
          3,
          3,
          3,
          5,
          3,
          3,
          1,
          9,
          3,
          3,
          5,
          5,
          3,
          9,
          7,
          5,
          3,
          5,
          3,
          1,
          9,
          7,
          5,
          3,
          5,
          5,
          9,
          3,
          5,
          3,
          5,
          3,
          3,
          1,
          3,
          5,
          3,
          3,
          5,
          5,
          3,
          1,
          3,
          5,
          5,
          1,
          3,
          5,
          5,
          3,
          3,
          1,
          7,
          3,
          5,
          3,
          3,
          3,
          1,
          9,
          3,
          3,
          5,
          1,
          7,
          3,
          3,
          3,
          3,
          7,
          5,
          3,
          5,
          1,
          9,
          3,
          5,
          3,
          9,
          3,
          5,
          3,
          3,
          9,
          7,
          5,
          9,
          7,
          3,
          5,
          5,
          3,
          1,
          7,
          3,
          3,
          5,
          5,
          3,
          7,
          3,
          5,
          3,
          3,
          5,
          3,
          3,
          1,
          7,
          3,
          5,
          3,
          5,
          3,
          9,
          7,
          3,
          5,
          9,
          7,
          3,
          5,
          3,
          5,
          3,
          3,
          9,
          7,
          3,
          5,
          5,
          3,
          1,
          7,
          3,
          3,
          5,
          3
         ],
         "y0": " ",
         "yaxis": "y"
        },
        {
         "alignmentgroup": "True",
         "box": {
          "visible": false
         },
         "hovertemplate": "recommended=No<br>stars=%{y}<extra></extra>",
         "legendgroup": "No",
         "marker": {
          "color": "#EF553B"
         },
         "name": "No",
         "offsetgroup": "No",
         "orientation": "v",
         "scalegroup": "True",
         "showlegend": true,
         "type": "violin",
         "x0": " ",
         "xaxis": "x",
         "y": [
          3,
          5,
          3,
          3,
          1,
          9,
          7,
          3,
          5,
          3,
          3,
          5,
          3,
          3,
          1,
          9,
          7,
          3,
          5,
          3,
          3,
          5,
          3,
          3,
          1,
          9,
          7,
          3,
          5,
          3,
          3,
          5,
          3,
          1,
          9,
          7,
          3,
          5,
          3,
          3,
          5,
          5,
          3,
          3,
          1,
          9,
          3,
          5,
          3,
          3,
          5,
          3,
          1,
          9,
          5,
          3,
          3,
          5,
          5,
          3,
          3,
          1,
          9,
          7,
          3,
          5,
          3,
          3,
          5,
          5,
          3,
          3,
          9,
          7,
          3,
          5,
          3,
          3,
          5,
          5,
          3,
          3,
          9,
          7,
          3,
          3,
          3,
          5,
          3,
          1,
          9,
          7,
          3,
          3,
          3,
          5,
          3,
          3,
          1,
          7,
          3,
          5,
          3,
          3,
          5,
          5,
          3,
          3,
          9,
          7,
          3,
          3,
          3,
          3,
          1,
          9,
          7,
          3,
          3,
          3,
          1,
          9,
          3,
          3,
          5,
          3,
          1,
          9,
          7,
          3,
          5,
          3,
          5,
          5,
          3,
          3,
          1,
          9,
          3,
          5,
          3,
          3,
          5,
          5,
          3,
          9,
          3,
          5,
          3,
          3,
          5,
          1,
          9,
          7,
          3,
          5,
          3,
          5,
          5,
          3,
          3,
          7,
          5,
          3,
          5,
          1,
          7,
          3,
          5,
          7,
          3,
          5,
          3,
          5,
          5,
          1,
          9,
          7,
          3,
          5,
          5,
          3,
          3,
          9,
          7,
          3,
          5,
          3,
          1,
          9,
          7,
          3,
          5,
          3,
          3,
          5,
          5,
          3,
          3,
          1,
          9,
          7,
          3,
          5,
          3,
          3,
          5,
          5,
          3,
          1,
          9,
          7,
          5,
          3,
          1,
          9,
          7,
          3,
          5,
          3,
          3,
          5,
          5,
          3,
          1,
          9,
          3,
          5,
          5,
          3,
          3,
          1,
          7,
          3,
          3,
          5,
          5,
          3,
          1,
          5,
          3,
          5,
          5,
          3,
          1,
          9,
          7,
          3,
          5,
          3,
          3,
          5,
          5,
          3,
          3,
          1,
          9,
          7,
          3,
          5,
          3,
          5,
          5,
          3,
          1,
          9,
          3,
          5,
          3,
          1,
          9,
          7,
          3,
          3,
          5,
          5,
          3,
          3,
          9,
          5,
          5,
          3,
          3,
          1,
          9,
          7,
          3,
          5,
          3,
          3,
          5,
          3,
          3,
          1,
          7,
          3,
          5,
          3,
          3,
          3,
          5,
          5,
          3,
          1,
          9,
          5,
          3,
          3,
          3,
          3,
          1,
          9,
          7,
          3,
          5,
          5,
          3,
          3,
          1,
          9,
          5,
          3,
          5,
          1,
          5,
          3,
          3,
          5,
          5,
          3,
          1,
          5,
          3,
          3,
          1,
          9,
          7,
          5,
          3,
          3,
          5,
          3,
          3,
          1,
          9,
          7,
          3,
          5,
          3,
          5,
          3,
          3,
          9,
          7,
          3,
          5,
          3,
          3,
          5,
          3,
          3,
          1,
          9,
          7,
          3,
          5,
          3,
          3,
          1,
          9,
          3,
          5,
          3,
          3,
          5,
          5,
          3,
          3,
          7,
          3,
          3,
          5,
          1,
          7,
          3,
          3,
          3,
          1,
          3,
          5,
          3,
          3,
          1,
          9,
          7,
          3,
          3,
          3,
          9,
          7,
          3,
          5,
          3,
          3,
          5,
          3,
          1,
          7,
          5,
          5,
          3,
          3,
          1,
          7,
          5,
          3,
          5,
          5,
          3,
          3,
          9,
          7,
          3,
          5,
          3,
          9,
          7,
          3,
          5,
          5,
          1,
          9,
          7,
          3,
          5,
          3,
          3,
          5,
          3,
          1,
          9,
          7,
          3,
          5,
          3,
          1,
          3,
          5,
          3,
          7,
          5,
          5,
          5,
          3,
          3,
          1,
          9,
          7,
          3,
          5,
          3,
          5,
          3,
          1,
          7,
          3,
          5,
          3,
          5,
          3,
          1,
          7,
          3,
          5,
          3,
          5,
          3,
          9,
          7,
          5,
          3,
          3,
          5,
          5,
          3,
          3,
          1,
          9,
          7,
          3,
          3,
          5,
          3,
          3,
          9,
          7,
          3,
          5,
          3,
          1,
          7,
          3,
          5,
          3,
          3,
          5,
          5,
          3,
          9,
          3,
          3,
          1,
          7,
          3,
          5,
          3,
          3,
          5,
          5,
          3,
          3,
          1,
          7,
          5,
          3,
          3,
          3,
          1,
          3,
          3,
          5,
          5,
          3,
          3,
          1,
          3,
          5,
          5,
          3,
          1,
          3,
          5,
          3,
          3,
          1,
          9,
          3,
          3,
          5,
          3,
          1,
          3,
          5,
          3,
          3,
          5,
          1,
          3,
          3,
          3,
          5,
          3,
          3,
          9,
          7,
          5,
          3,
          5,
          5,
          3,
          1,
          9,
          7,
          3,
          5,
          3,
          3,
          7,
          3,
          5,
          3,
          3,
          1,
          7,
          3,
          5,
          3,
          3,
          5,
          3,
          3,
          5,
          3,
          3,
          9,
          7,
          3,
          5,
          3,
          5,
          5,
          3,
          3,
          7,
          3,
          5,
          5,
          3,
          1,
          9,
          7,
          3,
          5,
          3,
          5,
          5,
          3,
          1,
          9,
          7,
          3,
          5,
          3,
          5,
          3,
          1,
          7,
          3,
          5,
          3,
          5,
          3,
          3,
          7,
          3,
          5,
          3,
          3,
          5,
          3,
          3,
          1,
          3,
          3,
          3,
          3,
          1,
          9,
          3,
          5,
          3,
          3,
          5,
          3,
          1,
          9,
          3,
          5,
          3,
          3,
          3,
          1,
          7,
          3,
          5,
          3,
          3,
          1,
          9,
          5,
          3,
          5,
          5,
          3,
          1,
          5,
          3,
          3,
          5,
          3,
          3,
          9,
          5,
          3,
          3,
          5,
          5,
          3,
          7,
          3,
          5,
          3,
          9,
          7,
          3,
          5,
          3,
          3,
          5,
          5,
          3,
          3,
          9,
          3,
          3,
          3,
          5,
          5,
          3,
          1,
          9,
          7,
          5,
          3,
          3,
          5,
          5,
          1,
          7,
          3,
          3,
          3,
          5,
          3,
          3,
          1,
          9,
          7,
          3,
          3,
          5,
          5,
          3,
          1,
          9,
          3,
          5,
          3,
          5,
          5,
          3,
          1,
          7,
          3,
          3,
          5,
          3,
          9,
          7,
          3,
          5,
          3,
          5,
          5,
          3,
          1,
          9,
          7,
          3,
          5,
          3,
          3,
          5,
          5,
          3,
          3,
          1,
          7,
          3,
          3,
          3,
          3,
          1,
          7,
          5,
          5,
          5,
          1,
          9,
          7,
          3,
          5,
          3,
          5,
          5,
          3,
          3,
          9,
          3,
          5,
          3,
          3,
          5,
          3,
          1,
          9,
          7,
          3,
          5,
          5,
          3,
          1,
          9,
          7,
          5,
          3,
          5,
          3,
          3,
          1,
          9,
          7,
          3,
          5,
          3,
          3,
          3,
          1,
          9,
          5,
          3,
          5,
          5,
          3,
          1,
          9,
          7,
          5,
          3,
          5,
          3,
          3,
          1,
          9,
          7,
          3,
          5,
          3,
          3,
          9,
          7,
          3,
          5,
          3,
          3,
          5,
          3,
          9,
          7,
          3,
          5,
          3,
          3,
          5,
          5,
          3,
          1,
          9,
          7,
          3,
          5,
          5,
          3,
          1,
          9,
          7,
          3,
          5,
          3,
          5,
          5,
          3,
          1,
          9,
          7,
          3,
          5,
          3,
          3,
          5,
          3,
          3,
          1,
          9,
          7,
          3,
          3,
          5,
          3,
          3,
          1,
          3,
          5,
          5,
          5,
          3,
          7,
          3,
          5,
          3,
          5,
          5,
          3,
          1,
          3,
          5,
          5,
          3,
          3,
          1,
          7,
          5,
          3,
          3,
          3,
          1,
          9,
          7,
          3,
          5,
          3,
          3,
          5,
          3,
          3,
          3,
          5,
          5,
          3,
          1,
          7,
          5,
          3,
          3,
          5,
          3,
          3,
          9,
          7,
          3,
          5,
          3,
          3,
          5,
          3,
          3,
          1,
          9,
          7,
          3,
          5,
          3,
          3,
          5,
          5,
          3,
          3,
          1,
          9,
          7,
          3,
          5,
          3,
          5,
          5,
          3,
          1,
          9,
          3,
          5,
          3,
          3,
          5,
          5,
          3,
          1,
          9,
          3,
          3,
          3,
          5,
          3,
          3,
          3,
          5,
          3,
          5,
          5,
          3,
          1,
          9,
          7,
          3,
          5,
          3,
          5,
          3,
          3,
          1,
          9,
          7,
          3,
          5,
          3,
          3,
          5,
          5,
          1,
          9,
          7,
          3,
          5,
          3,
          3,
          5,
          5,
          3,
          3,
          3,
          3,
          3,
          5,
          3,
          3,
          1,
          9,
          7,
          5,
          3,
          3,
          5,
          3,
          3,
          1,
          7,
          3,
          5,
          3,
          3,
          5,
          5,
          3,
          3,
          1,
          9,
          7,
          5,
          3,
          3,
          5,
          5,
          1,
          7,
          3,
          3,
          5,
          5,
          3,
          7,
          3,
          5,
          3,
          3,
          5,
          3,
          3,
          7,
          5,
          3,
          3,
          5,
          3,
          3,
          1,
          9,
          7,
          3,
          5,
          3,
          5,
          3,
          1,
          7,
          3,
          5,
          3,
          5,
          5,
          1,
          9,
          7,
          3,
          5,
          3,
          5,
          5,
          3,
          3,
          1,
          7,
          3,
          3,
          5,
          3,
          3,
          1,
          9,
          7,
          5,
          3,
          5,
          3,
          3,
          1,
          9,
          7,
          3,
          5,
          3,
          3,
          5,
          3,
          3,
          1,
          9,
          7,
          3,
          5,
          3,
          3,
          5,
          5,
          3,
          3,
          1,
          9,
          7,
          5,
          3,
          3,
          5,
          5,
          3,
          1,
          9,
          7,
          3,
          5,
          3,
          3,
          5,
          5,
          3,
          1,
          9,
          7,
          3,
          5,
          3,
          5,
          5,
          3,
          3,
          1,
          9,
          7,
          3,
          5,
          3,
          5,
          3,
          3,
          1,
          7,
          5,
          3,
          3,
          5,
          3,
          1,
          9,
          3,
          5,
          3,
          5,
          5,
          3,
          9,
          5,
          3,
          5,
          5,
          3,
          3,
          1,
          9,
          7,
          3,
          5,
          3,
          3,
          3,
          9,
          5,
          3,
          5,
          3,
          3,
          1,
          9,
          5,
          3,
          3,
          5,
          5,
          3,
          1,
          9,
          7,
          5,
          5,
          5,
          3,
          3,
          1,
          9,
          7,
          5,
          3,
          3,
          5,
          5,
          3,
          3,
          1,
          9,
          7,
          5,
          3,
          3,
          5,
          3,
          1,
          9,
          3,
          5,
          3,
          3,
          5,
          5,
          1,
          9,
          7,
          3,
          5,
          5,
          1,
          7,
          3,
          5,
          3,
          3,
          5,
          3,
          9,
          3,
          5,
          3,
          3,
          5,
          3,
          9,
          7,
          3,
          5,
          3,
          9,
          7,
          3,
          3,
          3,
          5,
          3,
          3,
          1,
          3,
          3,
          3,
          1,
          7,
          5,
          3,
          3,
          3,
          1,
          7,
          3,
          3,
          5,
          3,
          1,
          3,
          5,
          3,
          5,
          3,
          3,
          9,
          3,
          5,
          3,
          5,
          5,
          3,
          9,
          7,
          5,
          3,
          3,
          3,
          1,
          3,
          3,
          5,
          3,
          3,
          1,
          7,
          5,
          3,
          3,
          5,
          5,
          3,
          3,
          1,
          9,
          7,
          3,
          3,
          3,
          5,
          5,
          3,
          3,
          1,
          9,
          7,
          3,
          5,
          3,
          5,
          3,
          1,
          7,
          3,
          3,
          3,
          5,
          5,
          3,
          1,
          3,
          3,
          3,
          9,
          3,
          5,
          3,
          5,
          5,
          3,
          3,
          9,
          7,
          3,
          5,
          3,
          5,
          5,
          3,
          1,
          3,
          3,
          3,
          5,
          3,
          3,
          9,
          3,
          5,
          3,
          5,
          3,
          9,
          7,
          3,
          5,
          3,
          3,
          5,
          5,
          3,
          9,
          7,
          5,
          3,
          5,
          1,
          9,
          7,
          3,
          5,
          3,
          3,
          5,
          5,
          3,
          3,
          7,
          5,
          3,
          5,
          5,
          3,
          3,
          1,
          9,
          7,
          3,
          3,
          3,
          5,
          3,
          3,
          3,
          5,
          3,
          3,
          5,
          1,
          9,
          7,
          5,
          3,
          3,
          5,
          1,
          9,
          7,
          3,
          5,
          3,
          3,
          9,
          3,
          5,
          3,
          5,
          5,
          3,
          5,
          5,
          1,
          9,
          7,
          5,
          3,
          1,
          9,
          3,
          3,
          3,
          5,
          3,
          1,
          9,
          7,
          3,
          5,
          3,
          3,
          5,
          3,
          1,
          9,
          5,
          5,
          3,
          3,
          7,
          3,
          3,
          5,
          5,
          3,
          3,
          1,
          9,
          9,
          7,
          5,
          5,
          7,
          3,
          5,
          3,
          1,
          3,
          3,
          5,
          3,
          3,
          3,
          3,
          3,
          1,
          7,
          3,
          5,
          9,
          7,
          3,
          9,
          7,
          5,
          3,
          3,
          3,
          3,
          9,
          7,
          3,
          3,
          5,
          9,
          5,
          5,
          3,
          7,
          3,
          5,
          5,
          3,
          3,
          9,
          3,
          5,
          5,
          5,
          1,
          9,
          3,
          3,
          5,
          3,
          3,
          7,
          3,
          5,
          3,
          5,
          3,
          1,
          7,
          3,
          3,
          5,
          5,
          1,
          3,
          3,
          3,
          5,
          5,
          3,
          3,
          1,
          3,
          5,
          3,
          3,
          9,
          3,
          5,
          3,
          1,
          9,
          5,
          9,
          3,
          5,
          3,
          1,
          5,
          3,
          3,
          5,
          3,
          3,
          1,
          3,
          5,
          1,
          5,
          3,
          3,
          3,
          9,
          3,
          5,
          3,
          5,
          5,
          3,
          1,
          9,
          7,
          3,
          3
         ],
         "y0": " ",
         "yaxis": "y"
        }
       ],
       "layout": {
        "legend": {
         "title": {
          "text": "recommended"
         },
         "tracegroupgap": 0
        },
        "margin": {
         "t": 60
        },
        "template": {
         "data": {
          "bar": [
           {
            "error_x": {
             "color": "#2a3f5f"
            },
            "error_y": {
             "color": "#2a3f5f"
            },
            "marker": {
             "line": {
              "color": "#E5ECF6",
              "width": 0.5
             },
             "pattern": {
              "fillmode": "overlay",
              "size": 10,
              "solidity": 0.2
             }
            },
            "type": "bar"
           }
          ],
          "barpolar": [
           {
            "marker": {
             "line": {
              "color": "#E5ECF6",
              "width": 0.5
             },
             "pattern": {
              "fillmode": "overlay",
              "size": 10,
              "solidity": 0.2
             }
            },
            "type": "barpolar"
           }
          ],
          "carpet": [
           {
            "aaxis": {
             "endlinecolor": "#2a3f5f",
             "gridcolor": "white",
             "linecolor": "white",
             "minorgridcolor": "white",
             "startlinecolor": "#2a3f5f"
            },
            "baxis": {
             "endlinecolor": "#2a3f5f",
             "gridcolor": "white",
             "linecolor": "white",
             "minorgridcolor": "white",
             "startlinecolor": "#2a3f5f"
            },
            "type": "carpet"
           }
          ],
          "choropleth": [
           {
            "colorbar": {
             "outlinewidth": 0,
             "ticks": ""
            },
            "type": "choropleth"
           }
          ],
          "contour": [
           {
            "colorbar": {
             "outlinewidth": 0,
             "ticks": ""
            },
            "colorscale": [
             [
              0,
              "#0d0887"
             ],
             [
              0.1111111111111111,
              "#46039f"
             ],
             [
              0.2222222222222222,
              "#7201a8"
             ],
             [
              0.3333333333333333,
              "#9c179e"
             ],
             [
              0.4444444444444444,
              "#bd3786"
             ],
             [
              0.5555555555555556,
              "#d8576b"
             ],
             [
              0.6666666666666666,
              "#ed7953"
             ],
             [
              0.7777777777777778,
              "#fb9f3a"
             ],
             [
              0.8888888888888888,
              "#fdca26"
             ],
             [
              1,
              "#f0f921"
             ]
            ],
            "type": "contour"
           }
          ],
          "contourcarpet": [
           {
            "colorbar": {
             "outlinewidth": 0,
             "ticks": ""
            },
            "type": "contourcarpet"
           }
          ],
          "heatmap": [
           {
            "colorbar": {
             "outlinewidth": 0,
             "ticks": ""
            },
            "colorscale": [
             [
              0,
              "#0d0887"
             ],
             [
              0.1111111111111111,
              "#46039f"
             ],
             [
              0.2222222222222222,
              "#7201a8"
             ],
             [
              0.3333333333333333,
              "#9c179e"
             ],
             [
              0.4444444444444444,
              "#bd3786"
             ],
             [
              0.5555555555555556,
              "#d8576b"
             ],
             [
              0.6666666666666666,
              "#ed7953"
             ],
             [
              0.7777777777777778,
              "#fb9f3a"
             ],
             [
              0.8888888888888888,
              "#fdca26"
             ],
             [
              1,
              "#f0f921"
             ]
            ],
            "type": "heatmap"
           }
          ],
          "heatmapgl": [
           {
            "colorbar": {
             "outlinewidth": 0,
             "ticks": ""
            },
            "colorscale": [
             [
              0,
              "#0d0887"
             ],
             [
              0.1111111111111111,
              "#46039f"
             ],
             [
              0.2222222222222222,
              "#7201a8"
             ],
             [
              0.3333333333333333,
              "#9c179e"
             ],
             [
              0.4444444444444444,
              "#bd3786"
             ],
             [
              0.5555555555555556,
              "#d8576b"
             ],
             [
              0.6666666666666666,
              "#ed7953"
             ],
             [
              0.7777777777777778,
              "#fb9f3a"
             ],
             [
              0.8888888888888888,
              "#fdca26"
             ],
             [
              1,
              "#f0f921"
             ]
            ],
            "type": "heatmapgl"
           }
          ],
          "histogram": [
           {
            "marker": {
             "pattern": {
              "fillmode": "overlay",
              "size": 10,
              "solidity": 0.2
             }
            },
            "type": "histogram"
           }
          ],
          "histogram2d": [
           {
            "colorbar": {
             "outlinewidth": 0,
             "ticks": ""
            },
            "colorscale": [
             [
              0,
              "#0d0887"
             ],
             [
              0.1111111111111111,
              "#46039f"
             ],
             [
              0.2222222222222222,
              "#7201a8"
             ],
             [
              0.3333333333333333,
              "#9c179e"
             ],
             [
              0.4444444444444444,
              "#bd3786"
             ],
             [
              0.5555555555555556,
              "#d8576b"
             ],
             [
              0.6666666666666666,
              "#ed7953"
             ],
             [
              0.7777777777777778,
              "#fb9f3a"
             ],
             [
              0.8888888888888888,
              "#fdca26"
             ],
             [
              1,
              "#f0f921"
             ]
            ],
            "type": "histogram2d"
           }
          ],
          "histogram2dcontour": [
           {
            "colorbar": {
             "outlinewidth": 0,
             "ticks": ""
            },
            "colorscale": [
             [
              0,
              "#0d0887"
             ],
             [
              0.1111111111111111,
              "#46039f"
             ],
             [
              0.2222222222222222,
              "#7201a8"
             ],
             [
              0.3333333333333333,
              "#9c179e"
             ],
             [
              0.4444444444444444,
              "#bd3786"
             ],
             [
              0.5555555555555556,
              "#d8576b"
             ],
             [
              0.6666666666666666,
              "#ed7953"
             ],
             [
              0.7777777777777778,
              "#fb9f3a"
             ],
             [
              0.8888888888888888,
              "#fdca26"
             ],
             [
              1,
              "#f0f921"
             ]
            ],
            "type": "histogram2dcontour"
           }
          ],
          "mesh3d": [
           {
            "colorbar": {
             "outlinewidth": 0,
             "ticks": ""
            },
            "type": "mesh3d"
           }
          ],
          "parcoords": [
           {
            "line": {
             "colorbar": {
              "outlinewidth": 0,
              "ticks": ""
             }
            },
            "type": "parcoords"
           }
          ],
          "pie": [
           {
            "automargin": true,
            "type": "pie"
           }
          ],
          "scatter": [
           {
            "fillpattern": {
             "fillmode": "overlay",
             "size": 10,
             "solidity": 0.2
            },
            "type": "scatter"
           }
          ],
          "scatter3d": [
           {
            "line": {
             "colorbar": {
              "outlinewidth": 0,
              "ticks": ""
             }
            },
            "marker": {
             "colorbar": {
              "outlinewidth": 0,
              "ticks": ""
             }
            },
            "type": "scatter3d"
           }
          ],
          "scattercarpet": [
           {
            "marker": {
             "colorbar": {
              "outlinewidth": 0,
              "ticks": ""
             }
            },
            "type": "scattercarpet"
           }
          ],
          "scattergeo": [
           {
            "marker": {
             "colorbar": {
              "outlinewidth": 0,
              "ticks": ""
             }
            },
            "type": "scattergeo"
           }
          ],
          "scattergl": [
           {
            "marker": {
             "colorbar": {
              "outlinewidth": 0,
              "ticks": ""
             }
            },
            "type": "scattergl"
           }
          ],
          "scattermapbox": [
           {
            "marker": {
             "colorbar": {
              "outlinewidth": 0,
              "ticks": ""
             }
            },
            "type": "scattermapbox"
           }
          ],
          "scatterpolar": [
           {
            "marker": {
             "colorbar": {
              "outlinewidth": 0,
              "ticks": ""
             }
            },
            "type": "scatterpolar"
           }
          ],
          "scatterpolargl": [
           {
            "marker": {
             "colorbar": {
              "outlinewidth": 0,
              "ticks": ""
             }
            },
            "type": "scatterpolargl"
           }
          ],
          "scatterternary": [
           {
            "marker": {
             "colorbar": {
              "outlinewidth": 0,
              "ticks": ""
             }
            },
            "type": "scatterternary"
           }
          ],
          "surface": [
           {
            "colorbar": {
             "outlinewidth": 0,
             "ticks": ""
            },
            "colorscale": [
             [
              0,
              "#0d0887"
             ],
             [
              0.1111111111111111,
              "#46039f"
             ],
             [
              0.2222222222222222,
              "#7201a8"
             ],
             [
              0.3333333333333333,
              "#9c179e"
             ],
             [
              0.4444444444444444,
              "#bd3786"
             ],
             [
              0.5555555555555556,
              "#d8576b"
             ],
             [
              0.6666666666666666,
              "#ed7953"
             ],
             [
              0.7777777777777778,
              "#fb9f3a"
             ],
             [
              0.8888888888888888,
              "#fdca26"
             ],
             [
              1,
              "#f0f921"
             ]
            ],
            "type": "surface"
           }
          ],
          "table": [
           {
            "cells": {
             "fill": {
              "color": "#EBF0F8"
             },
             "line": {
              "color": "white"
             }
            },
            "header": {
             "fill": {
              "color": "#C8D4E3"
             },
             "line": {
              "color": "white"
             }
            },
            "type": "table"
           }
          ]
         },
         "layout": {
          "annotationdefaults": {
           "arrowcolor": "#2a3f5f",
           "arrowhead": 0,
           "arrowwidth": 1
          },
          "autotypenumbers": "strict",
          "coloraxis": {
           "colorbar": {
            "outlinewidth": 0,
            "ticks": ""
           }
          },
          "colorscale": {
           "diverging": [
            [
             0,
             "#8e0152"
            ],
            [
             0.1,
             "#c51b7d"
            ],
            [
             0.2,
             "#de77ae"
            ],
            [
             0.3,
             "#f1b6da"
            ],
            [
             0.4,
             "#fde0ef"
            ],
            [
             0.5,
             "#f7f7f7"
            ],
            [
             0.6,
             "#e6f5d0"
            ],
            [
             0.7,
             "#b8e186"
            ],
            [
             0.8,
             "#7fbc41"
            ],
            [
             0.9,
             "#4d9221"
            ],
            [
             1,
             "#276419"
            ]
           ],
           "sequential": [
            [
             0,
             "#0d0887"
            ],
            [
             0.1111111111111111,
             "#46039f"
            ],
            [
             0.2222222222222222,
             "#7201a8"
            ],
            [
             0.3333333333333333,
             "#9c179e"
            ],
            [
             0.4444444444444444,
             "#bd3786"
            ],
            [
             0.5555555555555556,
             "#d8576b"
            ],
            [
             0.6666666666666666,
             "#ed7953"
            ],
            [
             0.7777777777777778,
             "#fb9f3a"
            ],
            [
             0.8888888888888888,
             "#fdca26"
            ],
            [
             1,
             "#f0f921"
            ]
           ],
           "sequentialminus": [
            [
             0,
             "#0d0887"
            ],
            [
             0.1111111111111111,
             "#46039f"
            ],
            [
             0.2222222222222222,
             "#7201a8"
            ],
            [
             0.3333333333333333,
             "#9c179e"
            ],
            [
             0.4444444444444444,
             "#bd3786"
            ],
            [
             0.5555555555555556,
             "#d8576b"
            ],
            [
             0.6666666666666666,
             "#ed7953"
            ],
            [
             0.7777777777777778,
             "#fb9f3a"
            ],
            [
             0.8888888888888888,
             "#fdca26"
            ],
            [
             1,
             "#f0f921"
            ]
           ]
          },
          "colorway": [
           "#636efa",
           "#EF553B",
           "#00cc96",
           "#ab63fa",
           "#FFA15A",
           "#19d3f3",
           "#FF6692",
           "#B6E880",
           "#FF97FF",
           "#FECB52"
          ],
          "font": {
           "color": "#2a3f5f"
          },
          "geo": {
           "bgcolor": "white",
           "lakecolor": "white",
           "landcolor": "#E5ECF6",
           "showlakes": true,
           "showland": true,
           "subunitcolor": "white"
          },
          "hoverlabel": {
           "align": "left"
          },
          "hovermode": "closest",
          "mapbox": {
           "style": "light"
          },
          "paper_bgcolor": "white",
          "plot_bgcolor": "#E5ECF6",
          "polar": {
           "angularaxis": {
            "gridcolor": "white",
            "linecolor": "white",
            "ticks": ""
           },
           "bgcolor": "#E5ECF6",
           "radialaxis": {
            "gridcolor": "white",
            "linecolor": "white",
            "ticks": ""
           }
          },
          "scene": {
           "xaxis": {
            "backgroundcolor": "#E5ECF6",
            "gridcolor": "white",
            "gridwidth": 2,
            "linecolor": "white",
            "showbackground": true,
            "ticks": "",
            "zerolinecolor": "white"
           },
           "yaxis": {
            "backgroundcolor": "#E5ECF6",
            "gridcolor": "white",
            "gridwidth": 2,
            "linecolor": "white",
            "showbackground": true,
            "ticks": "",
            "zerolinecolor": "white"
           },
           "zaxis": {
            "backgroundcolor": "#E5ECF6",
            "gridcolor": "white",
            "gridwidth": 2,
            "linecolor": "white",
            "showbackground": true,
            "ticks": "",
            "zerolinecolor": "white"
           }
          },
          "shapedefaults": {
           "line": {
            "color": "#2a3f5f"
           }
          },
          "ternary": {
           "aaxis": {
            "gridcolor": "white",
            "linecolor": "white",
            "ticks": ""
           },
           "baxis": {
            "gridcolor": "white",
            "linecolor": "white",
            "ticks": ""
           },
           "bgcolor": "#E5ECF6",
           "caxis": {
            "gridcolor": "white",
            "linecolor": "white",
            "ticks": ""
           }
          },
          "title": {
           "x": 0.05
          },
          "xaxis": {
           "automargin": true,
           "gridcolor": "white",
           "linecolor": "white",
           "ticks": "",
           "title": {
            "standoff": 15
           },
           "zerolinecolor": "white",
           "zerolinewidth": 2
          },
          "yaxis": {
           "automargin": true,
           "gridcolor": "white",
           "linecolor": "white",
           "ticks": "",
           "title": {
            "standoff": 15
           },
           "zerolinecolor": "white",
           "zerolinewidth": 2
          }
         }
        },
        "violinmode": "overlay",
        "xaxis": {
         "anchor": "y",
         "domain": [
          0,
          1
         ]
        },
        "yaxis": {
         "anchor": "x",
         "domain": [
          0,
          1
         ],
         "title": {
          "text": "stars"
         }
        }
       }
      }
     },
     "metadata": {},
     "output_type": "display_data"
    }
   ],
   "source": [
    "fig = px.violin(df, y=\"stars\", color = \"recommended\", violinmode = 'overlay')\n",
    "fig.show()"
   ]
  },
  {
   "cell_type": "code",
   "execution_count": 11,
   "metadata": {},
   "outputs": [
    {
     "data": {
      "text/html": [
       "<div>\n",
       "<style scoped>\n",
       "    .dataframe tbody tr th:only-of-type {\n",
       "        vertical-align: middle;\n",
       "    }\n",
       "\n",
       "    .dataframe tbody tr th {\n",
       "        vertical-align: top;\n",
       "    }\n",
       "\n",
       "    .dataframe thead th {\n",
       "        text-align: right;\n",
       "    }\n",
       "</style>\n",
       "<table border=\"1\" class=\"dataframe\">\n",
       "  <thead>\n",
       "    <tr style=\"text-align: right;\">\n",
       "      <th></th>\n",
       "      <th>stars</th>\n",
       "      <th>recommended</th>\n",
       "      <th>count</th>\n",
       "    </tr>\n",
       "  </thead>\n",
       "  <tbody>\n",
       "    <tr>\n",
       "      <th>0</th>\n",
       "      <td>1</td>\n",
       "      <td>No</td>\n",
       "      <td>157</td>\n",
       "    </tr>\n",
       "    <tr>\n",
       "      <th>1</th>\n",
       "      <td>1</td>\n",
       "      <td>Yes</td>\n",
       "      <td>70</td>\n",
       "    </tr>\n",
       "    <tr>\n",
       "      <th>2</th>\n",
       "      <td>3</td>\n",
       "      <td>No</td>\n",
       "      <td>734</td>\n",
       "    </tr>\n",
       "    <tr>\n",
       "      <th>3</th>\n",
       "      <td>3</td>\n",
       "      <td>Yes</td>\n",
       "      <td>403</td>\n",
       "    </tr>\n",
       "    <tr>\n",
       "      <th>4</th>\n",
       "      <td>5</td>\n",
       "      <td>No</td>\n",
       "      <td>435</td>\n",
       "    </tr>\n",
       "    <tr>\n",
       "      <th>5</th>\n",
       "      <td>5</td>\n",
       "      <td>Yes</td>\n",
       "      <td>247</td>\n",
       "    </tr>\n",
       "    <tr>\n",
       "      <th>6</th>\n",
       "      <td>7</td>\n",
       "      <td>No</td>\n",
       "      <td>150</td>\n",
       "    </tr>\n",
       "    <tr>\n",
       "      <th>7</th>\n",
       "      <td>7</td>\n",
       "      <td>Yes</td>\n",
       "      <td>77</td>\n",
       "    </tr>\n",
       "    <tr>\n",
       "      <th>8</th>\n",
       "      <td>9</td>\n",
       "      <td>No</td>\n",
       "      <td>144</td>\n",
       "    </tr>\n",
       "    <tr>\n",
       "      <th>9</th>\n",
       "      <td>9</td>\n",
       "      <td>Yes</td>\n",
       "      <td>83</td>\n",
       "    </tr>\n",
       "  </tbody>\n",
       "</table>\n",
       "</div>"
      ],
      "text/plain": [
       "   stars recommended  count\n",
       "0      1          No    157\n",
       "1      1         Yes     70\n",
       "2      3          No    734\n",
       "3      3         Yes    403\n",
       "4      5          No    435\n",
       "5      5         Yes    247\n",
       "6      7          No    150\n",
       "7      7         Yes     77\n",
       "8      9          No    144\n",
       "9      9         Yes     83"
      ]
     },
     "execution_count": 11,
     "metadata": {},
     "output_type": "execute_result"
    }
   ],
   "source": [
    "df.groupby(['stars', 'recommended']).size().reset_index(name='count')"
   ]
  },
  {
   "cell_type": "code",
   "execution_count": 12,
   "metadata": {},
   "outputs": [],
   "source": [
    "# avg_star_ym = round(df.groupby(['ym'])['stars'].mean(),2).reset_index()\n",
    "# avg_star_ym\n",
    "\n",
    "# fig_avg_star_ym = px.line(\n",
    "#     avg_star_ym,\n",
    "#     x = \"ym\",\n",
    "#     y = \"stars\"\n",
    "# )\n",
    "# fig_avg_star_ym.update_traces(mode=\"markers+lines\", hovertemplate=None)\n",
    "# fig_avg_star_ym.update_layout(hovermode=\"x\",\n",
    "#                   title = \"What is the average rating?\",\n",
    "#                   title_x = 0.5,\n",
    "#                   yaxis_title = 'Average Number of Stars',\n",
    "#                   xaxis_title = 'Date'\n",
    "#                   )"
   ]
  },
  {
   "cell_type": "code",
   "execution_count": 13,
   "metadata": {},
   "outputs": [],
   "source": [
    "# round(avg_star_ym.stars.mean(),2)"
   ]
  },
  {
   "cell_type": "code",
   "execution_count": 50,
   "metadata": {},
   "outputs": [
    {
     "data": {
      "application/vnd.plotly.v1+json": {
       "config": {
        "plotlyServerURL": "https://plot.ly"
       },
       "data": [
        {
         "hovertemplate": "recommended=No<br>ym=%{x}<br>count=%{y}<extra></extra>",
         "legendgroup": "No",
         "line": {
          "color": "red",
          "dash": "solid"
         },
         "marker": {
          "symbol": "circle"
         },
         "mode": "lines",
         "name": "No",
         "orientation": "v",
         "showlegend": true,
         "type": "scatter",
         "x": [
          "2015-11",
          "2015-12",
          "2016-01",
          "2016-02",
          "2016-03",
          "2016-04",
          "2016-05",
          "2016-06",
          "2016-07",
          "2016-08",
          "2016-09",
          "2016-10",
          "2016-11",
          "2016-12",
          "2017-01",
          "2017-02",
          "2017-03",
          "2017-04",
          "2017-05",
          "2017-06",
          "2017-07",
          "2017-08",
          "2017-09",
          "2017-10",
          "2017-11",
          "2017-12",
          "2018-01",
          "2018-02",
          "2018-03",
          "2018-04",
          "2018-05",
          "2018-06",
          "2018-07",
          "2018-08",
          "2018-09",
          "2018-10",
          "2018-11",
          "2018-12",
          "2019-01",
          "2019-02",
          "2019-03",
          "2019-04",
          "2019-05",
          "2019-06",
          "2019-07",
          "2019-08",
          "2019-09",
          "2019-10",
          "2019-11",
          "2019-12",
          "2020-01",
          "2020-02",
          "2020-03",
          "2020-04",
          "2020-05",
          "2020-06",
          "2020-07",
          "2020-08",
          "2020-09",
          "2020-10",
          "2020-12",
          "2021-01",
          "2021-02",
          "2021-03",
          "2021-04",
          "2021-05",
          "2021-06",
          "2021-07",
          "2021-08",
          "2021-09",
          "2021-10",
          "2021-11",
          "2021-12",
          "2022-01",
          "2022-02",
          "2022-03",
          "2022-04",
          "2022-05",
          "2022-06",
          "2022-07",
          "2022-08",
          "2022-09",
          "2022-10",
          "2022-11",
          "2022-12",
          "2023-01",
          "2023-02",
          "2023-03",
          "2023-04",
          "2023-05",
          "2023-06",
          "2023-07"
         ],
         "xaxis": "x",
         "y": [
          26,
          24,
          28,
          19,
          20,
          17,
          28,
          25,
          21,
          21,
          35,
          36,
          37,
          30,
          46,
          35,
          40,
          53,
          37,
          46,
          37,
          31,
          21,
          23,
          39,
          18,
          21,
          18,
          17,
          25,
          21,
          23,
          21,
          16,
          12,
          13,
          14,
          19,
          22,
          15,
          14,
          13,
          16,
          18,
          18,
          23,
          20,
          22,
          15,
          15,
          16,
          11,
          12,
          9,
          5,
          3,
          3,
          2,
          1,
          1,
          3,
          1,
          3,
          1,
          1,
          1,
          1,
          4,
          4,
          7,
          8,
          12,
          9,
          9,
          6,
          19,
          17,
          14,
          21,
          13,
          6,
          6,
          10,
          7,
          17,
          14,
          7,
          24,
          21,
          17,
          28,
          22
         ],
         "yaxis": "y"
        },
        {
         "hovertemplate": "recommended=Yes<br>ym=%{x}<br>count=%{y}<extra></extra>",
         "legendgroup": "Yes",
         "line": {
          "color": "green",
          "dash": "solid"
         },
         "marker": {
          "symbol": "circle"
         },
         "mode": "lines",
         "name": "Yes",
         "orientation": "v",
         "showlegend": true,
         "type": "scatter",
         "x": [
          "2015-11",
          "2015-12",
          "2016-01",
          "2016-02",
          "2016-03",
          "2016-04",
          "2016-05",
          "2016-06",
          "2016-07",
          "2016-08",
          "2016-09",
          "2016-10",
          "2016-11",
          "2016-12",
          "2017-01",
          "2017-02",
          "2017-03",
          "2017-04",
          "2017-05",
          "2017-06",
          "2017-07",
          "2017-08",
          "2017-09",
          "2017-10",
          "2017-11",
          "2017-12",
          "2018-01",
          "2018-02",
          "2018-03",
          "2018-04",
          "2018-05",
          "2018-06",
          "2018-07",
          "2018-08",
          "2018-09",
          "2018-10",
          "2018-11",
          "2018-12",
          "2019-01",
          "2019-02",
          "2019-03",
          "2019-04",
          "2019-05",
          "2019-06",
          "2019-07",
          "2019-08",
          "2019-09",
          "2019-10",
          "2019-11",
          "2019-12",
          "2020-01",
          "2020-02",
          "2020-03",
          "2020-04",
          "2020-06",
          "2020-08",
          "2020-09",
          "2020-10",
          "2020-12",
          "2021-02",
          "2021-04",
          "2021-05",
          "2021-06",
          "2021-07",
          "2021-08",
          "2021-09",
          "2021-10",
          "2021-11",
          "2021-12",
          "2022-01",
          "2022-02",
          "2022-03",
          "2022-04",
          "2022-05",
          "2022-06",
          "2022-07",
          "2022-08",
          "2022-09",
          "2022-10",
          "2022-11",
          "2022-12",
          "2023-01",
          "2023-02",
          "2023-03",
          "2023-04",
          "2023-05",
          "2023-06",
          "2023-07",
          "2023-08"
         ],
         "xaxis": "x",
         "y": [
          21,
          34,
          23,
          18,
          34,
          26,
          23,
          18,
          13,
          14,
          20,
          14,
          29,
          21,
          13,
          19,
          6,
          14,
          16,
          11,
          13,
          5,
          14,
          16,
          10,
          9,
          9,
          8,
          8,
          9,
          10,
          10,
          12,
          8,
          11,
          7,
          6,
          6,
          12,
          15,
          9,
          10,
          16,
          11,
          10,
          12,
          9,
          19,
          10,
          12,
          18,
          3,
          5,
          3,
          1,
          1,
          1,
          2,
          4,
          1,
          2,
          2,
          3,
          2,
          3,
          2,
          12,
          3,
          5,
          4,
          6,
          1,
          12,
          3,
          6,
          7,
          4,
          6,
          11,
          4,
          4,
          7,
          7,
          7,
          3,
          3,
          4,
          4,
          1
         ],
         "yaxis": "y"
        }
       ],
       "layout": {
        "hovermode": "x",
        "legend": {
         "title": {},
         "tracegroupgap": 0,
         "x": 0.99,
         "xanchor": "right",
         "y": 0.98,
         "yanchor": "top"
        },
        "margin": {
         "b": 30,
         "l": 50,
         "r": 40,
         "t": 50
        },
        "template": {
         "data": {
          "bar": [
           {
            "error_x": {
             "color": "#2a3f5f"
            },
            "error_y": {
             "color": "#2a3f5f"
            },
            "marker": {
             "line": {
              "color": "#E5ECF6",
              "width": 0.5
             },
             "pattern": {
              "fillmode": "overlay",
              "size": 10,
              "solidity": 0.2
             }
            },
            "type": "bar"
           }
          ],
          "barpolar": [
           {
            "marker": {
             "line": {
              "color": "#E5ECF6",
              "width": 0.5
             },
             "pattern": {
              "fillmode": "overlay",
              "size": 10,
              "solidity": 0.2
             }
            },
            "type": "barpolar"
           }
          ],
          "carpet": [
           {
            "aaxis": {
             "endlinecolor": "#2a3f5f",
             "gridcolor": "white",
             "linecolor": "white",
             "minorgridcolor": "white",
             "startlinecolor": "#2a3f5f"
            },
            "baxis": {
             "endlinecolor": "#2a3f5f",
             "gridcolor": "white",
             "linecolor": "white",
             "minorgridcolor": "white",
             "startlinecolor": "#2a3f5f"
            },
            "type": "carpet"
           }
          ],
          "choropleth": [
           {
            "colorbar": {
             "outlinewidth": 0,
             "ticks": ""
            },
            "type": "choropleth"
           }
          ],
          "contour": [
           {
            "colorbar": {
             "outlinewidth": 0,
             "ticks": ""
            },
            "colorscale": [
             [
              0,
              "#0d0887"
             ],
             [
              0.1111111111111111,
              "#46039f"
             ],
             [
              0.2222222222222222,
              "#7201a8"
             ],
             [
              0.3333333333333333,
              "#9c179e"
             ],
             [
              0.4444444444444444,
              "#bd3786"
             ],
             [
              0.5555555555555556,
              "#d8576b"
             ],
             [
              0.6666666666666666,
              "#ed7953"
             ],
             [
              0.7777777777777778,
              "#fb9f3a"
             ],
             [
              0.8888888888888888,
              "#fdca26"
             ],
             [
              1,
              "#f0f921"
             ]
            ],
            "type": "contour"
           }
          ],
          "contourcarpet": [
           {
            "colorbar": {
             "outlinewidth": 0,
             "ticks": ""
            },
            "type": "contourcarpet"
           }
          ],
          "heatmap": [
           {
            "colorbar": {
             "outlinewidth": 0,
             "ticks": ""
            },
            "colorscale": [
             [
              0,
              "#0d0887"
             ],
             [
              0.1111111111111111,
              "#46039f"
             ],
             [
              0.2222222222222222,
              "#7201a8"
             ],
             [
              0.3333333333333333,
              "#9c179e"
             ],
             [
              0.4444444444444444,
              "#bd3786"
             ],
             [
              0.5555555555555556,
              "#d8576b"
             ],
             [
              0.6666666666666666,
              "#ed7953"
             ],
             [
              0.7777777777777778,
              "#fb9f3a"
             ],
             [
              0.8888888888888888,
              "#fdca26"
             ],
             [
              1,
              "#f0f921"
             ]
            ],
            "type": "heatmap"
           }
          ],
          "heatmapgl": [
           {
            "colorbar": {
             "outlinewidth": 0,
             "ticks": ""
            },
            "colorscale": [
             [
              0,
              "#0d0887"
             ],
             [
              0.1111111111111111,
              "#46039f"
             ],
             [
              0.2222222222222222,
              "#7201a8"
             ],
             [
              0.3333333333333333,
              "#9c179e"
             ],
             [
              0.4444444444444444,
              "#bd3786"
             ],
             [
              0.5555555555555556,
              "#d8576b"
             ],
             [
              0.6666666666666666,
              "#ed7953"
             ],
             [
              0.7777777777777778,
              "#fb9f3a"
             ],
             [
              0.8888888888888888,
              "#fdca26"
             ],
             [
              1,
              "#f0f921"
             ]
            ],
            "type": "heatmapgl"
           }
          ],
          "histogram": [
           {
            "marker": {
             "pattern": {
              "fillmode": "overlay",
              "size": 10,
              "solidity": 0.2
             }
            },
            "type": "histogram"
           }
          ],
          "histogram2d": [
           {
            "colorbar": {
             "outlinewidth": 0,
             "ticks": ""
            },
            "colorscale": [
             [
              0,
              "#0d0887"
             ],
             [
              0.1111111111111111,
              "#46039f"
             ],
             [
              0.2222222222222222,
              "#7201a8"
             ],
             [
              0.3333333333333333,
              "#9c179e"
             ],
             [
              0.4444444444444444,
              "#bd3786"
             ],
             [
              0.5555555555555556,
              "#d8576b"
             ],
             [
              0.6666666666666666,
              "#ed7953"
             ],
             [
              0.7777777777777778,
              "#fb9f3a"
             ],
             [
              0.8888888888888888,
              "#fdca26"
             ],
             [
              1,
              "#f0f921"
             ]
            ],
            "type": "histogram2d"
           }
          ],
          "histogram2dcontour": [
           {
            "colorbar": {
             "outlinewidth": 0,
             "ticks": ""
            },
            "colorscale": [
             [
              0,
              "#0d0887"
             ],
             [
              0.1111111111111111,
              "#46039f"
             ],
             [
              0.2222222222222222,
              "#7201a8"
             ],
             [
              0.3333333333333333,
              "#9c179e"
             ],
             [
              0.4444444444444444,
              "#bd3786"
             ],
             [
              0.5555555555555556,
              "#d8576b"
             ],
             [
              0.6666666666666666,
              "#ed7953"
             ],
             [
              0.7777777777777778,
              "#fb9f3a"
             ],
             [
              0.8888888888888888,
              "#fdca26"
             ],
             [
              1,
              "#f0f921"
             ]
            ],
            "type": "histogram2dcontour"
           }
          ],
          "mesh3d": [
           {
            "colorbar": {
             "outlinewidth": 0,
             "ticks": ""
            },
            "type": "mesh3d"
           }
          ],
          "parcoords": [
           {
            "line": {
             "colorbar": {
              "outlinewidth": 0,
              "ticks": ""
             }
            },
            "type": "parcoords"
           }
          ],
          "pie": [
           {
            "automargin": true,
            "type": "pie"
           }
          ],
          "scatter": [
           {
            "fillpattern": {
             "fillmode": "overlay",
             "size": 10,
             "solidity": 0.2
            },
            "type": "scatter"
           }
          ],
          "scatter3d": [
           {
            "line": {
             "colorbar": {
              "outlinewidth": 0,
              "ticks": ""
             }
            },
            "marker": {
             "colorbar": {
              "outlinewidth": 0,
              "ticks": ""
             }
            },
            "type": "scatter3d"
           }
          ],
          "scattercarpet": [
           {
            "marker": {
             "colorbar": {
              "outlinewidth": 0,
              "ticks": ""
             }
            },
            "type": "scattercarpet"
           }
          ],
          "scattergeo": [
           {
            "marker": {
             "colorbar": {
              "outlinewidth": 0,
              "ticks": ""
             }
            },
            "type": "scattergeo"
           }
          ],
          "scattergl": [
           {
            "marker": {
             "colorbar": {
              "outlinewidth": 0,
              "ticks": ""
             }
            },
            "type": "scattergl"
           }
          ],
          "scattermapbox": [
           {
            "marker": {
             "colorbar": {
              "outlinewidth": 0,
              "ticks": ""
             }
            },
            "type": "scattermapbox"
           }
          ],
          "scatterpolar": [
           {
            "marker": {
             "colorbar": {
              "outlinewidth": 0,
              "ticks": ""
             }
            },
            "type": "scatterpolar"
           }
          ],
          "scatterpolargl": [
           {
            "marker": {
             "colorbar": {
              "outlinewidth": 0,
              "ticks": ""
             }
            },
            "type": "scatterpolargl"
           }
          ],
          "scatterternary": [
           {
            "marker": {
             "colorbar": {
              "outlinewidth": 0,
              "ticks": ""
             }
            },
            "type": "scatterternary"
           }
          ],
          "surface": [
           {
            "colorbar": {
             "outlinewidth": 0,
             "ticks": ""
            },
            "colorscale": [
             [
              0,
              "#0d0887"
             ],
             [
              0.1111111111111111,
              "#46039f"
             ],
             [
              0.2222222222222222,
              "#7201a8"
             ],
             [
              0.3333333333333333,
              "#9c179e"
             ],
             [
              0.4444444444444444,
              "#bd3786"
             ],
             [
              0.5555555555555556,
              "#d8576b"
             ],
             [
              0.6666666666666666,
              "#ed7953"
             ],
             [
              0.7777777777777778,
              "#fb9f3a"
             ],
             [
              0.8888888888888888,
              "#fdca26"
             ],
             [
              1,
              "#f0f921"
             ]
            ],
            "type": "surface"
           }
          ],
          "table": [
           {
            "cells": {
             "fill": {
              "color": "#EBF0F8"
             },
             "line": {
              "color": "white"
             }
            },
            "header": {
             "fill": {
              "color": "#C8D4E3"
             },
             "line": {
              "color": "white"
             }
            },
            "type": "table"
           }
          ]
         },
         "layout": {
          "annotationdefaults": {
           "arrowcolor": "#2a3f5f",
           "arrowhead": 0,
           "arrowwidth": 1
          },
          "autotypenumbers": "strict",
          "coloraxis": {
           "colorbar": {
            "outlinewidth": 0,
            "ticks": ""
           }
          },
          "colorscale": {
           "diverging": [
            [
             0,
             "#8e0152"
            ],
            [
             0.1,
             "#c51b7d"
            ],
            [
             0.2,
             "#de77ae"
            ],
            [
             0.3,
             "#f1b6da"
            ],
            [
             0.4,
             "#fde0ef"
            ],
            [
             0.5,
             "#f7f7f7"
            ],
            [
             0.6,
             "#e6f5d0"
            ],
            [
             0.7,
             "#b8e186"
            ],
            [
             0.8,
             "#7fbc41"
            ],
            [
             0.9,
             "#4d9221"
            ],
            [
             1,
             "#276419"
            ]
           ],
           "sequential": [
            [
             0,
             "#0d0887"
            ],
            [
             0.1111111111111111,
             "#46039f"
            ],
            [
             0.2222222222222222,
             "#7201a8"
            ],
            [
             0.3333333333333333,
             "#9c179e"
            ],
            [
             0.4444444444444444,
             "#bd3786"
            ],
            [
             0.5555555555555556,
             "#d8576b"
            ],
            [
             0.6666666666666666,
             "#ed7953"
            ],
            [
             0.7777777777777778,
             "#fb9f3a"
            ],
            [
             0.8888888888888888,
             "#fdca26"
            ],
            [
             1,
             "#f0f921"
            ]
           ],
           "sequentialminus": [
            [
             0,
             "#0d0887"
            ],
            [
             0.1111111111111111,
             "#46039f"
            ],
            [
             0.2222222222222222,
             "#7201a8"
            ],
            [
             0.3333333333333333,
             "#9c179e"
            ],
            [
             0.4444444444444444,
             "#bd3786"
            ],
            [
             0.5555555555555556,
             "#d8576b"
            ],
            [
             0.6666666666666666,
             "#ed7953"
            ],
            [
             0.7777777777777778,
             "#fb9f3a"
            ],
            [
             0.8888888888888888,
             "#fdca26"
            ],
            [
             1,
             "#f0f921"
            ]
           ]
          },
          "colorway": [
           "#636efa",
           "#EF553B",
           "#00cc96",
           "#ab63fa",
           "#FFA15A",
           "#19d3f3",
           "#FF6692",
           "#B6E880",
           "#FF97FF",
           "#FECB52"
          ],
          "font": {
           "color": "#2a3f5f"
          },
          "geo": {
           "bgcolor": "white",
           "lakecolor": "white",
           "landcolor": "#E5ECF6",
           "showlakes": true,
           "showland": true,
           "subunitcolor": "white"
          },
          "hoverlabel": {
           "align": "left"
          },
          "hovermode": "closest",
          "mapbox": {
           "style": "light"
          },
          "paper_bgcolor": "white",
          "plot_bgcolor": "#E5ECF6",
          "polar": {
           "angularaxis": {
            "gridcolor": "white",
            "linecolor": "white",
            "ticks": ""
           },
           "bgcolor": "#E5ECF6",
           "radialaxis": {
            "gridcolor": "white",
            "linecolor": "white",
            "ticks": ""
           }
          },
          "scene": {
           "xaxis": {
            "backgroundcolor": "#E5ECF6",
            "gridcolor": "white",
            "gridwidth": 2,
            "linecolor": "white",
            "showbackground": true,
            "ticks": "",
            "zerolinecolor": "white"
           },
           "yaxis": {
            "backgroundcolor": "#E5ECF6",
            "gridcolor": "white",
            "gridwidth": 2,
            "linecolor": "white",
            "showbackground": true,
            "ticks": "",
            "zerolinecolor": "white"
           },
           "zaxis": {
            "backgroundcolor": "#E5ECF6",
            "gridcolor": "white",
            "gridwidth": 2,
            "linecolor": "white",
            "showbackground": true,
            "ticks": "",
            "zerolinecolor": "white"
           }
          },
          "shapedefaults": {
           "line": {
            "color": "#2a3f5f"
           }
          },
          "ternary": {
           "aaxis": {
            "gridcolor": "white",
            "linecolor": "white",
            "ticks": ""
           },
           "baxis": {
            "gridcolor": "white",
            "linecolor": "white",
            "ticks": ""
           },
           "bgcolor": "#E5ECF6",
           "caxis": {
            "gridcolor": "white",
            "linecolor": "white",
            "ticks": ""
           }
          },
          "title": {
           "x": 0.05
          },
          "xaxis": {
           "automargin": true,
           "gridcolor": "white",
           "linecolor": "white",
           "ticks": "",
           "title": {
            "standoff": 15
           },
           "zerolinecolor": "white",
           "zerolinewidth": 2
          },
          "yaxis": {
           "automargin": true,
           "gridcolor": "white",
           "linecolor": "white",
           "ticks": "",
           "title": {
            "standoff": 15
           },
           "zerolinecolor": "white",
           "zerolinewidth": 2
          }
         }
        },
        "title": {
         "text": "Recommendation Overtime",
         "x": 0.5
        },
        "xaxis": {
         "anchor": "y",
         "domain": [
          0,
          1
         ],
         "title": {
          "text": "Date"
         }
        },
        "yaxis": {
         "anchor": "x",
         "domain": [
          0,
          1
         ],
         "title": {
          "text": "Number of Reviews"
         }
        }
       }
      }
     },
     "metadata": {},
     "output_type": "display_data"
    }
   ],
   "source": [
    "recc = df.groupby(['ym', 'recommended']).size().reset_index(name='count')\n",
    "\n",
    "fig_recc = px.line(\n",
    "    recc,\n",
    "    x = \"ym\",\n",
    "    y = \"count\",\n",
    "    color = 'recommended',\n",
    "    color_discrete_map = {'No': 'red', 'Yes': 'green'}\n",
    ")\n",
    "fig_recc.update_layout(hovermode=\"x\",\n",
    "                    title = \"Recommendation Overtime\",\n",
    "                    title_x = 0.5,\n",
    "                    yaxis_title = 'Number of Reviews',\n",
    "                    xaxis_title = 'Date',\n",
    "                    legend_title = None,\n",
    "                    legend = dict(yanchor = \"top\", y = 0.98,\n",
    "                              xanchor = \"right\", x = 0.99),\n",
    "                    margin = dict(l = 50, r = 40, t = 50, b = 30)\n",
    "                    )\n",
    "\n",
    "\n",
    "fig_recc"
   ]
  },
  {
   "cell_type": "code",
   "execution_count": 15,
   "metadata": {},
   "outputs": [
    {
     "data": {
      "application/vnd.plotly.v1+json": {
       "config": {
        "plotlyServerURL": "https://plot.ly"
       },
       "data": [
        {
         "customdata": [
          [
           "Business Class"
          ],
          [
           "Economy Class"
          ],
          [
           "Business Class"
          ],
          [
           "Business Class"
          ],
          [
           "Economy Class"
          ],
          [
           "Business Class"
          ],
          [
           "Economy Class"
          ],
          [
           "Economy Class"
          ],
          [
           "Premium Economy"
          ],
          [
           "Economy Class"
          ],
          [
           "Economy Class"
          ],
          [
           "Business Class"
          ],
          [
           "Economy Class"
          ],
          [
           "Economy Class"
          ],
          [
           "Business Class"
          ],
          [
           "Business Class"
          ],
          [
           "Business Class"
          ],
          [
           "Economy Class"
          ],
          [
           "Premium Economy"
          ],
          [
           "Economy Class"
          ],
          [
           "Economy Class"
          ],
          [
           "Premium Economy"
          ],
          [
           "Economy Class"
          ],
          [
           "Economy Class"
          ],
          [
           "Business Class"
          ],
          [
           "Economy Class"
          ],
          [
           "Economy Class"
          ],
          [
           "Economy Class"
          ],
          [
           "Economy Class"
          ],
          [
           "Economy Class"
          ],
          [
           "Economy Class"
          ],
          [
           "Economy Class"
          ],
          [
           "Economy Class"
          ],
          [
           "Business Class"
          ],
          [
           "Business Class"
          ],
          [
           "Economy Class"
          ],
          [
           "Business Class"
          ],
          [
           "Economy Class"
          ],
          [
           "Business Class"
          ],
          [
           "Economy Class"
          ],
          [
           "Economy Class"
          ],
          [
           "Economy Class"
          ],
          [
           "Business Class"
          ],
          [
           "Economy Class"
          ],
          [
           "Economy Class"
          ],
          [
           "Economy Class"
          ],
          [
           "Business Class"
          ],
          [
           "Economy Class"
          ],
          [
           "Economy Class"
          ],
          [
           "Economy Class"
          ],
          [
           "Premium Economy"
          ],
          [
           "Economy Class"
          ],
          [
           "Economy Class"
          ],
          [
           "Business Class"
          ],
          [
           "Economy Class"
          ],
          [
           "Economy Class"
          ],
          [
           "Economy Class"
          ],
          [
           "Economy Class"
          ],
          [
           "Economy Class"
          ],
          [
           "Economy Class"
          ],
          [
           "Economy Class"
          ],
          [
           "Premium Economy"
          ],
          [
           "Economy Class"
          ],
          [
           "Premium Economy"
          ],
          [
           "Economy Class"
          ],
          [
           "Economy Class"
          ],
          [
           "Business Class"
          ],
          [
           "Business Class"
          ],
          [
           "Business Class"
          ],
          [
           "Economy Class"
          ],
          [
           "Economy Class"
          ],
          [
           "Economy Class"
          ],
          [
           "Business Class"
          ],
          [
           "Business Class"
          ],
          [
           "Business Class"
          ],
          [
           "Business Class"
          ],
          [
           "Business Class"
          ],
          [
           "Economy Class"
          ],
          [
           "Economy Class"
          ],
          [
           "Business Class"
          ],
          [
           "Economy Class"
          ],
          [
           "Premium Economy"
          ],
          [
           "Premium Economy"
          ],
          [
           "Economy Class"
          ],
          [
           "Premium Economy"
          ],
          [
           "Economy Class"
          ],
          [
           "Economy Class"
          ],
          [
           "Economy Class"
          ],
          [
           "Economy Class"
          ],
          [
           "Business Class"
          ],
          [
           "Economy Class"
          ],
          [
           "Economy Class"
          ],
          [
           "Economy Class"
          ],
          [
           "Business Class"
          ],
          [
           "Economy Class"
          ],
          [
           "Business Class"
          ],
          [
           "Business Class"
          ],
          [
           "Economy Class"
          ],
          [
           "Economy Class"
          ],
          [
           "Economy Class"
          ],
          [
           "Premium Economy"
          ],
          [
           "Economy Class"
          ],
          [
           "Business Class"
          ],
          [
           "Economy Class"
          ],
          [
           "Business Class"
          ],
          [
           "Economy Class"
          ],
          [
           "Economy Class"
          ],
          [
           "Economy Class"
          ],
          [
           "Economy Class"
          ],
          [
           "Economy Class"
          ],
          [
           "Economy Class"
          ],
          [
           "Economy Class"
          ],
          [
           "Economy Class"
          ],
          [
           "Premium Economy"
          ],
          [
           "First Class"
          ],
          [
           "Economy Class"
          ],
          [
           "Economy Class"
          ],
          [
           "Economy Class"
          ],
          [
           "Economy Class"
          ],
          [
           "Economy Class"
          ],
          [
           "Economy Class"
          ],
          [
           "Premium Economy"
          ],
          [
           "Economy Class"
          ],
          [
           "Economy Class"
          ],
          [
           "Business Class"
          ],
          [
           "Economy Class"
          ],
          [
           "Economy Class"
          ],
          [
           "Economy Class"
          ],
          [
           "Economy Class"
          ],
          [
           "Business Class"
          ],
          [
           "Business Class"
          ],
          [
           "Economy Class"
          ],
          [
           "Economy Class"
          ],
          [
           "Premium Economy"
          ],
          [
           "Business Class"
          ],
          [
           "Economy Class"
          ],
          [
           "Business Class"
          ],
          [
           "Business Class"
          ],
          [
           "Economy Class"
          ],
          [
           "Economy Class"
          ],
          [
           "Economy Class"
          ],
          [
           "Economy Class"
          ],
          [
           "Economy Class"
          ],
          [
           "Economy Class"
          ],
          [
           "Economy Class"
          ],
          [
           "Business Class"
          ],
          [
           "Economy Class"
          ],
          [
           "Economy Class"
          ],
          [
           "Economy Class"
          ],
          [
           "Premium Economy"
          ],
          [
           "Premium Economy"
          ],
          [
           "Economy Class"
          ],
          [
           "First Class"
          ],
          [
           "Business Class"
          ],
          [
           "Business Class"
          ],
          [
           "Business Class"
          ],
          [
           "Economy Class"
          ],
          [
           "Economy Class"
          ],
          [
           "Economy Class"
          ],
          [
           "Business Class"
          ],
          [
           "Economy Class"
          ],
          [
           "Premium Economy"
          ],
          [
           "Economy Class"
          ],
          [
           "Economy Class"
          ],
          [
           "Economy Class"
          ],
          [
           "Business Class"
          ],
          [
           "Business Class"
          ],
          [
           "Economy Class"
          ],
          [
           "Economy Class"
          ],
          [
           "Business Class"
          ],
          [
           "Premium Economy"
          ],
          [
           "Business Class"
          ],
          [
           "Economy Class"
          ],
          [
           "Economy Class"
          ],
          [
           "Economy Class"
          ],
          [
           "First Class"
          ],
          [
           "Economy Class"
          ],
          [
           "Business Class"
          ],
          [
           "Economy Class"
          ],
          [
           "Premium Economy"
          ],
          [
           "Premium Economy"
          ],
          [
           "Business Class"
          ],
          [
           "Business Class"
          ],
          [
           "Economy Class"
          ],
          [
           "Business Class"
          ],
          [
           "Premium Economy"
          ],
          [
           "Business Class"
          ],
          [
           "Business Class"
          ],
          [
           "Economy Class"
          ],
          [
           "Economy Class"
          ],
          [
           "Business Class"
          ],
          [
           "Economy Class"
          ],
          [
           "Business Class"
          ],
          [
           "Economy Class"
          ],
          [
           "Economy Class"
          ],
          [
           "Premium Economy"
          ],
          [
           "Economy Class"
          ],
          [
           "Business Class"
          ],
          [
           "Economy Class"
          ],
          [
           "Economy Class"
          ],
          [
           "Business Class"
          ],
          [
           "Economy Class"
          ],
          [
           "Economy Class"
          ],
          [
           "Economy Class"
          ],
          [
           "Business Class"
          ],
          [
           "Business Class"
          ],
          [
           "Business Class"
          ],
          [
           "Economy Class"
          ],
          [
           "Business Class"
          ],
          [
           "Business Class"
          ],
          [
           "Economy Class"
          ],
          [
           "Economy Class"
          ],
          [
           "Economy Class"
          ],
          [
           "Economy Class"
          ],
          [
           "Business Class"
          ],
          [
           "Business Class"
          ],
          [
           "Economy Class"
          ],
          [
           "Business Class"
          ],
          [
           "Economy Class"
          ],
          [
           "Economy Class"
          ],
          [
           "Business Class"
          ],
          [
           "Business Class"
          ],
          [
           "Business Class"
          ],
          [
           "Business Class"
          ],
          [
           "Economy Class"
          ],
          [
           "Premium Economy"
          ],
          [
           "Economy Class"
          ],
          [
           "Economy Class"
          ],
          [
           "Economy Class"
          ],
          [
           "Business Class"
          ],
          [
           "Economy Class"
          ],
          [
           "Economy Class"
          ],
          [
           "Business Class"
          ],
          [
           "Economy Class"
          ],
          [
           "Economy Class"
          ],
          [
           "Premium Economy"
          ],
          [
           "Economy Class"
          ],
          [
           "Economy Class"
          ],
          [
           "Business Class"
          ],
          [
           "Economy Class"
          ],
          [
           "Business Class"
          ],
          [
           "Economy Class"
          ],
          [
           "Economy Class"
          ],
          [
           "Economy Class"
          ],
          [
           "Premium Economy"
          ],
          [
           "Economy Class"
          ],
          [
           "Business Class"
          ],
          [
           "Economy Class"
          ],
          [
           "Economy Class"
          ],
          [
           "Business Class"
          ],
          [
           "Economy Class"
          ],
          [
           "Economy Class"
          ],
          [
           "Economy Class"
          ],
          [
           "Economy Class"
          ],
          [
           "Economy Class"
          ],
          [
           "Economy Class"
          ],
          [
           "Business Class"
          ],
          [
           "Business Class"
          ],
          [
           "Business Class"
          ],
          [
           "Economy Class"
          ],
          [
           "Premium Economy"
          ],
          [
           "Business Class"
          ],
          [
           "Premium Economy"
          ],
          [
           "Premium Economy"
          ],
          [
           "Economy Class"
          ],
          [
           "Economy Class"
          ],
          [
           "Business Class"
          ],
          [
           "Economy Class"
          ],
          [
           "Business Class"
          ],
          [
           "Economy Class"
          ],
          [
           "Premium Economy"
          ],
          [
           "Economy Class"
          ],
          [
           "Economy Class"
          ],
          [
           "Economy Class"
          ],
          [
           "Economy Class"
          ],
          [
           "Business Class"
          ],
          [
           "Business Class"
          ],
          [
           "Economy Class"
          ],
          [
           "Economy Class"
          ],
          [
           "Economy Class"
          ],
          [
           "Business Class"
          ],
          [
           "Economy Class"
          ],
          [
           "Premium Economy"
          ],
          [
           "Economy Class"
          ],
          [
           "Business Class"
          ],
          [
           "Business Class"
          ],
          [
           "Economy Class"
          ],
          [
           "Business Class"
          ],
          [
           "Economy Class"
          ],
          [
           "Economy Class"
          ],
          [
           "Economy Class"
          ],
          [
           "Business Class"
          ],
          [
           "Business Class"
          ],
          [
           "Economy Class"
          ],
          [
           "Business Class"
          ],
          [
           "Business Class"
          ],
          [
           "Economy Class"
          ],
          [
           "Economy Class"
          ],
          [
           "Economy Class"
          ],
          [
           "Business Class"
          ],
          [
           "Economy Class"
          ],
          [
           "Economy Class"
          ],
          [
           "Business Class"
          ],
          [
           "Premium Economy"
          ],
          [
           "Economy Class"
          ],
          [
           "Economy Class"
          ],
          [
           "Premium Economy"
          ],
          [
           "Economy Class"
          ],
          [
           "Economy Class"
          ],
          [
           "Economy Class"
          ],
          [
           "Business Class"
          ],
          [
           "Business Class"
          ],
          [
           "Business Class"
          ],
          [
           "Business Class"
          ],
          [
           "Economy Class"
          ],
          [
           "Economy Class"
          ],
          [
           "Business Class"
          ],
          [
           "Economy Class"
          ],
          [
           "Business Class"
          ],
          [
           "Economy Class"
          ],
          [
           "Business Class"
          ],
          [
           "Economy Class"
          ],
          [
           "Economy Class"
          ],
          [
           "Business Class"
          ],
          [
           "Business Class"
          ],
          [
           "Economy Class"
          ],
          [
           "Business Class"
          ],
          [
           "Business Class"
          ],
          [
           "Business Class"
          ],
          [
           "Business Class"
          ],
          [
           "Business Class"
          ],
          [
           "Business Class"
          ],
          [
           "Economy Class"
          ],
          [
           "Business Class"
          ],
          [
           "Economy Class"
          ],
          [
           "Business Class"
          ],
          [
           "Business Class"
          ],
          [
           "Economy Class"
          ],
          [
           "Business Class"
          ],
          [
           "Economy Class"
          ],
          [
           "Business Class"
          ],
          [
           "Economy Class"
          ],
          [
           "Economy Class"
          ],
          [
           "Economy Class"
          ],
          [
           "Premium Economy"
          ],
          [
           "First Class"
          ],
          [
           "Economy Class"
          ],
          [
           "Economy Class"
          ],
          [
           "Premium Economy"
          ],
          [
           "Economy Class"
          ],
          [
           "Premium Economy"
          ],
          [
           "Business Class"
          ],
          [
           "Economy Class"
          ],
          [
           "Premium Economy"
          ],
          [
           "Business Class"
          ],
          [
           "Business Class"
          ],
          [
           "Business Class"
          ],
          [
           "Premium Economy"
          ],
          [
           "Business Class"
          ],
          [
           "Economy Class"
          ],
          [
           "Economy Class"
          ],
          [
           "Business Class"
          ],
          [
           "Economy Class"
          ],
          [
           "Business Class"
          ],
          [
           "Business Class"
          ],
          [
           "Business Class"
          ],
          [
           "Business Class"
          ],
          [
           "Economy Class"
          ],
          [
           "Business Class"
          ],
          [
           "Business Class"
          ],
          [
           "Business Class"
          ],
          [
           "Economy Class"
          ],
          [
           "Economy Class"
          ],
          [
           "Business Class"
          ],
          [
           "Economy Class"
          ],
          [
           "Business Class"
          ],
          [
           "Economy Class"
          ],
          [
           "Economy Class"
          ],
          [
           "Business Class"
          ],
          [
           "Economy Class"
          ],
          [
           "Business Class"
          ],
          [
           "Business Class"
          ],
          [
           "Premium Economy"
          ],
          [
           "Business Class"
          ],
          [
           "Business Class"
          ],
          [
           "Economy Class"
          ],
          [
           "Economy Class"
          ],
          [
           "First Class"
          ],
          [
           "Business Class"
          ],
          [
           "Business Class"
          ],
          [
           "Economy Class"
          ],
          [
           "Business Class"
          ],
          [
           "Business Class"
          ],
          [
           "Business Class"
          ],
          [
           "Economy Class"
          ],
          [
           "Economy Class"
          ],
          [
           "Economy Class"
          ],
          [
           "Business Class"
          ],
          [
           "Business Class"
          ],
          [
           "Business Class"
          ],
          [
           "Business Class"
          ],
          [
           "Economy Class"
          ],
          [
           "Economy Class"
          ],
          [
           "Business Class"
          ],
          [
           "Business Class"
          ],
          [
           "Economy Class"
          ],
          [
           "Economy Class"
          ],
          [
           "Economy Class"
          ],
          [
           "Economy Class"
          ],
          [
           "Premium Economy"
          ],
          [
           "Economy Class"
          ],
          [
           "Business Class"
          ],
          [
           "Business Class"
          ],
          [
           "Premium Economy"
          ],
          [
           "Economy Class"
          ],
          [
           "Economy Class"
          ],
          [
           "Business Class"
          ],
          [
           "Economy Class"
          ],
          [
           "Economy Class"
          ],
          [
           "Premium Economy"
          ],
          [
           "Business Class"
          ],
          [
           "Business Class"
          ],
          [
           "Economy Class"
          ],
          [
           "Economy Class"
          ],
          [
           "Business Class"
          ],
          [
           "Economy Class"
          ],
          [
           "Business Class"
          ],
          [
           "Premium Economy"
          ],
          [
           "Economy Class"
          ],
          [
           "Economy Class"
          ],
          [
           "Business Class"
          ],
          [
           "Business Class"
          ],
          [
           "Business Class"
          ],
          [
           "Business Class"
          ],
          [
           "Economy Class"
          ],
          [
           "Economy Class"
          ],
          [
           "Economy Class"
          ],
          [
           "Business Class"
          ],
          [
           "Economy Class"
          ],
          [
           "Economy Class"
          ],
          [
           "Economy Class"
          ],
          [
           "Economy Class"
          ],
          [
           "Economy Class"
          ],
          [
           "Economy Class"
          ],
          [
           "Business Class"
          ],
          [
           "Business Class"
          ],
          [
           "Business Class"
          ],
          [
           "Economy Class"
          ],
          [
           "Premium Economy"
          ],
          [
           "Business Class"
          ],
          [
           "Business Class"
          ],
          [
           "Economy Class"
          ],
          [
           "Economy Class"
          ],
          [
           "Business Class"
          ],
          [
           "Business Class"
          ],
          [
           "Business Class"
          ],
          [
           "Economy Class"
          ],
          [
           "Business Class"
          ],
          [
           "Economy Class"
          ],
          [
           "Economy Class"
          ],
          [
           "Business Class"
          ],
          [
           "Economy Class"
          ],
          [
           "Economy Class"
          ],
          [
           "Economy Class"
          ],
          [
           "Economy Class"
          ],
          [
           "Economy Class"
          ],
          [
           "Economy Class"
          ],
          [
           "Economy Class"
          ],
          [
           "First Class"
          ],
          [
           "Economy Class"
          ],
          [
           "Economy Class"
          ],
          [
           "Economy Class"
          ],
          [
           "Economy Class"
          ],
          [
           "Premium Economy"
          ],
          [
           "Business Class"
          ],
          [
           "Economy Class"
          ],
          [
           "Economy Class"
          ],
          [
           "Economy Class"
          ],
          [
           "Economy Class"
          ],
          [
           "Business Class"
          ],
          [
           "Economy Class"
          ],
          [
           "Economy Class"
          ],
          [
           "Economy Class"
          ],
          [
           "Economy Class"
          ],
          [
           "Premium Economy"
          ],
          [
           "Economy Class"
          ],
          [
           "Economy Class"
          ],
          [
           "Economy Class"
          ],
          [
           "Economy Class"
          ],
          [
           "First Class"
          ],
          [
           "Business Class"
          ],
          [
           "Economy Class"
          ],
          [
           "Premium Economy"
          ],
          [
           "Business Class"
          ],
          [
           "Economy Class"
          ],
          [
           "Premium Economy"
          ],
          [
           "Economy Class"
          ],
          [
           "Business Class"
          ],
          [
           "Business Class"
          ],
          [
           "Economy Class"
          ],
          [
           "Economy Class"
          ],
          [
           "Business Class"
          ],
          [
           "Economy Class"
          ],
          [
           "Economy Class"
          ],
          [
           "Economy Class"
          ],
          [
           "Economy Class"
          ],
          [
           "Business Class"
          ],
          [
           "Economy Class"
          ],
          [
           "Economy Class"
          ],
          [
           "Economy Class"
          ],
          [
           "Premium Economy"
          ],
          [
           "Economy Class"
          ],
          [
           "Economy Class"
          ],
          [
           "Business Class"
          ],
          [
           "Business Class"
          ],
          [
           "Economy Class"
          ],
          [
           "Economy Class"
          ],
          [
           "Business Class"
          ],
          [
           "Economy Class"
          ],
          [
           "Economy Class"
          ],
          [
           "Economy Class"
          ],
          [
           "Economy Class"
          ],
          [
           "Economy Class"
          ],
          [
           "Business Class"
          ],
          [
           "Economy Class"
          ],
          [
           "Economy Class"
          ],
          [
           "Premium Economy"
          ],
          [
           "Business Class"
          ],
          [
           "First Class"
          ],
          [
           "Premium Economy"
          ],
          [
           "Business Class"
          ],
          [
           "Economy Class"
          ],
          [
           "Economy Class"
          ],
          [
           "Business Class"
          ],
          [
           "Economy Class"
          ],
          [
           "Economy Class"
          ],
          [
           "Business Class"
          ],
          [
           "Economy Class"
          ],
          [
           "Business Class"
          ],
          [
           "Economy Class"
          ],
          [
           "Business Class"
          ],
          [
           "Business Class"
          ],
          [
           "Business Class"
          ],
          [
           "Business Class"
          ],
          [
           "Economy Class"
          ],
          [
           "Business Class"
          ],
          [
           "Economy Class"
          ],
          [
           "Economy Class"
          ],
          [
           "Economy Class"
          ],
          [
           "Economy Class"
          ],
          [
           "First Class"
          ],
          [
           "Economy Class"
          ],
          [
           "Business Class"
          ],
          [
           "Economy Class"
          ],
          [
           "Economy Class"
          ],
          [
           "Economy Class"
          ],
          [
           "Business Class"
          ],
          [
           "Business Class"
          ],
          [
           "Business Class"
          ],
          [
           "Economy Class"
          ],
          [
           "Business Class"
          ],
          [
           "Premium Economy"
          ],
          [
           "Business Class"
          ],
          [
           "Business Class"
          ],
          [
           "Business Class"
          ],
          [
           "Business Class"
          ],
          [
           "Economy Class"
          ],
          [
           "Economy Class"
          ],
          [
           "Business Class"
          ],
          [
           "Business Class"
          ],
          [
           "Economy Class"
          ],
          [
           "Economy Class"
          ],
          [
           "Business Class"
          ],
          [
           "Economy Class"
          ],
          [
           "Economy Class"
          ],
          [
           "Economy Class"
          ],
          [
           "Economy Class"
          ],
          [
           "Economy Class"
          ],
          [
           "Business Class"
          ],
          [
           "Business Class"
          ],
          [
           "Economy Class"
          ],
          [
           "Economy Class"
          ],
          [
           "Economy Class"
          ],
          [
           "Economy Class"
          ],
          [
           "Premium Economy"
          ],
          [
           "Economy Class"
          ],
          [
           "Economy Class"
          ],
          [
           "Business Class"
          ],
          [
           "Economy Class"
          ],
          [
           "Business Class"
          ],
          [
           "Economy Class"
          ],
          [
           "Business Class"
          ],
          [
           "Economy Class"
          ],
          [
           "Business Class"
          ],
          [
           "First Class"
          ],
          [
           "Business Class"
          ],
          [
           "Economy Class"
          ],
          [
           "Business Class"
          ],
          [
           "Business Class"
          ],
          [
           "Business Class"
          ],
          [
           "Economy Class"
          ],
          [
           "Economy Class"
          ],
          [
           "Business Class"
          ],
          [
           "Premium Economy"
          ],
          [
           "Economy Class"
          ],
          [
           "Economy Class"
          ],
          [
           "Economy Class"
          ],
          [
           "Economy Class"
          ],
          [
           "Economy Class"
          ],
          [
           "Economy Class"
          ],
          [
           "Business Class"
          ],
          [
           "Economy Class"
          ],
          [
           "Business Class"
          ],
          [
           "Economy Class"
          ],
          [
           "Economy Class"
          ],
          [
           "Business Class"
          ],
          [
           "Economy Class"
          ],
          [
           "Economy Class"
          ],
          [
           "Economy Class"
          ],
          [
           "Economy Class"
          ],
          [
           "Economy Class"
          ],
          [
           "Business Class"
          ],
          [
           "Economy Class"
          ],
          [
           "Business Class"
          ],
          [
           "Economy Class"
          ],
          [
           "Premium Economy"
          ],
          [
           "Business Class"
          ],
          [
           "Economy Class"
          ],
          [
           "Economy Class"
          ],
          [
           "Economy Class"
          ],
          [
           "Economy Class"
          ],
          [
           "Economy Class"
          ],
          [
           "Business Class"
          ],
          [
           "Business Class"
          ],
          [
           "Economy Class"
          ],
          [
           "Economy Class"
          ],
          [
           "Economy Class"
          ],
          [
           "Business Class"
          ],
          [
           "Economy Class"
          ],
          [
           "Economy Class"
          ],
          [
           "Premium Economy"
          ],
          [
           "Premium Economy"
          ],
          [
           "Business Class"
          ],
          [
           "Economy Class"
          ],
          [
           "Economy Class"
          ],
          [
           "Economy Class"
          ],
          [
           "Economy Class"
          ],
          [
           "Premium Economy"
          ],
          [
           "Economy Class"
          ],
          [
           "Economy Class"
          ],
          [
           "Premium Economy"
          ],
          [
           "Economy Class"
          ],
          [
           "Economy Class"
          ],
          [
           "Business Class"
          ],
          [
           "Economy Class"
          ],
          [
           "Economy Class"
          ],
          [
           "Economy Class"
          ],
          [
           "Economy Class"
          ],
          [
           "Economy Class"
          ],
          [
           "Economy Class"
          ],
          [
           "Business Class"
          ],
          [
           "Premium Economy"
          ],
          [
           "Premium Economy"
          ],
          [
           "Business Class"
          ],
          [
           "Business Class"
          ],
          [
           "Premium Economy"
          ],
          [
           "Economy Class"
          ],
          [
           "Business Class"
          ],
          [
           "Business Class"
          ],
          [
           "Economy Class"
          ],
          [
           "Business Class"
          ],
          [
           "Economy Class"
          ],
          [
           "Business Class"
          ],
          [
           "Economy Class"
          ],
          [
           "Business Class"
          ],
          [
           "Economy Class"
          ],
          [
           "Business Class"
          ],
          [
           "Premium Economy"
          ],
          [
           "Business Class"
          ],
          [
           "Economy Class"
          ],
          [
           "Business Class"
          ],
          [
           "Economy Class"
          ],
          [
           "Economy Class"
          ],
          [
           "Economy Class"
          ],
          [
           "Business Class"
          ],
          [
           "Economy Class"
          ],
          [
           "Business Class"
          ],
          [
           "Business Class"
          ],
          [
           "Business Class"
          ],
          [
           "Economy Class"
          ],
          [
           "Economy Class"
          ],
          [
           "Business Class"
          ],
          [
           "Premium Economy"
          ],
          [
           "Business Class"
          ],
          [
           "Business Class"
          ],
          [
           "Economy Class"
          ],
          [
           "Economy Class"
          ],
          [
           "Business Class"
          ],
          [
           "Economy Class"
          ],
          [
           "First Class"
          ],
          [
           "Business Class"
          ],
          [
           "Economy Class"
          ],
          [
           "Premium Economy"
          ],
          [
           "Economy Class"
          ],
          [
           "Business Class"
          ],
          [
           "Economy Class"
          ],
          [
           "Business Class"
          ],
          [
           "Economy Class"
          ],
          [
           "Premium Economy"
          ],
          [
           "Economy Class"
          ],
          [
           "Economy Class"
          ],
          [
           "Economy Class"
          ],
          [
           "Economy Class"
          ],
          [
           "Business Class"
          ],
          [
           "Economy Class"
          ],
          [
           "Business Class"
          ],
          [
           "Business Class"
          ],
          [
           "Economy Class"
          ],
          [
           "Economy Class"
          ],
          [
           "Economy Class"
          ],
          [
           "Economy Class"
          ],
          [
           "Economy Class"
          ],
          [
           "Business Class"
          ],
          [
           "Economy Class"
          ],
          [
           "Economy Class"
          ],
          [
           "Economy Class"
          ],
          [
           "Economy Class"
          ],
          [
           "Business Class"
          ],
          [
           "Economy Class"
          ],
          [
           "Economy Class"
          ],
          [
           "Premium Economy"
          ],
          [
           "Business Class"
          ],
          [
           "Economy Class"
          ],
          [
           "Economy Class"
          ],
          [
           "Economy Class"
          ],
          [
           "Business Class"
          ],
          [
           "Economy Class"
          ],
          [
           "Economy Class"
          ],
          [
           "Economy Class"
          ],
          [
           "Premium Economy"
          ],
          [
           "Economy Class"
          ],
          [
           "Business Class"
          ],
          [
           "Business Class"
          ],
          [
           "Business Class"
          ],
          [
           "Business Class"
          ],
          [
           "Premium Economy"
          ],
          [
           "Business Class"
          ],
          [
           "Economy Class"
          ],
          [
           "Business Class"
          ],
          [
           "Economy Class"
          ],
          [
           "Economy Class"
          ],
          [
           "Economy Class"
          ],
          [
           "Economy Class"
          ],
          [
           "Economy Class"
          ],
          [
           "Economy Class"
          ],
          [
           "Economy Class"
          ],
          [
           "Economy Class"
          ],
          [
           "Economy Class"
          ],
          [
           "Economy Class"
          ],
          [
           "Economy Class"
          ],
          [
           "Economy Class"
          ],
          [
           "Business Class"
          ],
          [
           "Business Class"
          ],
          [
           "Economy Class"
          ],
          [
           "Economy Class"
          ],
          [
           "Economy Class"
          ],
          [
           "Economy Class"
          ],
          [
           "Economy Class"
          ],
          [
           "Economy Class"
          ],
          [
           "Economy Class"
          ],
          [
           "Business Class"
          ],
          [
           "Economy Class"
          ],
          [
           "Economy Class"
          ],
          [
           "Business Class"
          ],
          [
           "Economy Class"
          ],
          [
           "Economy Class"
          ],
          [
           "Economy Class"
          ],
          [
           "Economy Class"
          ],
          [
           "Economy Class"
          ],
          [
           "Business Class"
          ],
          [
           "First Class"
          ],
          [
           "Economy Class"
          ],
          [
           "Economy Class"
          ],
          [
           "Economy Class"
          ],
          [
           "Economy Class"
          ],
          [
           "First Class"
          ],
          [
           "Economy Class"
          ],
          [
           "Economy Class"
          ],
          [
           "Economy Class"
          ],
          [
           "Economy Class"
          ],
          [
           "Business Class"
          ],
          [
           "Business Class"
          ],
          [
           "Business Class"
          ],
          [
           "Economy Class"
          ],
          [
           "Economy Class"
          ],
          [
           "Economy Class"
          ],
          [
           "Business Class"
          ],
          [
           "Economy Class"
          ],
          [
           "Economy Class"
          ],
          [
           "Economy Class"
          ],
          [
           "Business Class"
          ],
          [
           "Economy Class"
          ],
          [
           "Economy Class"
          ],
          [
           "First Class"
          ],
          [
           "Economy Class"
          ],
          [
           "Economy Class"
          ],
          [
           "Business Class"
          ],
          [
           "Premium Economy"
          ],
          [
           "Business Class"
          ],
          [
           "Economy Class"
          ],
          [
           "Business Class"
          ],
          [
           "First Class"
          ],
          [
           "Economy Class"
          ],
          [
           "Business Class"
          ],
          [
           "Economy Class"
          ],
          [
           "Economy Class"
          ],
          [
           "Economy Class"
          ],
          [
           "Business Class"
          ],
          [
           "Business Class"
          ],
          [
           "Business Class"
          ],
          [
           "Economy Class"
          ],
          [
           "Business Class"
          ],
          [
           "Economy Class"
          ],
          [
           "Economy Class"
          ],
          [
           "Business Class"
          ],
          [
           "Economy Class"
          ],
          [
           "Business Class"
          ],
          [
           "Business Class"
          ],
          [
           "Business Class"
          ],
          [
           "Business Class"
          ],
          [
           "Economy Class"
          ],
          [
           "Business Class"
          ],
          [
           "Economy Class"
          ],
          [
           "Economy Class"
          ],
          [
           "First Class"
          ],
          [
           "Business Class"
          ],
          [
           "Economy Class"
          ],
          [
           "Economy Class"
          ],
          [
           "Economy Class"
          ],
          [
           "Economy Class"
          ],
          [
           "Economy Class"
          ],
          [
           "Business Class"
          ],
          [
           "Business Class"
          ],
          [
           "Economy Class"
          ],
          [
           "Economy Class"
          ],
          [
           "First Class"
          ],
          [
           "First Class"
          ],
          [
           "Economy Class"
          ],
          [
           "First Class"
          ],
          [
           "Economy Class"
          ],
          [
           "Economy Class"
          ],
          [
           "Business Class"
          ],
          [
           "Economy Class"
          ],
          [
           "Business Class"
          ],
          [
           "Economy Class"
          ],
          [
           "Economy Class"
          ],
          [
           "Economy Class"
          ],
          [
           "Economy Class"
          ],
          [
           "Business Class"
          ],
          [
           "Economy Class"
          ],
          [
           "Business Class"
          ],
          [
           "Economy Class"
          ],
          [
           "Economy Class"
          ],
          [
           "Economy Class"
          ],
          [
           "Economy Class"
          ],
          [
           "Business Class"
          ],
          [
           "Business Class"
          ],
          [
           "First Class"
          ],
          [
           "Economy Class"
          ],
          [
           "Economy Class"
          ],
          [
           "Business Class"
          ],
          [
           "Economy Class"
          ],
          [
           "Premium Economy"
          ],
          [
           "Premium Economy"
          ],
          [
           "Premium Economy"
          ],
          [
           "Business Class"
          ],
          [
           "Business Class"
          ],
          [
           "Economy Class"
          ],
          [
           "Economy Class"
          ],
          [
           "Economy Class"
          ],
          [
           "First Class"
          ],
          [
           "Economy Class"
          ],
          [
           "Economy Class"
          ],
          [
           "Premium Economy"
          ],
          [
           "Business Class"
          ],
          [
           "First Class"
          ],
          [
           "Economy Class"
          ],
          [
           "Premium Economy"
          ],
          [
           "Economy Class"
          ],
          [
           "Business Class"
          ],
          [
           "Economy Class"
          ],
          [
           "Business Class"
          ],
          [
           "Economy Class"
          ],
          [
           "Economy Class"
          ],
          [
           "Economy Class"
          ],
          [
           "Economy Class"
          ],
          [
           "Economy Class"
          ],
          [
           "First Class"
          ],
          [
           "Business Class"
          ],
          [
           "Business Class"
          ],
          [
           "Business Class"
          ],
          [
           "Premium Economy"
          ],
          [
           "Business Class"
          ],
          [
           "Economy Class"
          ],
          [
           "Premium Economy"
          ],
          [
           "Economy Class"
          ],
          [
           "Premium Economy"
          ],
          [
           "Economy Class"
          ],
          [
           "Business Class"
          ],
          [
           "Premium Economy"
          ],
          [
           "Premium Economy"
          ],
          [
           "Premium Economy"
          ],
          [
           "Economy Class"
          ],
          [
           "Economy Class"
          ],
          [
           "Economy Class"
          ],
          [
           "Economy Class"
          ],
          [
           "Economy Class"
          ],
          [
           "Economy Class"
          ],
          [
           "Economy Class"
          ],
          [
           "Economy Class"
          ],
          [
           "Economy Class"
          ],
          [
           "Economy Class"
          ],
          [
           "Economy Class"
          ],
          [
           "Economy Class"
          ],
          [
           "Premium Economy"
          ],
          [
           "Economy Class"
          ],
          [
           "Economy Class"
          ],
          [
           "Premium Economy"
          ],
          [
           "Economy Class"
          ],
          [
           "Economy Class"
          ],
          [
           "Economy Class"
          ],
          [
           "Premium Economy"
          ],
          [
           "Business Class"
          ],
          [
           "Economy Class"
          ],
          [
           "Economy Class"
          ],
          [
           "Economy Class"
          ],
          [
           "First Class"
          ],
          [
           "First Class"
          ],
          [
           "Economy Class"
          ],
          [
           "Business Class"
          ],
          [
           "Economy Class"
          ],
          [
           "Business Class"
          ],
          [
           "First Class"
          ],
          [
           "Business Class"
          ],
          [
           "First Class"
          ],
          [
           "Business Class"
          ],
          [
           "Economy Class"
          ],
          [
           "Economy Class"
          ],
          [
           "Economy Class"
          ],
          [
           "Premium Economy"
          ],
          [
           "Economy Class"
          ],
          [
           "Economy Class"
          ],
          [
           "Economy Class"
          ],
          [
           "Premium Economy"
          ],
          [
           "Business Class"
          ],
          [
           "Economy Class"
          ],
          [
           "Economy Class"
          ],
          [
           "Economy Class"
          ],
          [
           "First Class"
          ],
          [
           "Business Class"
          ],
          [
           "Economy Class"
          ],
          [
           "Economy Class"
          ],
          [
           "Premium Economy"
          ],
          [
           "Economy Class"
          ],
          [
           "Economy Class"
          ],
          [
           "Business Class"
          ],
          [
           "Economy Class"
          ],
          [
           "Economy Class"
          ],
          [
           "Business Class"
          ],
          [
           "Economy Class"
          ],
          [
           "Economy Class"
          ],
          [
           "Economy Class"
          ],
          [
           "Economy Class"
          ],
          [
           "Business Class"
          ],
          [
           "Economy Class"
          ],
          [
           "Business Class"
          ],
          [
           "Business Class"
          ],
          [
           "Economy Class"
          ],
          [
           "Business Class"
          ],
          [
           "Business Class"
          ],
          [
           "Economy Class"
          ],
          [
           "Economy Class"
          ],
          [
           "Economy Class"
          ],
          [
           "First Class"
          ],
          [
           "Economy Class"
          ],
          [
           "Economy Class"
          ],
          [
           "Economy Class"
          ],
          [
           "Business Class"
          ],
          [
           "Business Class"
          ],
          [
           "Business Class"
          ],
          [
           "Premium Economy"
          ],
          [
           "Business Class"
          ],
          [
           "First Class"
          ],
          [
           "Economy Class"
          ],
          [
           "Economy Class"
          ],
          [
           "Economy Class"
          ],
          [
           "Economy Class"
          ],
          [
           "Business Class"
          ],
          [
           "Economy Class"
          ],
          [
           "Premium Economy"
          ],
          [
           "Business Class"
          ],
          [
           "Business Class"
          ],
          [
           "Premium Economy"
          ],
          [
           "Economy Class"
          ],
          [
           "Premium Economy"
          ],
          [
           "Economy Class"
          ],
          [
           "Business Class"
          ],
          [
           "First Class"
          ],
          [
           "Economy Class"
          ],
          [
           "Business Class"
          ],
          [
           "Business Class"
          ],
          [
           "Economy Class"
          ],
          [
           "Economy Class"
          ],
          [
           "Premium Economy"
          ],
          [
           "Economy Class"
          ],
          [
           "Economy Class"
          ],
          [
           "Business Class"
          ],
          [
           "Business Class"
          ],
          [
           "Economy Class"
          ],
          [
           "Economy Class"
          ],
          [
           "Economy Class"
          ],
          [
           "Economy Class"
          ],
          [
           "Economy Class"
          ],
          [
           "Business Class"
          ],
          [
           "First Class"
          ],
          [
           "Premium Economy"
          ],
          [
           "Economy Class"
          ],
          [
           "Business Class"
          ],
          [
           "Business Class"
          ],
          [
           "Premium Economy"
          ],
          [
           "Business Class"
          ],
          [
           "Economy Class"
          ],
          [
           "Economy Class"
          ],
          [
           "Economy Class"
          ],
          [
           "First Class"
          ],
          [
           "Economy Class"
          ],
          [
           "Business Class"
          ],
          [
           "Business Class"
          ],
          [
           "Business Class"
          ],
          [
           "Economy Class"
          ],
          [
           "Economy Class"
          ],
          [
           "Premium Economy"
          ],
          [
           "Business Class"
          ],
          [
           "Economy Class"
          ],
          [
           "Economy Class"
          ],
          [
           "Business Class"
          ],
          [
           "Economy Class"
          ],
          [
           "Economy Class"
          ],
          [
           "Economy Class"
          ],
          [
           "Economy Class"
          ],
          [
           "Business Class"
          ],
          [
           "Premium Economy"
          ],
          [
           "Business Class"
          ],
          [
           "Business Class"
          ],
          [
           "First Class"
          ],
          [
           "Business Class"
          ],
          [
           "Business Class"
          ],
          [
           "Business Class"
          ],
          [
           "Economy Class"
          ],
          [
           "Economy Class"
          ],
          [
           "Premium Economy"
          ],
          [
           "Economy Class"
          ],
          [
           "Economy Class"
          ],
          [
           "Business Class"
          ],
          [
           "Economy Class"
          ],
          [
           "Economy Class"
          ],
          [
           "Business Class"
          ],
          [
           "Economy Class"
          ],
          [
           "Economy Class"
          ],
          [
           "First Class"
          ],
          [
           "Economy Class"
          ],
          [
           "Economy Class"
          ],
          [
           "Economy Class"
          ],
          [
           "Business Class"
          ],
          [
           "Premium Economy"
          ],
          [
           "Business Class"
          ],
          [
           "Premium Economy"
          ],
          [
           "Business Class"
          ],
          [
           "Business Class"
          ],
          [
           "First Class"
          ],
          [
           "Economy Class"
          ],
          [
           "Economy Class"
          ],
          [
           "Business Class"
          ],
          [
           "Business Class"
          ],
          [
           "Economy Class"
          ],
          [
           "Premium Economy"
          ],
          [
           "Economy Class"
          ],
          [
           "Economy Class"
          ],
          [
           "Economy Class"
          ],
          [
           "Business Class"
          ],
          [
           "Premium Economy"
          ],
          [
           "Economy Class"
          ],
          [
           "Business Class"
          ],
          [
           "Economy Class"
          ],
          [
           "Premium Economy"
          ],
          [
           "Economy Class"
          ],
          [
           "First Class"
          ],
          [
           "Business Class"
          ],
          [
           "Economy Class"
          ],
          [
           "Business Class"
          ],
          [
           "Business Class"
          ],
          [
           "Economy Class"
          ],
          [
           "Economy Class"
          ],
          [
           "First Class"
          ],
          [
           "First Class"
          ],
          [
           "Economy Class"
          ],
          [
           "Economy Class"
          ],
          [
           "Economy Class"
          ],
          [
           "Business Class"
          ],
          [
           "Economy Class"
          ],
          [
           "First Class"
          ],
          [
           "Economy Class"
          ],
          [
           "Economy Class"
          ],
          [
           "Economy Class"
          ],
          [
           "Premium Economy"
          ],
          [
           "Economy Class"
          ],
          [
           "Economy Class"
          ],
          [
           "Business Class"
          ],
          [
           "Economy Class"
          ],
          [
           "Economy Class"
          ],
          [
           "Economy Class"
          ],
          [
           "Business Class"
          ],
          [
           "Economy Class"
          ],
          [
           "First Class"
          ],
          [
           "Economy Class"
          ],
          [
           "Economy Class"
          ],
          [
           "Economy Class"
          ],
          [
           "Business Class"
          ],
          [
           "Economy Class"
          ],
          [
           "Economy Class"
          ],
          [
           "Business Class"
          ],
          [
           "Economy Class"
          ],
          [
           "Economy Class"
          ],
          [
           "Economy Class"
          ],
          [
           "Economy Class"
          ],
          [
           "Business Class"
          ],
          [
           "Business Class"
          ],
          [
           "Premium Economy"
          ],
          [
           "Business Class"
          ],
          [
           "Premium Economy"
          ],
          [
           "Business Class"
          ],
          [
           "Economy Class"
          ],
          [
           "Business Class"
          ],
          [
           "Economy Class"
          ],
          [
           "Economy Class"
          ],
          [
           "Business Class"
          ],
          [
           "Business Class"
          ],
          [
           "Business Class"
          ],
          [
           "Business Class"
          ],
          [
           "Business Class"
          ],
          [
           "Economy Class"
          ],
          [
           "Economy Class"
          ],
          [
           "Economy Class"
          ],
          [
           "Business Class"
          ],
          [
           "Economy Class"
          ],
          [
           "Premium Economy"
          ],
          [
           "Economy Class"
          ],
          [
           "Economy Class"
          ],
          [
           "Premium Economy"
          ],
          [
           "Premium Economy"
          ],
          [
           "Economy Class"
          ],
          [
           "Economy Class"
          ],
          [
           "Economy Class"
          ],
          [
           "Premium Economy"
          ],
          [
           "Business Class"
          ],
          [
           "Business Class"
          ],
          [
           "Business Class"
          ],
          [
           "Economy Class"
          ],
          [
           "Economy Class"
          ],
          [
           "Economy Class"
          ],
          [
           "First Class"
          ],
          [
           "Economy Class"
          ],
          [
           "Business Class"
          ],
          [
           "Economy Class"
          ],
          [
           "Economy Class"
          ],
          [
           "Economy Class"
          ],
          [
           "Business Class"
          ],
          [
           "Business Class"
          ],
          [
           "Business Class"
          ],
          [
           "Economy Class"
          ],
          [
           "Economy Class"
          ],
          [
           "Business Class"
          ],
          [
           "Business Class"
          ],
          [
           "Business Class"
          ],
          [
           "Economy Class"
          ],
          [
           "Economy Class"
          ],
          [
           "First Class"
          ],
          [
           "Economy Class"
          ],
          [
           "Economy Class"
          ],
          [
           "Economy Class"
          ],
          [
           "Business Class"
          ],
          [
           "Economy Class"
          ],
          [
           "Economy Class"
          ],
          [
           "Premium Economy"
          ],
          [
           "Business Class"
          ],
          [
           "Economy Class"
          ],
          [
           "Business Class"
          ],
          [
           "Premium Economy"
          ],
          [
           "First Class"
          ],
          [
           "Business Class"
          ],
          [
           "Economy Class"
          ],
          [
           "Business Class"
          ],
          [
           "Economy Class"
          ],
          [
           "Premium Economy"
          ],
          [
           "Economy Class"
          ],
          [
           "Business Class"
          ],
          [
           "Economy Class"
          ],
          [
           "Economy Class"
          ],
          [
           "Business Class"
          ],
          [
           "Economy Class"
          ],
          [
           "Economy Class"
          ],
          [
           "Business Class"
          ],
          [
           "Business Class"
          ],
          [
           "Economy Class"
          ],
          [
           "Economy Class"
          ],
          [
           "Business Class"
          ],
          [
           "Premium Economy"
          ],
          [
           "Economy Class"
          ],
          [
           "Business Class"
          ],
          [
           "Premium Economy"
          ],
          [
           "Economy Class"
          ],
          [
           "Economy Class"
          ],
          [
           "Economy Class"
          ],
          [
           "Economy Class"
          ],
          [
           "Economy Class"
          ],
          [
           "Business Class"
          ],
          [
           "Economy Class"
          ],
          [
           "Business Class"
          ],
          [
           "Business Class"
          ],
          [
           "Business Class"
          ],
          [
           "Economy Class"
          ],
          [
           "Economy Class"
          ],
          [
           "Business Class"
          ],
          [
           "Economy Class"
          ],
          [
           "Business Class"
          ],
          [
           "Business Class"
          ],
          [
           "Business Class"
          ],
          [
           "Business Class"
          ],
          [
           "Business Class"
          ],
          [
           "Economy Class"
          ],
          [
           "Economy Class"
          ],
          [
           "Economy Class"
          ],
          [
           "Economy Class"
          ],
          [
           "Economy Class"
          ],
          [
           "First Class"
          ],
          [
           "First Class"
          ],
          [
           "Economy Class"
          ],
          [
           "Business Class"
          ],
          [
           "Economy Class"
          ],
          [
           "Economy Class"
          ],
          [
           "Business Class"
          ],
          [
           "Business Class"
          ],
          [
           "Premium Economy"
          ],
          [
           "First Class"
          ],
          [
           "Business Class"
          ],
          [
           "Economy Class"
          ],
          [
           "Economy Class"
          ],
          [
           "Business Class"
          ],
          [
           "Premium Economy"
          ],
          [
           "Economy Class"
          ],
          [
           "First Class"
          ],
          [
           "Economy Class"
          ],
          [
           "Economy Class"
          ],
          [
           "Economy Class"
          ],
          [
           "Economy Class"
          ],
          [
           "Economy Class"
          ],
          [
           "Economy Class"
          ],
          [
           "Economy Class"
          ],
          [
           "Business Class"
          ],
          [
           "Economy Class"
          ],
          [
           "Economy Class"
          ],
          [
           "Premium Economy"
          ],
          [
           "Premium Economy"
          ],
          [
           "Economy Class"
          ],
          [
           "Economy Class"
          ],
          [
           "First Class"
          ],
          [
           "First Class"
          ],
          [
           "First Class"
          ],
          [
           "Business Class"
          ],
          [
           "Business Class"
          ],
          [
           "Economy Class"
          ],
          [
           "Business Class"
          ],
          [
           "Economy Class"
          ],
          [
           "Economy Class"
          ],
          [
           "Business Class"
          ],
          [
           "Business Class"
          ],
          [
           "Economy Class"
          ],
          [
           "Economy Class"
          ],
          [
           "Business Class"
          ],
          [
           "Economy Class"
          ],
          [
           "Economy Class"
          ],
          [
           "Economy Class"
          ],
          [
           "Business Class"
          ],
          [
           "First Class"
          ],
          [
           "Premium Economy"
          ],
          [
           "Economy Class"
          ],
          [
           "Economy Class"
          ],
          [
           "First Class"
          ],
          [
           "Business Class"
          ],
          [
           "Economy Class"
          ],
          [
           "Economy Class"
          ],
          [
           "Economy Class"
          ],
          [
           "Economy Class"
          ],
          [
           "Business Class"
          ],
          [
           "Economy Class"
          ],
          [
           "Premium Economy"
          ],
          [
           "Business Class"
          ],
          [
           "Business Class"
          ],
          [
           "Economy Class"
          ],
          [
           "Business Class"
          ],
          [
           "Business Class"
          ],
          [
           "Business Class"
          ],
          [
           "Economy Class"
          ],
          [
           "Economy Class"
          ],
          [
           "Business Class"
          ],
          [
           "Business Class"
          ],
          [
           "Business Class"
          ],
          [
           "Business Class"
          ],
          [
           "Business Class"
          ],
          [
           "Economy Class"
          ],
          [
           "Economy Class"
          ],
          [
           "Economy Class"
          ],
          [
           "Economy Class"
          ],
          [
           "Business Class"
          ],
          [
           "Business Class"
          ],
          [
           "Premium Economy"
          ],
          [
           "Economy Class"
          ],
          [
           "Business Class"
          ],
          [
           "First Class"
          ],
          [
           "Economy Class"
          ],
          [
           "Economy Class"
          ],
          [
           "Economy Class"
          ],
          [
           "Business Class"
          ],
          [
           "Economy Class"
          ],
          [
           "Business Class"
          ],
          [
           "Economy Class"
          ],
          [
           "Economy Class"
          ],
          [
           "Economy Class"
          ],
          [
           "Economy Class"
          ],
          [
           "Economy Class"
          ],
          [
           "Economy Class"
          ],
          [
           "Business Class"
          ],
          [
           "First Class"
          ],
          [
           "Economy Class"
          ],
          [
           "Business Class"
          ],
          [
           "Economy Class"
          ],
          [
           "Economy Class"
          ],
          [
           "Economy Class"
          ],
          [
           "Economy Class"
          ],
          [
           "Business Class"
          ],
          [
           "Business Class"
          ],
          [
           "Economy Class"
          ],
          [
           "Business Class"
          ],
          [
           "Premium Economy"
          ],
          [
           "Business Class"
          ],
          [
           "Economy Class"
          ],
          [
           "Economy Class"
          ],
          [
           "Economy Class"
          ],
          [
           "Economy Class"
          ],
          [
           "Economy Class"
          ],
          [
           "Business Class"
          ],
          [
           "Economy Class"
          ],
          [
           "Economy Class"
          ],
          [
           "Business Class"
          ],
          [
           "Economy Class"
          ],
          [
           "Premium Economy"
          ],
          [
           "Economy Class"
          ],
          [
           "Economy Class"
          ],
          [
           "Economy Class"
          ],
          [
           "Business Class"
          ],
          [
           "Business Class"
          ],
          [
           "Business Class"
          ],
          [
           "Economy Class"
          ],
          [
           "First Class"
          ],
          [
           "Economy Class"
          ],
          [
           "Economy Class"
          ],
          [
           "Economy Class"
          ],
          [
           "Economy Class"
          ],
          [
           "Economy Class"
          ],
          [
           "Economy Class"
          ],
          [
           "Economy Class"
          ],
          [
           "Business Class"
          ],
          [
           "Economy Class"
          ],
          [
           "Economy Class"
          ],
          [
           "Economy Class"
          ],
          [
           "Premium Economy"
          ],
          [
           "Economy Class"
          ],
          [
           "Business Class"
          ],
          [
           "Business Class"
          ],
          [
           "Business Class"
          ],
          [
           "Economy Class"
          ],
          [
           "Economy Class"
          ],
          [
           "Business Class"
          ],
          [
           "Economy Class"
          ],
          [
           "Business Class"
          ],
          [
           "Business Class"
          ],
          [
           "Economy Class"
          ],
          [
           "Economy Class"
          ],
          [
           "Business Class"
          ],
          [
           "Business Class"
          ],
          [
           "Economy Class"
          ],
          [
           "Business Class"
          ],
          [
           "Economy Class"
          ],
          [
           "Economy Class"
          ],
          [
           "Economy Class"
          ],
          [
           "Business Class"
          ],
          [
           "Economy Class"
          ],
          [
           "Economy Class"
          ],
          [
           "Economy Class"
          ],
          [
           "Economy Class"
          ],
          [
           "Economy Class"
          ],
          [
           "Economy Class"
          ],
          [
           "Economy Class"
          ],
          [
           "First Class"
          ],
          [
           "Business Class"
          ],
          [
           "Economy Class"
          ],
          [
           "Economy Class"
          ],
          [
           "Economy Class"
          ],
          [
           "Business Class"
          ],
          [
           "Business Class"
          ],
          [
           "Economy Class"
          ],
          [
           "Business Class"
          ],
          [
           "Business Class"
          ],
          [
           "Premium Economy"
          ],
          [
           "Business Class"
          ],
          [
           "Economy Class"
          ],
          [
           "Business Class"
          ],
          [
           "Economy Class"
          ],
          [
           "Economy Class"
          ],
          [
           "Economy Class"
          ],
          [
           "Premium Economy"
          ],
          [
           "Business Class"
          ],
          [
           "Economy Class"
          ],
          [
           "Economy Class"
          ],
          [
           "Premium Economy"
          ],
          [
           "Economy Class"
          ],
          [
           "Economy Class"
          ],
          [
           "Economy Class"
          ],
          [
           "Economy Class"
          ],
          [
           "Business Class"
          ],
          [
           "Economy Class"
          ],
          [
           "Business Class"
          ],
          [
           "Business Class"
          ],
          [
           "Economy Class"
          ],
          [
           "Economy Class"
          ],
          [
           "Economy Class"
          ],
          [
           "Economy Class"
          ],
          [
           "Economy Class"
          ],
          [
           "Economy Class"
          ],
          [
           "Economy Class"
          ],
          [
           "Economy Class"
          ],
          [
           "Economy Class"
          ],
          [
           "Economy Class"
          ],
          [
           "Business Class"
          ],
          [
           "Economy Class"
          ],
          [
           "Economy Class"
          ],
          [
           "Business Class"
          ],
          [
           "Economy Class"
          ],
          [
           "Economy Class"
          ],
          [
           "Business Class"
          ],
          [
           "Economy Class"
          ],
          [
           "Business Class"
          ],
          [
           "Business Class"
          ],
          [
           "Economy Class"
          ],
          [
           "Economy Class"
          ],
          [
           "Economy Class"
          ],
          [
           "Economy Class"
          ],
          [
           "Business Class"
          ],
          [
           "Business Class"
          ],
          [
           "Economy Class"
          ],
          [
           "Business Class"
          ],
          [
           "Economy Class"
          ],
          [
           "Economy Class"
          ],
          [
           "Economy Class"
          ],
          [
           "Premium Economy"
          ],
          [
           "Business Class"
          ],
          [
           "Economy Class"
          ],
          [
           "Premium Economy"
          ],
          [
           "Economy Class"
          ],
          [
           "Economy Class"
          ],
          [
           "Economy Class"
          ],
          [
           "Economy Class"
          ],
          [
           "Economy Class"
          ],
          [
           "Economy Class"
          ],
          [
           "Business Class"
          ],
          [
           "Economy Class"
          ],
          [
           "Economy Class"
          ],
          [
           "Economy Class"
          ],
          [
           "Economy Class"
          ],
          [
           "First Class"
          ],
          [
           "Economy Class"
          ],
          [
           "Business Class"
          ],
          [
           "Business Class"
          ],
          [
           "Economy Class"
          ],
          [
           "Economy Class"
          ],
          [
           "Economy Class"
          ],
          [
           "Business Class"
          ],
          [
           "Business Class"
          ],
          [
           "Business Class"
          ],
          [
           "Economy Class"
          ],
          [
           "Economy Class"
          ],
          [
           "Premium Economy"
          ],
          [
           "Economy Class"
          ],
          [
           "Premium Economy"
          ],
          [
           "Economy Class"
          ],
          [
           "Premium Economy"
          ],
          [
           "Economy Class"
          ],
          [
           "Premium Economy"
          ],
          [
           "Business Class"
          ],
          [
           "Premium Economy"
          ],
          [
           "Economy Class"
          ],
          [
           "Premium Economy"
          ],
          [
           "Business Class"
          ],
          [
           "Business Class"
          ],
          [
           "Business Class"
          ],
          [
           "Economy Class"
          ],
          [
           "Premium Economy"
          ],
          [
           "Business Class"
          ],
          [
           "Business Class"
          ],
          [
           "Economy Class"
          ],
          [
           "Business Class"
          ],
          [
           "Premium Economy"
          ],
          [
           "Economy Class"
          ],
          [
           "Premium Economy"
          ],
          [
           "Economy Class"
          ],
          [
           "Business Class"
          ],
          [
           "Business Class"
          ],
          [
           "Premium Economy"
          ],
          [
           "Premium Economy"
          ],
          [
           "First Class"
          ],
          [
           "Business Class"
          ],
          [
           "Premium Economy"
          ],
          [
           "Economy Class"
          ],
          [
           "Economy Class"
          ],
          [
           "Economy Class"
          ],
          [
           "Business Class"
          ],
          [
           "Economy Class"
          ],
          [
           "Premium Economy"
          ],
          [
           "Economy Class"
          ],
          [
           "Business Class"
          ],
          [
           "Economy Class"
          ],
          [
           "Business Class"
          ],
          [
           "Economy Class"
          ],
          [
           "First Class"
          ],
          [
           "Business Class"
          ],
          [
           "Premium Economy"
          ],
          [
           "Economy Class"
          ],
          [
           "Business Class"
          ],
          [
           "Business Class"
          ],
          [
           "Economy Class"
          ],
          [
           "Business Class"
          ],
          [
           "Business Class"
          ],
          [
           "Economy Class"
          ],
          [
           "Economy Class"
          ],
          [
           "Economy Class"
          ],
          [
           "Economy Class"
          ],
          [
           "Economy Class"
          ],
          [
           "Economy Class"
          ],
          [
           "Business Class"
          ],
          [
           "Economy Class"
          ],
          [
           "Economy Class"
          ],
          [
           "Economy Class"
          ],
          [
           "Economy Class"
          ],
          [
           "Economy Class"
          ],
          [
           "Economy Class"
          ],
          [
           "Business Class"
          ],
          [
           "Economy Class"
          ],
          [
           "Economy Class"
          ],
          [
           "Economy Class"
          ],
          [
           "Premium Economy"
          ],
          [
           "Business Class"
          ],
          [
           "Business Class"
          ],
          [
           "Economy Class"
          ],
          [
           "Economy Class"
          ],
          [
           "Economy Class"
          ],
          [
           "Economy Class"
          ],
          [
           "Business Class"
          ],
          [
           "Premium Economy"
          ],
          [
           "Economy Class"
          ],
          [
           "Economy Class"
          ],
          [
           "Business Class"
          ],
          [
           "Business Class"
          ],
          [
           "Economy Class"
          ],
          [
           "Economy Class"
          ],
          [
           "Premium Economy"
          ],
          [
           "Business Class"
          ],
          [
           "First Class"
          ],
          [
           "Economy Class"
          ],
          [
           "Economy Class"
          ],
          [
           "Economy Class"
          ],
          [
           "Economy Class"
          ],
          [
           "Economy Class"
          ],
          [
           "Premium Economy"
          ],
          [
           "Business Class"
          ],
          [
           "Economy Class"
          ],
          [
           "Economy Class"
          ],
          [
           "Economy Class"
          ],
          [
           "Economy Class"
          ],
          [
           "Economy Class"
          ],
          [
           "Business Class"
          ],
          [
           "Economy Class"
          ],
          [
           "Economy Class"
          ],
          [
           "Premium Economy"
          ],
          [
           "Economy Class"
          ],
          [
           "First Class"
          ],
          [
           "First Class"
          ],
          [
           "Business Class"
          ],
          [
           "Economy Class"
          ],
          [
           "Economy Class"
          ],
          [
           "Business Class"
          ],
          [
           "Economy Class"
          ],
          [
           "Business Class"
          ],
          [
           "Business Class"
          ],
          [
           "Economy Class"
          ],
          [
           "Economy Class"
          ],
          [
           "Economy Class"
          ],
          [
           "Economy Class"
          ],
          [
           "Economy Class"
          ],
          [
           "Economy Class"
          ],
          [
           "Premium Economy"
          ],
          [
           "Business Class"
          ],
          [
           "Business Class"
          ],
          [
           "Economy Class"
          ],
          [
           "Economy Class"
          ],
          [
           "Business Class"
          ],
          [
           "Business Class"
          ],
          [
           "Business Class"
          ],
          [
           "Economy Class"
          ],
          [
           "Economy Class"
          ],
          [
           "Economy Class"
          ],
          [
           "Economy Class"
          ],
          [
           "Economy Class"
          ],
          [
           "Business Class"
          ],
          [
           "Economy Class"
          ],
          [
           "Economy Class"
          ],
          [
           "Business Class"
          ],
          [
           "Economy Class"
          ],
          [
           "Economy Class"
          ],
          [
           "Economy Class"
          ],
          [
           "Economy Class"
          ],
          [
           "Economy Class"
          ],
          [
           "Business Class"
          ],
          [
           "Business Class"
          ],
          [
           "Economy Class"
          ],
          [
           "Business Class"
          ],
          [
           "Economy Class"
          ],
          [
           "Economy Class"
          ],
          [
           "Premium Economy"
          ],
          [
           "Economy Class"
          ],
          [
           "Business Class"
          ],
          [
           "Business Class"
          ],
          [
           "Business Class"
          ],
          [
           "Economy Class"
          ],
          [
           "Business Class"
          ],
          [
           "Business Class"
          ],
          [
           "Premium Economy"
          ],
          [
           "Economy Class"
          ],
          [
           "Economy Class"
          ],
          [
           "Economy Class"
          ],
          [
           "Economy Class"
          ],
          [
           "Business Class"
          ],
          [
           "Economy Class"
          ],
          [
           "Economy Class"
          ],
          [
           "Business Class"
          ],
          [
           "Economy Class"
          ],
          [
           "Economy Class"
          ],
          [
           "Economy Class"
          ],
          [
           "Economy Class"
          ],
          [
           "Business Class"
          ],
          [
           "Premium Economy"
          ],
          [
           "Business Class"
          ],
          [
           "Premium Economy"
          ],
          [
           "Economy Class"
          ],
          [
           "Business Class"
          ],
          [
           "Economy Class"
          ],
          [
           "Economy Class"
          ],
          [
           "Economy Class"
          ],
          [
           "Economy Class"
          ],
          [
           "Business Class"
          ],
          [
           "Business Class"
          ],
          [
           "Economy Class"
          ],
          [
           "Economy Class"
          ],
          [
           "Economy Class"
          ],
          [
           "Economy Class"
          ],
          [
           "Business Class"
          ],
          [
           "Economy Class"
          ],
          [
           "Economy Class"
          ],
          [
           "Business Class"
          ],
          [
           "Business Class"
          ],
          [
           "Economy Class"
          ],
          [
           "Business Class"
          ],
          [
           "Economy Class"
          ],
          [
           "Economy Class"
          ],
          [
           "Economy Class"
          ],
          [
           "Economy Class"
          ],
          [
           "Economy Class"
          ],
          [
           "Business Class"
          ],
          [
           "Business Class"
          ],
          [
           "Premium Economy"
          ],
          [
           "Economy Class"
          ],
          [
           "Premium Economy"
          ],
          [
           "Economy Class"
          ],
          [
           "Economy Class"
          ],
          [
           "Economy Class"
          ],
          [
           "Economy Class"
          ],
          [
           "Premium Economy"
          ],
          [
           "Business Class"
          ],
          [
           "Business Class"
          ],
          [
           "Business Class"
          ],
          [
           "Economy Class"
          ],
          [
           "Economy Class"
          ],
          [
           "Economy Class"
          ],
          [
           "Business Class"
          ],
          [
           "Premium Economy"
          ],
          [
           "Economy Class"
          ],
          [
           "Business Class"
          ],
          [
           "Premium Economy"
          ],
          [
           "Business Class"
          ],
          [
           "Economy Class"
          ],
          [
           "Economy Class"
          ],
          [
           "Economy Class"
          ],
          [
           "Economy Class"
          ],
          [
           "Economy Class"
          ],
          [
           "First Class"
          ],
          [
           "Economy Class"
          ],
          [
           "Economy Class"
          ],
          [
           "Premium Economy"
          ],
          [
           "Economy Class"
          ],
          [
           "Economy Class"
          ],
          [
           "Economy Class"
          ],
          [
           "Economy Class"
          ],
          [
           "Economy Class"
          ],
          [
           "Business Class"
          ],
          [
           "Economy Class"
          ],
          [
           "Economy Class"
          ],
          [
           "Economy Class"
          ],
          [
           "Business Class"
          ],
          [
           "Business Class"
          ],
          [
           "Premium Economy"
          ],
          [
           "Economy Class"
          ],
          [
           "Economy Class"
          ],
          [
           "Economy Class"
          ],
          [
           "Economy Class"
          ],
          [
           "Business Class"
          ],
          [
           "Economy Class"
          ],
          [
           "Economy Class"
          ],
          [
           "Economy Class"
          ],
          [
           "Economy Class"
          ],
          [
           "Economy Class"
          ],
          [
           "Economy Class"
          ],
          [
           "Economy Class"
          ],
          [
           "Economy Class"
          ],
          [
           "Economy Class"
          ],
          [
           "Business Class"
          ],
          [
           "Business Class"
          ],
          [
           "Business Class"
          ],
          [
           "Business Class"
          ],
          [
           "Economy Class"
          ],
          [
           "Economy Class"
          ],
          [
           "Business Class"
          ],
          [
           "Economy Class"
          ],
          [
           "Economy Class"
          ],
          [
           "Economy Class"
          ],
          [
           "Business Class"
          ],
          [
           "Economy Class"
          ],
          [
           "Economy Class"
          ],
          [
           "Economy Class"
          ],
          [
           "Business Class"
          ],
          [
           "Economy Class"
          ],
          [
           "Premium Economy"
          ],
          [
           "Economy Class"
          ],
          [
           "Economy Class"
          ],
          [
           "Economy Class"
          ],
          [
           "Economy Class"
          ],
          [
           "Economy Class"
          ],
          [
           "Economy Class"
          ],
          [
           "First Class"
          ],
          [
           "Business Class"
          ],
          [
           "Economy Class"
          ],
          [
           "First Class"
          ],
          [
           "First Class"
          ],
          [
           "Business Class"
          ],
          [
           "Economy Class"
          ],
          [
           "Economy Class"
          ],
          [
           "Business Class"
          ],
          [
           "Premium Economy"
          ],
          [
           "Business Class"
          ],
          [
           "Economy Class"
          ],
          [
           "Economy Class"
          ],
          [
           "Business Class"
          ],
          [
           "Business Class"
          ],
          [
           "Economy Class"
          ],
          [
           "Economy Class"
          ],
          [
           "Business Class"
          ],
          [
           "First Class"
          ],
          [
           "Economy Class"
          ],
          [
           "Economy Class"
          ],
          [
           "Premium Economy"
          ],
          [
           "Business Class"
          ],
          [
           "Economy Class"
          ],
          [
           "Economy Class"
          ],
          [
           "Economy Class"
          ],
          [
           "Economy Class"
          ],
          [
           "Business Class"
          ],
          [
           "Business Class"
          ],
          [
           "Economy Class"
          ],
          [
           "Business Class"
          ],
          [
           "Economy Class"
          ],
          [
           "Business Class"
          ],
          [
           "Economy Class"
          ],
          [
           "Economy Class"
          ],
          [
           "Economy Class"
          ],
          [
           "Economy Class"
          ],
          [
           "Economy Class"
          ],
          [
           "Economy Class"
          ],
          [
           "Economy Class"
          ],
          [
           "Business Class"
          ],
          [
           "Economy Class"
          ],
          [
           "Business Class"
          ],
          [
           "Business Class"
          ],
          [
           "Business Class"
          ],
          [
           "Economy Class"
          ],
          [
           "Economy Class"
          ],
          [
           "Economy Class"
          ],
          [
           "Economy Class"
          ],
          [
           "Economy Class"
          ],
          [
           "Economy Class"
          ],
          [
           "First Class"
          ],
          [
           "Economy Class"
          ],
          [
           "Economy Class"
          ],
          [
           "Premium Economy"
          ],
          [
           "Economy Class"
          ],
          [
           "Business Class"
          ],
          [
           "Economy Class"
          ],
          [
           "Economy Class"
          ],
          [
           "Premium Economy"
          ],
          [
           "Premium Economy"
          ],
          [
           "Economy Class"
          ],
          [
           "Economy Class"
          ],
          [
           "Economy Class"
          ],
          [
           "Economy Class"
          ],
          [
           "Premium Economy"
          ],
          [
           "First Class"
          ],
          [
           "Economy Class"
          ],
          [
           "Business Class"
          ],
          [
           "Economy Class"
          ],
          [
           "Economy Class"
          ],
          [
           "Premium Economy"
          ],
          [
           "Economy Class"
          ],
          [
           "Premium Economy"
          ],
          [
           "Premium Economy"
          ],
          [
           "Business Class"
          ],
          [
           "Business Class"
          ],
          [
           "Business Class"
          ],
          [
           "Premium Economy"
          ],
          [
           "Premium Economy"
          ],
          [
           "Business Class"
          ],
          [
           "Economy Class"
          ],
          [
           "Premium Economy"
          ],
          [
           "Economy Class"
          ],
          [
           "Economy Class"
          ],
          [
           "Premium Economy"
          ],
          [
           "Business Class"
          ],
          [
           "First Class"
          ],
          [
           "Economy Class"
          ],
          [
           "Economy Class"
          ],
          [
           "Premium Economy"
          ],
          [
           "Business Class"
          ],
          [
           "Economy Class"
          ],
          [
           "Economy Class"
          ],
          [
           "Business Class"
          ],
          [
           "Business Class"
          ],
          [
           "Economy Class"
          ],
          [
           "Economy Class"
          ],
          [
           "Business Class"
          ],
          [
           "Business Class"
          ],
          [
           "Economy Class"
          ],
          [
           "Economy Class"
          ],
          [
           "First Class"
          ],
          [
           "Economy Class"
          ],
          [
           "Economy Class"
          ],
          [
           "First Class"
          ],
          [
           "Business Class"
          ],
          [
           "Premium Economy"
          ],
          [
           "Economy Class"
          ],
          [
           "Business Class"
          ],
          [
           "Economy Class"
          ],
          [
           "Economy Class"
          ],
          [
           "First Class"
          ],
          [
           "Economy Class"
          ],
          [
           "Business Class"
          ],
          [
           "First Class"
          ],
          [
           "Premium Economy"
          ],
          [
           "Economy Class"
          ],
          [
           "Economy Class"
          ],
          [
           "Economy Class"
          ],
          [
           "First Class"
          ],
          [
           "Economy Class"
          ],
          [
           "Economy Class"
          ],
          [
           "Premium Economy"
          ],
          [
           "Economy Class"
          ],
          [
           "Economy Class"
          ],
          [
           "First Class"
          ],
          [
           "Premium Economy"
          ],
          [
           "Premium Economy"
          ],
          [
           "Economy Class"
          ],
          [
           "First Class"
          ],
          [
           "Economy Class"
          ],
          [
           "Business Class"
          ],
          [
           "First Class"
          ],
          [
           "Economy Class"
          ],
          [
           "First Class"
          ],
          [
           "Economy Class"
          ],
          [
           "Economy Class"
          ],
          [
           "Economy Class"
          ],
          [
           "Economy Class"
          ],
          [
           "First Class"
          ],
          [
           "First Class"
          ],
          [
           "Business Class"
          ],
          [
           "Premium Economy"
          ],
          [
           "Premium Economy"
          ],
          [
           "Economy Class"
          ],
          [
           "Economy Class"
          ],
          [
           "First Class"
          ],
          [
           "Premium Economy"
          ],
          [
           "Economy Class"
          ],
          [
           "First Class"
          ],
          [
           "Economy Class"
          ],
          [
           "Economy Class"
          ],
          [
           "Business Class"
          ],
          [
           "Economy Class"
          ],
          [
           "Business Class"
          ],
          [
           "Economy Class"
          ],
          [
           "Premium Economy"
          ],
          [
           "Economy Class"
          ],
          [
           "Economy Class"
          ],
          [
           "Economy Class"
          ],
          [
           "Economy Class"
          ],
          [
           "Business Class"
          ],
          [
           "Economy Class"
          ],
          [
           "Economy Class"
          ],
          [
           "Business Class"
          ],
          [
           "Business Class"
          ],
          [
           "Economy Class"
          ],
          [
           "Economy Class"
          ],
          [
           "Premium Economy"
          ],
          [
           "Economy Class"
          ],
          [
           "Economy Class"
          ],
          [
           "Premium Economy"
          ],
          [
           "Business Class"
          ],
          [
           "Economy Class"
          ],
          [
           "Business Class"
          ],
          [
           "Business Class"
          ],
          [
           "Business Class"
          ],
          [
           "Premium Economy"
          ],
          [
           "Business Class"
          ],
          [
           "Premium Economy"
          ],
          [
           "First Class"
          ],
          [
           "Economy Class"
          ],
          [
           "Economy Class"
          ],
          [
           "First Class"
          ],
          [
           "Economy Class"
          ],
          [
           "First Class"
          ],
          [
           "Economy Class"
          ],
          [
           "Business Class"
          ],
          [
           "Premium Economy"
          ],
          [
           "Business Class"
          ],
          [
           "Economy Class"
          ],
          [
           "First Class"
          ],
          [
           "Economy Class"
          ],
          [
           "Economy Class"
          ],
          [
           "Economy Class"
          ],
          [
           "Economy Class"
          ],
          [
           "Economy Class"
          ],
          [
           "First Class"
          ],
          [
           "Economy Class"
          ],
          [
           "Business Class"
          ],
          [
           "Economy Class"
          ],
          [
           "Business Class"
          ],
          [
           "Economy Class"
          ],
          [
           "Economy Class"
          ],
          [
           "Economy Class"
          ],
          [
           "First Class"
          ],
          [
           "Economy Class"
          ],
          [
           "Economy Class"
          ],
          [
           "Economy Class"
          ],
          [
           "Premium Economy"
          ],
          [
           "Premium Economy"
          ],
          [
           "Economy Class"
          ],
          [
           "Economy Class"
          ],
          [
           "Business Class"
          ],
          [
           "Economy Class"
          ],
          [
           "Economy Class"
          ],
          [
           "Business Class"
          ],
          [
           "Economy Class"
          ],
          [
           "Economy Class"
          ],
          [
           "First Class"
          ],
          [
           "Economy Class"
          ],
          [
           "Business Class"
          ],
          [
           "First Class"
          ],
          [
           "Business Class"
          ],
          [
           "Premium Economy"
          ],
          [
           "Economy Class"
          ],
          [
           "Business Class"
          ],
          [
           "Business Class"
          ],
          [
           "Economy Class"
          ],
          [
           "Economy Class"
          ],
          [
           "Premium Economy"
          ],
          [
           "Economy Class"
          ],
          [
           "Premium Economy"
          ],
          [
           "Premium Economy"
          ],
          [
           "Economy Class"
          ],
          [
           "Economy Class"
          ],
          [
           "Economy Class"
          ],
          [
           "Economy Class"
          ],
          [
           "Business Class"
          ],
          [
           "Economy Class"
          ],
          [
           "Economy Class"
          ],
          [
           "Business Class"
          ],
          [
           "Economy Class"
          ],
          [
           "Business Class"
          ],
          [
           "Economy Class"
          ],
          [
           "First Class"
          ],
          [
           "Business Class"
          ],
          [
           "Economy Class"
          ],
          [
           "Economy Class"
          ],
          [
           "Economy Class"
          ],
          [
           "Economy Class"
          ],
          [
           "Economy Class"
          ],
          [
           "Economy Class"
          ],
          [
           "Business Class"
          ],
          [
           "First Class"
          ],
          [
           "Economy Class"
          ],
          [
           "Business Class"
          ],
          [
           "Business Class"
          ],
          [
           "Business Class"
          ],
          [
           "Economy Class"
          ],
          [
           "Economy Class"
          ],
          [
           "Economy Class"
          ],
          [
           "Business Class"
          ],
          [
           "Business Class"
          ],
          [
           "Economy Class"
          ],
          [
           "Economy Class"
          ],
          [
           "Economy Class"
          ],
          [
           "Economy Class"
          ],
          [
           "Business Class"
          ],
          [
           "Business Class"
          ],
          [
           "Economy Class"
          ],
          [
           "Economy Class"
          ],
          [
           "Economy Class"
          ],
          [
           "Business Class"
          ],
          [
           "Economy Class"
          ],
          [
           "Economy Class"
          ],
          [
           "Economy Class"
          ],
          [
           "Economy Class"
          ],
          [
           "First Class"
          ],
          [
           "Economy Class"
          ],
          [
           "Economy Class"
          ],
          [
           "Economy Class"
          ],
          [
           "Premium Economy"
          ],
          [
           "First Class"
          ],
          [
           "First Class"
          ],
          [
           "Business Class"
          ],
          [
           "Business Class"
          ],
          [
           "Economy Class"
          ],
          [
           "Economy Class"
          ],
          [
           "Economy Class"
          ],
          [
           "Economy Class"
          ],
          [
           "Economy Class"
          ],
          [
           "Economy Class"
          ],
          [
           "Business Class"
          ],
          [
           "Economy Class"
          ],
          [
           "Economy Class"
          ],
          [
           "Economy Class"
          ],
          [
           "Business Class"
          ],
          [
           "Business Class"
          ],
          [
           "Business Class"
          ],
          [
           "Premium Economy"
          ],
          [
           "Economy Class"
          ],
          [
           "Economy Class"
          ],
          [
           "Business Class"
          ],
          [
           "Business Class"
          ],
          [
           "Premium Economy"
          ],
          [
           "First Class"
          ],
          [
           "Business Class"
          ],
          [
           "Business Class"
          ],
          [
           "Business Class"
          ],
          [
           "Economy Class"
          ],
          [
           "Economy Class"
          ],
          [
           "Economy Class"
          ],
          [
           "Economy Class"
          ],
          [
           "Business Class"
          ],
          [
           "Premium Economy"
          ],
          [
           "Business Class"
          ],
          [
           "Economy Class"
          ],
          [
           "Economy Class"
          ],
          [
           "First Class"
          ],
          [
           "First Class"
          ],
          [
           "Business Class"
          ],
          [
           "Business Class"
          ],
          [
           "Business Class"
          ],
          [
           "First Class"
          ],
          [
           "Business Class"
          ],
          [
           "Business Class"
          ],
          [
           "Business Class"
          ],
          [
           "Economy Class"
          ],
          [
           "Business Class"
          ],
          [
           "Business Class"
          ],
          [
           "Economy Class"
          ],
          [
           "Business Class"
          ],
          [
           "Business Class"
          ],
          [
           "Business Class"
          ],
          [
           "Economy Class"
          ],
          [
           "Economy Class"
          ],
          [
           "Premium Economy"
          ],
          [
           "Business Class"
          ],
          [
           "First Class"
          ],
          [
           "Economy Class"
          ],
          [
           "Economy Class"
          ],
          [
           "Economy Class"
          ],
          [
           "Business Class"
          ],
          [
           "Business Class"
          ],
          [
           "Premium Economy"
          ],
          [
           "Economy Class"
          ],
          [
           "Economy Class"
          ],
          [
           "First Class"
          ],
          [
           "Economy Class"
          ],
          [
           "Premium Economy"
          ],
          [
           "Economy Class"
          ],
          [
           "Economy Class"
          ],
          [
           "Business Class"
          ],
          [
           "Premium Economy"
          ],
          [
           "Economy Class"
          ],
          [
           "Economy Class"
          ],
          [
           "First Class"
          ],
          [
           "Economy Class"
          ],
          [
           "Business Class"
          ],
          [
           "Economy Class"
          ],
          [
           "Economy Class"
          ],
          [
           "Business Class"
          ],
          [
           "Business Class"
          ],
          [
           "Economy Class"
          ],
          [
           "Premium Economy"
          ],
          [
           "First Class"
          ],
          [
           "Premium Economy"
          ],
          [
           "Business Class"
          ],
          [
           "Business Class"
          ],
          [
           "Business Class"
          ],
          [
           "First Class"
          ],
          [
           "Business Class"
          ],
          [
           "Premium Economy"
          ],
          [
           "Economy Class"
          ],
          [
           "First Class"
          ],
          [
           "Economy Class"
          ],
          [
           "First Class"
          ],
          [
           "Economy Class"
          ],
          [
           "Economy Class"
          ],
          [
           "Business Class"
          ],
          [
           "Economy Class"
          ],
          [
           "Economy Class"
          ],
          [
           "Economy Class"
          ],
          [
           "Economy Class"
          ],
          [
           "Premium Economy"
          ],
          [
           "Economy Class"
          ],
          [
           "Economy Class"
          ],
          [
           "Business Class"
          ],
          [
           "Business Class"
          ],
          [
           "Economy Class"
          ],
          [
           "Economy Class"
          ],
          [
           "Economy Class"
          ],
          [
           "Business Class"
          ],
          [
           "Business Class"
          ],
          [
           "Economy Class"
          ],
          [
           "Economy Class"
          ],
          [
           "Economy Class"
          ],
          [
           "Economy Class"
          ],
          [
           "Economy Class"
          ],
          [
           "Economy Class"
          ],
          [
           "Economy Class"
          ],
          [
           "Business Class"
          ],
          [
           "Economy Class"
          ],
          [
           "Economy Class"
          ],
          [
           "Business Class"
          ],
          [
           "Business Class"
          ],
          [
           "Economy Class"
          ],
          [
           "Business Class"
          ],
          [
           "Economy Class"
          ],
          [
           "Economy Class"
          ],
          [
           "Premium Economy"
          ],
          [
           "Economy Class"
          ],
          [
           "Economy Class"
          ],
          [
           "Business Class"
          ],
          [
           "Premium Economy"
          ],
          [
           "Premium Economy"
          ],
          [
           "Economy Class"
          ],
          [
           "Economy Class"
          ],
          [
           "Premium Economy"
          ],
          [
           "Business Class"
          ],
          [
           "Business Class"
          ],
          [
           "Economy Class"
          ],
          [
           "Economy Class"
          ],
          [
           "Economy Class"
          ],
          [
           "Economy Class"
          ],
          [
           "Business Class"
          ],
          [
           "Economy Class"
          ],
          [
           "First Class"
          ],
          [
           "Economy Class"
          ],
          [
           "Economy Class"
          ],
          [
           "Business Class"
          ],
          [
           "Business Class"
          ],
          [
           "Business Class"
          ],
          [
           "Economy Class"
          ],
          [
           "Economy Class"
          ],
          [
           "Business Class"
          ],
          [
           "Economy Class"
          ],
          [
           "Economy Class"
          ],
          [
           "Economy Class"
          ],
          [
           "Business Class"
          ],
          [
           "Premium Economy"
          ],
          [
           "First Class"
          ],
          [
           "Economy Class"
          ],
          [
           "First Class"
          ],
          [
           "Business Class"
          ],
          [
           "Economy Class"
          ],
          [
           "Premium Economy"
          ],
          [
           "Economy Class"
          ],
          [
           "First Class"
          ],
          [
           "Business Class"
          ],
          [
           "Economy Class"
          ],
          [
           "Economy Class"
          ],
          [
           "Economy Class"
          ],
          [
           "Economy Class"
          ],
          [
           "Business Class"
          ],
          [
           "Business Class"
          ],
          [
           "Economy Class"
          ],
          [
           "Economy Class"
          ],
          [
           "Premium Economy"
          ],
          [
           "Business Class"
          ],
          [
           "Premium Economy"
          ],
          [
           "Premium Economy"
          ],
          [
           "Economy Class"
          ],
          [
           "Business Class"
          ],
          [
           "Business Class"
          ],
          [
           "Economy Class"
          ],
          [
           "Economy Class"
          ],
          [
           "Business Class"
          ],
          [
           "Economy Class"
          ],
          [
           "Economy Class"
          ],
          [
           "Economy Class"
          ],
          [
           "Business Class"
          ],
          [
           "Business Class"
          ],
          [
           "Business Class"
          ],
          [
           "Business Class"
          ],
          [
           "Economy Class"
          ],
          [
           "Business Class"
          ],
          [
           "Premium Economy"
          ],
          [
           "Economy Class"
          ],
          [
           "Economy Class"
          ],
          [
           "Economy Class"
          ],
          [
           "Economy Class"
          ],
          [
           "Business Class"
          ],
          [
           "Economy Class"
          ],
          [
           "First Class"
          ],
          [
           "Economy Class"
          ],
          [
           "Economy Class"
          ],
          [
           "Business Class"
          ],
          [
           "First Class"
          ],
          [
           "Business Class"
          ],
          [
           "Economy Class"
          ],
          [
           "Economy Class"
          ],
          [
           "Economy Class"
          ],
          [
           "Premium Economy"
          ],
          [
           "Premium Economy"
          ],
          [
           "Economy Class"
          ],
          [
           "Business Class"
          ],
          [
           "Business Class"
          ],
          [
           "Economy Class"
          ],
          [
           "Economy Class"
          ],
          [
           "Premium Economy"
          ],
          [
           "Economy Class"
          ],
          [
           "Economy Class"
          ],
          [
           "Business Class"
          ],
          [
           "Economy Class"
          ],
          [
           "Premium Economy"
          ],
          [
           "Premium Economy"
          ],
          [
           "Economy Class"
          ],
          [
           "Business Class"
          ],
          [
           "Premium Economy"
          ],
          [
           "Economy Class"
          ],
          [
           "First Class"
          ],
          [
           "Business Class"
          ],
          [
           "Premium Economy"
          ],
          [
           "First Class"
          ],
          [
           "Economy Class"
          ],
          [
           "Economy Class"
          ],
          [
           "Business Class"
          ],
          [
           "Economy Class"
          ],
          [
           "Business Class"
          ],
          [
           "Economy Class"
          ],
          [
           "Economy Class"
          ],
          [
           "Business Class"
          ],
          [
           "Business Class"
          ],
          [
           "Economy Class"
          ],
          [
           "Economy Class"
          ],
          [
           "Economy Class"
          ],
          [
           "Economy Class"
          ],
          [
           "Economy Class"
          ],
          [
           "Business Class"
          ],
          [
           "Business Class"
          ],
          [
           "Economy Class"
          ],
          [
           "Premium Economy"
          ],
          [
           "First Class"
          ],
          [
           "Premium Economy"
          ],
          [
           "Business Class"
          ],
          [
           "Economy Class"
          ],
          [
           "Premium Economy"
          ],
          [
           "First Class"
          ],
          [
           "Economy Class"
          ],
          [
           "Economy Class"
          ],
          [
           "Business Class"
          ],
          [
           "Business Class"
          ],
          [
           "Economy Class"
          ],
          [
           "Business Class"
          ],
          [
           "Business Class"
          ],
          [
           "Economy Class"
          ],
          [
           "Economy Class"
          ],
          [
           "Business Class"
          ],
          [
           "First Class"
          ],
          [
           "Business Class"
          ],
          [
           "Business Class"
          ],
          [
           "Economy Class"
          ],
          [
           "Economy Class"
          ],
          [
           "Business Class"
          ],
          [
           "First Class"
          ],
          [
           "Business Class"
          ],
          [
           "Economy Class"
          ],
          [
           "Business Class"
          ],
          [
           "Economy Class"
          ],
          [
           "Economy Class"
          ],
          [
           "Economy Class"
          ],
          [
           "Economy Class"
          ],
          [
           "First Class"
          ],
          [
           "Premium Economy"
          ],
          [
           "First Class"
          ],
          [
           "Economy Class"
          ],
          [
           "First Class"
          ],
          [
           "Business Class"
          ],
          [
           "Economy Class"
          ],
          [
           "Economy Class"
          ],
          [
           "Economy Class"
          ],
          [
           "Business Class"
          ],
          [
           "Business Class"
          ],
          [
           "Economy Class"
          ],
          [
           "Economy Class"
          ],
          [
           "Business Class"
          ],
          [
           "Economy Class"
          ],
          [
           "Premium Economy"
          ],
          [
           "Premium Economy"
          ],
          [
           "Premium Economy"
          ],
          [
           "Economy Class"
          ],
          [
           "Economy Class"
          ],
          [
           "Premium Economy"
          ],
          [
           "Economy Class"
          ],
          [
           "Economy Class"
          ],
          [
           "Economy Class"
          ],
          [
           "Economy Class"
          ],
          [
           "First Class"
          ],
          [
           "Business Class"
          ],
          [
           "Economy Class"
          ],
          [
           "Economy Class"
          ],
          [
           "Economy Class"
          ],
          [
           "Economy Class"
          ],
          [
           "Business Class"
          ],
          [
           "Economy Class"
          ],
          [
           "Business Class"
          ],
          [
           "Business Class"
          ],
          [
           "Premium Economy"
          ],
          [
           "Economy Class"
          ],
          [
           "Business Class"
          ],
          [
           "First Class"
          ],
          [
           "First Class"
          ],
          [
           "Premium Economy"
          ],
          [
           "Economy Class"
          ],
          [
           "Economy Class"
          ],
          [
           "Economy Class"
          ],
          [
           "Economy Class"
          ],
          [
           "Economy Class"
          ],
          [
           "Economy Class"
          ],
          [
           "Economy Class"
          ],
          [
           "Premium Economy"
          ],
          [
           "Economy Class"
          ],
          [
           "Economy Class"
          ],
          [
           "Business Class"
          ],
          [
           "Business Class"
          ],
          [
           "Business Class"
          ],
          [
           "Economy Class"
          ],
          [
           "Economy Class"
          ],
          [
           "Economy Class"
          ],
          [
           "Economy Class"
          ],
          [
           "Economy Class"
          ],
          [
           "Economy Class"
          ],
          [
           "Business Class"
          ],
          [
           "Premium Economy"
          ],
          [
           "Premium Economy"
          ],
          [
           "Economy Class"
          ],
          [
           "Economy Class"
          ],
          [
           "Business Class"
          ],
          [
           "Economy Class"
          ],
          [
           "Economy Class"
          ],
          [
           "Economy Class"
          ],
          [
           "First Class"
          ],
          [
           "Economy Class"
          ],
          [
           "Business Class"
          ],
          [
           "Economy Class"
          ],
          [
           "Economy Class"
          ],
          [
           "Business Class"
          ],
          [
           "Business Class"
          ],
          [
           "Economy Class"
          ],
          [
           "Business Class"
          ],
          [
           "Business Class"
          ],
          [
           "Premium Economy"
          ],
          [
           "Business Class"
          ],
          [
           "Economy Class"
          ],
          [
           "Business Class"
          ],
          [
           "Business Class"
          ],
          [
           "Economy Class"
          ],
          [
           "Premium Economy"
          ],
          [
           "Economy Class"
          ],
          [
           "Economy Class"
          ],
          [
           "Economy Class"
          ],
          [
           "Economy Class"
          ],
          [
           "Premium Economy"
          ],
          [
           "Economy Class"
          ],
          [
           "Business Class"
          ],
          [
           "Business Class"
          ],
          [
           "First Class"
          ],
          [
           "Business Class"
          ],
          [
           "Economy Class"
          ],
          [
           "Economy Class"
          ],
          [
           "Economy Class"
          ],
          [
           "Economy Class"
          ],
          [
           "Premium Economy"
          ],
          [
           "First Class"
          ],
          [
           "First Class"
          ],
          [
           "Business Class"
          ],
          [
           "Premium Economy"
          ],
          [
           "Economy Class"
          ],
          [
           "Economy Class"
          ],
          [
           "Economy Class"
          ],
          [
           "Premium Economy"
          ],
          [
           "Economy Class"
          ],
          [
           "Economy Class"
          ],
          [
           "Economy Class"
          ],
          [
           "Business Class"
          ],
          [
           "Economy Class"
          ],
          [
           "Premium Economy"
          ],
          [
           "Premium Economy"
          ],
          [
           "Economy Class"
          ],
          [
           "Economy Class"
          ],
          [
           "Business Class"
          ],
          [
           "Economy Class"
          ],
          [
           "First Class"
          ],
          [
           "Business Class"
          ],
          [
           "Premium Economy"
          ],
          [
           "Economy Class"
          ],
          [
           "Premium Economy"
          ],
          [
           "Economy Class"
          ],
          [
           "Business Class"
          ],
          [
           "Premium Economy"
          ],
          [
           "Economy Class"
          ],
          [
           "Business Class"
          ],
          [
           "Economy Class"
          ],
          [
           "Business Class"
          ],
          [
           "Business Class"
          ],
          [
           "Premium Economy"
          ],
          [
           "Business Class"
          ],
          [
           "Economy Class"
          ],
          [
           "Business Class"
          ],
          [
           "Business Class"
          ],
          [
           "First Class"
          ],
          [
           "Economy Class"
          ],
          [
           "Premium Economy"
          ],
          [
           "Economy Class"
          ],
          [
           "Economy Class"
          ],
          [
           "Economy Class"
          ],
          [
           "First Class"
          ],
          [
           "Business Class"
          ],
          [
           "Business Class"
          ],
          [
           "Economy Class"
          ],
          [
           "Economy Class"
          ],
          [
           "Economy Class"
          ],
          [
           "Economy Class"
          ],
          [
           "Economy Class"
          ],
          [
           "Business Class"
          ],
          [
           "Economy Class"
          ],
          [
           "Business Class"
          ],
          [
           "Business Class"
          ],
          [
           "First Class"
          ],
          [
           "First Class"
          ],
          [
           "Economy Class"
          ]
         ],
         "domain": {
          "x": [
           0,
           1
          ],
          "y": [
           0,
           1
          ]
         },
         "hovertemplate": "seat_type=%{customdata[0]}<extra></extra>",
         "labels": [
          "Business Class",
          "Economy Class",
          "Business Class",
          "Business Class",
          "Economy Class",
          "Business Class",
          "Economy Class",
          "Economy Class",
          "Premium Economy",
          "Economy Class",
          "Economy Class",
          "Business Class",
          "Economy Class",
          "Economy Class",
          "Business Class",
          "Business Class",
          "Business Class",
          "Economy Class",
          "Premium Economy",
          "Economy Class",
          "Economy Class",
          "Premium Economy",
          "Economy Class",
          "Economy Class",
          "Business Class",
          "Economy Class",
          "Economy Class",
          "Economy Class",
          "Economy Class",
          "Economy Class",
          "Economy Class",
          "Economy Class",
          "Economy Class",
          "Business Class",
          "Business Class",
          "Economy Class",
          "Business Class",
          "Economy Class",
          "Business Class",
          "Economy Class",
          "Economy Class",
          "Economy Class",
          "Business Class",
          "Economy Class",
          "Economy Class",
          "Economy Class",
          "Business Class",
          "Economy Class",
          "Economy Class",
          "Economy Class",
          "Premium Economy",
          "Economy Class",
          "Economy Class",
          "Business Class",
          "Economy Class",
          "Economy Class",
          "Economy Class",
          "Economy Class",
          "Economy Class",
          "Economy Class",
          "Economy Class",
          "Premium Economy",
          "Economy Class",
          "Premium Economy",
          "Economy Class",
          "Economy Class",
          "Business Class",
          "Business Class",
          "Business Class",
          "Economy Class",
          "Economy Class",
          "Economy Class",
          "Business Class",
          "Business Class",
          "Business Class",
          "Business Class",
          "Business Class",
          "Economy Class",
          "Economy Class",
          "Business Class",
          "Economy Class",
          "Premium Economy",
          "Premium Economy",
          "Economy Class",
          "Premium Economy",
          "Economy Class",
          "Economy Class",
          "Economy Class",
          "Economy Class",
          "Business Class",
          "Economy Class",
          "Economy Class",
          "Economy Class",
          "Business Class",
          "Economy Class",
          "Business Class",
          "Business Class",
          "Economy Class",
          "Economy Class",
          "Economy Class",
          "Premium Economy",
          "Economy Class",
          "Business Class",
          "Economy Class",
          "Business Class",
          "Economy Class",
          "Economy Class",
          "Economy Class",
          "Economy Class",
          "Economy Class",
          "Economy Class",
          "Economy Class",
          "Economy Class",
          "Premium Economy",
          "First Class",
          "Economy Class",
          "Economy Class",
          "Economy Class",
          "Economy Class",
          "Economy Class",
          "Economy Class",
          "Premium Economy",
          "Economy Class",
          "Economy Class",
          "Business Class",
          "Economy Class",
          "Economy Class",
          "Economy Class",
          "Economy Class",
          "Business Class",
          "Business Class",
          "Economy Class",
          "Economy Class",
          "Premium Economy",
          "Business Class",
          "Economy Class",
          "Business Class",
          "Business Class",
          "Economy Class",
          "Economy Class",
          "Economy Class",
          "Economy Class",
          "Economy Class",
          "Economy Class",
          "Economy Class",
          "Business Class",
          "Economy Class",
          "Economy Class",
          "Economy Class",
          "Premium Economy",
          "Premium Economy",
          "Economy Class",
          "First Class",
          "Business Class",
          "Business Class",
          "Business Class",
          "Economy Class",
          "Economy Class",
          "Economy Class",
          "Business Class",
          "Economy Class",
          "Premium Economy",
          "Economy Class",
          "Economy Class",
          "Economy Class",
          "Business Class",
          "Business Class",
          "Economy Class",
          "Economy Class",
          "Business Class",
          "Premium Economy",
          "Business Class",
          "Economy Class",
          "Economy Class",
          "Economy Class",
          "First Class",
          "Economy Class",
          "Business Class",
          "Economy Class",
          "Premium Economy",
          "Premium Economy",
          "Business Class",
          "Business Class",
          "Economy Class",
          "Business Class",
          "Premium Economy",
          "Business Class",
          "Business Class",
          "Economy Class",
          "Economy Class",
          "Business Class",
          "Economy Class",
          "Business Class",
          "Economy Class",
          "Economy Class",
          "Premium Economy",
          "Economy Class",
          "Business Class",
          "Economy Class",
          "Economy Class",
          "Business Class",
          "Economy Class",
          "Economy Class",
          "Economy Class",
          "Business Class",
          "Business Class",
          "Business Class",
          "Economy Class",
          "Business Class",
          "Business Class",
          "Economy Class",
          "Economy Class",
          "Economy Class",
          "Economy Class",
          "Business Class",
          "Business Class",
          "Economy Class",
          "Business Class",
          "Economy Class",
          "Economy Class",
          "Business Class",
          "Business Class",
          "Business Class",
          "Business Class",
          "Economy Class",
          "Premium Economy",
          "Economy Class",
          "Economy Class",
          "Economy Class",
          "Business Class",
          "Economy Class",
          "Economy Class",
          "Business Class",
          "Economy Class",
          "Economy Class",
          "Premium Economy",
          "Economy Class",
          "Economy Class",
          "Business Class",
          "Economy Class",
          "Business Class",
          "Economy Class",
          "Economy Class",
          "Economy Class",
          "Premium Economy",
          "Economy Class",
          "Business Class",
          "Economy Class",
          "Economy Class",
          "Business Class",
          "Economy Class",
          "Economy Class",
          "Economy Class",
          "Economy Class",
          "Economy Class",
          "Economy Class",
          "Business Class",
          "Business Class",
          "Business Class",
          "Economy Class",
          "Premium Economy",
          "Business Class",
          "Premium Economy",
          "Premium Economy",
          "Economy Class",
          "Economy Class",
          "Business Class",
          "Economy Class",
          "Business Class",
          "Economy Class",
          "Premium Economy",
          "Economy Class",
          "Economy Class",
          "Economy Class",
          "Economy Class",
          "Business Class",
          "Business Class",
          "Economy Class",
          "Economy Class",
          "Economy Class",
          "Business Class",
          "Economy Class",
          "Premium Economy",
          "Economy Class",
          "Business Class",
          "Business Class",
          "Economy Class",
          "Business Class",
          "Economy Class",
          "Economy Class",
          "Economy Class",
          "Business Class",
          "Business Class",
          "Economy Class",
          "Business Class",
          "Business Class",
          "Economy Class",
          "Economy Class",
          "Economy Class",
          "Business Class",
          "Economy Class",
          "Economy Class",
          "Business Class",
          "Premium Economy",
          "Economy Class",
          "Economy Class",
          "Premium Economy",
          "Economy Class",
          "Economy Class",
          "Economy Class",
          "Business Class",
          "Business Class",
          "Business Class",
          "Business Class",
          "Economy Class",
          "Economy Class",
          "Business Class",
          "Economy Class",
          "Business Class",
          "Economy Class",
          "Business Class",
          "Economy Class",
          "Economy Class",
          "Business Class",
          "Business Class",
          "Economy Class",
          "Business Class",
          "Business Class",
          "Business Class",
          "Business Class",
          "Business Class",
          "Business Class",
          "Economy Class",
          "Business Class",
          "Economy Class",
          "Business Class",
          "Business Class",
          "Economy Class",
          "Business Class",
          "Economy Class",
          "Business Class",
          "Economy Class",
          "Economy Class",
          "Economy Class",
          "Premium Economy",
          "First Class",
          "Economy Class",
          "Economy Class",
          "Premium Economy",
          "Economy Class",
          "Premium Economy",
          "Business Class",
          "Economy Class",
          "Premium Economy",
          "Business Class",
          "Business Class",
          "Business Class",
          "Premium Economy",
          "Business Class",
          "Economy Class",
          "Economy Class",
          "Business Class",
          "Economy Class",
          "Business Class",
          "Business Class",
          "Business Class",
          "Business Class",
          "Economy Class",
          "Business Class",
          "Business Class",
          "Business Class",
          "Economy Class",
          "Economy Class",
          "Business Class",
          "Economy Class",
          "Business Class",
          "Economy Class",
          "Economy Class",
          "Business Class",
          "Economy Class",
          "Business Class",
          "Business Class",
          "Premium Economy",
          "Business Class",
          "Business Class",
          "Economy Class",
          "Economy Class",
          "First Class",
          "Business Class",
          "Business Class",
          "Economy Class",
          "Business Class",
          "Business Class",
          "Business Class",
          "Economy Class",
          "Economy Class",
          "Economy Class",
          "Business Class",
          "Business Class",
          "Business Class",
          "Business Class",
          "Economy Class",
          "Economy Class",
          "Business Class",
          "Business Class",
          "Economy Class",
          "Economy Class",
          "Economy Class",
          "Economy Class",
          "Premium Economy",
          "Economy Class",
          "Business Class",
          "Business Class",
          "Premium Economy",
          "Economy Class",
          "Economy Class",
          "Business Class",
          "Economy Class",
          "Economy Class",
          "Premium Economy",
          "Business Class",
          "Business Class",
          "Economy Class",
          "Economy Class",
          "Business Class",
          "Economy Class",
          "Business Class",
          "Premium Economy",
          "Economy Class",
          "Economy Class",
          "Business Class",
          "Business Class",
          "Business Class",
          "Business Class",
          "Economy Class",
          "Economy Class",
          "Economy Class",
          "Business Class",
          "Economy Class",
          "Economy Class",
          "Economy Class",
          "Economy Class",
          "Economy Class",
          "Economy Class",
          "Business Class",
          "Business Class",
          "Business Class",
          "Economy Class",
          "Premium Economy",
          "Business Class",
          "Business Class",
          "Economy Class",
          "Economy Class",
          "Business Class",
          "Business Class",
          "Business Class",
          "Economy Class",
          "Business Class",
          "Economy Class",
          "Economy Class",
          "Business Class",
          "Economy Class",
          "Economy Class",
          "Economy Class",
          "Economy Class",
          "Economy Class",
          "Economy Class",
          "Economy Class",
          "First Class",
          "Economy Class",
          "Economy Class",
          "Economy Class",
          "Economy Class",
          "Premium Economy",
          "Business Class",
          "Economy Class",
          "Economy Class",
          "Economy Class",
          "Economy Class",
          "Business Class",
          "Economy Class",
          "Economy Class",
          "Economy Class",
          "Economy Class",
          "Premium Economy",
          "Economy Class",
          "Economy Class",
          "Economy Class",
          "Economy Class",
          "First Class",
          "Business Class",
          "Economy Class",
          "Premium Economy",
          "Business Class",
          "Economy Class",
          "Premium Economy",
          "Economy Class",
          "Business Class",
          "Business Class",
          "Economy Class",
          "Economy Class",
          "Business Class",
          "Economy Class",
          "Economy Class",
          "Economy Class",
          "Economy Class",
          "Business Class",
          "Economy Class",
          "Economy Class",
          "Economy Class",
          "Premium Economy",
          "Economy Class",
          "Economy Class",
          "Business Class",
          "Business Class",
          "Economy Class",
          "Economy Class",
          "Business Class",
          "Economy Class",
          "Economy Class",
          "Economy Class",
          "Economy Class",
          "Economy Class",
          "Business Class",
          "Economy Class",
          "Economy Class",
          "Premium Economy",
          "Business Class",
          "First Class",
          "Premium Economy",
          "Business Class",
          "Economy Class",
          "Economy Class",
          "Business Class",
          "Economy Class",
          "Economy Class",
          "Business Class",
          "Economy Class",
          "Business Class",
          "Economy Class",
          "Business Class",
          "Business Class",
          "Business Class",
          "Business Class",
          "Economy Class",
          "Business Class",
          "Economy Class",
          "Economy Class",
          "Economy Class",
          "Economy Class",
          "First Class",
          "Economy Class",
          "Business Class",
          "Economy Class",
          "Economy Class",
          "Economy Class",
          "Business Class",
          "Business Class",
          "Business Class",
          "Economy Class",
          "Business Class",
          "Premium Economy",
          "Business Class",
          "Business Class",
          "Business Class",
          "Business Class",
          "Economy Class",
          "Economy Class",
          "Business Class",
          "Business Class",
          "Economy Class",
          "Economy Class",
          "Business Class",
          "Economy Class",
          "Economy Class",
          "Economy Class",
          "Economy Class",
          "Economy Class",
          "Business Class",
          "Business Class",
          "Economy Class",
          "Economy Class",
          "Economy Class",
          "Economy Class",
          "Premium Economy",
          "Economy Class",
          "Economy Class",
          "Business Class",
          "Economy Class",
          "Business Class",
          "Economy Class",
          "Business Class",
          "Economy Class",
          "Business Class",
          "First Class",
          "Business Class",
          "Economy Class",
          "Business Class",
          "Business Class",
          "Business Class",
          "Economy Class",
          "Economy Class",
          "Business Class",
          "Premium Economy",
          "Economy Class",
          "Economy Class",
          "Economy Class",
          "Economy Class",
          "Economy Class",
          "Economy Class",
          "Business Class",
          "Economy Class",
          "Business Class",
          "Economy Class",
          "Economy Class",
          "Business Class",
          "Economy Class",
          "Economy Class",
          "Economy Class",
          "Economy Class",
          "Economy Class",
          "Business Class",
          "Economy Class",
          "Business Class",
          "Economy Class",
          "Premium Economy",
          "Business Class",
          "Economy Class",
          "Economy Class",
          "Economy Class",
          "Economy Class",
          "Economy Class",
          "Business Class",
          "Business Class",
          "Economy Class",
          "Economy Class",
          "Economy Class",
          "Business Class",
          "Economy Class",
          "Economy Class",
          "Premium Economy",
          "Premium Economy",
          "Business Class",
          "Economy Class",
          "Economy Class",
          "Economy Class",
          "Economy Class",
          "Premium Economy",
          "Economy Class",
          "Economy Class",
          "Premium Economy",
          "Economy Class",
          "Economy Class",
          "Business Class",
          "Economy Class",
          "Economy Class",
          "Economy Class",
          "Economy Class",
          "Economy Class",
          "Economy Class",
          "Business Class",
          "Premium Economy",
          "Premium Economy",
          "Business Class",
          "Business Class",
          "Premium Economy",
          "Economy Class",
          "Business Class",
          "Business Class",
          "Economy Class",
          "Business Class",
          "Economy Class",
          "Business Class",
          "Economy Class",
          "Business Class",
          "Economy Class",
          "Business Class",
          "Premium Economy",
          "Business Class",
          "Economy Class",
          "Business Class",
          "Economy Class",
          "Economy Class",
          "Economy Class",
          "Business Class",
          "Economy Class",
          "Business Class",
          "Business Class",
          "Business Class",
          "Economy Class",
          "Economy Class",
          "Business Class",
          "Premium Economy",
          "Business Class",
          "Business Class",
          "Economy Class",
          "Economy Class",
          "Business Class",
          "Economy Class",
          "First Class",
          "Business Class",
          "Economy Class",
          "Premium Economy",
          "Economy Class",
          "Business Class",
          "Economy Class",
          "Business Class",
          "Economy Class",
          "Premium Economy",
          "Economy Class",
          "Economy Class",
          "Economy Class",
          "Economy Class",
          "Business Class",
          "Economy Class",
          "Business Class",
          "Business Class",
          "Economy Class",
          "Economy Class",
          "Economy Class",
          "Economy Class",
          "Economy Class",
          "Business Class",
          "Economy Class",
          "Economy Class",
          "Economy Class",
          "Economy Class",
          "Business Class",
          "Economy Class",
          "Economy Class",
          "Premium Economy",
          "Business Class",
          "Economy Class",
          "Economy Class",
          "Economy Class",
          "Business Class",
          "Economy Class",
          "Economy Class",
          "Economy Class",
          "Premium Economy",
          "Economy Class",
          "Business Class",
          "Business Class",
          "Business Class",
          "Business Class",
          "Premium Economy",
          "Business Class",
          "Economy Class",
          "Business Class",
          "Economy Class",
          "Economy Class",
          "Economy Class",
          "Economy Class",
          "Economy Class",
          "Economy Class",
          "Economy Class",
          "Economy Class",
          "Economy Class",
          "Economy Class",
          "Economy Class",
          "Economy Class",
          "Business Class",
          "Business Class",
          "Economy Class",
          "Economy Class",
          "Economy Class",
          "Economy Class",
          "Economy Class",
          "Economy Class",
          "Economy Class",
          "Business Class",
          "Economy Class",
          "Economy Class",
          "Business Class",
          "Economy Class",
          "Economy Class",
          "Economy Class",
          "Economy Class",
          "Economy Class",
          "Business Class",
          "First Class",
          "Economy Class",
          "Economy Class",
          "Economy Class",
          "Economy Class",
          "First Class",
          "Economy Class",
          "Economy Class",
          "Economy Class",
          "Economy Class",
          "Business Class",
          "Business Class",
          "Business Class",
          "Economy Class",
          "Economy Class",
          "Economy Class",
          "Business Class",
          "Economy Class",
          "Economy Class",
          "Economy Class",
          "Business Class",
          "Economy Class",
          "Economy Class",
          "First Class",
          "Economy Class",
          "Economy Class",
          "Business Class",
          "Premium Economy",
          "Business Class",
          "Economy Class",
          "Business Class",
          "First Class",
          "Economy Class",
          "Business Class",
          "Economy Class",
          "Economy Class",
          "Economy Class",
          "Business Class",
          "Business Class",
          "Business Class",
          "Economy Class",
          "Business Class",
          "Economy Class",
          "Economy Class",
          "Business Class",
          "Economy Class",
          "Business Class",
          "Business Class",
          "Business Class",
          "Business Class",
          "Economy Class",
          "Business Class",
          "Economy Class",
          "Economy Class",
          "First Class",
          "Business Class",
          "Economy Class",
          "Economy Class",
          "Economy Class",
          "Economy Class",
          "Economy Class",
          "Business Class",
          "Business Class",
          "Economy Class",
          "Economy Class",
          "First Class",
          "First Class",
          "Economy Class",
          "First Class",
          "Economy Class",
          "Economy Class",
          "Business Class",
          "Economy Class",
          "Business Class",
          "Economy Class",
          "Economy Class",
          "Economy Class",
          "Economy Class",
          "Business Class",
          "Economy Class",
          "Business Class",
          "Economy Class",
          "Economy Class",
          "Economy Class",
          "Economy Class",
          "Business Class",
          "Business Class",
          "First Class",
          "Economy Class",
          "Economy Class",
          "Business Class",
          "Economy Class",
          "Premium Economy",
          "Premium Economy",
          "Premium Economy",
          "Business Class",
          "Business Class",
          "Economy Class",
          "Economy Class",
          "Economy Class",
          "First Class",
          "Economy Class",
          "Economy Class",
          "Premium Economy",
          "Business Class",
          "First Class",
          "Economy Class",
          "Premium Economy",
          "Economy Class",
          "Business Class",
          "Economy Class",
          "Business Class",
          "Economy Class",
          "Economy Class",
          "Economy Class",
          "Economy Class",
          "Economy Class",
          "First Class",
          "Business Class",
          "Business Class",
          "Business Class",
          "Premium Economy",
          "Business Class",
          "Economy Class",
          "Premium Economy",
          "Economy Class",
          "Premium Economy",
          "Economy Class",
          "Business Class",
          "Premium Economy",
          "Premium Economy",
          "Premium Economy",
          "Economy Class",
          "Economy Class",
          "Economy Class",
          "Economy Class",
          "Economy Class",
          "Economy Class",
          "Economy Class",
          "Economy Class",
          "Economy Class",
          "Economy Class",
          "Economy Class",
          "Economy Class",
          "Premium Economy",
          "Economy Class",
          "Economy Class",
          "Premium Economy",
          "Economy Class",
          "Economy Class",
          "Economy Class",
          "Premium Economy",
          "Business Class",
          "Economy Class",
          "Economy Class",
          "Economy Class",
          "First Class",
          "First Class",
          "Economy Class",
          "Business Class",
          "Economy Class",
          "Business Class",
          "First Class",
          "Business Class",
          "First Class",
          "Business Class",
          "Economy Class",
          "Economy Class",
          "Economy Class",
          "Premium Economy",
          "Economy Class",
          "Economy Class",
          "Economy Class",
          "Premium Economy",
          "Business Class",
          "Economy Class",
          "Economy Class",
          "Economy Class",
          "First Class",
          "Business Class",
          "Economy Class",
          "Economy Class",
          "Premium Economy",
          "Economy Class",
          "Economy Class",
          "Business Class",
          "Economy Class",
          "Economy Class",
          "Business Class",
          "Economy Class",
          "Economy Class",
          "Economy Class",
          "Economy Class",
          "Business Class",
          "Economy Class",
          "Business Class",
          "Business Class",
          "Economy Class",
          "Business Class",
          "Business Class",
          "Economy Class",
          "Economy Class",
          "Economy Class",
          "First Class",
          "Economy Class",
          "Economy Class",
          "Economy Class",
          "Business Class",
          "Business Class",
          "Business Class",
          "Premium Economy",
          "Business Class",
          "First Class",
          "Economy Class",
          "Economy Class",
          "Economy Class",
          "Economy Class",
          "Business Class",
          "Economy Class",
          "Premium Economy",
          "Business Class",
          "Business Class",
          "Premium Economy",
          "Economy Class",
          "Premium Economy",
          "Economy Class",
          "Business Class",
          "First Class",
          "Economy Class",
          "Business Class",
          "Business Class",
          "Economy Class",
          "Economy Class",
          "Premium Economy",
          "Economy Class",
          "Economy Class",
          "Business Class",
          "Business Class",
          "Economy Class",
          "Economy Class",
          "Economy Class",
          "Economy Class",
          "Economy Class",
          "Business Class",
          "First Class",
          "Premium Economy",
          "Economy Class",
          "Business Class",
          "Business Class",
          "Premium Economy",
          "Business Class",
          "Economy Class",
          "Economy Class",
          "Economy Class",
          "First Class",
          "Economy Class",
          "Business Class",
          "Business Class",
          "Business Class",
          "Economy Class",
          "Economy Class",
          "Premium Economy",
          "Business Class",
          "Economy Class",
          "Economy Class",
          "Business Class",
          "Economy Class",
          "Economy Class",
          "Economy Class",
          "Economy Class",
          "Business Class",
          "Premium Economy",
          "Business Class",
          "Business Class",
          "First Class",
          "Business Class",
          "Business Class",
          "Business Class",
          "Economy Class",
          "Economy Class",
          "Premium Economy",
          "Economy Class",
          "Economy Class",
          "Business Class",
          "Economy Class",
          "Economy Class",
          "Business Class",
          "Economy Class",
          "Economy Class",
          "First Class",
          "Economy Class",
          "Economy Class",
          "Economy Class",
          "Business Class",
          "Premium Economy",
          "Business Class",
          "Premium Economy",
          "Business Class",
          "Business Class",
          "First Class",
          "Economy Class",
          "Economy Class",
          "Business Class",
          "Business Class",
          "Economy Class",
          "Premium Economy",
          "Economy Class",
          "Economy Class",
          "Economy Class",
          "Business Class",
          "Premium Economy",
          "Economy Class",
          "Business Class",
          "Economy Class",
          "Premium Economy",
          "Economy Class",
          "First Class",
          "Business Class",
          "Economy Class",
          "Business Class",
          "Business Class",
          "Economy Class",
          "Economy Class",
          "First Class",
          "First Class",
          "Economy Class",
          "Economy Class",
          "Economy Class",
          "Business Class",
          "Economy Class",
          "First Class",
          "Economy Class",
          "Economy Class",
          "Economy Class",
          "Premium Economy",
          "Economy Class",
          "Economy Class",
          "Business Class",
          "Economy Class",
          "Economy Class",
          "Economy Class",
          "Business Class",
          "Economy Class",
          "First Class",
          "Economy Class",
          "Economy Class",
          "Economy Class",
          "Business Class",
          "Economy Class",
          "Economy Class",
          "Business Class",
          "Economy Class",
          "Economy Class",
          "Economy Class",
          "Economy Class",
          "Business Class",
          "Business Class",
          "Premium Economy",
          "Business Class",
          "Premium Economy",
          "Business Class",
          "Economy Class",
          "Business Class",
          "Economy Class",
          "Economy Class",
          "Business Class",
          "Business Class",
          "Business Class",
          "Business Class",
          "Business Class",
          "Economy Class",
          "Economy Class",
          "Economy Class",
          "Business Class",
          "Economy Class",
          "Premium Economy",
          "Economy Class",
          "Economy Class",
          "Premium Economy",
          "Premium Economy",
          "Economy Class",
          "Economy Class",
          "Economy Class",
          "Premium Economy",
          "Business Class",
          "Business Class",
          "Business Class",
          "Economy Class",
          "Economy Class",
          "Economy Class",
          "First Class",
          "Economy Class",
          "Business Class",
          "Economy Class",
          "Economy Class",
          "Economy Class",
          "Business Class",
          "Business Class",
          "Business Class",
          "Economy Class",
          "Economy Class",
          "Business Class",
          "Business Class",
          "Business Class",
          "Economy Class",
          "Economy Class",
          "First Class",
          "Economy Class",
          "Economy Class",
          "Economy Class",
          "Business Class",
          "Economy Class",
          "Economy Class",
          "Premium Economy",
          "Business Class",
          "Economy Class",
          "Business Class",
          "Premium Economy",
          "First Class",
          "Business Class",
          "Economy Class",
          "Business Class",
          "Economy Class",
          "Premium Economy",
          "Economy Class",
          "Business Class",
          "Economy Class",
          "Economy Class",
          "Business Class",
          "Economy Class",
          "Economy Class",
          "Business Class",
          "Business Class",
          "Economy Class",
          "Economy Class",
          "Business Class",
          "Premium Economy",
          "Economy Class",
          "Business Class",
          "Premium Economy",
          "Economy Class",
          "Economy Class",
          "Economy Class",
          "Economy Class",
          "Economy Class",
          "Business Class",
          "Economy Class",
          "Business Class",
          "Business Class",
          "Business Class",
          "Economy Class",
          "Economy Class",
          "Business Class",
          "Economy Class",
          "Business Class",
          "Business Class",
          "Business Class",
          "Business Class",
          "Business Class",
          "Economy Class",
          "Economy Class",
          "Economy Class",
          "Economy Class",
          "Economy Class",
          "First Class",
          "First Class",
          "Economy Class",
          "Business Class",
          "Economy Class",
          "Economy Class",
          "Business Class",
          "Business Class",
          "Premium Economy",
          "First Class",
          "Business Class",
          "Economy Class",
          "Economy Class",
          "Business Class",
          "Premium Economy",
          "Economy Class",
          "First Class",
          "Economy Class",
          "Economy Class",
          "Economy Class",
          "Economy Class",
          "Economy Class",
          "Economy Class",
          "Economy Class",
          "Business Class",
          "Economy Class",
          "Economy Class",
          "Premium Economy",
          "Premium Economy",
          "Economy Class",
          "Economy Class",
          "First Class",
          "First Class",
          "First Class",
          "Business Class",
          "Business Class",
          "Economy Class",
          "Business Class",
          "Economy Class",
          "Economy Class",
          "Business Class",
          "Business Class",
          "Economy Class",
          "Economy Class",
          "Business Class",
          "Economy Class",
          "Economy Class",
          "Economy Class",
          "Business Class",
          "First Class",
          "Premium Economy",
          "Economy Class",
          "Economy Class",
          "First Class",
          "Business Class",
          "Economy Class",
          "Economy Class",
          "Economy Class",
          "Economy Class",
          "Business Class",
          "Economy Class",
          "Premium Economy",
          "Business Class",
          "Business Class",
          "Economy Class",
          "Business Class",
          "Business Class",
          "Business Class",
          "Economy Class",
          "Economy Class",
          "Business Class",
          "Business Class",
          "Business Class",
          "Business Class",
          "Business Class",
          "Economy Class",
          "Economy Class",
          "Economy Class",
          "Economy Class",
          "Business Class",
          "Business Class",
          "Premium Economy",
          "Economy Class",
          "Business Class",
          "First Class",
          "Economy Class",
          "Economy Class",
          "Economy Class",
          "Business Class",
          "Economy Class",
          "Business Class",
          "Economy Class",
          "Economy Class",
          "Economy Class",
          "Economy Class",
          "Economy Class",
          "Economy Class",
          "Business Class",
          "First Class",
          "Economy Class",
          "Business Class",
          "Economy Class",
          "Economy Class",
          "Economy Class",
          "Economy Class",
          "Business Class",
          "Business Class",
          "Economy Class",
          "Business Class",
          "Premium Economy",
          "Business Class",
          "Economy Class",
          "Economy Class",
          "Economy Class",
          "Economy Class",
          "Economy Class",
          "Business Class",
          "Economy Class",
          "Economy Class",
          "Business Class",
          "Economy Class",
          "Premium Economy",
          "Economy Class",
          "Economy Class",
          "Economy Class",
          "Business Class",
          "Business Class",
          "Business Class",
          "Economy Class",
          "First Class",
          "Economy Class",
          "Economy Class",
          "Economy Class",
          "Economy Class",
          "Economy Class",
          "Economy Class",
          "Economy Class",
          "Business Class",
          "Economy Class",
          "Economy Class",
          "Economy Class",
          "Premium Economy",
          "Economy Class",
          "Business Class",
          "Business Class",
          "Business Class",
          "Economy Class",
          "Economy Class",
          "Business Class",
          "Economy Class",
          "Business Class",
          "Business Class",
          "Economy Class",
          "Economy Class",
          "Business Class",
          "Business Class",
          "Economy Class",
          "Business Class",
          "Economy Class",
          "Economy Class",
          "Economy Class",
          "Business Class",
          "Economy Class",
          "Economy Class",
          "Economy Class",
          "Economy Class",
          "Economy Class",
          "Economy Class",
          "Economy Class",
          "First Class",
          "Business Class",
          "Economy Class",
          "Economy Class",
          "Economy Class",
          "Business Class",
          "Business Class",
          "Economy Class",
          "Business Class",
          "Business Class",
          "Premium Economy",
          "Business Class",
          "Economy Class",
          "Business Class",
          "Economy Class",
          "Economy Class",
          "Economy Class",
          "Premium Economy",
          "Business Class",
          "Economy Class",
          "Economy Class",
          "Premium Economy",
          "Economy Class",
          "Economy Class",
          "Economy Class",
          "Economy Class",
          "Business Class",
          "Economy Class",
          "Business Class",
          "Business Class",
          "Economy Class",
          "Economy Class",
          "Economy Class",
          "Economy Class",
          "Economy Class",
          "Economy Class",
          "Economy Class",
          "Economy Class",
          "Economy Class",
          "Economy Class",
          "Business Class",
          "Economy Class",
          "Economy Class",
          "Business Class",
          "Economy Class",
          "Economy Class",
          "Business Class",
          "Economy Class",
          "Business Class",
          "Business Class",
          "Economy Class",
          "Economy Class",
          "Economy Class",
          "Economy Class",
          "Business Class",
          "Business Class",
          "Economy Class",
          "Business Class",
          "Economy Class",
          "Economy Class",
          "Economy Class",
          "Premium Economy",
          "Business Class",
          "Economy Class",
          "Premium Economy",
          "Economy Class",
          "Economy Class",
          "Economy Class",
          "Economy Class",
          "Economy Class",
          "Economy Class",
          "Business Class",
          "Economy Class",
          "Economy Class",
          "Economy Class",
          "Economy Class",
          "First Class",
          "Economy Class",
          "Business Class",
          "Business Class",
          "Economy Class",
          "Economy Class",
          "Economy Class",
          "Business Class",
          "Business Class",
          "Business Class",
          "Economy Class",
          "Economy Class",
          "Premium Economy",
          "Economy Class",
          "Premium Economy",
          "Economy Class",
          "Premium Economy",
          "Economy Class",
          "Premium Economy",
          "Business Class",
          "Premium Economy",
          "Economy Class",
          "Premium Economy",
          "Business Class",
          "Business Class",
          "Business Class",
          "Economy Class",
          "Premium Economy",
          "Business Class",
          "Business Class",
          "Economy Class",
          "Business Class",
          "Premium Economy",
          "Economy Class",
          "Premium Economy",
          "Economy Class",
          "Business Class",
          "Business Class",
          "Premium Economy",
          "Premium Economy",
          "First Class",
          "Business Class",
          "Premium Economy",
          "Economy Class",
          "Economy Class",
          "Economy Class",
          "Business Class",
          "Economy Class",
          "Premium Economy",
          "Economy Class",
          "Business Class",
          "Economy Class",
          "Business Class",
          "Economy Class",
          "First Class",
          "Business Class",
          "Premium Economy",
          "Economy Class",
          "Business Class",
          "Business Class",
          "Economy Class",
          "Business Class",
          "Business Class",
          "Economy Class",
          "Economy Class",
          "Economy Class",
          "Economy Class",
          "Economy Class",
          "Economy Class",
          "Business Class",
          "Economy Class",
          "Economy Class",
          "Economy Class",
          "Economy Class",
          "Economy Class",
          "Economy Class",
          "Business Class",
          "Economy Class",
          "Economy Class",
          "Economy Class",
          "Premium Economy",
          "Business Class",
          "Business Class",
          "Economy Class",
          "Economy Class",
          "Economy Class",
          "Economy Class",
          "Business Class",
          "Premium Economy",
          "Economy Class",
          "Economy Class",
          "Business Class",
          "Business Class",
          "Economy Class",
          "Economy Class",
          "Premium Economy",
          "Business Class",
          "First Class",
          "Economy Class",
          "Economy Class",
          "Economy Class",
          "Economy Class",
          "Economy Class",
          "Premium Economy",
          "Business Class",
          "Economy Class",
          "Economy Class",
          "Economy Class",
          "Economy Class",
          "Economy Class",
          "Business Class",
          "Economy Class",
          "Economy Class",
          "Premium Economy",
          "Economy Class",
          "First Class",
          "First Class",
          "Business Class",
          "Economy Class",
          "Economy Class",
          "Business Class",
          "Economy Class",
          "Business Class",
          "Business Class",
          "Economy Class",
          "Economy Class",
          "Economy Class",
          "Economy Class",
          "Economy Class",
          "Economy Class",
          "Premium Economy",
          "Business Class",
          "Business Class",
          "Economy Class",
          "Economy Class",
          "Business Class",
          "Business Class",
          "Business Class",
          "Economy Class",
          "Economy Class",
          "Economy Class",
          "Economy Class",
          "Economy Class",
          "Business Class",
          "Economy Class",
          "Economy Class",
          "Business Class",
          "Economy Class",
          "Economy Class",
          "Economy Class",
          "Economy Class",
          "Economy Class",
          "Business Class",
          "Business Class",
          "Economy Class",
          "Business Class",
          "Economy Class",
          "Economy Class",
          "Premium Economy",
          "Economy Class",
          "Business Class",
          "Business Class",
          "Business Class",
          "Economy Class",
          "Business Class",
          "Business Class",
          "Premium Economy",
          "Economy Class",
          "Economy Class",
          "Economy Class",
          "Economy Class",
          "Business Class",
          "Economy Class",
          "Economy Class",
          "Business Class",
          "Economy Class",
          "Economy Class",
          "Economy Class",
          "Economy Class",
          "Business Class",
          "Premium Economy",
          "Business Class",
          "Premium Economy",
          "Economy Class",
          "Business Class",
          "Economy Class",
          "Economy Class",
          "Economy Class",
          "Economy Class",
          "Business Class",
          "Business Class",
          "Economy Class",
          "Economy Class",
          "Economy Class",
          "Economy Class",
          "Business Class",
          "Economy Class",
          "Economy Class",
          "Business Class",
          "Business Class",
          "Economy Class",
          "Business Class",
          "Economy Class",
          "Economy Class",
          "Economy Class",
          "Economy Class",
          "Economy Class",
          "Business Class",
          "Business Class",
          "Premium Economy",
          "Economy Class",
          "Premium Economy",
          "Economy Class",
          "Economy Class",
          "Economy Class",
          "Economy Class",
          "Premium Economy",
          "Business Class",
          "Business Class",
          "Business Class",
          "Economy Class",
          "Economy Class",
          "Economy Class",
          "Business Class",
          "Premium Economy",
          "Economy Class",
          "Business Class",
          "Premium Economy",
          "Business Class",
          "Economy Class",
          "Economy Class",
          "Economy Class",
          "Economy Class",
          "Economy Class",
          "First Class",
          "Economy Class",
          "Economy Class",
          "Premium Economy",
          "Economy Class",
          "Economy Class",
          "Economy Class",
          "Economy Class",
          "Economy Class",
          "Business Class",
          "Economy Class",
          "Economy Class",
          "Economy Class",
          "Business Class",
          "Business Class",
          "Premium Economy",
          "Economy Class",
          "Economy Class",
          "Economy Class",
          "Economy Class",
          "Business Class",
          "Economy Class",
          "Economy Class",
          "Economy Class",
          "Economy Class",
          "Economy Class",
          "Economy Class",
          "Economy Class",
          "Economy Class",
          "Economy Class",
          "Business Class",
          "Business Class",
          "Business Class",
          "Business Class",
          "Economy Class",
          "Economy Class",
          "Business Class",
          "Economy Class",
          "Economy Class",
          "Economy Class",
          "Business Class",
          "Economy Class",
          "Economy Class",
          "Economy Class",
          "Business Class",
          "Economy Class",
          "Premium Economy",
          "Economy Class",
          "Economy Class",
          "Economy Class",
          "Economy Class",
          "Economy Class",
          "Economy Class",
          "First Class",
          "Business Class",
          "Economy Class",
          "First Class",
          "First Class",
          "Business Class",
          "Economy Class",
          "Economy Class",
          "Business Class",
          "Premium Economy",
          "Business Class",
          "Economy Class",
          "Economy Class",
          "Business Class",
          "Business Class",
          "Economy Class",
          "Economy Class",
          "Business Class",
          "First Class",
          "Economy Class",
          "Economy Class",
          "Premium Economy",
          "Business Class",
          "Economy Class",
          "Economy Class",
          "Economy Class",
          "Economy Class",
          "Business Class",
          "Business Class",
          "Economy Class",
          "Business Class",
          "Economy Class",
          "Business Class",
          "Economy Class",
          "Economy Class",
          "Economy Class",
          "Economy Class",
          "Economy Class",
          "Economy Class",
          "Economy Class",
          "Business Class",
          "Economy Class",
          "Business Class",
          "Business Class",
          "Business Class",
          "Economy Class",
          "Economy Class",
          "Economy Class",
          "Economy Class",
          "Economy Class",
          "Economy Class",
          "First Class",
          "Economy Class",
          "Economy Class",
          "Premium Economy",
          "Economy Class",
          "Business Class",
          "Economy Class",
          "Economy Class",
          "Premium Economy",
          "Premium Economy",
          "Economy Class",
          "Economy Class",
          "Economy Class",
          "Economy Class",
          "Premium Economy",
          "First Class",
          "Economy Class",
          "Business Class",
          "Economy Class",
          "Economy Class",
          "Premium Economy",
          "Economy Class",
          "Premium Economy",
          "Premium Economy",
          "Business Class",
          "Business Class",
          "Business Class",
          "Premium Economy",
          "Premium Economy",
          "Business Class",
          "Economy Class",
          "Premium Economy",
          "Economy Class",
          "Economy Class",
          "Premium Economy",
          "Business Class",
          "First Class",
          "Economy Class",
          "Economy Class",
          "Premium Economy",
          "Business Class",
          "Economy Class",
          "Economy Class",
          "Business Class",
          "Business Class",
          "Economy Class",
          "Economy Class",
          "Business Class",
          "Business Class",
          "Economy Class",
          "Economy Class",
          "First Class",
          "Economy Class",
          "Economy Class",
          "First Class",
          "Business Class",
          "Premium Economy",
          "Economy Class",
          "Business Class",
          "Economy Class",
          "Economy Class",
          "First Class",
          "Economy Class",
          "Business Class",
          "First Class",
          "Premium Economy",
          "Economy Class",
          "Economy Class",
          "Economy Class",
          "First Class",
          "Economy Class",
          "Economy Class",
          "Premium Economy",
          "Economy Class",
          "Economy Class",
          "First Class",
          "Premium Economy",
          "Premium Economy",
          "Economy Class",
          "First Class",
          "Economy Class",
          "Business Class",
          "First Class",
          "Economy Class",
          "First Class",
          "Economy Class",
          "Economy Class",
          "Economy Class",
          "Economy Class",
          "First Class",
          "First Class",
          "Business Class",
          "Premium Economy",
          "Premium Economy",
          "Economy Class",
          "Economy Class",
          "First Class",
          "Premium Economy",
          "Economy Class",
          "First Class",
          "Economy Class",
          "Economy Class",
          "Business Class",
          "Economy Class",
          "Business Class",
          "Economy Class",
          "Premium Economy",
          "Economy Class",
          "Economy Class",
          "Economy Class",
          "Economy Class",
          "Business Class",
          "Economy Class",
          "Economy Class",
          "Business Class",
          "Business Class",
          "Economy Class",
          "Economy Class",
          "Premium Economy",
          "Economy Class",
          "Economy Class",
          "Premium Economy",
          "Business Class",
          "Economy Class",
          "Business Class",
          "Business Class",
          "Business Class",
          "Premium Economy",
          "Business Class",
          "Premium Economy",
          "First Class",
          "Economy Class",
          "Economy Class",
          "First Class",
          "Economy Class",
          "First Class",
          "Economy Class",
          "Business Class",
          "Premium Economy",
          "Business Class",
          "Economy Class",
          "First Class",
          "Economy Class",
          "Economy Class",
          "Economy Class",
          "Economy Class",
          "Economy Class",
          "First Class",
          "Economy Class",
          "Business Class",
          "Economy Class",
          "Business Class",
          "Economy Class",
          "Economy Class",
          "Economy Class",
          "First Class",
          "Economy Class",
          "Economy Class",
          "Economy Class",
          "Premium Economy",
          "Premium Economy",
          "Economy Class",
          "Economy Class",
          "Business Class",
          "Economy Class",
          "Economy Class",
          "Business Class",
          "Economy Class",
          "Economy Class",
          "First Class",
          "Economy Class",
          "Business Class",
          "First Class",
          "Business Class",
          "Premium Economy",
          "Economy Class",
          "Business Class",
          "Business Class",
          "Economy Class",
          "Economy Class",
          "Premium Economy",
          "Economy Class",
          "Premium Economy",
          "Premium Economy",
          "Economy Class",
          "Economy Class",
          "Economy Class",
          "Economy Class",
          "Business Class",
          "Economy Class",
          "Economy Class",
          "Business Class",
          "Economy Class",
          "Business Class",
          "Economy Class",
          "First Class",
          "Business Class",
          "Economy Class",
          "Economy Class",
          "Economy Class",
          "Economy Class",
          "Economy Class",
          "Economy Class",
          "Business Class",
          "First Class",
          "Economy Class",
          "Business Class",
          "Business Class",
          "Business Class",
          "Economy Class",
          "Economy Class",
          "Economy Class",
          "Business Class",
          "Business Class",
          "Economy Class",
          "Economy Class",
          "Economy Class",
          "Economy Class",
          "Business Class",
          "Business Class",
          "Economy Class",
          "Economy Class",
          "Economy Class",
          "Business Class",
          "Economy Class",
          "Economy Class",
          "Economy Class",
          "Economy Class",
          "First Class",
          "Economy Class",
          "Economy Class",
          "Economy Class",
          "Premium Economy",
          "First Class",
          "First Class",
          "Business Class",
          "Business Class",
          "Economy Class",
          "Economy Class",
          "Economy Class",
          "Economy Class",
          "Economy Class",
          "Economy Class",
          "Business Class",
          "Economy Class",
          "Economy Class",
          "Economy Class",
          "Business Class",
          "Business Class",
          "Business Class",
          "Premium Economy",
          "Economy Class",
          "Economy Class",
          "Business Class",
          "Business Class",
          "Premium Economy",
          "First Class",
          "Business Class",
          "Business Class",
          "Business Class",
          "Economy Class",
          "Economy Class",
          "Economy Class",
          "Economy Class",
          "Business Class",
          "Premium Economy",
          "Business Class",
          "Economy Class",
          "Economy Class",
          "First Class",
          "First Class",
          "Business Class",
          "Business Class",
          "Business Class",
          "First Class",
          "Business Class",
          "Business Class",
          "Business Class",
          "Economy Class",
          "Business Class",
          "Business Class",
          "Economy Class",
          "Business Class",
          "Business Class",
          "Business Class",
          "Economy Class",
          "Economy Class",
          "Premium Economy",
          "Business Class",
          "First Class",
          "Economy Class",
          "Economy Class",
          "Economy Class",
          "Business Class",
          "Business Class",
          "Premium Economy",
          "Economy Class",
          "Economy Class",
          "First Class",
          "Economy Class",
          "Premium Economy",
          "Economy Class",
          "Economy Class",
          "Business Class",
          "Premium Economy",
          "Economy Class",
          "Economy Class",
          "First Class",
          "Economy Class",
          "Business Class",
          "Economy Class",
          "Economy Class",
          "Business Class",
          "Business Class",
          "Economy Class",
          "Premium Economy",
          "First Class",
          "Premium Economy",
          "Business Class",
          "Business Class",
          "Business Class",
          "First Class",
          "Business Class",
          "Premium Economy",
          "Economy Class",
          "First Class",
          "Economy Class",
          "First Class",
          "Economy Class",
          "Economy Class",
          "Business Class",
          "Economy Class",
          "Economy Class",
          "Economy Class",
          "Economy Class",
          "Premium Economy",
          "Economy Class",
          "Economy Class",
          "Business Class",
          "Business Class",
          "Economy Class",
          "Economy Class",
          "Economy Class",
          "Business Class",
          "Business Class",
          "Economy Class",
          "Economy Class",
          "Economy Class",
          "Economy Class",
          "Economy Class",
          "Economy Class",
          "Economy Class",
          "Business Class",
          "Economy Class",
          "Economy Class",
          "Business Class",
          "Business Class",
          "Economy Class",
          "Business Class",
          "Economy Class",
          "Economy Class",
          "Premium Economy",
          "Economy Class",
          "Economy Class",
          "Business Class",
          "Premium Economy",
          "Premium Economy",
          "Economy Class",
          "Economy Class",
          "Premium Economy",
          "Business Class",
          "Business Class",
          "Economy Class",
          "Economy Class",
          "Economy Class",
          "Economy Class",
          "Business Class",
          "Economy Class",
          "First Class",
          "Economy Class",
          "Economy Class",
          "Business Class",
          "Business Class",
          "Business Class",
          "Economy Class",
          "Economy Class",
          "Business Class",
          "Economy Class",
          "Economy Class",
          "Economy Class",
          "Business Class",
          "Premium Economy",
          "First Class",
          "Economy Class",
          "First Class",
          "Business Class",
          "Economy Class",
          "Premium Economy",
          "Economy Class",
          "First Class",
          "Business Class",
          "Economy Class",
          "Economy Class",
          "Economy Class",
          "Economy Class",
          "Business Class",
          "Business Class",
          "Economy Class",
          "Economy Class",
          "Premium Economy",
          "Business Class",
          "Premium Economy",
          "Premium Economy",
          "Economy Class",
          "Business Class",
          "Business Class",
          "Economy Class",
          "Economy Class",
          "Business Class",
          "Economy Class",
          "Economy Class",
          "Economy Class",
          "Business Class",
          "Business Class",
          "Business Class",
          "Business Class",
          "Economy Class",
          "Business Class",
          "Premium Economy",
          "Economy Class",
          "Economy Class",
          "Economy Class",
          "Economy Class",
          "Business Class",
          "Economy Class",
          "First Class",
          "Economy Class",
          "Economy Class",
          "Business Class",
          "First Class",
          "Business Class",
          "Economy Class",
          "Economy Class",
          "Economy Class",
          "Premium Economy",
          "Premium Economy",
          "Economy Class",
          "Business Class",
          "Business Class",
          "Economy Class",
          "Economy Class",
          "Premium Economy",
          "Economy Class",
          "Economy Class",
          "Business Class",
          "Economy Class",
          "Premium Economy",
          "Premium Economy",
          "Economy Class",
          "Business Class",
          "Premium Economy",
          "Economy Class",
          "First Class",
          "Business Class",
          "Premium Economy",
          "First Class",
          "Economy Class",
          "Economy Class",
          "Business Class",
          "Economy Class",
          "Business Class",
          "Economy Class",
          "Economy Class",
          "Business Class",
          "Business Class",
          "Economy Class",
          "Economy Class",
          "Economy Class",
          "Economy Class",
          "Economy Class",
          "Business Class",
          "Business Class",
          "Economy Class",
          "Premium Economy",
          "First Class",
          "Premium Economy",
          "Business Class",
          "Economy Class",
          "Premium Economy",
          "First Class",
          "Economy Class",
          "Economy Class",
          "Business Class",
          "Business Class",
          "Economy Class",
          "Business Class",
          "Business Class",
          "Economy Class",
          "Economy Class",
          "Business Class",
          "First Class",
          "Business Class",
          "Business Class",
          "Economy Class",
          "Economy Class",
          "Business Class",
          "First Class",
          "Business Class",
          "Economy Class",
          "Business Class",
          "Economy Class",
          "Economy Class",
          "Economy Class",
          "Economy Class",
          "First Class",
          "Premium Economy",
          "First Class",
          "Economy Class",
          "First Class",
          "Business Class",
          "Economy Class",
          "Economy Class",
          "Economy Class",
          "Business Class",
          "Business Class",
          "Economy Class",
          "Economy Class",
          "Business Class",
          "Economy Class",
          "Premium Economy",
          "Premium Economy",
          "Premium Economy",
          "Economy Class",
          "Economy Class",
          "Premium Economy",
          "Economy Class",
          "Economy Class",
          "Economy Class",
          "Economy Class",
          "First Class",
          "Business Class",
          "Economy Class",
          "Economy Class",
          "Economy Class",
          "Economy Class",
          "Business Class",
          "Economy Class",
          "Business Class",
          "Business Class",
          "Premium Economy",
          "Economy Class",
          "Business Class",
          "First Class",
          "First Class",
          "Premium Economy",
          "Economy Class",
          "Economy Class",
          "Economy Class",
          "Economy Class",
          "Economy Class",
          "Economy Class",
          "Economy Class",
          "Premium Economy",
          "Economy Class",
          "Economy Class",
          "Business Class",
          "Business Class",
          "Business Class",
          "Economy Class",
          "Economy Class",
          "Economy Class",
          "Economy Class",
          "Economy Class",
          "Economy Class",
          "Business Class",
          "Premium Economy",
          "Premium Economy",
          "Economy Class",
          "Economy Class",
          "Business Class",
          "Economy Class",
          "Economy Class",
          "Economy Class",
          "First Class",
          "Economy Class",
          "Business Class",
          "Economy Class",
          "Economy Class",
          "Business Class",
          "Business Class",
          "Economy Class",
          "Business Class",
          "Business Class",
          "Premium Economy",
          "Business Class",
          "Economy Class",
          "Business Class",
          "Business Class",
          "Economy Class",
          "Premium Economy",
          "Economy Class",
          "Economy Class",
          "Economy Class",
          "Economy Class",
          "Premium Economy",
          "Economy Class",
          "Business Class",
          "Business Class",
          "First Class",
          "Business Class",
          "Economy Class",
          "Economy Class",
          "Economy Class",
          "Economy Class",
          "Premium Economy",
          "First Class",
          "First Class",
          "Business Class",
          "Premium Economy",
          "Economy Class",
          "Economy Class",
          "Economy Class",
          "Premium Economy",
          "Economy Class",
          "Economy Class",
          "Economy Class",
          "Business Class",
          "Economy Class",
          "Premium Economy",
          "Premium Economy",
          "Economy Class",
          "Economy Class",
          "Business Class",
          "Economy Class",
          "First Class",
          "Business Class",
          "Premium Economy",
          "Economy Class",
          "Premium Economy",
          "Economy Class",
          "Business Class",
          "Premium Economy",
          "Economy Class",
          "Business Class",
          "Economy Class",
          "Business Class",
          "Business Class",
          "Premium Economy",
          "Business Class",
          "Economy Class",
          "Business Class",
          "Business Class",
          "First Class",
          "Economy Class",
          "Premium Economy",
          "Economy Class",
          "Economy Class",
          "Economy Class",
          "First Class",
          "Business Class",
          "Business Class",
          "Economy Class",
          "Economy Class",
          "Economy Class",
          "Economy Class",
          "Economy Class",
          "Business Class",
          "Economy Class",
          "Business Class",
          "Business Class",
          "First Class",
          "First Class",
          "Economy Class"
         ],
         "legendgroup": "",
         "marker": {
          "colors": [
           "#075AAA",
           "#A7A9AC",
           "#075AAA",
           "#075AAA",
           "#A7A9AC",
           "#075AAA",
           "#A7A9AC",
           "#A7A9AC",
           "#01295C",
           "#A7A9AC",
           "#A7A9AC",
           "#075AAA",
           "#A7A9AC",
           "#A7A9AC",
           "#075AAA",
           "#075AAA",
           "#075AAA",
           "#A7A9AC",
           "#01295C",
           "#A7A9AC",
           "#A7A9AC",
           "#01295C",
           "#A7A9AC",
           "#A7A9AC",
           "#075AAA",
           "#A7A9AC",
           "#A7A9AC",
           "#A7A9AC",
           "#A7A9AC",
           "#A7A9AC",
           "#A7A9AC",
           "#A7A9AC",
           "#A7A9AC",
           "#075AAA",
           "#075AAA",
           "#A7A9AC",
           "#075AAA",
           "#A7A9AC",
           "#075AAA",
           "#A7A9AC",
           "#A7A9AC",
           "#A7A9AC",
           "#075AAA",
           "#A7A9AC",
           "#A7A9AC",
           "#A7A9AC",
           "#075AAA",
           "#A7A9AC",
           "#A7A9AC",
           "#A7A9AC",
           "#01295C",
           "#A7A9AC",
           "#A7A9AC",
           "#075AAA",
           "#A7A9AC",
           "#A7A9AC",
           "#A7A9AC",
           "#A7A9AC",
           "#A7A9AC",
           "#A7A9AC",
           "#A7A9AC",
           "#01295C",
           "#A7A9AC",
           "#01295C",
           "#A7A9AC",
           "#A7A9AC",
           "#075AAA",
           "#075AAA",
           "#075AAA",
           "#A7A9AC",
           "#A7A9AC",
           "#A7A9AC",
           "#075AAA",
           "#075AAA",
           "#075AAA",
           "#075AAA",
           "#075AAA",
           "#A7A9AC",
           "#A7A9AC",
           "#075AAA",
           "#A7A9AC",
           "#01295C",
           "#01295C",
           "#A7A9AC",
           "#01295C",
           "#A7A9AC",
           "#A7A9AC",
           "#A7A9AC",
           "#A7A9AC",
           "#075AAA",
           "#A7A9AC",
           "#A7A9AC",
           "#A7A9AC",
           "#075AAA",
           "#A7A9AC",
           "#075AAA",
           "#075AAA",
           "#A7A9AC",
           "#A7A9AC",
           "#A7A9AC",
           "#01295C",
           "#A7A9AC",
           "#075AAA",
           "#A7A9AC",
           "#075AAA",
           "#A7A9AC",
           "#A7A9AC",
           "#A7A9AC",
           "#A7A9AC",
           "#A7A9AC",
           "#A7A9AC",
           "#A7A9AC",
           "#A7A9AC",
           "#01295C",
           "#B9CFED",
           "#A7A9AC",
           "#A7A9AC",
           "#A7A9AC",
           "#A7A9AC",
           "#A7A9AC",
           "#A7A9AC",
           "#01295C",
           "#A7A9AC",
           "#A7A9AC",
           "#075AAA",
           "#A7A9AC",
           "#A7A9AC",
           "#A7A9AC",
           "#A7A9AC",
           "#075AAA",
           "#075AAA",
           "#A7A9AC",
           "#A7A9AC",
           "#01295C",
           "#075AAA",
           "#A7A9AC",
           "#075AAA",
           "#075AAA",
           "#A7A9AC",
           "#A7A9AC",
           "#A7A9AC",
           "#A7A9AC",
           "#A7A9AC",
           "#A7A9AC",
           "#A7A9AC",
           "#075AAA",
           "#A7A9AC",
           "#A7A9AC",
           "#A7A9AC",
           "#01295C",
           "#01295C",
           "#A7A9AC",
           "#B9CFED",
           "#075AAA",
           "#075AAA",
           "#075AAA",
           "#A7A9AC",
           "#A7A9AC",
           "#A7A9AC",
           "#075AAA",
           "#A7A9AC",
           "#01295C",
           "#A7A9AC",
           "#A7A9AC",
           "#A7A9AC",
           "#075AAA",
           "#075AAA",
           "#A7A9AC",
           "#A7A9AC",
           "#075AAA",
           "#01295C",
           "#075AAA",
           "#A7A9AC",
           "#A7A9AC",
           "#A7A9AC",
           "#B9CFED",
           "#A7A9AC",
           "#075AAA",
           "#A7A9AC",
           "#01295C",
           "#01295C",
           "#075AAA",
           "#075AAA",
           "#A7A9AC",
           "#075AAA",
           "#01295C",
           "#075AAA",
           "#075AAA",
           "#A7A9AC",
           "#A7A9AC",
           "#075AAA",
           "#A7A9AC",
           "#075AAA",
           "#A7A9AC",
           "#A7A9AC",
           "#01295C",
           "#A7A9AC",
           "#075AAA",
           "#A7A9AC",
           "#A7A9AC",
           "#075AAA",
           "#A7A9AC",
           "#A7A9AC",
           "#A7A9AC",
           "#075AAA",
           "#075AAA",
           "#075AAA",
           "#A7A9AC",
           "#075AAA",
           "#075AAA",
           "#A7A9AC",
           "#A7A9AC",
           "#A7A9AC",
           "#A7A9AC",
           "#075AAA",
           "#075AAA",
           "#A7A9AC",
           "#075AAA",
           "#A7A9AC",
           "#A7A9AC",
           "#075AAA",
           "#075AAA",
           "#075AAA",
           "#075AAA",
           "#A7A9AC",
           "#01295C",
           "#A7A9AC",
           "#A7A9AC",
           "#A7A9AC",
           "#075AAA",
           "#A7A9AC",
           "#A7A9AC",
           "#075AAA",
           "#A7A9AC",
           "#A7A9AC",
           "#01295C",
           "#A7A9AC",
           "#A7A9AC",
           "#075AAA",
           "#A7A9AC",
           "#075AAA",
           "#A7A9AC",
           "#A7A9AC",
           "#A7A9AC",
           "#01295C",
           "#A7A9AC",
           "#075AAA",
           "#A7A9AC",
           "#A7A9AC",
           "#075AAA",
           "#A7A9AC",
           "#A7A9AC",
           "#A7A9AC",
           "#A7A9AC",
           "#A7A9AC",
           "#A7A9AC",
           "#075AAA",
           "#075AAA",
           "#075AAA",
           "#A7A9AC",
           "#01295C",
           "#075AAA",
           "#01295C",
           "#01295C",
           "#A7A9AC",
           "#A7A9AC",
           "#075AAA",
           "#A7A9AC",
           "#075AAA",
           "#A7A9AC",
           "#01295C",
           "#A7A9AC",
           "#A7A9AC",
           "#A7A9AC",
           "#A7A9AC",
           "#075AAA",
           "#075AAA",
           "#A7A9AC",
           "#A7A9AC",
           "#A7A9AC",
           "#075AAA",
           "#A7A9AC",
           "#01295C",
           "#A7A9AC",
           "#075AAA",
           "#075AAA",
           "#A7A9AC",
           "#075AAA",
           "#A7A9AC",
           "#A7A9AC",
           "#A7A9AC",
           "#075AAA",
           "#075AAA",
           "#A7A9AC",
           "#075AAA",
           "#075AAA",
           "#A7A9AC",
           "#A7A9AC",
           "#A7A9AC",
           "#075AAA",
           "#A7A9AC",
           "#A7A9AC",
           "#075AAA",
           "#01295C",
           "#A7A9AC",
           "#A7A9AC",
           "#01295C",
           "#A7A9AC",
           "#A7A9AC",
           "#A7A9AC",
           "#075AAA",
           "#075AAA",
           "#075AAA",
           "#075AAA",
           "#A7A9AC",
           "#A7A9AC",
           "#075AAA",
           "#A7A9AC",
           "#075AAA",
           "#A7A9AC",
           "#075AAA",
           "#A7A9AC",
           "#A7A9AC",
           "#075AAA",
           "#075AAA",
           "#A7A9AC",
           "#075AAA",
           "#075AAA",
           "#075AAA",
           "#075AAA",
           "#075AAA",
           "#075AAA",
           "#A7A9AC",
           "#075AAA",
           "#A7A9AC",
           "#075AAA",
           "#075AAA",
           "#A7A9AC",
           "#075AAA",
           "#A7A9AC",
           "#075AAA",
           "#A7A9AC",
           "#A7A9AC",
           "#A7A9AC",
           "#01295C",
           "#B9CFED",
           "#A7A9AC",
           "#A7A9AC",
           "#01295C",
           "#A7A9AC",
           "#01295C",
           "#075AAA",
           "#A7A9AC",
           "#01295C",
           "#075AAA",
           "#075AAA",
           "#075AAA",
           "#01295C",
           "#075AAA",
           "#A7A9AC",
           "#A7A9AC",
           "#075AAA",
           "#A7A9AC",
           "#075AAA",
           "#075AAA",
           "#075AAA",
           "#075AAA",
           "#A7A9AC",
           "#075AAA",
           "#075AAA",
           "#075AAA",
           "#A7A9AC",
           "#A7A9AC",
           "#075AAA",
           "#A7A9AC",
           "#075AAA",
           "#A7A9AC",
           "#A7A9AC",
           "#075AAA",
           "#A7A9AC",
           "#075AAA",
           "#075AAA",
           "#01295C",
           "#075AAA",
           "#075AAA",
           "#A7A9AC",
           "#A7A9AC",
           "#B9CFED",
           "#075AAA",
           "#075AAA",
           "#A7A9AC",
           "#075AAA",
           "#075AAA",
           "#075AAA",
           "#A7A9AC",
           "#A7A9AC",
           "#A7A9AC",
           "#075AAA",
           "#075AAA",
           "#075AAA",
           "#075AAA",
           "#A7A9AC",
           "#A7A9AC",
           "#075AAA",
           "#075AAA",
           "#A7A9AC",
           "#A7A9AC",
           "#A7A9AC",
           "#A7A9AC",
           "#01295C",
           "#A7A9AC",
           "#075AAA",
           "#075AAA",
           "#01295C",
           "#A7A9AC",
           "#A7A9AC",
           "#075AAA",
           "#A7A9AC",
           "#A7A9AC",
           "#01295C",
           "#075AAA",
           "#075AAA",
           "#A7A9AC",
           "#A7A9AC",
           "#075AAA",
           "#A7A9AC",
           "#075AAA",
           "#01295C",
           "#A7A9AC",
           "#A7A9AC",
           "#075AAA",
           "#075AAA",
           "#075AAA",
           "#075AAA",
           "#A7A9AC",
           "#A7A9AC",
           "#A7A9AC",
           "#075AAA",
           "#A7A9AC",
           "#A7A9AC",
           "#A7A9AC",
           "#A7A9AC",
           "#A7A9AC",
           "#A7A9AC",
           "#075AAA",
           "#075AAA",
           "#075AAA",
           "#A7A9AC",
           "#01295C",
           "#075AAA",
           "#075AAA",
           "#A7A9AC",
           "#A7A9AC",
           "#075AAA",
           "#075AAA",
           "#075AAA",
           "#A7A9AC",
           "#075AAA",
           "#A7A9AC",
           "#A7A9AC",
           "#075AAA",
           "#A7A9AC",
           "#A7A9AC",
           "#A7A9AC",
           "#A7A9AC",
           "#A7A9AC",
           "#A7A9AC",
           "#A7A9AC",
           "#B9CFED",
           "#A7A9AC",
           "#A7A9AC",
           "#A7A9AC",
           "#A7A9AC",
           "#01295C",
           "#075AAA",
           "#A7A9AC",
           "#A7A9AC",
           "#A7A9AC",
           "#A7A9AC",
           "#075AAA",
           "#A7A9AC",
           "#A7A9AC",
           "#A7A9AC",
           "#A7A9AC",
           "#01295C",
           "#A7A9AC",
           "#A7A9AC",
           "#A7A9AC",
           "#A7A9AC",
           "#B9CFED",
           "#075AAA",
           "#A7A9AC",
           "#01295C",
           "#075AAA",
           "#A7A9AC",
           "#01295C",
           "#A7A9AC",
           "#075AAA",
           "#075AAA",
           "#A7A9AC",
           "#A7A9AC",
           "#075AAA",
           "#A7A9AC",
           "#A7A9AC",
           "#A7A9AC",
           "#A7A9AC",
           "#075AAA",
           "#A7A9AC",
           "#A7A9AC",
           "#A7A9AC",
           "#01295C",
           "#A7A9AC",
           "#A7A9AC",
           "#075AAA",
           "#075AAA",
           "#A7A9AC",
           "#A7A9AC",
           "#075AAA",
           "#A7A9AC",
           "#A7A9AC",
           "#A7A9AC",
           "#A7A9AC",
           "#A7A9AC",
           "#075AAA",
           "#A7A9AC",
           "#A7A9AC",
           "#01295C",
           "#075AAA",
           "#B9CFED",
           "#01295C",
           "#075AAA",
           "#A7A9AC",
           "#A7A9AC",
           "#075AAA",
           "#A7A9AC",
           "#A7A9AC",
           "#075AAA",
           "#A7A9AC",
           "#075AAA",
           "#A7A9AC",
           "#075AAA",
           "#075AAA",
           "#075AAA",
           "#075AAA",
           "#A7A9AC",
           "#075AAA",
           "#A7A9AC",
           "#A7A9AC",
           "#A7A9AC",
           "#A7A9AC",
           "#B9CFED",
           "#A7A9AC",
           "#075AAA",
           "#A7A9AC",
           "#A7A9AC",
           "#A7A9AC",
           "#075AAA",
           "#075AAA",
           "#075AAA",
           "#A7A9AC",
           "#075AAA",
           "#01295C",
           "#075AAA",
           "#075AAA",
           "#075AAA",
           "#075AAA",
           "#A7A9AC",
           "#A7A9AC",
           "#075AAA",
           "#075AAA",
           "#A7A9AC",
           "#A7A9AC",
           "#075AAA",
           "#A7A9AC",
           "#A7A9AC",
           "#A7A9AC",
           "#A7A9AC",
           "#A7A9AC",
           "#075AAA",
           "#075AAA",
           "#A7A9AC",
           "#A7A9AC",
           "#A7A9AC",
           "#A7A9AC",
           "#01295C",
           "#A7A9AC",
           "#A7A9AC",
           "#075AAA",
           "#A7A9AC",
           "#075AAA",
           "#A7A9AC",
           "#075AAA",
           "#A7A9AC",
           "#075AAA",
           "#B9CFED",
           "#075AAA",
           "#A7A9AC",
           "#075AAA",
           "#075AAA",
           "#075AAA",
           "#A7A9AC",
           "#A7A9AC",
           "#075AAA",
           "#01295C",
           "#A7A9AC",
           "#A7A9AC",
           "#A7A9AC",
           "#A7A9AC",
           "#A7A9AC",
           "#A7A9AC",
           "#075AAA",
           "#A7A9AC",
           "#075AAA",
           "#A7A9AC",
           "#A7A9AC",
           "#075AAA",
           "#A7A9AC",
           "#A7A9AC",
           "#A7A9AC",
           "#A7A9AC",
           "#A7A9AC",
           "#075AAA",
           "#A7A9AC",
           "#075AAA",
           "#A7A9AC",
           "#01295C",
           "#075AAA",
           "#A7A9AC",
           "#A7A9AC",
           "#A7A9AC",
           "#A7A9AC",
           "#A7A9AC",
           "#075AAA",
           "#075AAA",
           "#A7A9AC",
           "#A7A9AC",
           "#A7A9AC",
           "#075AAA",
           "#A7A9AC",
           "#A7A9AC",
           "#01295C",
           "#01295C",
           "#075AAA",
           "#A7A9AC",
           "#A7A9AC",
           "#A7A9AC",
           "#A7A9AC",
           "#01295C",
           "#A7A9AC",
           "#A7A9AC",
           "#01295C",
           "#A7A9AC",
           "#A7A9AC",
           "#075AAA",
           "#A7A9AC",
           "#A7A9AC",
           "#A7A9AC",
           "#A7A9AC",
           "#A7A9AC",
           "#A7A9AC",
           "#075AAA",
           "#01295C",
           "#01295C",
           "#075AAA",
           "#075AAA",
           "#01295C",
           "#A7A9AC",
           "#075AAA",
           "#075AAA",
           "#A7A9AC",
           "#075AAA",
           "#A7A9AC",
           "#075AAA",
           "#A7A9AC",
           "#075AAA",
           "#A7A9AC",
           "#075AAA",
           "#01295C",
           "#075AAA",
           "#A7A9AC",
           "#075AAA",
           "#A7A9AC",
           "#A7A9AC",
           "#A7A9AC",
           "#075AAA",
           "#A7A9AC",
           "#075AAA",
           "#075AAA",
           "#075AAA",
           "#A7A9AC",
           "#A7A9AC",
           "#075AAA",
           "#01295C",
           "#075AAA",
           "#075AAA",
           "#A7A9AC",
           "#A7A9AC",
           "#075AAA",
           "#A7A9AC",
           "#B9CFED",
           "#075AAA",
           "#A7A9AC",
           "#01295C",
           "#A7A9AC",
           "#075AAA",
           "#A7A9AC",
           "#075AAA",
           "#A7A9AC",
           "#01295C",
           "#A7A9AC",
           "#A7A9AC",
           "#A7A9AC",
           "#A7A9AC",
           "#075AAA",
           "#A7A9AC",
           "#075AAA",
           "#075AAA",
           "#A7A9AC",
           "#A7A9AC",
           "#A7A9AC",
           "#A7A9AC",
           "#A7A9AC",
           "#075AAA",
           "#A7A9AC",
           "#A7A9AC",
           "#A7A9AC",
           "#A7A9AC",
           "#075AAA",
           "#A7A9AC",
           "#A7A9AC",
           "#01295C",
           "#075AAA",
           "#A7A9AC",
           "#A7A9AC",
           "#A7A9AC",
           "#075AAA",
           "#A7A9AC",
           "#A7A9AC",
           "#A7A9AC",
           "#01295C",
           "#A7A9AC",
           "#075AAA",
           "#075AAA",
           "#075AAA",
           "#075AAA",
           "#01295C",
           "#075AAA",
           "#A7A9AC",
           "#075AAA",
           "#A7A9AC",
           "#A7A9AC",
           "#A7A9AC",
           "#A7A9AC",
           "#A7A9AC",
           "#A7A9AC",
           "#A7A9AC",
           "#A7A9AC",
           "#A7A9AC",
           "#A7A9AC",
           "#A7A9AC",
           "#A7A9AC",
           "#075AAA",
           "#075AAA",
           "#A7A9AC",
           "#A7A9AC",
           "#A7A9AC",
           "#A7A9AC",
           "#A7A9AC",
           "#A7A9AC",
           "#A7A9AC",
           "#075AAA",
           "#A7A9AC",
           "#A7A9AC",
           "#075AAA",
           "#A7A9AC",
           "#A7A9AC",
           "#A7A9AC",
           "#A7A9AC",
           "#A7A9AC",
           "#075AAA",
           "#B9CFED",
           "#A7A9AC",
           "#A7A9AC",
           "#A7A9AC",
           "#A7A9AC",
           "#B9CFED",
           "#A7A9AC",
           "#A7A9AC",
           "#A7A9AC",
           "#A7A9AC",
           "#075AAA",
           "#075AAA",
           "#075AAA",
           "#A7A9AC",
           "#A7A9AC",
           "#A7A9AC",
           "#075AAA",
           "#A7A9AC",
           "#A7A9AC",
           "#A7A9AC",
           "#075AAA",
           "#A7A9AC",
           "#A7A9AC",
           "#B9CFED",
           "#A7A9AC",
           "#A7A9AC",
           "#075AAA",
           "#01295C",
           "#075AAA",
           "#A7A9AC",
           "#075AAA",
           "#B9CFED",
           "#A7A9AC",
           "#075AAA",
           "#A7A9AC",
           "#A7A9AC",
           "#A7A9AC",
           "#075AAA",
           "#075AAA",
           "#075AAA",
           "#A7A9AC",
           "#075AAA",
           "#A7A9AC",
           "#A7A9AC",
           "#075AAA",
           "#A7A9AC",
           "#075AAA",
           "#075AAA",
           "#075AAA",
           "#075AAA",
           "#A7A9AC",
           "#075AAA",
           "#A7A9AC",
           "#A7A9AC",
           "#B9CFED",
           "#075AAA",
           "#A7A9AC",
           "#A7A9AC",
           "#A7A9AC",
           "#A7A9AC",
           "#A7A9AC",
           "#075AAA",
           "#075AAA",
           "#A7A9AC",
           "#A7A9AC",
           "#B9CFED",
           "#B9CFED",
           "#A7A9AC",
           "#B9CFED",
           "#A7A9AC",
           "#A7A9AC",
           "#075AAA",
           "#A7A9AC",
           "#075AAA",
           "#A7A9AC",
           "#A7A9AC",
           "#A7A9AC",
           "#A7A9AC",
           "#075AAA",
           "#A7A9AC",
           "#075AAA",
           "#A7A9AC",
           "#A7A9AC",
           "#A7A9AC",
           "#A7A9AC",
           "#075AAA",
           "#075AAA",
           "#B9CFED",
           "#A7A9AC",
           "#A7A9AC",
           "#075AAA",
           "#A7A9AC",
           "#01295C",
           "#01295C",
           "#01295C",
           "#075AAA",
           "#075AAA",
           "#A7A9AC",
           "#A7A9AC",
           "#A7A9AC",
           "#B9CFED",
           "#A7A9AC",
           "#A7A9AC",
           "#01295C",
           "#075AAA",
           "#B9CFED",
           "#A7A9AC",
           "#01295C",
           "#A7A9AC",
           "#075AAA",
           "#A7A9AC",
           "#075AAA",
           "#A7A9AC",
           "#A7A9AC",
           "#A7A9AC",
           "#A7A9AC",
           "#A7A9AC",
           "#B9CFED",
           "#075AAA",
           "#075AAA",
           "#075AAA",
           "#01295C",
           "#075AAA",
           "#A7A9AC",
           "#01295C",
           "#A7A9AC",
           "#01295C",
           "#A7A9AC",
           "#075AAA",
           "#01295C",
           "#01295C",
           "#01295C",
           "#A7A9AC",
           "#A7A9AC",
           "#A7A9AC",
           "#A7A9AC",
           "#A7A9AC",
           "#A7A9AC",
           "#A7A9AC",
           "#A7A9AC",
           "#A7A9AC",
           "#A7A9AC",
           "#A7A9AC",
           "#A7A9AC",
           "#01295C",
           "#A7A9AC",
           "#A7A9AC",
           "#01295C",
           "#A7A9AC",
           "#A7A9AC",
           "#A7A9AC",
           "#01295C",
           "#075AAA",
           "#A7A9AC",
           "#A7A9AC",
           "#A7A9AC",
           "#B9CFED",
           "#B9CFED",
           "#A7A9AC",
           "#075AAA",
           "#A7A9AC",
           "#075AAA",
           "#B9CFED",
           "#075AAA",
           "#B9CFED",
           "#075AAA",
           "#A7A9AC",
           "#A7A9AC",
           "#A7A9AC",
           "#01295C",
           "#A7A9AC",
           "#A7A9AC",
           "#A7A9AC",
           "#01295C",
           "#075AAA",
           "#A7A9AC",
           "#A7A9AC",
           "#A7A9AC",
           "#B9CFED",
           "#075AAA",
           "#A7A9AC",
           "#A7A9AC",
           "#01295C",
           "#A7A9AC",
           "#A7A9AC",
           "#075AAA",
           "#A7A9AC",
           "#A7A9AC",
           "#075AAA",
           "#A7A9AC",
           "#A7A9AC",
           "#A7A9AC",
           "#A7A9AC",
           "#075AAA",
           "#A7A9AC",
           "#075AAA",
           "#075AAA",
           "#A7A9AC",
           "#075AAA",
           "#075AAA",
           "#A7A9AC",
           "#A7A9AC",
           "#A7A9AC",
           "#B9CFED",
           "#A7A9AC",
           "#A7A9AC",
           "#A7A9AC",
           "#075AAA",
           "#075AAA",
           "#075AAA",
           "#01295C",
           "#075AAA",
           "#B9CFED",
           "#A7A9AC",
           "#A7A9AC",
           "#A7A9AC",
           "#A7A9AC",
           "#075AAA",
           "#A7A9AC",
           "#01295C",
           "#075AAA",
           "#075AAA",
           "#01295C",
           "#A7A9AC",
           "#01295C",
           "#A7A9AC",
           "#075AAA",
           "#B9CFED",
           "#A7A9AC",
           "#075AAA",
           "#075AAA",
           "#A7A9AC",
           "#A7A9AC",
           "#01295C",
           "#A7A9AC",
           "#A7A9AC",
           "#075AAA",
           "#075AAA",
           "#A7A9AC",
           "#A7A9AC",
           "#A7A9AC",
           "#A7A9AC",
           "#A7A9AC",
           "#075AAA",
           "#B9CFED",
           "#01295C",
           "#A7A9AC",
           "#075AAA",
           "#075AAA",
           "#01295C",
           "#075AAA",
           "#A7A9AC",
           "#A7A9AC",
           "#A7A9AC",
           "#B9CFED",
           "#A7A9AC",
           "#075AAA",
           "#075AAA",
           "#075AAA",
           "#A7A9AC",
           "#A7A9AC",
           "#01295C",
           "#075AAA",
           "#A7A9AC",
           "#A7A9AC",
           "#075AAA",
           "#A7A9AC",
           "#A7A9AC",
           "#A7A9AC",
           "#A7A9AC",
           "#075AAA",
           "#01295C",
           "#075AAA",
           "#075AAA",
           "#B9CFED",
           "#075AAA",
           "#075AAA",
           "#075AAA",
           "#A7A9AC",
           "#A7A9AC",
           "#01295C",
           "#A7A9AC",
           "#A7A9AC",
           "#075AAA",
           "#A7A9AC",
           "#A7A9AC",
           "#075AAA",
           "#A7A9AC",
           "#A7A9AC",
           "#B9CFED",
           "#A7A9AC",
           "#A7A9AC",
           "#A7A9AC",
           "#075AAA",
           "#01295C",
           "#075AAA",
           "#01295C",
           "#075AAA",
           "#075AAA",
           "#B9CFED",
           "#A7A9AC",
           "#A7A9AC",
           "#075AAA",
           "#075AAA",
           "#A7A9AC",
           "#01295C",
           "#A7A9AC",
           "#A7A9AC",
           "#A7A9AC",
           "#075AAA",
           "#01295C",
           "#A7A9AC",
           "#075AAA",
           "#A7A9AC",
           "#01295C",
           "#A7A9AC",
           "#B9CFED",
           "#075AAA",
           "#A7A9AC",
           "#075AAA",
           "#075AAA",
           "#A7A9AC",
           "#A7A9AC",
           "#B9CFED",
           "#B9CFED",
           "#A7A9AC",
           "#A7A9AC",
           "#A7A9AC",
           "#075AAA",
           "#A7A9AC",
           "#B9CFED",
           "#A7A9AC",
           "#A7A9AC",
           "#A7A9AC",
           "#01295C",
           "#A7A9AC",
           "#A7A9AC",
           "#075AAA",
           "#A7A9AC",
           "#A7A9AC",
           "#A7A9AC",
           "#075AAA",
           "#A7A9AC",
           "#B9CFED",
           "#A7A9AC",
           "#A7A9AC",
           "#A7A9AC",
           "#075AAA",
           "#A7A9AC",
           "#A7A9AC",
           "#075AAA",
           "#A7A9AC",
           "#A7A9AC",
           "#A7A9AC",
           "#A7A9AC",
           "#075AAA",
           "#075AAA",
           "#01295C",
           "#075AAA",
           "#01295C",
           "#075AAA",
           "#A7A9AC",
           "#075AAA",
           "#A7A9AC",
           "#A7A9AC",
           "#075AAA",
           "#075AAA",
           "#075AAA",
           "#075AAA",
           "#075AAA",
           "#A7A9AC",
           "#A7A9AC",
           "#A7A9AC",
           "#075AAA",
           "#A7A9AC",
           "#01295C",
           "#A7A9AC",
           "#A7A9AC",
           "#01295C",
           "#01295C",
           "#A7A9AC",
           "#A7A9AC",
           "#A7A9AC",
           "#01295C",
           "#075AAA",
           "#075AAA",
           "#075AAA",
           "#A7A9AC",
           "#A7A9AC",
           "#A7A9AC",
           "#B9CFED",
           "#A7A9AC",
           "#075AAA",
           "#A7A9AC",
           "#A7A9AC",
           "#A7A9AC",
           "#075AAA",
           "#075AAA",
           "#075AAA",
           "#A7A9AC",
           "#A7A9AC",
           "#075AAA",
           "#075AAA",
           "#075AAA",
           "#A7A9AC",
           "#A7A9AC",
           "#B9CFED",
           "#A7A9AC",
           "#A7A9AC",
           "#A7A9AC",
           "#075AAA",
           "#A7A9AC",
           "#A7A9AC",
           "#01295C",
           "#075AAA",
           "#A7A9AC",
           "#075AAA",
           "#01295C",
           "#B9CFED",
           "#075AAA",
           "#A7A9AC",
           "#075AAA",
           "#A7A9AC",
           "#01295C",
           "#A7A9AC",
           "#075AAA",
           "#A7A9AC",
           "#A7A9AC",
           "#075AAA",
           "#A7A9AC",
           "#A7A9AC",
           "#075AAA",
           "#075AAA",
           "#A7A9AC",
           "#A7A9AC",
           "#075AAA",
           "#01295C",
           "#A7A9AC",
           "#075AAA",
           "#01295C",
           "#A7A9AC",
           "#A7A9AC",
           "#A7A9AC",
           "#A7A9AC",
           "#A7A9AC",
           "#075AAA",
           "#A7A9AC",
           "#075AAA",
           "#075AAA",
           "#075AAA",
           "#A7A9AC",
           "#A7A9AC",
           "#075AAA",
           "#A7A9AC",
           "#075AAA",
           "#075AAA",
           "#075AAA",
           "#075AAA",
           "#075AAA",
           "#A7A9AC",
           "#A7A9AC",
           "#A7A9AC",
           "#A7A9AC",
           "#A7A9AC",
           "#B9CFED",
           "#B9CFED",
           "#A7A9AC",
           "#075AAA",
           "#A7A9AC",
           "#A7A9AC",
           "#075AAA",
           "#075AAA",
           "#01295C",
           "#B9CFED",
           "#075AAA",
           "#A7A9AC",
           "#A7A9AC",
           "#075AAA",
           "#01295C",
           "#A7A9AC",
           "#B9CFED",
           "#A7A9AC",
           "#A7A9AC",
           "#A7A9AC",
           "#A7A9AC",
           "#A7A9AC",
           "#A7A9AC",
           "#A7A9AC",
           "#075AAA",
           "#A7A9AC",
           "#A7A9AC",
           "#01295C",
           "#01295C",
           "#A7A9AC",
           "#A7A9AC",
           "#B9CFED",
           "#B9CFED",
           "#B9CFED",
           "#075AAA",
           "#075AAA",
           "#A7A9AC",
           "#075AAA",
           "#A7A9AC",
           "#A7A9AC",
           "#075AAA",
           "#075AAA",
           "#A7A9AC",
           "#A7A9AC",
           "#075AAA",
           "#A7A9AC",
           "#A7A9AC",
           "#A7A9AC",
           "#075AAA",
           "#B9CFED",
           "#01295C",
           "#A7A9AC",
           "#A7A9AC",
           "#B9CFED",
           "#075AAA",
           "#A7A9AC",
           "#A7A9AC",
           "#A7A9AC",
           "#A7A9AC",
           "#075AAA",
           "#A7A9AC",
           "#01295C",
           "#075AAA",
           "#075AAA",
           "#A7A9AC",
           "#075AAA",
           "#075AAA",
           "#075AAA",
           "#A7A9AC",
           "#A7A9AC",
           "#075AAA",
           "#075AAA",
           "#075AAA",
           "#075AAA",
           "#075AAA",
           "#A7A9AC",
           "#A7A9AC",
           "#A7A9AC",
           "#A7A9AC",
           "#075AAA",
           "#075AAA",
           "#01295C",
           "#A7A9AC",
           "#075AAA",
           "#B9CFED",
           "#A7A9AC",
           "#A7A9AC",
           "#A7A9AC",
           "#075AAA",
           "#A7A9AC",
           "#075AAA",
           "#A7A9AC",
           "#A7A9AC",
           "#A7A9AC",
           "#A7A9AC",
           "#A7A9AC",
           "#A7A9AC",
           "#075AAA",
           "#B9CFED",
           "#A7A9AC",
           "#075AAA",
           "#A7A9AC",
           "#A7A9AC",
           "#A7A9AC",
           "#A7A9AC",
           "#075AAA",
           "#075AAA",
           "#A7A9AC",
           "#075AAA",
           "#01295C",
           "#075AAA",
           "#A7A9AC",
           "#A7A9AC",
           "#A7A9AC",
           "#A7A9AC",
           "#A7A9AC",
           "#075AAA",
           "#A7A9AC",
           "#A7A9AC",
           "#075AAA",
           "#A7A9AC",
           "#01295C",
           "#A7A9AC",
           "#A7A9AC",
           "#A7A9AC",
           "#075AAA",
           "#075AAA",
           "#075AAA",
           "#A7A9AC",
           "#B9CFED",
           "#A7A9AC",
           "#A7A9AC",
           "#A7A9AC",
           "#A7A9AC",
           "#A7A9AC",
           "#A7A9AC",
           "#A7A9AC",
           "#075AAA",
           "#A7A9AC",
           "#A7A9AC",
           "#A7A9AC",
           "#01295C",
           "#A7A9AC",
           "#075AAA",
           "#075AAA",
           "#075AAA",
           "#A7A9AC",
           "#A7A9AC",
           "#075AAA",
           "#A7A9AC",
           "#075AAA",
           "#075AAA",
           "#A7A9AC",
           "#A7A9AC",
           "#075AAA",
           "#075AAA",
           "#A7A9AC",
           "#075AAA",
           "#A7A9AC",
           "#A7A9AC",
           "#A7A9AC",
           "#075AAA",
           "#A7A9AC",
           "#A7A9AC",
           "#A7A9AC",
           "#A7A9AC",
           "#A7A9AC",
           "#A7A9AC",
           "#A7A9AC",
           "#B9CFED",
           "#075AAA",
           "#A7A9AC",
           "#A7A9AC",
           "#A7A9AC",
           "#075AAA",
           "#075AAA",
           "#A7A9AC",
           "#075AAA",
           "#075AAA",
           "#01295C",
           "#075AAA",
           "#A7A9AC",
           "#075AAA",
           "#A7A9AC",
           "#A7A9AC",
           "#A7A9AC",
           "#01295C",
           "#075AAA",
           "#A7A9AC",
           "#A7A9AC",
           "#01295C",
           "#A7A9AC",
           "#A7A9AC",
           "#A7A9AC",
           "#A7A9AC",
           "#075AAA",
           "#A7A9AC",
           "#075AAA",
           "#075AAA",
           "#A7A9AC",
           "#A7A9AC",
           "#A7A9AC",
           "#A7A9AC",
           "#A7A9AC",
           "#A7A9AC",
           "#A7A9AC",
           "#A7A9AC",
           "#A7A9AC",
           "#A7A9AC",
           "#075AAA",
           "#A7A9AC",
           "#A7A9AC",
           "#075AAA",
           "#A7A9AC",
           "#A7A9AC",
           "#075AAA",
           "#A7A9AC",
           "#075AAA",
           "#075AAA",
           "#A7A9AC",
           "#A7A9AC",
           "#A7A9AC",
           "#A7A9AC",
           "#075AAA",
           "#075AAA",
           "#A7A9AC",
           "#075AAA",
           "#A7A9AC",
           "#A7A9AC",
           "#A7A9AC",
           "#01295C",
           "#075AAA",
           "#A7A9AC",
           "#01295C",
           "#A7A9AC",
           "#A7A9AC",
           "#A7A9AC",
           "#A7A9AC",
           "#A7A9AC",
           "#A7A9AC",
           "#075AAA",
           "#A7A9AC",
           "#A7A9AC",
           "#A7A9AC",
           "#A7A9AC",
           "#B9CFED",
           "#A7A9AC",
           "#075AAA",
           "#075AAA",
           "#A7A9AC",
           "#A7A9AC",
           "#A7A9AC",
           "#075AAA",
           "#075AAA",
           "#075AAA",
           "#A7A9AC",
           "#A7A9AC",
           "#01295C",
           "#A7A9AC",
           "#01295C",
           "#A7A9AC",
           "#01295C",
           "#A7A9AC",
           "#01295C",
           "#075AAA",
           "#01295C",
           "#A7A9AC",
           "#01295C",
           "#075AAA",
           "#075AAA",
           "#075AAA",
           "#A7A9AC",
           "#01295C",
           "#075AAA",
           "#075AAA",
           "#A7A9AC",
           "#075AAA",
           "#01295C",
           "#A7A9AC",
           "#01295C",
           "#A7A9AC",
           "#075AAA",
           "#075AAA",
           "#01295C",
           "#01295C",
           "#B9CFED",
           "#075AAA",
           "#01295C",
           "#A7A9AC",
           "#A7A9AC",
           "#A7A9AC",
           "#075AAA",
           "#A7A9AC",
           "#01295C",
           "#A7A9AC",
           "#075AAA",
           "#A7A9AC",
           "#075AAA",
           "#A7A9AC",
           "#B9CFED",
           "#075AAA",
           "#01295C",
           "#A7A9AC",
           "#075AAA",
           "#075AAA",
           "#A7A9AC",
           "#075AAA",
           "#075AAA",
           "#A7A9AC",
           "#A7A9AC",
           "#A7A9AC",
           "#A7A9AC",
           "#A7A9AC",
           "#A7A9AC",
           "#075AAA",
           "#A7A9AC",
           "#A7A9AC",
           "#A7A9AC",
           "#A7A9AC",
           "#A7A9AC",
           "#A7A9AC",
           "#075AAA",
           "#A7A9AC",
           "#A7A9AC",
           "#A7A9AC",
           "#01295C",
           "#075AAA",
           "#075AAA",
           "#A7A9AC",
           "#A7A9AC",
           "#A7A9AC",
           "#A7A9AC",
           "#075AAA",
           "#01295C",
           "#A7A9AC",
           "#A7A9AC",
           "#075AAA",
           "#075AAA",
           "#A7A9AC",
           "#A7A9AC",
           "#01295C",
           "#075AAA",
           "#B9CFED",
           "#A7A9AC",
           "#A7A9AC",
           "#A7A9AC",
           "#A7A9AC",
           "#A7A9AC",
           "#01295C",
           "#075AAA",
           "#A7A9AC",
           "#A7A9AC",
           "#A7A9AC",
           "#A7A9AC",
           "#A7A9AC",
           "#075AAA",
           "#A7A9AC",
           "#A7A9AC",
           "#01295C",
           "#A7A9AC",
           "#B9CFED",
           "#B9CFED",
           "#075AAA",
           "#A7A9AC",
           "#A7A9AC",
           "#075AAA",
           "#A7A9AC",
           "#075AAA",
           "#075AAA",
           "#A7A9AC",
           "#A7A9AC",
           "#A7A9AC",
           "#A7A9AC",
           "#A7A9AC",
           "#A7A9AC",
           "#01295C",
           "#075AAA",
           "#075AAA",
           "#A7A9AC",
           "#A7A9AC",
           "#075AAA",
           "#075AAA",
           "#075AAA",
           "#A7A9AC",
           "#A7A9AC",
           "#A7A9AC",
           "#A7A9AC",
           "#A7A9AC",
           "#075AAA",
           "#A7A9AC",
           "#A7A9AC",
           "#075AAA",
           "#A7A9AC",
           "#A7A9AC",
           "#A7A9AC",
           "#A7A9AC",
           "#A7A9AC",
           "#075AAA",
           "#075AAA",
           "#A7A9AC",
           "#075AAA",
           "#A7A9AC",
           "#A7A9AC",
           "#01295C",
           "#A7A9AC",
           "#075AAA",
           "#075AAA",
           "#075AAA",
           "#A7A9AC",
           "#075AAA",
           "#075AAA",
           "#01295C",
           "#A7A9AC",
           "#A7A9AC",
           "#A7A9AC",
           "#A7A9AC",
           "#075AAA",
           "#A7A9AC",
           "#A7A9AC",
           "#075AAA",
           "#A7A9AC",
           "#A7A9AC",
           "#A7A9AC",
           "#A7A9AC",
           "#075AAA",
           "#01295C",
           "#075AAA",
           "#01295C",
           "#A7A9AC",
           "#075AAA",
           "#A7A9AC",
           "#A7A9AC",
           "#A7A9AC",
           "#A7A9AC",
           "#075AAA",
           "#075AAA",
           "#A7A9AC",
           "#A7A9AC",
           "#A7A9AC",
           "#A7A9AC",
           "#075AAA",
           "#A7A9AC",
           "#A7A9AC",
           "#075AAA",
           "#075AAA",
           "#A7A9AC",
           "#075AAA",
           "#A7A9AC",
           "#A7A9AC",
           "#A7A9AC",
           "#A7A9AC",
           "#A7A9AC",
           "#075AAA",
           "#075AAA",
           "#01295C",
           "#A7A9AC",
           "#01295C",
           "#A7A9AC",
           "#A7A9AC",
           "#A7A9AC",
           "#A7A9AC",
           "#01295C",
           "#075AAA",
           "#075AAA",
           "#075AAA",
           "#A7A9AC",
           "#A7A9AC",
           "#A7A9AC",
           "#075AAA",
           "#01295C",
           "#A7A9AC",
           "#075AAA",
           "#01295C",
           "#075AAA",
           "#A7A9AC",
           "#A7A9AC",
           "#A7A9AC",
           "#A7A9AC",
           "#A7A9AC",
           "#B9CFED",
           "#A7A9AC",
           "#A7A9AC",
           "#01295C",
           "#A7A9AC",
           "#A7A9AC",
           "#A7A9AC",
           "#A7A9AC",
           "#A7A9AC",
           "#075AAA",
           "#A7A9AC",
           "#A7A9AC",
           "#A7A9AC",
           "#075AAA",
           "#075AAA",
           "#01295C",
           "#A7A9AC",
           "#A7A9AC",
           "#A7A9AC",
           "#A7A9AC",
           "#075AAA",
           "#A7A9AC",
           "#A7A9AC",
           "#A7A9AC",
           "#A7A9AC",
           "#A7A9AC",
           "#A7A9AC",
           "#A7A9AC",
           "#A7A9AC",
           "#A7A9AC",
           "#075AAA",
           "#075AAA",
           "#075AAA",
           "#075AAA",
           "#A7A9AC",
           "#A7A9AC",
           "#075AAA",
           "#A7A9AC",
           "#A7A9AC",
           "#A7A9AC",
           "#075AAA",
           "#A7A9AC",
           "#A7A9AC",
           "#A7A9AC",
           "#075AAA",
           "#A7A9AC",
           "#01295C",
           "#A7A9AC",
           "#A7A9AC",
           "#A7A9AC",
           "#A7A9AC",
           "#A7A9AC",
           "#A7A9AC",
           "#B9CFED",
           "#075AAA",
           "#A7A9AC",
           "#B9CFED",
           "#B9CFED",
           "#075AAA",
           "#A7A9AC",
           "#A7A9AC",
           "#075AAA",
           "#01295C",
           "#075AAA",
           "#A7A9AC",
           "#A7A9AC",
           "#075AAA",
           "#075AAA",
           "#A7A9AC",
           "#A7A9AC",
           "#075AAA",
           "#B9CFED",
           "#A7A9AC",
           "#A7A9AC",
           "#01295C",
           "#075AAA",
           "#A7A9AC",
           "#A7A9AC",
           "#A7A9AC",
           "#A7A9AC",
           "#075AAA",
           "#075AAA",
           "#A7A9AC",
           "#075AAA",
           "#A7A9AC",
           "#075AAA",
           "#A7A9AC",
           "#A7A9AC",
           "#A7A9AC",
           "#A7A9AC",
           "#A7A9AC",
           "#A7A9AC",
           "#A7A9AC",
           "#075AAA",
           "#A7A9AC",
           "#075AAA",
           "#075AAA",
           "#075AAA",
           "#A7A9AC",
           "#A7A9AC",
           "#A7A9AC",
           "#A7A9AC",
           "#A7A9AC",
           "#A7A9AC",
           "#B9CFED",
           "#A7A9AC",
           "#A7A9AC",
           "#01295C",
           "#A7A9AC",
           "#075AAA",
           "#A7A9AC",
           "#A7A9AC",
           "#01295C",
           "#01295C",
           "#A7A9AC",
           "#A7A9AC",
           "#A7A9AC",
           "#A7A9AC",
           "#01295C",
           "#B9CFED",
           "#A7A9AC",
           "#075AAA",
           "#A7A9AC",
           "#A7A9AC",
           "#01295C",
           "#A7A9AC",
           "#01295C",
           "#01295C",
           "#075AAA",
           "#075AAA",
           "#075AAA",
           "#01295C",
           "#01295C",
           "#075AAA",
           "#A7A9AC",
           "#01295C",
           "#A7A9AC",
           "#A7A9AC",
           "#01295C",
           "#075AAA",
           "#B9CFED",
           "#A7A9AC",
           "#A7A9AC",
           "#01295C",
           "#075AAA",
           "#A7A9AC",
           "#A7A9AC",
           "#075AAA",
           "#075AAA",
           "#A7A9AC",
           "#A7A9AC",
           "#075AAA",
           "#075AAA",
           "#A7A9AC",
           "#A7A9AC",
           "#B9CFED",
           "#A7A9AC",
           "#A7A9AC",
           "#B9CFED",
           "#075AAA",
           "#01295C",
           "#A7A9AC",
           "#075AAA",
           "#A7A9AC",
           "#A7A9AC",
           "#B9CFED",
           "#A7A9AC",
           "#075AAA",
           "#B9CFED",
           "#01295C",
           "#A7A9AC",
           "#A7A9AC",
           "#A7A9AC",
           "#B9CFED",
           "#A7A9AC",
           "#A7A9AC",
           "#01295C",
           "#A7A9AC",
           "#A7A9AC",
           "#B9CFED",
           "#01295C",
           "#01295C",
           "#A7A9AC",
           "#B9CFED",
           "#A7A9AC",
           "#075AAA",
           "#B9CFED",
           "#A7A9AC",
           "#B9CFED",
           "#A7A9AC",
           "#A7A9AC",
           "#A7A9AC",
           "#A7A9AC",
           "#B9CFED",
           "#B9CFED",
           "#075AAA",
           "#01295C",
           "#01295C",
           "#A7A9AC",
           "#A7A9AC",
           "#B9CFED",
           "#01295C",
           "#A7A9AC",
           "#B9CFED",
           "#A7A9AC",
           "#A7A9AC",
           "#075AAA",
           "#A7A9AC",
           "#075AAA",
           "#A7A9AC",
           "#01295C",
           "#A7A9AC",
           "#A7A9AC",
           "#A7A9AC",
           "#A7A9AC",
           "#075AAA",
           "#A7A9AC",
           "#A7A9AC",
           "#075AAA",
           "#075AAA",
           "#A7A9AC",
           "#A7A9AC",
           "#01295C",
           "#A7A9AC",
           "#A7A9AC",
           "#01295C",
           "#075AAA",
           "#A7A9AC",
           "#075AAA",
           "#075AAA",
           "#075AAA",
           "#01295C",
           "#075AAA",
           "#01295C",
           "#B9CFED",
           "#A7A9AC",
           "#A7A9AC",
           "#B9CFED",
           "#A7A9AC",
           "#B9CFED",
           "#A7A9AC",
           "#075AAA",
           "#01295C",
           "#075AAA",
           "#A7A9AC",
           "#B9CFED",
           "#A7A9AC",
           "#A7A9AC",
           "#A7A9AC",
           "#A7A9AC",
           "#A7A9AC",
           "#B9CFED",
           "#A7A9AC",
           "#075AAA",
           "#A7A9AC",
           "#075AAA",
           "#A7A9AC",
           "#A7A9AC",
           "#A7A9AC",
           "#B9CFED",
           "#A7A9AC",
           "#A7A9AC",
           "#A7A9AC",
           "#01295C",
           "#01295C",
           "#A7A9AC",
           "#A7A9AC",
           "#075AAA",
           "#A7A9AC",
           "#A7A9AC",
           "#075AAA",
           "#A7A9AC",
           "#A7A9AC",
           "#B9CFED",
           "#A7A9AC",
           "#075AAA",
           "#B9CFED",
           "#075AAA",
           "#01295C",
           "#A7A9AC",
           "#075AAA",
           "#075AAA",
           "#A7A9AC",
           "#A7A9AC",
           "#01295C",
           "#A7A9AC",
           "#01295C",
           "#01295C",
           "#A7A9AC",
           "#A7A9AC",
           "#A7A9AC",
           "#A7A9AC",
           "#075AAA",
           "#A7A9AC",
           "#A7A9AC",
           "#075AAA",
           "#A7A9AC",
           "#075AAA",
           "#A7A9AC",
           "#B9CFED",
           "#075AAA",
           "#A7A9AC",
           "#A7A9AC",
           "#A7A9AC",
           "#A7A9AC",
           "#A7A9AC",
           "#A7A9AC",
           "#075AAA",
           "#B9CFED",
           "#A7A9AC",
           "#075AAA",
           "#075AAA",
           "#075AAA",
           "#A7A9AC",
           "#A7A9AC",
           "#A7A9AC",
           "#075AAA",
           "#075AAA",
           "#A7A9AC",
           "#A7A9AC",
           "#A7A9AC",
           "#A7A9AC",
           "#075AAA",
           "#075AAA",
           "#A7A9AC",
           "#A7A9AC",
           "#A7A9AC",
           "#075AAA",
           "#A7A9AC",
           "#A7A9AC",
           "#A7A9AC",
           "#A7A9AC",
           "#B9CFED",
           "#A7A9AC",
           "#A7A9AC",
           "#A7A9AC",
           "#01295C",
           "#B9CFED",
           "#B9CFED",
           "#075AAA",
           "#075AAA",
           "#A7A9AC",
           "#A7A9AC",
           "#A7A9AC",
           "#A7A9AC",
           "#A7A9AC",
           "#A7A9AC",
           "#075AAA",
           "#A7A9AC",
           "#A7A9AC",
           "#A7A9AC",
           "#075AAA",
           "#075AAA",
           "#075AAA",
           "#01295C",
           "#A7A9AC",
           "#A7A9AC",
           "#075AAA",
           "#075AAA",
           "#01295C",
           "#B9CFED",
           "#075AAA",
           "#075AAA",
           "#075AAA",
           "#A7A9AC",
           "#A7A9AC",
           "#A7A9AC",
           "#A7A9AC",
           "#075AAA",
           "#01295C",
           "#075AAA",
           "#A7A9AC",
           "#A7A9AC",
           "#B9CFED",
           "#B9CFED",
           "#075AAA",
           "#075AAA",
           "#075AAA",
           "#B9CFED",
           "#075AAA",
           "#075AAA",
           "#075AAA",
           "#A7A9AC",
           "#075AAA",
           "#075AAA",
           "#A7A9AC",
           "#075AAA",
           "#075AAA",
           "#075AAA",
           "#A7A9AC",
           "#A7A9AC",
           "#01295C",
           "#075AAA",
           "#B9CFED",
           "#A7A9AC",
           "#A7A9AC",
           "#A7A9AC",
           "#075AAA",
           "#075AAA",
           "#01295C",
           "#A7A9AC",
           "#A7A9AC",
           "#B9CFED",
           "#A7A9AC",
           "#01295C",
           "#A7A9AC",
           "#A7A9AC",
           "#075AAA",
           "#01295C",
           "#A7A9AC",
           "#A7A9AC",
           "#B9CFED",
           "#A7A9AC",
           "#075AAA",
           "#A7A9AC",
           "#A7A9AC",
           "#075AAA",
           "#075AAA",
           "#A7A9AC",
           "#01295C",
           "#B9CFED",
           "#01295C",
           "#075AAA",
           "#075AAA",
           "#075AAA",
           "#B9CFED",
           "#075AAA",
           "#01295C",
           "#A7A9AC",
           "#B9CFED",
           "#A7A9AC",
           "#B9CFED",
           "#A7A9AC",
           "#A7A9AC",
           "#075AAA",
           "#A7A9AC",
           "#A7A9AC",
           "#A7A9AC",
           "#A7A9AC",
           "#01295C",
           "#A7A9AC",
           "#A7A9AC",
           "#075AAA",
           "#075AAA",
           "#A7A9AC",
           "#A7A9AC",
           "#A7A9AC",
           "#075AAA",
           "#075AAA",
           "#A7A9AC",
           "#A7A9AC",
           "#A7A9AC",
           "#A7A9AC",
           "#A7A9AC",
           "#A7A9AC",
           "#A7A9AC",
           "#075AAA",
           "#A7A9AC",
           "#A7A9AC",
           "#075AAA",
           "#075AAA",
           "#A7A9AC",
           "#075AAA",
           "#A7A9AC",
           "#A7A9AC",
           "#01295C",
           "#A7A9AC",
           "#A7A9AC",
           "#075AAA",
           "#01295C",
           "#01295C",
           "#A7A9AC",
           "#A7A9AC",
           "#01295C",
           "#075AAA",
           "#075AAA",
           "#A7A9AC",
           "#A7A9AC",
           "#A7A9AC",
           "#A7A9AC",
           "#075AAA",
           "#A7A9AC",
           "#B9CFED",
           "#A7A9AC",
           "#A7A9AC",
           "#075AAA",
           "#075AAA",
           "#075AAA",
           "#A7A9AC",
           "#A7A9AC",
           "#075AAA",
           "#A7A9AC",
           "#A7A9AC",
           "#A7A9AC",
           "#075AAA",
           "#01295C",
           "#B9CFED",
           "#A7A9AC",
           "#B9CFED",
           "#075AAA",
           "#A7A9AC",
           "#01295C",
           "#A7A9AC",
           "#B9CFED",
           "#075AAA",
           "#A7A9AC",
           "#A7A9AC",
           "#A7A9AC",
           "#A7A9AC",
           "#075AAA",
           "#075AAA",
           "#A7A9AC",
           "#A7A9AC",
           "#01295C",
           "#075AAA",
           "#01295C",
           "#01295C",
           "#A7A9AC",
           "#075AAA",
           "#075AAA",
           "#A7A9AC",
           "#A7A9AC",
           "#075AAA",
           "#A7A9AC",
           "#A7A9AC",
           "#A7A9AC",
           "#075AAA",
           "#075AAA",
           "#075AAA",
           "#075AAA",
           "#A7A9AC",
           "#075AAA",
           "#01295C",
           "#A7A9AC",
           "#A7A9AC",
           "#A7A9AC",
           "#A7A9AC",
           "#075AAA",
           "#A7A9AC",
           "#B9CFED",
           "#A7A9AC",
           "#A7A9AC",
           "#075AAA",
           "#B9CFED",
           "#075AAA",
           "#A7A9AC",
           "#A7A9AC",
           "#A7A9AC",
           "#01295C",
           "#01295C",
           "#A7A9AC",
           "#075AAA",
           "#075AAA",
           "#A7A9AC",
           "#A7A9AC",
           "#01295C",
           "#A7A9AC",
           "#A7A9AC",
           "#075AAA",
           "#A7A9AC",
           "#01295C",
           "#01295C",
           "#A7A9AC",
           "#075AAA",
           "#01295C",
           "#A7A9AC",
           "#B9CFED",
           "#075AAA",
           "#01295C",
           "#B9CFED",
           "#A7A9AC",
           "#A7A9AC",
           "#075AAA",
           "#A7A9AC",
           "#075AAA",
           "#A7A9AC",
           "#A7A9AC",
           "#075AAA",
           "#075AAA",
           "#A7A9AC",
           "#A7A9AC",
           "#A7A9AC",
           "#A7A9AC",
           "#A7A9AC",
           "#075AAA",
           "#075AAA",
           "#A7A9AC",
           "#01295C",
           "#B9CFED",
           "#01295C",
           "#075AAA",
           "#A7A9AC",
           "#01295C",
           "#B9CFED",
           "#A7A9AC",
           "#A7A9AC",
           "#075AAA",
           "#075AAA",
           "#A7A9AC",
           "#075AAA",
           "#075AAA",
           "#A7A9AC",
           "#A7A9AC",
           "#075AAA",
           "#B9CFED",
           "#075AAA",
           "#075AAA",
           "#A7A9AC",
           "#A7A9AC",
           "#075AAA",
           "#B9CFED",
           "#075AAA",
           "#A7A9AC",
           "#075AAA",
           "#A7A9AC",
           "#A7A9AC",
           "#A7A9AC",
           "#A7A9AC",
           "#B9CFED",
           "#01295C",
           "#B9CFED",
           "#A7A9AC",
           "#B9CFED",
           "#075AAA",
           "#A7A9AC",
           "#A7A9AC",
           "#A7A9AC",
           "#075AAA",
           "#075AAA",
           "#A7A9AC",
           "#A7A9AC",
           "#075AAA",
           "#A7A9AC",
           "#01295C",
           "#01295C",
           "#01295C",
           "#A7A9AC",
           "#A7A9AC",
           "#01295C",
           "#A7A9AC",
           "#A7A9AC",
           "#A7A9AC",
           "#A7A9AC",
           "#B9CFED",
           "#075AAA",
           "#A7A9AC",
           "#A7A9AC",
           "#A7A9AC",
           "#A7A9AC",
           "#075AAA",
           "#A7A9AC",
           "#075AAA",
           "#075AAA",
           "#01295C",
           "#A7A9AC",
           "#075AAA",
           "#B9CFED",
           "#B9CFED",
           "#01295C",
           "#A7A9AC",
           "#A7A9AC",
           "#A7A9AC",
           "#A7A9AC",
           "#A7A9AC",
           "#A7A9AC",
           "#A7A9AC",
           "#01295C",
           "#A7A9AC",
           "#A7A9AC",
           "#075AAA",
           "#075AAA",
           "#075AAA",
           "#A7A9AC",
           "#A7A9AC",
           "#A7A9AC",
           "#A7A9AC",
           "#A7A9AC",
           "#A7A9AC",
           "#075AAA",
           "#01295C",
           "#01295C",
           "#A7A9AC",
           "#A7A9AC",
           "#075AAA",
           "#A7A9AC",
           "#A7A9AC",
           "#A7A9AC",
           "#B9CFED",
           "#A7A9AC",
           "#075AAA",
           "#A7A9AC",
           "#A7A9AC",
           "#075AAA",
           "#075AAA",
           "#A7A9AC",
           "#075AAA",
           "#075AAA",
           "#01295C",
           "#075AAA",
           "#A7A9AC",
           "#075AAA",
           "#075AAA",
           "#A7A9AC",
           "#01295C",
           "#A7A9AC",
           "#A7A9AC",
           "#A7A9AC",
           "#A7A9AC",
           "#01295C",
           "#A7A9AC",
           "#075AAA",
           "#075AAA",
           "#B9CFED",
           "#075AAA",
           "#A7A9AC",
           "#A7A9AC",
           "#A7A9AC",
           "#A7A9AC",
           "#01295C",
           "#B9CFED",
           "#B9CFED",
           "#075AAA",
           "#01295C",
           "#A7A9AC",
           "#A7A9AC",
           "#A7A9AC",
           "#01295C",
           "#A7A9AC",
           "#A7A9AC",
           "#A7A9AC",
           "#075AAA",
           "#A7A9AC",
           "#01295C",
           "#01295C",
           "#A7A9AC",
           "#A7A9AC",
           "#075AAA",
           "#A7A9AC",
           "#B9CFED",
           "#075AAA",
           "#01295C",
           "#A7A9AC",
           "#01295C",
           "#A7A9AC",
           "#075AAA",
           "#01295C",
           "#A7A9AC",
           "#075AAA",
           "#A7A9AC",
           "#075AAA",
           "#075AAA",
           "#01295C",
           "#075AAA",
           "#A7A9AC",
           "#075AAA",
           "#075AAA",
           "#B9CFED",
           "#A7A9AC",
           "#01295C",
           "#A7A9AC",
           "#A7A9AC",
           "#A7A9AC",
           "#B9CFED",
           "#075AAA",
           "#075AAA",
           "#A7A9AC",
           "#A7A9AC",
           "#A7A9AC",
           "#A7A9AC",
           "#A7A9AC",
           "#075AAA",
           "#A7A9AC",
           "#075AAA",
           "#075AAA",
           "#B9CFED",
           "#B9CFED",
           "#A7A9AC"
          ]
         },
         "name": "",
         "showlegend": true,
         "type": "pie"
        }
       ],
       "layout": {
        "legend": {
         "tracegroupgap": 0
        },
        "margin": {
         "b": 30,
         "l": 50,
         "r": 40,
         "t": 50
        },
        "template": {
         "data": {
          "bar": [
           {
            "error_x": {
             "color": "#2a3f5f"
            },
            "error_y": {
             "color": "#2a3f5f"
            },
            "marker": {
             "line": {
              "color": "#E5ECF6",
              "width": 0.5
             },
             "pattern": {
              "fillmode": "overlay",
              "size": 10,
              "solidity": 0.2
             }
            },
            "type": "bar"
           }
          ],
          "barpolar": [
           {
            "marker": {
             "line": {
              "color": "#E5ECF6",
              "width": 0.5
             },
             "pattern": {
              "fillmode": "overlay",
              "size": 10,
              "solidity": 0.2
             }
            },
            "type": "barpolar"
           }
          ],
          "carpet": [
           {
            "aaxis": {
             "endlinecolor": "#2a3f5f",
             "gridcolor": "white",
             "linecolor": "white",
             "minorgridcolor": "white",
             "startlinecolor": "#2a3f5f"
            },
            "baxis": {
             "endlinecolor": "#2a3f5f",
             "gridcolor": "white",
             "linecolor": "white",
             "minorgridcolor": "white",
             "startlinecolor": "#2a3f5f"
            },
            "type": "carpet"
           }
          ],
          "choropleth": [
           {
            "colorbar": {
             "outlinewidth": 0,
             "ticks": ""
            },
            "type": "choropleth"
           }
          ],
          "contour": [
           {
            "colorbar": {
             "outlinewidth": 0,
             "ticks": ""
            },
            "colorscale": [
             [
              0,
              "#0d0887"
             ],
             [
              0.1111111111111111,
              "#46039f"
             ],
             [
              0.2222222222222222,
              "#7201a8"
             ],
             [
              0.3333333333333333,
              "#9c179e"
             ],
             [
              0.4444444444444444,
              "#bd3786"
             ],
             [
              0.5555555555555556,
              "#d8576b"
             ],
             [
              0.6666666666666666,
              "#ed7953"
             ],
             [
              0.7777777777777778,
              "#fb9f3a"
             ],
             [
              0.8888888888888888,
              "#fdca26"
             ],
             [
              1,
              "#f0f921"
             ]
            ],
            "type": "contour"
           }
          ],
          "contourcarpet": [
           {
            "colorbar": {
             "outlinewidth": 0,
             "ticks": ""
            },
            "type": "contourcarpet"
           }
          ],
          "heatmap": [
           {
            "colorbar": {
             "outlinewidth": 0,
             "ticks": ""
            },
            "colorscale": [
             [
              0,
              "#0d0887"
             ],
             [
              0.1111111111111111,
              "#46039f"
             ],
             [
              0.2222222222222222,
              "#7201a8"
             ],
             [
              0.3333333333333333,
              "#9c179e"
             ],
             [
              0.4444444444444444,
              "#bd3786"
             ],
             [
              0.5555555555555556,
              "#d8576b"
             ],
             [
              0.6666666666666666,
              "#ed7953"
             ],
             [
              0.7777777777777778,
              "#fb9f3a"
             ],
             [
              0.8888888888888888,
              "#fdca26"
             ],
             [
              1,
              "#f0f921"
             ]
            ],
            "type": "heatmap"
           }
          ],
          "heatmapgl": [
           {
            "colorbar": {
             "outlinewidth": 0,
             "ticks": ""
            },
            "colorscale": [
             [
              0,
              "#0d0887"
             ],
             [
              0.1111111111111111,
              "#46039f"
             ],
             [
              0.2222222222222222,
              "#7201a8"
             ],
             [
              0.3333333333333333,
              "#9c179e"
             ],
             [
              0.4444444444444444,
              "#bd3786"
             ],
             [
              0.5555555555555556,
              "#d8576b"
             ],
             [
              0.6666666666666666,
              "#ed7953"
             ],
             [
              0.7777777777777778,
              "#fb9f3a"
             ],
             [
              0.8888888888888888,
              "#fdca26"
             ],
             [
              1,
              "#f0f921"
             ]
            ],
            "type": "heatmapgl"
           }
          ],
          "histogram": [
           {
            "marker": {
             "pattern": {
              "fillmode": "overlay",
              "size": 10,
              "solidity": 0.2
             }
            },
            "type": "histogram"
           }
          ],
          "histogram2d": [
           {
            "colorbar": {
             "outlinewidth": 0,
             "ticks": ""
            },
            "colorscale": [
             [
              0,
              "#0d0887"
             ],
             [
              0.1111111111111111,
              "#46039f"
             ],
             [
              0.2222222222222222,
              "#7201a8"
             ],
             [
              0.3333333333333333,
              "#9c179e"
             ],
             [
              0.4444444444444444,
              "#bd3786"
             ],
             [
              0.5555555555555556,
              "#d8576b"
             ],
             [
              0.6666666666666666,
              "#ed7953"
             ],
             [
              0.7777777777777778,
              "#fb9f3a"
             ],
             [
              0.8888888888888888,
              "#fdca26"
             ],
             [
              1,
              "#f0f921"
             ]
            ],
            "type": "histogram2d"
           }
          ],
          "histogram2dcontour": [
           {
            "colorbar": {
             "outlinewidth": 0,
             "ticks": ""
            },
            "colorscale": [
             [
              0,
              "#0d0887"
             ],
             [
              0.1111111111111111,
              "#46039f"
             ],
             [
              0.2222222222222222,
              "#7201a8"
             ],
             [
              0.3333333333333333,
              "#9c179e"
             ],
             [
              0.4444444444444444,
              "#bd3786"
             ],
             [
              0.5555555555555556,
              "#d8576b"
             ],
             [
              0.6666666666666666,
              "#ed7953"
             ],
             [
              0.7777777777777778,
              "#fb9f3a"
             ],
             [
              0.8888888888888888,
              "#fdca26"
             ],
             [
              1,
              "#f0f921"
             ]
            ],
            "type": "histogram2dcontour"
           }
          ],
          "mesh3d": [
           {
            "colorbar": {
             "outlinewidth": 0,
             "ticks": ""
            },
            "type": "mesh3d"
           }
          ],
          "parcoords": [
           {
            "line": {
             "colorbar": {
              "outlinewidth": 0,
              "ticks": ""
             }
            },
            "type": "parcoords"
           }
          ],
          "pie": [
           {
            "automargin": true,
            "type": "pie"
           }
          ],
          "scatter": [
           {
            "fillpattern": {
             "fillmode": "overlay",
             "size": 10,
             "solidity": 0.2
            },
            "type": "scatter"
           }
          ],
          "scatter3d": [
           {
            "line": {
             "colorbar": {
              "outlinewidth": 0,
              "ticks": ""
             }
            },
            "marker": {
             "colorbar": {
              "outlinewidth": 0,
              "ticks": ""
             }
            },
            "type": "scatter3d"
           }
          ],
          "scattercarpet": [
           {
            "marker": {
             "colorbar": {
              "outlinewidth": 0,
              "ticks": ""
             }
            },
            "type": "scattercarpet"
           }
          ],
          "scattergeo": [
           {
            "marker": {
             "colorbar": {
              "outlinewidth": 0,
              "ticks": ""
             }
            },
            "type": "scattergeo"
           }
          ],
          "scattergl": [
           {
            "marker": {
             "colorbar": {
              "outlinewidth": 0,
              "ticks": ""
             }
            },
            "type": "scattergl"
           }
          ],
          "scattermapbox": [
           {
            "marker": {
             "colorbar": {
              "outlinewidth": 0,
              "ticks": ""
             }
            },
            "type": "scattermapbox"
           }
          ],
          "scatterpolar": [
           {
            "marker": {
             "colorbar": {
              "outlinewidth": 0,
              "ticks": ""
             }
            },
            "type": "scatterpolar"
           }
          ],
          "scatterpolargl": [
           {
            "marker": {
             "colorbar": {
              "outlinewidth": 0,
              "ticks": ""
             }
            },
            "type": "scatterpolargl"
           }
          ],
          "scatterternary": [
           {
            "marker": {
             "colorbar": {
              "outlinewidth": 0,
              "ticks": ""
             }
            },
            "type": "scatterternary"
           }
          ],
          "surface": [
           {
            "colorbar": {
             "outlinewidth": 0,
             "ticks": ""
            },
            "colorscale": [
             [
              0,
              "#0d0887"
             ],
             [
              0.1111111111111111,
              "#46039f"
             ],
             [
              0.2222222222222222,
              "#7201a8"
             ],
             [
              0.3333333333333333,
              "#9c179e"
             ],
             [
              0.4444444444444444,
              "#bd3786"
             ],
             [
              0.5555555555555556,
              "#d8576b"
             ],
             [
              0.6666666666666666,
              "#ed7953"
             ],
             [
              0.7777777777777778,
              "#fb9f3a"
             ],
             [
              0.8888888888888888,
              "#fdca26"
             ],
             [
              1,
              "#f0f921"
             ]
            ],
            "type": "surface"
           }
          ],
          "table": [
           {
            "cells": {
             "fill": {
              "color": "#EBF0F8"
             },
             "line": {
              "color": "white"
             }
            },
            "header": {
             "fill": {
              "color": "#C8D4E3"
             },
             "line": {
              "color": "white"
             }
            },
            "type": "table"
           }
          ]
         },
         "layout": {
          "annotationdefaults": {
           "arrowcolor": "#2a3f5f",
           "arrowhead": 0,
           "arrowwidth": 1
          },
          "autotypenumbers": "strict",
          "coloraxis": {
           "colorbar": {
            "outlinewidth": 0,
            "ticks": ""
           }
          },
          "colorscale": {
           "diverging": [
            [
             0,
             "#8e0152"
            ],
            [
             0.1,
             "#c51b7d"
            ],
            [
             0.2,
             "#de77ae"
            ],
            [
             0.3,
             "#f1b6da"
            ],
            [
             0.4,
             "#fde0ef"
            ],
            [
             0.5,
             "#f7f7f7"
            ],
            [
             0.6,
             "#e6f5d0"
            ],
            [
             0.7,
             "#b8e186"
            ],
            [
             0.8,
             "#7fbc41"
            ],
            [
             0.9,
             "#4d9221"
            ],
            [
             1,
             "#276419"
            ]
           ],
           "sequential": [
            [
             0,
             "#0d0887"
            ],
            [
             0.1111111111111111,
             "#46039f"
            ],
            [
             0.2222222222222222,
             "#7201a8"
            ],
            [
             0.3333333333333333,
             "#9c179e"
            ],
            [
             0.4444444444444444,
             "#bd3786"
            ],
            [
             0.5555555555555556,
             "#d8576b"
            ],
            [
             0.6666666666666666,
             "#ed7953"
            ],
            [
             0.7777777777777778,
             "#fb9f3a"
            ],
            [
             0.8888888888888888,
             "#fdca26"
            ],
            [
             1,
             "#f0f921"
            ]
           ],
           "sequentialminus": [
            [
             0,
             "#0d0887"
            ],
            [
             0.1111111111111111,
             "#46039f"
            ],
            [
             0.2222222222222222,
             "#7201a8"
            ],
            [
             0.3333333333333333,
             "#9c179e"
            ],
            [
             0.4444444444444444,
             "#bd3786"
            ],
            [
             0.5555555555555556,
             "#d8576b"
            ],
            [
             0.6666666666666666,
             "#ed7953"
            ],
            [
             0.7777777777777778,
             "#fb9f3a"
            ],
            [
             0.8888888888888888,
             "#fdca26"
            ],
            [
             1,
             "#f0f921"
            ]
           ]
          },
          "colorway": [
           "#636efa",
           "#EF553B",
           "#00cc96",
           "#ab63fa",
           "#FFA15A",
           "#19d3f3",
           "#FF6692",
           "#B6E880",
           "#FF97FF",
           "#FECB52"
          ],
          "font": {
           "color": "#2a3f5f"
          },
          "geo": {
           "bgcolor": "white",
           "lakecolor": "white",
           "landcolor": "#E5ECF6",
           "showlakes": true,
           "showland": true,
           "subunitcolor": "white"
          },
          "hoverlabel": {
           "align": "left"
          },
          "hovermode": "closest",
          "mapbox": {
           "style": "light"
          },
          "paper_bgcolor": "white",
          "plot_bgcolor": "#E5ECF6",
          "polar": {
           "angularaxis": {
            "gridcolor": "white",
            "linecolor": "white",
            "ticks": ""
           },
           "bgcolor": "#E5ECF6",
           "radialaxis": {
            "gridcolor": "white",
            "linecolor": "white",
            "ticks": ""
           }
          },
          "scene": {
           "xaxis": {
            "backgroundcolor": "#E5ECF6",
            "gridcolor": "white",
            "gridwidth": 2,
            "linecolor": "white",
            "showbackground": true,
            "ticks": "",
            "zerolinecolor": "white"
           },
           "yaxis": {
            "backgroundcolor": "#E5ECF6",
            "gridcolor": "white",
            "gridwidth": 2,
            "linecolor": "white",
            "showbackground": true,
            "ticks": "",
            "zerolinecolor": "white"
           },
           "zaxis": {
            "backgroundcolor": "#E5ECF6",
            "gridcolor": "white",
            "gridwidth": 2,
            "linecolor": "white",
            "showbackground": true,
            "ticks": "",
            "zerolinecolor": "white"
           }
          },
          "shapedefaults": {
           "line": {
            "color": "#2a3f5f"
           }
          },
          "ternary": {
           "aaxis": {
            "gridcolor": "white",
            "linecolor": "white",
            "ticks": ""
           },
           "baxis": {
            "gridcolor": "white",
            "linecolor": "white",
            "ticks": ""
           },
           "bgcolor": "#E5ECF6",
           "caxis": {
            "gridcolor": "white",
            "linecolor": "white",
            "ticks": ""
           }
          },
          "title": {
           "x": 0.05
          },
          "xaxis": {
           "automargin": true,
           "gridcolor": "white",
           "linecolor": "white",
           "ticks": "",
           "title": {
            "standoff": 15
           },
           "zerolinecolor": "white",
           "zerolinewidth": 2
          },
          "yaxis": {
           "automargin": true,
           "gridcolor": "white",
           "linecolor": "white",
           "ticks": "",
           "title": {
            "standoff": 15
           },
           "zerolinecolor": "white",
           "zerolinewidth": 2
          }
         }
        },
        "title": {
         "text": "By Seat Type",
         "x": 0.5
        }
       }
      }
     },
     "metadata": {},
     "output_type": "display_data"
    }
   ],
   "source": [
    "fig_seattype = px.pie(df, names = \"seat_type\", color = \"seat_type\",\n",
    "                color_discrete_map = {'Business Class': '#075AAA', 'Economy Class': '#A7A9AC',\n",
    "                                      'First Class': '#B9CFED', 'Premium Economy' : '#01295C' })\n",
    "fig_seattype.update_layout(title = \"By Seat Type\", \n",
    "                               title_x = 0.5,\n",
    "                               margin = dict(l = 50, r = 40, t = 50, b = 30)\n",
    "                               )"
   ]
  },
  {
   "cell_type": "code",
   "execution_count": 49,
   "metadata": {},
   "outputs": [
    {
     "data": {
      "application/vnd.plotly.v1+json": {
       "config": {
        "plotlyServerURL": "https://plot.ly"
       },
       "data": [
        {
         "branchvalues": "total",
         "customdata": [
          [
           "No"
          ],
          [
           "Yes"
          ],
          [
           "Yes"
          ],
          [
           "Yes"
          ],
          [
           "Yes"
          ],
          [
           "(?)"
          ],
          [
           "(?)"
          ],
          [
           "(?)"
          ],
          [
           "(?)"
          ],
          [
           "No"
          ],
          [
           "No"
          ],
          [
           "No"
          ]
         ],
         "domain": {
          "x": [
           0,
           1
          ],
          "y": [
           0,
           1
          ]
         },
         "hovertemplate": "labels=%{label}<br>count=%{value}<br>parent=%{parent}<br>id=%{id}<br>recommended=%{customdata[0]}<extra></extra>",
         "ids": [
          "Couple Leisure/No",
          "Business/Yes",
          "Couple Leisure/Yes",
          "Family Leisure/Yes",
          "Solo Leisure/Yes",
          "Business",
          "Couple Leisure",
          "Family Leisure",
          "Solo Leisure",
          "Business/No",
          "Family Leisure/No",
          "Solo Leisure/No"
         ],
         "labels": [
          "No",
          "Yes",
          "Yes",
          "Yes",
          "Yes",
          "Business",
          "Couple Leisure",
          "Family Leisure",
          "Solo Leisure",
          "No",
          "No",
          "No"
         ],
         "marker": {
          "colors": [
           "#00cc96",
           "#ab63fa",
           "#ab63fa",
           "#ab63fa",
           "#ab63fa",
           "#FFA15A",
           "#FFA15A",
           "#FFA15A",
           "#FFA15A",
           "#00cc96",
           "#00cc96",
           "#00cc96"
          ]
         },
         "name": "",
         "parents": [
          "Couple Leisure",
          "Business",
          "Couple Leisure",
          "Family Leisure",
          "Solo Leisure",
          "",
          "",
          "",
          "",
          "Business",
          "Family Leisure",
          "Solo Leisure"
         ],
         "textinfo": "label+percent parent",
         "type": "sunburst",
         "values": [
          660,
          182,
          340,
          182,
          176,
          500,
          1000,
          500,
          500,
          318,
          318,
          324
         ]
        }
       ],
       "layout": {
        "legend": {
         "tracegroupgap": 0
        },
        "margin": {
         "b": 30,
         "l": 50,
         "r": 40,
         "t": 50
        },
        "template": {
         "data": {
          "bar": [
           {
            "error_x": {
             "color": "#2a3f5f"
            },
            "error_y": {
             "color": "#2a3f5f"
            },
            "marker": {
             "line": {
              "color": "#E5ECF6",
              "width": 0.5
             },
             "pattern": {
              "fillmode": "overlay",
              "size": 10,
              "solidity": 0.2
             }
            },
            "type": "bar"
           }
          ],
          "barpolar": [
           {
            "marker": {
             "line": {
              "color": "#E5ECF6",
              "width": 0.5
             },
             "pattern": {
              "fillmode": "overlay",
              "size": 10,
              "solidity": 0.2
             }
            },
            "type": "barpolar"
           }
          ],
          "carpet": [
           {
            "aaxis": {
             "endlinecolor": "#2a3f5f",
             "gridcolor": "white",
             "linecolor": "white",
             "minorgridcolor": "white",
             "startlinecolor": "#2a3f5f"
            },
            "baxis": {
             "endlinecolor": "#2a3f5f",
             "gridcolor": "white",
             "linecolor": "white",
             "minorgridcolor": "white",
             "startlinecolor": "#2a3f5f"
            },
            "type": "carpet"
           }
          ],
          "choropleth": [
           {
            "colorbar": {
             "outlinewidth": 0,
             "ticks": ""
            },
            "type": "choropleth"
           }
          ],
          "contour": [
           {
            "colorbar": {
             "outlinewidth": 0,
             "ticks": ""
            },
            "colorscale": [
             [
              0,
              "#0d0887"
             ],
             [
              0.1111111111111111,
              "#46039f"
             ],
             [
              0.2222222222222222,
              "#7201a8"
             ],
             [
              0.3333333333333333,
              "#9c179e"
             ],
             [
              0.4444444444444444,
              "#bd3786"
             ],
             [
              0.5555555555555556,
              "#d8576b"
             ],
             [
              0.6666666666666666,
              "#ed7953"
             ],
             [
              0.7777777777777778,
              "#fb9f3a"
             ],
             [
              0.8888888888888888,
              "#fdca26"
             ],
             [
              1,
              "#f0f921"
             ]
            ],
            "type": "contour"
           }
          ],
          "contourcarpet": [
           {
            "colorbar": {
             "outlinewidth": 0,
             "ticks": ""
            },
            "type": "contourcarpet"
           }
          ],
          "heatmap": [
           {
            "colorbar": {
             "outlinewidth": 0,
             "ticks": ""
            },
            "colorscale": [
             [
              0,
              "#0d0887"
             ],
             [
              0.1111111111111111,
              "#46039f"
             ],
             [
              0.2222222222222222,
              "#7201a8"
             ],
             [
              0.3333333333333333,
              "#9c179e"
             ],
             [
              0.4444444444444444,
              "#bd3786"
             ],
             [
              0.5555555555555556,
              "#d8576b"
             ],
             [
              0.6666666666666666,
              "#ed7953"
             ],
             [
              0.7777777777777778,
              "#fb9f3a"
             ],
             [
              0.8888888888888888,
              "#fdca26"
             ],
             [
              1,
              "#f0f921"
             ]
            ],
            "type": "heatmap"
           }
          ],
          "heatmapgl": [
           {
            "colorbar": {
             "outlinewidth": 0,
             "ticks": ""
            },
            "colorscale": [
             [
              0,
              "#0d0887"
             ],
             [
              0.1111111111111111,
              "#46039f"
             ],
             [
              0.2222222222222222,
              "#7201a8"
             ],
             [
              0.3333333333333333,
              "#9c179e"
             ],
             [
              0.4444444444444444,
              "#bd3786"
             ],
             [
              0.5555555555555556,
              "#d8576b"
             ],
             [
              0.6666666666666666,
              "#ed7953"
             ],
             [
              0.7777777777777778,
              "#fb9f3a"
             ],
             [
              0.8888888888888888,
              "#fdca26"
             ],
             [
              1,
              "#f0f921"
             ]
            ],
            "type": "heatmapgl"
           }
          ],
          "histogram": [
           {
            "marker": {
             "pattern": {
              "fillmode": "overlay",
              "size": 10,
              "solidity": 0.2
             }
            },
            "type": "histogram"
           }
          ],
          "histogram2d": [
           {
            "colorbar": {
             "outlinewidth": 0,
             "ticks": ""
            },
            "colorscale": [
             [
              0,
              "#0d0887"
             ],
             [
              0.1111111111111111,
              "#46039f"
             ],
             [
              0.2222222222222222,
              "#7201a8"
             ],
             [
              0.3333333333333333,
              "#9c179e"
             ],
             [
              0.4444444444444444,
              "#bd3786"
             ],
             [
              0.5555555555555556,
              "#d8576b"
             ],
             [
              0.6666666666666666,
              "#ed7953"
             ],
             [
              0.7777777777777778,
              "#fb9f3a"
             ],
             [
              0.8888888888888888,
              "#fdca26"
             ],
             [
              1,
              "#f0f921"
             ]
            ],
            "type": "histogram2d"
           }
          ],
          "histogram2dcontour": [
           {
            "colorbar": {
             "outlinewidth": 0,
             "ticks": ""
            },
            "colorscale": [
             [
              0,
              "#0d0887"
             ],
             [
              0.1111111111111111,
              "#46039f"
             ],
             [
              0.2222222222222222,
              "#7201a8"
             ],
             [
              0.3333333333333333,
              "#9c179e"
             ],
             [
              0.4444444444444444,
              "#bd3786"
             ],
             [
              0.5555555555555556,
              "#d8576b"
             ],
             [
              0.6666666666666666,
              "#ed7953"
             ],
             [
              0.7777777777777778,
              "#fb9f3a"
             ],
             [
              0.8888888888888888,
              "#fdca26"
             ],
             [
              1,
              "#f0f921"
             ]
            ],
            "type": "histogram2dcontour"
           }
          ],
          "mesh3d": [
           {
            "colorbar": {
             "outlinewidth": 0,
             "ticks": ""
            },
            "type": "mesh3d"
           }
          ],
          "parcoords": [
           {
            "line": {
             "colorbar": {
              "outlinewidth": 0,
              "ticks": ""
             }
            },
            "type": "parcoords"
           }
          ],
          "pie": [
           {
            "automargin": true,
            "type": "pie"
           }
          ],
          "scatter": [
           {
            "fillpattern": {
             "fillmode": "overlay",
             "size": 10,
             "solidity": 0.2
            },
            "type": "scatter"
           }
          ],
          "scatter3d": [
           {
            "line": {
             "colorbar": {
              "outlinewidth": 0,
              "ticks": ""
             }
            },
            "marker": {
             "colorbar": {
              "outlinewidth": 0,
              "ticks": ""
             }
            },
            "type": "scatter3d"
           }
          ],
          "scattercarpet": [
           {
            "marker": {
             "colorbar": {
              "outlinewidth": 0,
              "ticks": ""
             }
            },
            "type": "scattercarpet"
           }
          ],
          "scattergeo": [
           {
            "marker": {
             "colorbar": {
              "outlinewidth": 0,
              "ticks": ""
             }
            },
            "type": "scattergeo"
           }
          ],
          "scattergl": [
           {
            "marker": {
             "colorbar": {
              "outlinewidth": 0,
              "ticks": ""
             }
            },
            "type": "scattergl"
           }
          ],
          "scattermapbox": [
           {
            "marker": {
             "colorbar": {
              "outlinewidth": 0,
              "ticks": ""
             }
            },
            "type": "scattermapbox"
           }
          ],
          "scatterpolar": [
           {
            "marker": {
             "colorbar": {
              "outlinewidth": 0,
              "ticks": ""
             }
            },
            "type": "scatterpolar"
           }
          ],
          "scatterpolargl": [
           {
            "marker": {
             "colorbar": {
              "outlinewidth": 0,
              "ticks": ""
             }
            },
            "type": "scatterpolargl"
           }
          ],
          "scatterternary": [
           {
            "marker": {
             "colorbar": {
              "outlinewidth": 0,
              "ticks": ""
             }
            },
            "type": "scatterternary"
           }
          ],
          "surface": [
           {
            "colorbar": {
             "outlinewidth": 0,
             "ticks": ""
            },
            "colorscale": [
             [
              0,
              "#0d0887"
             ],
             [
              0.1111111111111111,
              "#46039f"
             ],
             [
              0.2222222222222222,
              "#7201a8"
             ],
             [
              0.3333333333333333,
              "#9c179e"
             ],
             [
              0.4444444444444444,
              "#bd3786"
             ],
             [
              0.5555555555555556,
              "#d8576b"
             ],
             [
              0.6666666666666666,
              "#ed7953"
             ],
             [
              0.7777777777777778,
              "#fb9f3a"
             ],
             [
              0.8888888888888888,
              "#fdca26"
             ],
             [
              1,
              "#f0f921"
             ]
            ],
            "type": "surface"
           }
          ],
          "table": [
           {
            "cells": {
             "fill": {
              "color": "#EBF0F8"
             },
             "line": {
              "color": "white"
             }
            },
            "header": {
             "fill": {
              "color": "#C8D4E3"
             },
             "line": {
              "color": "white"
             }
            },
            "type": "table"
           }
          ]
         },
         "layout": {
          "annotationdefaults": {
           "arrowcolor": "#2a3f5f",
           "arrowhead": 0,
           "arrowwidth": 1
          },
          "autotypenumbers": "strict",
          "coloraxis": {
           "colorbar": {
            "outlinewidth": 0,
            "ticks": ""
           }
          },
          "colorscale": {
           "diverging": [
            [
             0,
             "#8e0152"
            ],
            [
             0.1,
             "#c51b7d"
            ],
            [
             0.2,
             "#de77ae"
            ],
            [
             0.3,
             "#f1b6da"
            ],
            [
             0.4,
             "#fde0ef"
            ],
            [
             0.5,
             "#f7f7f7"
            ],
            [
             0.6,
             "#e6f5d0"
            ],
            [
             0.7,
             "#b8e186"
            ],
            [
             0.8,
             "#7fbc41"
            ],
            [
             0.9,
             "#4d9221"
            ],
            [
             1,
             "#276419"
            ]
           ],
           "sequential": [
            [
             0,
             "#0d0887"
            ],
            [
             0.1111111111111111,
             "#46039f"
            ],
            [
             0.2222222222222222,
             "#7201a8"
            ],
            [
             0.3333333333333333,
             "#9c179e"
            ],
            [
             0.4444444444444444,
             "#bd3786"
            ],
            [
             0.5555555555555556,
             "#d8576b"
            ],
            [
             0.6666666666666666,
             "#ed7953"
            ],
            [
             0.7777777777777778,
             "#fb9f3a"
            ],
            [
             0.8888888888888888,
             "#fdca26"
            ],
            [
             1,
             "#f0f921"
            ]
           ],
           "sequentialminus": [
            [
             0,
             "#0d0887"
            ],
            [
             0.1111111111111111,
             "#46039f"
            ],
            [
             0.2222222222222222,
             "#7201a8"
            ],
            [
             0.3333333333333333,
             "#9c179e"
            ],
            [
             0.4444444444444444,
             "#bd3786"
            ],
            [
             0.5555555555555556,
             "#d8576b"
            ],
            [
             0.6666666666666666,
             "#ed7953"
            ],
            [
             0.7777777777777778,
             "#fb9f3a"
            ],
            [
             0.8888888888888888,
             "#fdca26"
            ],
            [
             1,
             "#f0f921"
            ]
           ]
          },
          "colorway": [
           "#636efa",
           "#EF553B",
           "#00cc96",
           "#ab63fa",
           "#FFA15A",
           "#19d3f3",
           "#FF6692",
           "#B6E880",
           "#FF97FF",
           "#FECB52"
          ],
          "font": {
           "color": "#2a3f5f"
          },
          "geo": {
           "bgcolor": "white",
           "lakecolor": "white",
           "landcolor": "#E5ECF6",
           "showlakes": true,
           "showland": true,
           "subunitcolor": "white"
          },
          "hoverlabel": {
           "align": "left"
          },
          "hovermode": "closest",
          "mapbox": {
           "style": "light"
          },
          "paper_bgcolor": "white",
          "plot_bgcolor": "#E5ECF6",
          "polar": {
           "angularaxis": {
            "gridcolor": "white",
            "linecolor": "white",
            "ticks": ""
           },
           "bgcolor": "#E5ECF6",
           "radialaxis": {
            "gridcolor": "white",
            "linecolor": "white",
            "ticks": ""
           }
          },
          "scene": {
           "xaxis": {
            "backgroundcolor": "#E5ECF6",
            "gridcolor": "white",
            "gridwidth": 2,
            "linecolor": "white",
            "showbackground": true,
            "ticks": "",
            "zerolinecolor": "white"
           },
           "yaxis": {
            "backgroundcolor": "#E5ECF6",
            "gridcolor": "white",
            "gridwidth": 2,
            "linecolor": "white",
            "showbackground": true,
            "ticks": "",
            "zerolinecolor": "white"
           },
           "zaxis": {
            "backgroundcolor": "#E5ECF6",
            "gridcolor": "white",
            "gridwidth": 2,
            "linecolor": "white",
            "showbackground": true,
            "ticks": "",
            "zerolinecolor": "white"
           }
          },
          "shapedefaults": {
           "line": {
            "color": "#2a3f5f"
           }
          },
          "ternary": {
           "aaxis": {
            "gridcolor": "white",
            "linecolor": "white",
            "ticks": ""
           },
           "baxis": {
            "gridcolor": "white",
            "linecolor": "white",
            "ticks": ""
           },
           "bgcolor": "#E5ECF6",
           "caxis": {
            "gridcolor": "white",
            "linecolor": "white",
            "ticks": ""
           }
          },
          "title": {
           "x": 0.05
          },
          "xaxis": {
           "automargin": true,
           "gridcolor": "white",
           "linecolor": "white",
           "ticks": "",
           "title": {
            "standoff": 15
           },
           "zerolinecolor": "white",
           "zerolinewidth": 2
          },
          "yaxis": {
           "automargin": true,
           "gridcolor": "white",
           "linecolor": "white",
           "ticks": "",
           "title": {
            "standoff": 15
           },
           "zerolinecolor": "white",
           "zerolinewidth": 2
          }
         }
        },
        "title": {
         "text": "By Travel Routes",
         "x": 0.5
        }
       }
      }
     },
     "metadata": {},
     "output_type": "display_data"
    }
   ],
   "source": [
    "fig_travellertype = px.sunburst(df, path = ['type_of_traveller','recommended'],\n",
    "                                color = 'recommended',\n",
    "                                color_discrete_map = {'yes': 'green', 'no': 'red'\n",
    "                                }\n",
    "                                )\n",
    "fig_travellertype.update_layout(title = \"By Travel Routes\",\n",
    "                            title_x = 0.5,\n",
    "                            margin = dict(l = 50, r = 40, t = 50, b = 30)\n",
    ")\n",
    "fig_travellertype.update_traces(textinfo=\"label+percent parent\")"
   ]
  },
  {
   "cell_type": "code",
   "execution_count": 17,
   "metadata": {},
   "outputs": [],
   "source": [
    "df_country = df.groupby(['country']).size().reset_index(name='count')\n",
    "df_c_index = df_country['count'].nlargest(10)"
   ]
  },
  {
   "cell_type": "code",
   "execution_count": 18,
   "metadata": {},
   "outputs": [],
   "source": [
    "top10_counts = df_country[df_country.index.isin(df_c_index.index)]\n",
    "not_top10_counts = df_country[~df_country.index.isin(df_c_index.index)]"
   ]
  },
  {
   "cell_type": "code",
   "execution_count": 19,
   "metadata": {},
   "outputs": [
    {
     "data": {
      "text/plain": [
       "57"
      ]
     },
     "execution_count": 19,
     "metadata": {},
     "output_type": "execute_result"
    }
   ],
   "source": [
    "len(not_top10_counts.country.unique())"
   ]
  },
  {
   "cell_type": "code",
   "execution_count": 20,
   "metadata": {},
   "outputs": [
    {
     "data": {
      "text/plain": [
       "315"
      ]
     },
     "execution_count": 20,
     "metadata": {},
     "output_type": "execute_result"
    }
   ],
   "source": [
    "not_top10_counts['count'].sum()"
   ]
  },
  {
   "cell_type": "code",
   "execution_count": 21,
   "metadata": {},
   "outputs": [
    {
     "data": {
      "text/plain": [
       "'there is a total of 57 nationalities which are not in the top 10 nationalities and amounted to a count of 315'"
      ]
     },
     "execution_count": 21,
     "metadata": {},
     "output_type": "execute_result"
    }
   ],
   "source": [
    "\"there is a total of {} nationalities which are not in the top 10 nationalities and amounted to a count of {}\".format(len(not_top10_counts.country.unique()), not_top10_counts['count'].sum())"
   ]
  },
  {
   "cell_type": "code",
   "execution_count": 22,
   "metadata": {},
   "outputs": [
    {
     "data": {
      "application/vnd.plotly.v1+json": {
       "config": {
        "plotlyServerURL": "https://plot.ly"
       },
       "data": [
        {
         "domain": {
          "x": [
           0,
           1
          ],
          "y": [
           0,
           1
          ]
         },
         "hovertemplate": "country=%{label}<br>count=%{value}<extra></extra>",
         "labels": [
          "Australia",
          "Canada",
          "France",
          "Germany",
          "Ireland",
          "Netherlands",
          "South Africa",
          "Switzerland",
          "United Kingdom",
          "United States"
         ],
         "legendgroup": "",
         "name": "",
         "showlegend": true,
         "type": "pie",
         "values": [
          75,
          80,
          22,
          53,
          22,
          24,
          29,
          28,
          1552,
          300
         ]
        }
       ],
       "layout": {
        "legend": {
         "tracegroupgap": 0
        },
        "margin": {
         "t": 60
        },
        "piecolorway": [
         "rgb(103,0,31)",
         "rgb(178,24,43)",
         "rgb(214,96,77)",
         "rgb(244,165,130)",
         "rgb(253,219,199)",
         "rgb(247,247,247)",
         "rgb(209,229,240)",
         "rgb(146,197,222)",
         "rgb(67,147,195)",
         "rgb(33,102,172)",
         "rgb(5,48,97)"
        ],
        "template": {
         "data": {
          "bar": [
           {
            "error_x": {
             "color": "#2a3f5f"
            },
            "error_y": {
             "color": "#2a3f5f"
            },
            "marker": {
             "line": {
              "color": "#E5ECF6",
              "width": 0.5
             },
             "pattern": {
              "fillmode": "overlay",
              "size": 10,
              "solidity": 0.2
             }
            },
            "type": "bar"
           }
          ],
          "barpolar": [
           {
            "marker": {
             "line": {
              "color": "#E5ECF6",
              "width": 0.5
             },
             "pattern": {
              "fillmode": "overlay",
              "size": 10,
              "solidity": 0.2
             }
            },
            "type": "barpolar"
           }
          ],
          "carpet": [
           {
            "aaxis": {
             "endlinecolor": "#2a3f5f",
             "gridcolor": "white",
             "linecolor": "white",
             "minorgridcolor": "white",
             "startlinecolor": "#2a3f5f"
            },
            "baxis": {
             "endlinecolor": "#2a3f5f",
             "gridcolor": "white",
             "linecolor": "white",
             "minorgridcolor": "white",
             "startlinecolor": "#2a3f5f"
            },
            "type": "carpet"
           }
          ],
          "choropleth": [
           {
            "colorbar": {
             "outlinewidth": 0,
             "ticks": ""
            },
            "type": "choropleth"
           }
          ],
          "contour": [
           {
            "colorbar": {
             "outlinewidth": 0,
             "ticks": ""
            },
            "colorscale": [
             [
              0,
              "#0d0887"
             ],
             [
              0.1111111111111111,
              "#46039f"
             ],
             [
              0.2222222222222222,
              "#7201a8"
             ],
             [
              0.3333333333333333,
              "#9c179e"
             ],
             [
              0.4444444444444444,
              "#bd3786"
             ],
             [
              0.5555555555555556,
              "#d8576b"
             ],
             [
              0.6666666666666666,
              "#ed7953"
             ],
             [
              0.7777777777777778,
              "#fb9f3a"
             ],
             [
              0.8888888888888888,
              "#fdca26"
             ],
             [
              1,
              "#f0f921"
             ]
            ],
            "type": "contour"
           }
          ],
          "contourcarpet": [
           {
            "colorbar": {
             "outlinewidth": 0,
             "ticks": ""
            },
            "type": "contourcarpet"
           }
          ],
          "heatmap": [
           {
            "colorbar": {
             "outlinewidth": 0,
             "ticks": ""
            },
            "colorscale": [
             [
              0,
              "#0d0887"
             ],
             [
              0.1111111111111111,
              "#46039f"
             ],
             [
              0.2222222222222222,
              "#7201a8"
             ],
             [
              0.3333333333333333,
              "#9c179e"
             ],
             [
              0.4444444444444444,
              "#bd3786"
             ],
             [
              0.5555555555555556,
              "#d8576b"
             ],
             [
              0.6666666666666666,
              "#ed7953"
             ],
             [
              0.7777777777777778,
              "#fb9f3a"
             ],
             [
              0.8888888888888888,
              "#fdca26"
             ],
             [
              1,
              "#f0f921"
             ]
            ],
            "type": "heatmap"
           }
          ],
          "heatmapgl": [
           {
            "colorbar": {
             "outlinewidth": 0,
             "ticks": ""
            },
            "colorscale": [
             [
              0,
              "#0d0887"
             ],
             [
              0.1111111111111111,
              "#46039f"
             ],
             [
              0.2222222222222222,
              "#7201a8"
             ],
             [
              0.3333333333333333,
              "#9c179e"
             ],
             [
              0.4444444444444444,
              "#bd3786"
             ],
             [
              0.5555555555555556,
              "#d8576b"
             ],
             [
              0.6666666666666666,
              "#ed7953"
             ],
             [
              0.7777777777777778,
              "#fb9f3a"
             ],
             [
              0.8888888888888888,
              "#fdca26"
             ],
             [
              1,
              "#f0f921"
             ]
            ],
            "type": "heatmapgl"
           }
          ],
          "histogram": [
           {
            "marker": {
             "pattern": {
              "fillmode": "overlay",
              "size": 10,
              "solidity": 0.2
             }
            },
            "type": "histogram"
           }
          ],
          "histogram2d": [
           {
            "colorbar": {
             "outlinewidth": 0,
             "ticks": ""
            },
            "colorscale": [
             [
              0,
              "#0d0887"
             ],
             [
              0.1111111111111111,
              "#46039f"
             ],
             [
              0.2222222222222222,
              "#7201a8"
             ],
             [
              0.3333333333333333,
              "#9c179e"
             ],
             [
              0.4444444444444444,
              "#bd3786"
             ],
             [
              0.5555555555555556,
              "#d8576b"
             ],
             [
              0.6666666666666666,
              "#ed7953"
             ],
             [
              0.7777777777777778,
              "#fb9f3a"
             ],
             [
              0.8888888888888888,
              "#fdca26"
             ],
             [
              1,
              "#f0f921"
             ]
            ],
            "type": "histogram2d"
           }
          ],
          "histogram2dcontour": [
           {
            "colorbar": {
             "outlinewidth": 0,
             "ticks": ""
            },
            "colorscale": [
             [
              0,
              "#0d0887"
             ],
             [
              0.1111111111111111,
              "#46039f"
             ],
             [
              0.2222222222222222,
              "#7201a8"
             ],
             [
              0.3333333333333333,
              "#9c179e"
             ],
             [
              0.4444444444444444,
              "#bd3786"
             ],
             [
              0.5555555555555556,
              "#d8576b"
             ],
             [
              0.6666666666666666,
              "#ed7953"
             ],
             [
              0.7777777777777778,
              "#fb9f3a"
             ],
             [
              0.8888888888888888,
              "#fdca26"
             ],
             [
              1,
              "#f0f921"
             ]
            ],
            "type": "histogram2dcontour"
           }
          ],
          "mesh3d": [
           {
            "colorbar": {
             "outlinewidth": 0,
             "ticks": ""
            },
            "type": "mesh3d"
           }
          ],
          "parcoords": [
           {
            "line": {
             "colorbar": {
              "outlinewidth": 0,
              "ticks": ""
             }
            },
            "type": "parcoords"
           }
          ],
          "pie": [
           {
            "automargin": true,
            "type": "pie"
           }
          ],
          "scatter": [
           {
            "fillpattern": {
             "fillmode": "overlay",
             "size": 10,
             "solidity": 0.2
            },
            "type": "scatter"
           }
          ],
          "scatter3d": [
           {
            "line": {
             "colorbar": {
              "outlinewidth": 0,
              "ticks": ""
             }
            },
            "marker": {
             "colorbar": {
              "outlinewidth": 0,
              "ticks": ""
             }
            },
            "type": "scatter3d"
           }
          ],
          "scattercarpet": [
           {
            "marker": {
             "colorbar": {
              "outlinewidth": 0,
              "ticks": ""
             }
            },
            "type": "scattercarpet"
           }
          ],
          "scattergeo": [
           {
            "marker": {
             "colorbar": {
              "outlinewidth": 0,
              "ticks": ""
             }
            },
            "type": "scattergeo"
           }
          ],
          "scattergl": [
           {
            "marker": {
             "colorbar": {
              "outlinewidth": 0,
              "ticks": ""
             }
            },
            "type": "scattergl"
           }
          ],
          "scattermapbox": [
           {
            "marker": {
             "colorbar": {
              "outlinewidth": 0,
              "ticks": ""
             }
            },
            "type": "scattermapbox"
           }
          ],
          "scatterpolar": [
           {
            "marker": {
             "colorbar": {
              "outlinewidth": 0,
              "ticks": ""
             }
            },
            "type": "scatterpolar"
           }
          ],
          "scatterpolargl": [
           {
            "marker": {
             "colorbar": {
              "outlinewidth": 0,
              "ticks": ""
             }
            },
            "type": "scatterpolargl"
           }
          ],
          "scatterternary": [
           {
            "marker": {
             "colorbar": {
              "outlinewidth": 0,
              "ticks": ""
             }
            },
            "type": "scatterternary"
           }
          ],
          "surface": [
           {
            "colorbar": {
             "outlinewidth": 0,
             "ticks": ""
            },
            "colorscale": [
             [
              0,
              "#0d0887"
             ],
             [
              0.1111111111111111,
              "#46039f"
             ],
             [
              0.2222222222222222,
              "#7201a8"
             ],
             [
              0.3333333333333333,
              "#9c179e"
             ],
             [
              0.4444444444444444,
              "#bd3786"
             ],
             [
              0.5555555555555556,
              "#d8576b"
             ],
             [
              0.6666666666666666,
              "#ed7953"
             ],
             [
              0.7777777777777778,
              "#fb9f3a"
             ],
             [
              0.8888888888888888,
              "#fdca26"
             ],
             [
              1,
              "#f0f921"
             ]
            ],
            "type": "surface"
           }
          ],
          "table": [
           {
            "cells": {
             "fill": {
              "color": "#EBF0F8"
             },
             "line": {
              "color": "white"
             }
            },
            "header": {
             "fill": {
              "color": "#C8D4E3"
             },
             "line": {
              "color": "white"
             }
            },
            "type": "table"
           }
          ]
         },
         "layout": {
          "annotationdefaults": {
           "arrowcolor": "#2a3f5f",
           "arrowhead": 0,
           "arrowwidth": 1
          },
          "autotypenumbers": "strict",
          "coloraxis": {
           "colorbar": {
            "outlinewidth": 0,
            "ticks": ""
           }
          },
          "colorscale": {
           "diverging": [
            [
             0,
             "#8e0152"
            ],
            [
             0.1,
             "#c51b7d"
            ],
            [
             0.2,
             "#de77ae"
            ],
            [
             0.3,
             "#f1b6da"
            ],
            [
             0.4,
             "#fde0ef"
            ],
            [
             0.5,
             "#f7f7f7"
            ],
            [
             0.6,
             "#e6f5d0"
            ],
            [
             0.7,
             "#b8e186"
            ],
            [
             0.8,
             "#7fbc41"
            ],
            [
             0.9,
             "#4d9221"
            ],
            [
             1,
             "#276419"
            ]
           ],
           "sequential": [
            [
             0,
             "#0d0887"
            ],
            [
             0.1111111111111111,
             "#46039f"
            ],
            [
             0.2222222222222222,
             "#7201a8"
            ],
            [
             0.3333333333333333,
             "#9c179e"
            ],
            [
             0.4444444444444444,
             "#bd3786"
            ],
            [
             0.5555555555555556,
             "#d8576b"
            ],
            [
             0.6666666666666666,
             "#ed7953"
            ],
            [
             0.7777777777777778,
             "#fb9f3a"
            ],
            [
             0.8888888888888888,
             "#fdca26"
            ],
            [
             1,
             "#f0f921"
            ]
           ],
           "sequentialminus": [
            [
             0,
             "#0d0887"
            ],
            [
             0.1111111111111111,
             "#46039f"
            ],
            [
             0.2222222222222222,
             "#7201a8"
            ],
            [
             0.3333333333333333,
             "#9c179e"
            ],
            [
             0.4444444444444444,
             "#bd3786"
            ],
            [
             0.5555555555555556,
             "#d8576b"
            ],
            [
             0.6666666666666666,
             "#ed7953"
            ],
            [
             0.7777777777777778,
             "#fb9f3a"
            ],
            [
             0.8888888888888888,
             "#fdca26"
            ],
            [
             1,
             "#f0f921"
            ]
           ]
          },
          "colorway": [
           "#636efa",
           "#EF553B",
           "#00cc96",
           "#ab63fa",
           "#FFA15A",
           "#19d3f3",
           "#FF6692",
           "#B6E880",
           "#FF97FF",
           "#FECB52"
          ],
          "font": {
           "color": "#2a3f5f"
          },
          "geo": {
           "bgcolor": "white",
           "lakecolor": "white",
           "landcolor": "#E5ECF6",
           "showlakes": true,
           "showland": true,
           "subunitcolor": "white"
          },
          "hoverlabel": {
           "align": "left"
          },
          "hovermode": "closest",
          "mapbox": {
           "style": "light"
          },
          "paper_bgcolor": "white",
          "plot_bgcolor": "#E5ECF6",
          "polar": {
           "angularaxis": {
            "gridcolor": "white",
            "linecolor": "white",
            "ticks": ""
           },
           "bgcolor": "#E5ECF6",
           "radialaxis": {
            "gridcolor": "white",
            "linecolor": "white",
            "ticks": ""
           }
          },
          "scene": {
           "xaxis": {
            "backgroundcolor": "#E5ECF6",
            "gridcolor": "white",
            "gridwidth": 2,
            "linecolor": "white",
            "showbackground": true,
            "ticks": "",
            "zerolinecolor": "white"
           },
           "yaxis": {
            "backgroundcolor": "#E5ECF6",
            "gridcolor": "white",
            "gridwidth": 2,
            "linecolor": "white",
            "showbackground": true,
            "ticks": "",
            "zerolinecolor": "white"
           },
           "zaxis": {
            "backgroundcolor": "#E5ECF6",
            "gridcolor": "white",
            "gridwidth": 2,
            "linecolor": "white",
            "showbackground": true,
            "ticks": "",
            "zerolinecolor": "white"
           }
          },
          "shapedefaults": {
           "line": {
            "color": "#2a3f5f"
           }
          },
          "ternary": {
           "aaxis": {
            "gridcolor": "white",
            "linecolor": "white",
            "ticks": ""
           },
           "baxis": {
            "gridcolor": "white",
            "linecolor": "white",
            "ticks": ""
           },
           "bgcolor": "#E5ECF6",
           "caxis": {
            "gridcolor": "white",
            "linecolor": "white",
            "ticks": ""
           }
          },
          "title": {
           "x": 0.05
          },
          "xaxis": {
           "automargin": true,
           "gridcolor": "white",
           "linecolor": "white",
           "ticks": "",
           "title": {
            "standoff": 15
           },
           "zerolinecolor": "white",
           "zerolinewidth": 2
          },
          "yaxis": {
           "automargin": true,
           "gridcolor": "white",
           "linecolor": "white",
           "ticks": "",
           "title": {
            "standoff": 15
           },
           "zerolinecolor": "white",
           "zerolinewidth": 2
          }
         }
        }
       }
      }
     },
     "metadata": {},
     "output_type": "display_data"
    }
   ],
   "source": [
    "px.pie(top10_counts, \n",
    "                        names = 'country',\n",
    "                        values = 'count',\n",
    "                        color_discrete_sequence = px.colors.sequential.RdBu)"
   ]
  },
  {
   "cell_type": "code",
   "execution_count": 48,
   "metadata": {},
   "outputs": [
    {
     "data": {
      "application/vnd.plotly.v1+json": {
       "config": {
        "plotlyServerURL": "https://plot.ly"
       },
       "data": [
        {
         "alignmentgroup": "True",
         "hovertemplate": "country=%{x}<br>count=%{y}<extra></extra>",
         "legendgroup": "Australia",
         "marker": {
          "color": "rgb(3, 5, 18)",
          "pattern": {
           "shape": ""
          }
         },
         "name": "Australia",
         "offsetgroup": "Australia",
         "orientation": "v",
         "showlegend": true,
         "textposition": "outside",
         "texttemplate": "%{y}",
         "type": "bar",
         "x": [
          "Australia"
         ],
         "xaxis": "x",
         "y": [
          75
         ],
         "yaxis": "y"
        },
        {
         "alignmentgroup": "True",
         "hovertemplate": "country=%{x}<br>count=%{y}<extra></extra>",
         "legendgroup": "Canada",
         "marker": {
          "color": "rgb(25, 25, 51)",
          "pattern": {
           "shape": ""
          }
         },
         "name": "Canada",
         "offsetgroup": "Canada",
         "orientation": "v",
         "showlegend": true,
         "textposition": "outside",
         "texttemplate": "%{y}",
         "type": "bar",
         "x": [
          "Canada"
         ],
         "xaxis": "x",
         "y": [
          80
         ],
         "yaxis": "y"
        },
        {
         "alignmentgroup": "True",
         "hovertemplate": "country=%{x}<br>count=%{y}<extra></extra>",
         "legendgroup": "France",
         "marker": {
          "color": "rgb(44, 42, 87)",
          "pattern": {
           "shape": ""
          }
         },
         "name": "France",
         "offsetgroup": "France",
         "orientation": "v",
         "showlegend": true,
         "textposition": "outside",
         "texttemplate": "%{y}",
         "type": "bar",
         "x": [
          "France"
         ],
         "xaxis": "x",
         "y": [
          22
         ],
         "yaxis": "y"
        },
        {
         "alignmentgroup": "True",
         "hovertemplate": "country=%{x}<br>count=%{y}<extra></extra>",
         "legendgroup": "Germany",
         "marker": {
          "color": "rgb(58, 60, 125)",
          "pattern": {
           "shape": ""
          }
         },
         "name": "Germany",
         "offsetgroup": "Germany",
         "orientation": "v",
         "showlegend": true,
         "textposition": "outside",
         "texttemplate": "%{y}",
         "type": "bar",
         "x": [
          "Germany"
         ],
         "xaxis": "x",
         "y": [
          53
         ],
         "yaxis": "y"
        },
        {
         "alignmentgroup": "True",
         "hovertemplate": "country=%{x}<br>count=%{y}<extra></extra>",
         "legendgroup": "Ireland",
         "marker": {
          "color": "rgb(62, 83, 160)",
          "pattern": {
           "shape": ""
          }
         },
         "name": "Ireland",
         "offsetgroup": "Ireland",
         "orientation": "v",
         "showlegend": true,
         "textposition": "outside",
         "texttemplate": "%{y}",
         "type": "bar",
         "x": [
          "Ireland"
         ],
         "xaxis": "x",
         "y": [
          22
         ],
         "yaxis": "y"
        },
        {
         "alignmentgroup": "True",
         "hovertemplate": "country=%{x}<br>count=%{y}<extra></extra>",
         "legendgroup": "Netherlands",
         "marker": {
          "color": "rgb(62, 109, 178)",
          "pattern": {
           "shape": ""
          }
         },
         "name": "Netherlands",
         "offsetgroup": "Netherlands",
         "orientation": "v",
         "showlegend": true,
         "textposition": "outside",
         "texttemplate": "%{y}",
         "type": "bar",
         "x": [
          "Netherlands"
         ],
         "xaxis": "x",
         "y": [
          24
         ],
         "yaxis": "y"
        },
        {
         "alignmentgroup": "True",
         "hovertemplate": "country=%{x}<br>count=%{y}<extra></extra>",
         "legendgroup": "South Africa",
         "marker": {
          "color": "rgb(72, 134, 187)",
          "pattern": {
           "shape": ""
          }
         },
         "name": "South Africa",
         "offsetgroup": "South Africa",
         "orientation": "v",
         "showlegend": true,
         "textposition": "outside",
         "texttemplate": "%{y}",
         "type": "bar",
         "x": [
          "South Africa"
         ],
         "xaxis": "x",
         "y": [
          29
         ],
         "yaxis": "y"
        },
        {
         "alignmentgroup": "True",
         "hovertemplate": "country=%{x}<br>count=%{y}<extra></extra>",
         "legendgroup": "Switzerland",
         "marker": {
          "color": "rgb(89, 159, 196)",
          "pattern": {
           "shape": ""
          }
         },
         "name": "Switzerland",
         "offsetgroup": "Switzerland",
         "orientation": "v",
         "showlegend": true,
         "textposition": "outside",
         "texttemplate": "%{y}",
         "type": "bar",
         "x": [
          "Switzerland"
         ],
         "xaxis": "x",
         "y": [
          28
         ],
         "yaxis": "y"
        },
        {
         "alignmentgroup": "True",
         "hovertemplate": "country=%{x}<br>count=%{y}<extra></extra>",
         "legendgroup": "United Kingdom",
         "marker": {
          "color": "rgb(114, 184, 205)",
          "pattern": {
           "shape": ""
          }
         },
         "name": "United Kingdom",
         "offsetgroup": "United Kingdom",
         "orientation": "v",
         "showlegend": true,
         "textposition": "outside",
         "texttemplate": "%{y}",
         "type": "bar",
         "x": [
          "United Kingdom"
         ],
         "xaxis": "x",
         "y": [
          1552
         ],
         "yaxis": "y"
        },
        {
         "alignmentgroup": "True",
         "hovertemplate": "country=%{x}<br>count=%{y}<extra></extra>",
         "legendgroup": "United States",
         "marker": {
          "color": "rgb(149, 207, 216)",
          "pattern": {
           "shape": ""
          }
         },
         "name": "United States",
         "offsetgroup": "United States",
         "orientation": "v",
         "showlegend": true,
         "textposition": "outside",
         "texttemplate": "%{y}",
         "type": "bar",
         "x": [
          "United States"
         ],
         "xaxis": "x",
         "y": [
          300
         ],
         "yaxis": "y"
        }
       ],
       "layout": {
        "barmode": "relative",
        "hovermode": "x",
        "legend": {
         "title": {
          "text": "country"
         },
         "tracegroupgap": 0
        },
        "margin": {
         "b": 30,
         "l": 50,
         "r": 40,
         "t": 50
        },
        "showlegend": false,
        "template": {
         "data": {
          "bar": [
           {
            "error_x": {
             "color": "#2a3f5f"
            },
            "error_y": {
             "color": "#2a3f5f"
            },
            "marker": {
             "line": {
              "color": "#E5ECF6",
              "width": 0.5
             },
             "pattern": {
              "fillmode": "overlay",
              "size": 10,
              "solidity": 0.2
             }
            },
            "type": "bar"
           }
          ],
          "barpolar": [
           {
            "marker": {
             "line": {
              "color": "#E5ECF6",
              "width": 0.5
             },
             "pattern": {
              "fillmode": "overlay",
              "size": 10,
              "solidity": 0.2
             }
            },
            "type": "barpolar"
           }
          ],
          "carpet": [
           {
            "aaxis": {
             "endlinecolor": "#2a3f5f",
             "gridcolor": "white",
             "linecolor": "white",
             "minorgridcolor": "white",
             "startlinecolor": "#2a3f5f"
            },
            "baxis": {
             "endlinecolor": "#2a3f5f",
             "gridcolor": "white",
             "linecolor": "white",
             "minorgridcolor": "white",
             "startlinecolor": "#2a3f5f"
            },
            "type": "carpet"
           }
          ],
          "choropleth": [
           {
            "colorbar": {
             "outlinewidth": 0,
             "ticks": ""
            },
            "type": "choropleth"
           }
          ],
          "contour": [
           {
            "colorbar": {
             "outlinewidth": 0,
             "ticks": ""
            },
            "colorscale": [
             [
              0,
              "#0d0887"
             ],
             [
              0.1111111111111111,
              "#46039f"
             ],
             [
              0.2222222222222222,
              "#7201a8"
             ],
             [
              0.3333333333333333,
              "#9c179e"
             ],
             [
              0.4444444444444444,
              "#bd3786"
             ],
             [
              0.5555555555555556,
              "#d8576b"
             ],
             [
              0.6666666666666666,
              "#ed7953"
             ],
             [
              0.7777777777777778,
              "#fb9f3a"
             ],
             [
              0.8888888888888888,
              "#fdca26"
             ],
             [
              1,
              "#f0f921"
             ]
            ],
            "type": "contour"
           }
          ],
          "contourcarpet": [
           {
            "colorbar": {
             "outlinewidth": 0,
             "ticks": ""
            },
            "type": "contourcarpet"
           }
          ],
          "heatmap": [
           {
            "colorbar": {
             "outlinewidth": 0,
             "ticks": ""
            },
            "colorscale": [
             [
              0,
              "#0d0887"
             ],
             [
              0.1111111111111111,
              "#46039f"
             ],
             [
              0.2222222222222222,
              "#7201a8"
             ],
             [
              0.3333333333333333,
              "#9c179e"
             ],
             [
              0.4444444444444444,
              "#bd3786"
             ],
             [
              0.5555555555555556,
              "#d8576b"
             ],
             [
              0.6666666666666666,
              "#ed7953"
             ],
             [
              0.7777777777777778,
              "#fb9f3a"
             ],
             [
              0.8888888888888888,
              "#fdca26"
             ],
             [
              1,
              "#f0f921"
             ]
            ],
            "type": "heatmap"
           }
          ],
          "heatmapgl": [
           {
            "colorbar": {
             "outlinewidth": 0,
             "ticks": ""
            },
            "colorscale": [
             [
              0,
              "#0d0887"
             ],
             [
              0.1111111111111111,
              "#46039f"
             ],
             [
              0.2222222222222222,
              "#7201a8"
             ],
             [
              0.3333333333333333,
              "#9c179e"
             ],
             [
              0.4444444444444444,
              "#bd3786"
             ],
             [
              0.5555555555555556,
              "#d8576b"
             ],
             [
              0.6666666666666666,
              "#ed7953"
             ],
             [
              0.7777777777777778,
              "#fb9f3a"
             ],
             [
              0.8888888888888888,
              "#fdca26"
             ],
             [
              1,
              "#f0f921"
             ]
            ],
            "type": "heatmapgl"
           }
          ],
          "histogram": [
           {
            "marker": {
             "pattern": {
              "fillmode": "overlay",
              "size": 10,
              "solidity": 0.2
             }
            },
            "type": "histogram"
           }
          ],
          "histogram2d": [
           {
            "colorbar": {
             "outlinewidth": 0,
             "ticks": ""
            },
            "colorscale": [
             [
              0,
              "#0d0887"
             ],
             [
              0.1111111111111111,
              "#46039f"
             ],
             [
              0.2222222222222222,
              "#7201a8"
             ],
             [
              0.3333333333333333,
              "#9c179e"
             ],
             [
              0.4444444444444444,
              "#bd3786"
             ],
             [
              0.5555555555555556,
              "#d8576b"
             ],
             [
              0.6666666666666666,
              "#ed7953"
             ],
             [
              0.7777777777777778,
              "#fb9f3a"
             ],
             [
              0.8888888888888888,
              "#fdca26"
             ],
             [
              1,
              "#f0f921"
             ]
            ],
            "type": "histogram2d"
           }
          ],
          "histogram2dcontour": [
           {
            "colorbar": {
             "outlinewidth": 0,
             "ticks": ""
            },
            "colorscale": [
             [
              0,
              "#0d0887"
             ],
             [
              0.1111111111111111,
              "#46039f"
             ],
             [
              0.2222222222222222,
              "#7201a8"
             ],
             [
              0.3333333333333333,
              "#9c179e"
             ],
             [
              0.4444444444444444,
              "#bd3786"
             ],
             [
              0.5555555555555556,
              "#d8576b"
             ],
             [
              0.6666666666666666,
              "#ed7953"
             ],
             [
              0.7777777777777778,
              "#fb9f3a"
             ],
             [
              0.8888888888888888,
              "#fdca26"
             ],
             [
              1,
              "#f0f921"
             ]
            ],
            "type": "histogram2dcontour"
           }
          ],
          "mesh3d": [
           {
            "colorbar": {
             "outlinewidth": 0,
             "ticks": ""
            },
            "type": "mesh3d"
           }
          ],
          "parcoords": [
           {
            "line": {
             "colorbar": {
              "outlinewidth": 0,
              "ticks": ""
             }
            },
            "type": "parcoords"
           }
          ],
          "pie": [
           {
            "automargin": true,
            "type": "pie"
           }
          ],
          "scatter": [
           {
            "fillpattern": {
             "fillmode": "overlay",
             "size": 10,
             "solidity": 0.2
            },
            "type": "scatter"
           }
          ],
          "scatter3d": [
           {
            "line": {
             "colorbar": {
              "outlinewidth": 0,
              "ticks": ""
             }
            },
            "marker": {
             "colorbar": {
              "outlinewidth": 0,
              "ticks": ""
             }
            },
            "type": "scatter3d"
           }
          ],
          "scattercarpet": [
           {
            "marker": {
             "colorbar": {
              "outlinewidth": 0,
              "ticks": ""
             }
            },
            "type": "scattercarpet"
           }
          ],
          "scattergeo": [
           {
            "marker": {
             "colorbar": {
              "outlinewidth": 0,
              "ticks": ""
             }
            },
            "type": "scattergeo"
           }
          ],
          "scattergl": [
           {
            "marker": {
             "colorbar": {
              "outlinewidth": 0,
              "ticks": ""
             }
            },
            "type": "scattergl"
           }
          ],
          "scattermapbox": [
           {
            "marker": {
             "colorbar": {
              "outlinewidth": 0,
              "ticks": ""
             }
            },
            "type": "scattermapbox"
           }
          ],
          "scatterpolar": [
           {
            "marker": {
             "colorbar": {
              "outlinewidth": 0,
              "ticks": ""
             }
            },
            "type": "scatterpolar"
           }
          ],
          "scatterpolargl": [
           {
            "marker": {
             "colorbar": {
              "outlinewidth": 0,
              "ticks": ""
             }
            },
            "type": "scatterpolargl"
           }
          ],
          "scatterternary": [
           {
            "marker": {
             "colorbar": {
              "outlinewidth": 0,
              "ticks": ""
             }
            },
            "type": "scatterternary"
           }
          ],
          "surface": [
           {
            "colorbar": {
             "outlinewidth": 0,
             "ticks": ""
            },
            "colorscale": [
             [
              0,
              "#0d0887"
             ],
             [
              0.1111111111111111,
              "#46039f"
             ],
             [
              0.2222222222222222,
              "#7201a8"
             ],
             [
              0.3333333333333333,
              "#9c179e"
             ],
             [
              0.4444444444444444,
              "#bd3786"
             ],
             [
              0.5555555555555556,
              "#d8576b"
             ],
             [
              0.6666666666666666,
              "#ed7953"
             ],
             [
              0.7777777777777778,
              "#fb9f3a"
             ],
             [
              0.8888888888888888,
              "#fdca26"
             ],
             [
              1,
              "#f0f921"
             ]
            ],
            "type": "surface"
           }
          ],
          "table": [
           {
            "cells": {
             "fill": {
              "color": "#EBF0F8"
             },
             "line": {
              "color": "white"
             }
            },
            "header": {
             "fill": {
              "color": "#C8D4E3"
             },
             "line": {
              "color": "white"
             }
            },
            "type": "table"
           }
          ]
         },
         "layout": {
          "annotationdefaults": {
           "arrowcolor": "#2a3f5f",
           "arrowhead": 0,
           "arrowwidth": 1
          },
          "autotypenumbers": "strict",
          "coloraxis": {
           "colorbar": {
            "outlinewidth": 0,
            "ticks": ""
           }
          },
          "colorscale": {
           "diverging": [
            [
             0,
             "#8e0152"
            ],
            [
             0.1,
             "#c51b7d"
            ],
            [
             0.2,
             "#de77ae"
            ],
            [
             0.3,
             "#f1b6da"
            ],
            [
             0.4,
             "#fde0ef"
            ],
            [
             0.5,
             "#f7f7f7"
            ],
            [
             0.6,
             "#e6f5d0"
            ],
            [
             0.7,
             "#b8e186"
            ],
            [
             0.8,
             "#7fbc41"
            ],
            [
             0.9,
             "#4d9221"
            ],
            [
             1,
             "#276419"
            ]
           ],
           "sequential": [
            [
             0,
             "#0d0887"
            ],
            [
             0.1111111111111111,
             "#46039f"
            ],
            [
             0.2222222222222222,
             "#7201a8"
            ],
            [
             0.3333333333333333,
             "#9c179e"
            ],
            [
             0.4444444444444444,
             "#bd3786"
            ],
            [
             0.5555555555555556,
             "#d8576b"
            ],
            [
             0.6666666666666666,
             "#ed7953"
            ],
            [
             0.7777777777777778,
             "#fb9f3a"
            ],
            [
             0.8888888888888888,
             "#fdca26"
            ],
            [
             1,
             "#f0f921"
            ]
           ],
           "sequentialminus": [
            [
             0,
             "#0d0887"
            ],
            [
             0.1111111111111111,
             "#46039f"
            ],
            [
             0.2222222222222222,
             "#7201a8"
            ],
            [
             0.3333333333333333,
             "#9c179e"
            ],
            [
             0.4444444444444444,
             "#bd3786"
            ],
            [
             0.5555555555555556,
             "#d8576b"
            ],
            [
             0.6666666666666666,
             "#ed7953"
            ],
            [
             0.7777777777777778,
             "#fb9f3a"
            ],
            [
             0.8888888888888888,
             "#fdca26"
            ],
            [
             1,
             "#f0f921"
            ]
           ]
          },
          "colorway": [
           "#636efa",
           "#EF553B",
           "#00cc96",
           "#ab63fa",
           "#FFA15A",
           "#19d3f3",
           "#FF6692",
           "#B6E880",
           "#FF97FF",
           "#FECB52"
          ],
          "font": {
           "color": "#2a3f5f"
          },
          "geo": {
           "bgcolor": "white",
           "lakecolor": "white",
           "landcolor": "#E5ECF6",
           "showlakes": true,
           "showland": true,
           "subunitcolor": "white"
          },
          "hoverlabel": {
           "align": "left"
          },
          "hovermode": "closest",
          "mapbox": {
           "style": "light"
          },
          "paper_bgcolor": "white",
          "plot_bgcolor": "#E5ECF6",
          "polar": {
           "angularaxis": {
            "gridcolor": "white",
            "linecolor": "white",
            "ticks": ""
           },
           "bgcolor": "#E5ECF6",
           "radialaxis": {
            "gridcolor": "white",
            "linecolor": "white",
            "ticks": ""
           }
          },
          "scene": {
           "xaxis": {
            "backgroundcolor": "#E5ECF6",
            "gridcolor": "white",
            "gridwidth": 2,
            "linecolor": "white",
            "showbackground": true,
            "ticks": "",
            "zerolinecolor": "white"
           },
           "yaxis": {
            "backgroundcolor": "#E5ECF6",
            "gridcolor": "white",
            "gridwidth": 2,
            "linecolor": "white",
            "showbackground": true,
            "ticks": "",
            "zerolinecolor": "white"
           },
           "zaxis": {
            "backgroundcolor": "#E5ECF6",
            "gridcolor": "white",
            "gridwidth": 2,
            "linecolor": "white",
            "showbackground": true,
            "ticks": "",
            "zerolinecolor": "white"
           }
          },
          "shapedefaults": {
           "line": {
            "color": "#2a3f5f"
           }
          },
          "ternary": {
           "aaxis": {
            "gridcolor": "white",
            "linecolor": "white",
            "ticks": ""
           },
           "baxis": {
            "gridcolor": "white",
            "linecolor": "white",
            "ticks": ""
           },
           "bgcolor": "#E5ECF6",
           "caxis": {
            "gridcolor": "white",
            "linecolor": "white",
            "ticks": ""
           }
          },
          "title": {
           "x": 0.05
          },
          "xaxis": {
           "automargin": true,
           "gridcolor": "white",
           "linecolor": "white",
           "ticks": "",
           "title": {
            "standoff": 15
           },
           "zerolinecolor": "white",
           "zerolinewidth": 2
          },
          "yaxis": {
           "automargin": true,
           "gridcolor": "white",
           "linecolor": "white",
           "ticks": "",
           "title": {
            "standoff": 15
           },
           "zerolinecolor": "white",
           "zerolinewidth": 2
          }
         }
        },
        "title": {
         "text": "By Top 10 Countries",
         "x": 0.5
        },
        "xaxis": {
         "anchor": "y",
         "categoryarray": [
          "Australia",
          "Canada",
          "France",
          "Germany",
          "Ireland",
          "Netherlands",
          "South Africa",
          "Switzerland",
          "United Kingdom",
          "United States"
         ],
         "categoryorder": "total descending",
         "domain": [
          0,
          1
         ],
         "title": {}
        },
        "yaxis": {
         "anchor": "x",
         "domain": [
          0,
          1
         ],
         "title": {
          "text": "Number of Reviews"
         }
        }
       }
      }
     },
     "metadata": {},
     "output_type": "display_data"
    }
   ],
   "source": [
    "fig_country = px.bar(top10_counts, x = 'country', y = 'count',\n",
    "                        color = 'country',\n",
    "                        color_discrete_sequence = px.colors.sequential.ice,\n",
    "                        text_auto = True)\n",
    "fig_country.update_layout(hovermode=\"x\",\n",
    "                        title = \"By Top 10 Countries\",\n",
    "                        title_x = 0.5,\n",
    "                        yaxis_title = 'Number of Reviews',\n",
    "                        xaxis_title = None,\n",
    "                        xaxis = {'categoryorder':'total descending'},\n",
    "                        showlegend = False,\n",
    "                        margin = dict(l = 50, r = 40, t = 50, b = 30)\n",
    "                        )\n",
    "fig_country.update_traces(textposition=\"outside\")"
   ]
  },
  {
   "cell_type": "code",
   "execution_count": null,
   "metadata": {},
   "outputs": [
    {
     "data": {
      "application/vnd.plotly.v1+json": {
       "config": {
        "plotlyServerURL": "https://plot.ly"
       },
       "data": [
        {
         "branchvalues": "total",
         "domain": {
          "x": [
           0,
           1
          ],
          "y": [
           0,
           1
          ]
         },
         "hovertemplate": "labels=%{label}<br>count=%{value}<br>parent=%{parent}<br>id=%{id}<extra></extra>",
         "ids": [
          "LHR/CPT",
          "Denver/Heathrow",
          "Rome/Heathrow",
          "BKK/LHR",
          "BLR/LHR",
          "Heathrow/Las Vegas",
          "London/Luanda",
          "London/Sydney",
          "London/Tampa",
          "Gatwick/Venice",
          "BKK",
          "BLR",
          "Denver",
          "Gatwick",
          "Heathrow",
          "LHR",
          "London",
          "Rome"
         ],
         "labels": [
          "CPT",
          "Heathrow",
          "Heathrow",
          "LHR",
          "LHR",
          "Las Vegas",
          "Luanda",
          "Sydney",
          "Tampa",
          "Venice",
          "BKK",
          "BLR",
          "Denver",
          "Gatwick",
          "Heathrow",
          "LHR",
          "London",
          "Rome"
         ],
         "name": "",
         "parents": [
          "LHR",
          "Denver",
          "Rome",
          "BKK",
          "BLR",
          "Heathrow",
          "London",
          "London",
          "London",
          "Gatwick",
          "",
          "",
          "",
          "",
          "",
          "",
          "",
          ""
         ],
         "textinfo": "label+percent parent",
         "type": "sunburst",
         "values": [
          250,
          250,
          250,
          250,
          250,
          250,
          250,
          250,
          250,
          250,
          250,
          250,
          250,
          250,
          250,
          250,
          750,
          250
         ]
        }
       ],
       "layout": {
        "legend": {
         "tracegroupgap": 0
        },
        "margin": {
         "b": 30,
         "l": 50,
         "r": 40,
         "t": 50
        },
        "sunburstcolorway": [
         "rgb(103,0,31)",
         "rgb(178,24,43)",
         "rgb(214,96,77)",
         "rgb(244,165,130)",
         "rgb(253,219,199)",
         "rgb(247,247,247)",
         "rgb(209,229,240)",
         "rgb(146,197,222)",
         "rgb(67,147,195)",
         "rgb(33,102,172)",
         "rgb(5,48,97)"
        ],
        "template": {
         "data": {
          "bar": [
           {
            "error_x": {
             "color": "#2a3f5f"
            },
            "error_y": {
             "color": "#2a3f5f"
            },
            "marker": {
             "line": {
              "color": "#E5ECF6",
              "width": 0.5
             },
             "pattern": {
              "fillmode": "overlay",
              "size": 10,
              "solidity": 0.2
             }
            },
            "type": "bar"
           }
          ],
          "barpolar": [
           {
            "marker": {
             "line": {
              "color": "#E5ECF6",
              "width": 0.5
             },
             "pattern": {
              "fillmode": "overlay",
              "size": 10,
              "solidity": 0.2
             }
            },
            "type": "barpolar"
           }
          ],
          "carpet": [
           {
            "aaxis": {
             "endlinecolor": "#2a3f5f",
             "gridcolor": "white",
             "linecolor": "white",
             "minorgridcolor": "white",
             "startlinecolor": "#2a3f5f"
            },
            "baxis": {
             "endlinecolor": "#2a3f5f",
             "gridcolor": "white",
             "linecolor": "white",
             "minorgridcolor": "white",
             "startlinecolor": "#2a3f5f"
            },
            "type": "carpet"
           }
          ],
          "choropleth": [
           {
            "colorbar": {
             "outlinewidth": 0,
             "ticks": ""
            },
            "type": "choropleth"
           }
          ],
          "contour": [
           {
            "colorbar": {
             "outlinewidth": 0,
             "ticks": ""
            },
            "colorscale": [
             [
              0,
              "#0d0887"
             ],
             [
              0.1111111111111111,
              "#46039f"
             ],
             [
              0.2222222222222222,
              "#7201a8"
             ],
             [
              0.3333333333333333,
              "#9c179e"
             ],
             [
              0.4444444444444444,
              "#bd3786"
             ],
             [
              0.5555555555555556,
              "#d8576b"
             ],
             [
              0.6666666666666666,
              "#ed7953"
             ],
             [
              0.7777777777777778,
              "#fb9f3a"
             ],
             [
              0.8888888888888888,
              "#fdca26"
             ],
             [
              1,
              "#f0f921"
             ]
            ],
            "type": "contour"
           }
          ],
          "contourcarpet": [
           {
            "colorbar": {
             "outlinewidth": 0,
             "ticks": ""
            },
            "type": "contourcarpet"
           }
          ],
          "heatmap": [
           {
            "colorbar": {
             "outlinewidth": 0,
             "ticks": ""
            },
            "colorscale": [
             [
              0,
              "#0d0887"
             ],
             [
              0.1111111111111111,
              "#46039f"
             ],
             [
              0.2222222222222222,
              "#7201a8"
             ],
             [
              0.3333333333333333,
              "#9c179e"
             ],
             [
              0.4444444444444444,
              "#bd3786"
             ],
             [
              0.5555555555555556,
              "#d8576b"
             ],
             [
              0.6666666666666666,
              "#ed7953"
             ],
             [
              0.7777777777777778,
              "#fb9f3a"
             ],
             [
              0.8888888888888888,
              "#fdca26"
             ],
             [
              1,
              "#f0f921"
             ]
            ],
            "type": "heatmap"
           }
          ],
          "heatmapgl": [
           {
            "colorbar": {
             "outlinewidth": 0,
             "ticks": ""
            },
            "colorscale": [
             [
              0,
              "#0d0887"
             ],
             [
              0.1111111111111111,
              "#46039f"
             ],
             [
              0.2222222222222222,
              "#7201a8"
             ],
             [
              0.3333333333333333,
              "#9c179e"
             ],
             [
              0.4444444444444444,
              "#bd3786"
             ],
             [
              0.5555555555555556,
              "#d8576b"
             ],
             [
              0.6666666666666666,
              "#ed7953"
             ],
             [
              0.7777777777777778,
              "#fb9f3a"
             ],
             [
              0.8888888888888888,
              "#fdca26"
             ],
             [
              1,
              "#f0f921"
             ]
            ],
            "type": "heatmapgl"
           }
          ],
          "histogram": [
           {
            "marker": {
             "pattern": {
              "fillmode": "overlay",
              "size": 10,
              "solidity": 0.2
             }
            },
            "type": "histogram"
           }
          ],
          "histogram2d": [
           {
            "colorbar": {
             "outlinewidth": 0,
             "ticks": ""
            },
            "colorscale": [
             [
              0,
              "#0d0887"
             ],
             [
              0.1111111111111111,
              "#46039f"
             ],
             [
              0.2222222222222222,
              "#7201a8"
             ],
             [
              0.3333333333333333,
              "#9c179e"
             ],
             [
              0.4444444444444444,
              "#bd3786"
             ],
             [
              0.5555555555555556,
              "#d8576b"
             ],
             [
              0.6666666666666666,
              "#ed7953"
             ],
             [
              0.7777777777777778,
              "#fb9f3a"
             ],
             [
              0.8888888888888888,
              "#fdca26"
             ],
             [
              1,
              "#f0f921"
             ]
            ],
            "type": "histogram2d"
           }
          ],
          "histogram2dcontour": [
           {
            "colorbar": {
             "outlinewidth": 0,
             "ticks": ""
            },
            "colorscale": [
             [
              0,
              "#0d0887"
             ],
             [
              0.1111111111111111,
              "#46039f"
             ],
             [
              0.2222222222222222,
              "#7201a8"
             ],
             [
              0.3333333333333333,
              "#9c179e"
             ],
             [
              0.4444444444444444,
              "#bd3786"
             ],
             [
              0.5555555555555556,
              "#d8576b"
             ],
             [
              0.6666666666666666,
              "#ed7953"
             ],
             [
              0.7777777777777778,
              "#fb9f3a"
             ],
             [
              0.8888888888888888,
              "#fdca26"
             ],
             [
              1,
              "#f0f921"
             ]
            ],
            "type": "histogram2dcontour"
           }
          ],
          "mesh3d": [
           {
            "colorbar": {
             "outlinewidth": 0,
             "ticks": ""
            },
            "type": "mesh3d"
           }
          ],
          "parcoords": [
           {
            "line": {
             "colorbar": {
              "outlinewidth": 0,
              "ticks": ""
             }
            },
            "type": "parcoords"
           }
          ],
          "pie": [
           {
            "automargin": true,
            "type": "pie"
           }
          ],
          "scatter": [
           {
            "fillpattern": {
             "fillmode": "overlay",
             "size": 10,
             "solidity": 0.2
            },
            "type": "scatter"
           }
          ],
          "scatter3d": [
           {
            "line": {
             "colorbar": {
              "outlinewidth": 0,
              "ticks": ""
             }
            },
            "marker": {
             "colorbar": {
              "outlinewidth": 0,
              "ticks": ""
             }
            },
            "type": "scatter3d"
           }
          ],
          "scattercarpet": [
           {
            "marker": {
             "colorbar": {
              "outlinewidth": 0,
              "ticks": ""
             }
            },
            "type": "scattercarpet"
           }
          ],
          "scattergeo": [
           {
            "marker": {
             "colorbar": {
              "outlinewidth": 0,
              "ticks": ""
             }
            },
            "type": "scattergeo"
           }
          ],
          "scattergl": [
           {
            "marker": {
             "colorbar": {
              "outlinewidth": 0,
              "ticks": ""
             }
            },
            "type": "scattergl"
           }
          ],
          "scattermapbox": [
           {
            "marker": {
             "colorbar": {
              "outlinewidth": 0,
              "ticks": ""
             }
            },
            "type": "scattermapbox"
           }
          ],
          "scatterpolar": [
           {
            "marker": {
             "colorbar": {
              "outlinewidth": 0,
              "ticks": ""
             }
            },
            "type": "scatterpolar"
           }
          ],
          "scatterpolargl": [
           {
            "marker": {
             "colorbar": {
              "outlinewidth": 0,
              "ticks": ""
             }
            },
            "type": "scatterpolargl"
           }
          ],
          "scatterternary": [
           {
            "marker": {
             "colorbar": {
              "outlinewidth": 0,
              "ticks": ""
             }
            },
            "type": "scatterternary"
           }
          ],
          "surface": [
           {
            "colorbar": {
             "outlinewidth": 0,
             "ticks": ""
            },
            "colorscale": [
             [
              0,
              "#0d0887"
             ],
             [
              0.1111111111111111,
              "#46039f"
             ],
             [
              0.2222222222222222,
              "#7201a8"
             ],
             [
              0.3333333333333333,
              "#9c179e"
             ],
             [
              0.4444444444444444,
              "#bd3786"
             ],
             [
              0.5555555555555556,
              "#d8576b"
             ],
             [
              0.6666666666666666,
              "#ed7953"
             ],
             [
              0.7777777777777778,
              "#fb9f3a"
             ],
             [
              0.8888888888888888,
              "#fdca26"
             ],
             [
              1,
              "#f0f921"
             ]
            ],
            "type": "surface"
           }
          ],
          "table": [
           {
            "cells": {
             "fill": {
              "color": "#EBF0F8"
             },
             "line": {
              "color": "white"
             }
            },
            "header": {
             "fill": {
              "color": "#C8D4E3"
             },
             "line": {
              "color": "white"
             }
            },
            "type": "table"
           }
          ]
         },
         "layout": {
          "annotationdefaults": {
           "arrowcolor": "#2a3f5f",
           "arrowhead": 0,
           "arrowwidth": 1
          },
          "autotypenumbers": "strict",
          "coloraxis": {
           "colorbar": {
            "outlinewidth": 0,
            "ticks": ""
           }
          },
          "colorscale": {
           "diverging": [
            [
             0,
             "#8e0152"
            ],
            [
             0.1,
             "#c51b7d"
            ],
            [
             0.2,
             "#de77ae"
            ],
            [
             0.3,
             "#f1b6da"
            ],
            [
             0.4,
             "#fde0ef"
            ],
            [
             0.5,
             "#f7f7f7"
            ],
            [
             0.6,
             "#e6f5d0"
            ],
            [
             0.7,
             "#b8e186"
            ],
            [
             0.8,
             "#7fbc41"
            ],
            [
             0.9,
             "#4d9221"
            ],
            [
             1,
             "#276419"
            ]
           ],
           "sequential": [
            [
             0,
             "#0d0887"
            ],
            [
             0.1111111111111111,
             "#46039f"
            ],
            [
             0.2222222222222222,
             "#7201a8"
            ],
            [
             0.3333333333333333,
             "#9c179e"
            ],
            [
             0.4444444444444444,
             "#bd3786"
            ],
            [
             0.5555555555555556,
             "#d8576b"
            ],
            [
             0.6666666666666666,
             "#ed7953"
            ],
            [
             0.7777777777777778,
             "#fb9f3a"
            ],
            [
             0.8888888888888888,
             "#fdca26"
            ],
            [
             1,
             "#f0f921"
            ]
           ],
           "sequentialminus": [
            [
             0,
             "#0d0887"
            ],
            [
             0.1111111111111111,
             "#46039f"
            ],
            [
             0.2222222222222222,
             "#7201a8"
            ],
            [
             0.3333333333333333,
             "#9c179e"
            ],
            [
             0.4444444444444444,
             "#bd3786"
            ],
            [
             0.5555555555555556,
             "#d8576b"
            ],
            [
             0.6666666666666666,
             "#ed7953"
            ],
            [
             0.7777777777777778,
             "#fb9f3a"
            ],
            [
             0.8888888888888888,
             "#fdca26"
            ],
            [
             1,
             "#f0f921"
            ]
           ]
          },
          "colorway": [
           "#636efa",
           "#EF553B",
           "#00cc96",
           "#ab63fa",
           "#FFA15A",
           "#19d3f3",
           "#FF6692",
           "#B6E880",
           "#FF97FF",
           "#FECB52"
          ],
          "font": {
           "color": "#2a3f5f"
          },
          "geo": {
           "bgcolor": "white",
           "lakecolor": "white",
           "landcolor": "#E5ECF6",
           "showlakes": true,
           "showland": true,
           "subunitcolor": "white"
          },
          "hoverlabel": {
           "align": "left"
          },
          "hovermode": "closest",
          "mapbox": {
           "style": "light"
          },
          "paper_bgcolor": "white",
          "plot_bgcolor": "#E5ECF6",
          "polar": {
           "angularaxis": {
            "gridcolor": "white",
            "linecolor": "white",
            "ticks": ""
           },
           "bgcolor": "#E5ECF6",
           "radialaxis": {
            "gridcolor": "white",
            "linecolor": "white",
            "ticks": ""
           }
          },
          "scene": {
           "xaxis": {
            "backgroundcolor": "#E5ECF6",
            "gridcolor": "white",
            "gridwidth": 2,
            "linecolor": "white",
            "showbackground": true,
            "ticks": "",
            "zerolinecolor": "white"
           },
           "yaxis": {
            "backgroundcolor": "#E5ECF6",
            "gridcolor": "white",
            "gridwidth": 2,
            "linecolor": "white",
            "showbackground": true,
            "ticks": "",
            "zerolinecolor": "white"
           },
           "zaxis": {
            "backgroundcolor": "#E5ECF6",
            "gridcolor": "white",
            "gridwidth": 2,
            "linecolor": "white",
            "showbackground": true,
            "ticks": "",
            "zerolinecolor": "white"
           }
          },
          "shapedefaults": {
           "line": {
            "color": "#2a3f5f"
           }
          },
          "ternary": {
           "aaxis": {
            "gridcolor": "white",
            "linecolor": "white",
            "ticks": ""
           },
           "baxis": {
            "gridcolor": "white",
            "linecolor": "white",
            "ticks": ""
           },
           "bgcolor": "#E5ECF6",
           "caxis": {
            "gridcolor": "white",
            "linecolor": "white",
            "ticks": ""
           }
          },
          "title": {
           "x": 0.05
          },
          "xaxis": {
           "automargin": true,
           "gridcolor": "white",
           "linecolor": "white",
           "ticks": "",
           "title": {
            "standoff": 15
           },
           "zerolinecolor": "white",
           "zerolinewidth": 2
          },
          "yaxis": {
           "automargin": true,
           "gridcolor": "white",
           "linecolor": "white",
           "ticks": "",
           "title": {
            "standoff": 15
           },
           "zerolinecolor": "white",
           "zerolinewidth": 2
          }
         }
        },
        "title": {
         "text": "By Travel Routes",
         "x": 0.5
        }
       }
      }
     },
     "metadata": {},
     "output_type": "display_data"
    }
   ],
   "source": [
    "fig_route = px.sunburst(df, path = ['from','to'], color_discrete_sequence = px.colors.sequential.RdBu)\n",
    "fig_route.update_layout(title = \"By Travel Routes\",\n",
    "                            title_x = 0.5,\n",
    "                            margin = dict(l = 50, r = 40, t = 50, b = 30)\n",
    ")\n",
    "fig_route.update_traces(textinfo=\"label+percent parent\")\n"
   ]
  },
  {
   "cell_type": "code",
   "execution_count": null,
   "metadata": {},
   "outputs": [],
   "source": [
    "# df[(df['stars'] == 1) & (df['recommended'] == 'yes')].cleaned_reviews.head(10)"
   ]
  }
 ],
 "metadata": {
  "kernelspec": {
   "display_name": "base",
   "language": "python",
   "name": "python3"
  },
  "language_info": {
   "codemirror_mode": {
    "name": "ipython",
    "version": 3
   },
   "file_extension": ".py",
   "mimetype": "text/x-python",
   "name": "python",
   "nbconvert_exporter": "python",
   "pygments_lexer": "ipython3",
   "version": "3.11.9"
  }
 },
 "nbformat": 4,
 "nbformat_minor": 2
}
