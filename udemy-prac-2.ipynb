{
 "cells": [
  {
   "cell_type": "code",
   "execution_count": 120,
   "metadata": {},
   "outputs": [],
   "source": [
    "import dash\n",
    "from dash import html \n",
    "from dash import dcc\n",
    "import pandas_datareader.data as web\n",
    "import datetime\n",
    "import os\n",
    "import pandas as pd"
   ]
  },
  {
   "cell_type": "code",
   "execution_count": 131,
   "metadata": {},
   "outputs": [],
   "source": [
    "tickers = {\n",
    "    'Hyundai Rotem' : '064350',\n",
    "    'Samsung' : '005930',\n",
    "    'Philoptics' : '161580',\n",
    "    'Alteogen' : '196170',\n",
    "    'HB Technology' : '078150'\n",
    "    }"
   ]
  },
  {
   "cell_type": "code",
   "execution_count": 132,
   "metadata": {},
   "outputs": [],
   "source": [
    "start = dt.datetime(2020, 1, 1)\n",
    "end = dt.datetime(2020, 12, 31)"
   ]
  },
  {
   "cell_type": "code",
   "execution_count": 133,
   "metadata": {},
   "outputs": [],
   "source": [
    "df = pd.DataFrame()\n",
    "for i in tickers.values():\n",
    "    sub = pd.DataFrame(web.DataReader(i, 'naver', start='2019-01-01', end='2019-03-01'))\n",
    "    sub['Ticker'] = i\n",
    "    df = pd.concat([df,sub])\n"
   ]
  },
  {
   "cell_type": "code",
   "execution_count": 134,
   "metadata": {},
   "outputs": [
    {
     "name": "stdout",
     "output_type": "stream",
     "text": [
      "<class 'pandas.core.frame.DataFrame'>\n",
      "DatetimeIndex: 195 entries, 2019-01-02 to 2019-02-28\n",
      "Data columns (total 6 columns):\n",
      " #   Column  Non-Null Count  Dtype \n",
      "---  ------  --------------  ----- \n",
      " 0   Open    195 non-null    object\n",
      " 1   High    195 non-null    object\n",
      " 2   Low     195 non-null    object\n",
      " 3   Close   195 non-null    object\n",
      " 4   Volume  195 non-null    object\n",
      " 5   Ticker  195 non-null    object\n",
      "dtypes: object(6)\n",
      "memory usage: 10.7+ KB\n"
     ]
    }
   ],
   "source": [
    "df.info()"
   ]
  },
  {
   "cell_type": "code",
   "execution_count": 135,
   "metadata": {},
   "outputs": [],
   "source": [
    "reverse_tickers = {v: k for k, v in tickers.items()}"
   ]
  },
  {
   "cell_type": "code",
   "execution_count": 136,
   "metadata": {},
   "outputs": [],
   "source": [
    "df['Company'] = df['Ticker'].map(reverse_tickers)"
   ]
  },
  {
   "cell_type": "code",
   "execution_count": 137,
   "metadata": {},
   "outputs": [],
   "source": [
    "data = df"
   ]
  },
  {
   "cell_type": "code",
   "execution_count": 138,
   "metadata": {},
   "outputs": [
    {
     "data": {
      "text/html": [
       "<div>\n",
       "<style scoped>\n",
       "    .dataframe tbody tr th:only-of-type {\n",
       "        vertical-align: middle;\n",
       "    }\n",
       "\n",
       "    .dataframe tbody tr th {\n",
       "        vertical-align: top;\n",
       "    }\n",
       "\n",
       "    .dataframe thead th {\n",
       "        text-align: right;\n",
       "    }\n",
       "</style>\n",
       "<table border=\"1\" class=\"dataframe\">\n",
       "  <thead>\n",
       "    <tr style=\"text-align: right;\">\n",
       "      <th></th>\n",
       "      <th>Date</th>\n",
       "      <th>Open</th>\n",
       "      <th>High</th>\n",
       "      <th>Low</th>\n",
       "      <th>Close</th>\n",
       "      <th>Volume</th>\n",
       "      <th>Ticker</th>\n",
       "      <th>Company</th>\n",
       "    </tr>\n",
       "  </thead>\n",
       "  <tbody>\n",
       "    <tr>\n",
       "      <th>0</th>\n",
       "      <td>2019-01-02</td>\n",
       "      <td>28350</td>\n",
       "      <td>28550</td>\n",
       "      <td>26650</td>\n",
       "      <td>26750</td>\n",
       "      <td>1621370</td>\n",
       "      <td>064350</td>\n",
       "      <td>Hyundai Rotem</td>\n",
       "    </tr>\n",
       "    <tr>\n",
       "      <th>1</th>\n",
       "      <td>2019-01-03</td>\n",
       "      <td>27000</td>\n",
       "      <td>29150</td>\n",
       "      <td>26650</td>\n",
       "      <td>28450</td>\n",
       "      <td>2698290</td>\n",
       "      <td>064350</td>\n",
       "      <td>Hyundai Rotem</td>\n",
       "    </tr>\n",
       "    <tr>\n",
       "      <th>2</th>\n",
       "      <td>2019-01-04</td>\n",
       "      <td>28200</td>\n",
       "      <td>28300</td>\n",
       "      <td>27600</td>\n",
       "      <td>28100</td>\n",
       "      <td>1072464</td>\n",
       "      <td>064350</td>\n",
       "      <td>Hyundai Rotem</td>\n",
       "    </tr>\n",
       "    <tr>\n",
       "      <th>3</th>\n",
       "      <td>2019-01-07</td>\n",
       "      <td>28600</td>\n",
       "      <td>28850</td>\n",
       "      <td>28200</td>\n",
       "      <td>28250</td>\n",
       "      <td>1105569</td>\n",
       "      <td>064350</td>\n",
       "      <td>Hyundai Rotem</td>\n",
       "    </tr>\n",
       "    <tr>\n",
       "      <th>4</th>\n",
       "      <td>2019-01-08</td>\n",
       "      <td>28450</td>\n",
       "      <td>29450</td>\n",
       "      <td>28350</td>\n",
       "      <td>28700</td>\n",
       "      <td>2009963</td>\n",
       "      <td>064350</td>\n",
       "      <td>Hyundai Rotem</td>\n",
       "    </tr>\n",
       "    <tr>\n",
       "      <th>...</th>\n",
       "      <td>...</td>\n",
       "      <td>...</td>\n",
       "      <td>...</td>\n",
       "      <td>...</td>\n",
       "      <td>...</td>\n",
       "      <td>...</td>\n",
       "      <td>...</td>\n",
       "      <td>...</td>\n",
       "    </tr>\n",
       "    <tr>\n",
       "      <th>190</th>\n",
       "      <td>2019-02-22</td>\n",
       "      <td>3850</td>\n",
       "      <td>3960</td>\n",
       "      <td>3810</td>\n",
       "      <td>3900</td>\n",
       "      <td>1487860</td>\n",
       "      <td>078150</td>\n",
       "      <td>HB Technology</td>\n",
       "    </tr>\n",
       "    <tr>\n",
       "      <th>191</th>\n",
       "      <td>2019-02-25</td>\n",
       "      <td>3905</td>\n",
       "      <td>4175</td>\n",
       "      <td>3905</td>\n",
       "      <td>3990</td>\n",
       "      <td>5484191</td>\n",
       "      <td>078150</td>\n",
       "      <td>HB Technology</td>\n",
       "    </tr>\n",
       "    <tr>\n",
       "      <th>192</th>\n",
       "      <td>2019-02-26</td>\n",
       "      <td>3990</td>\n",
       "      <td>4000</td>\n",
       "      <td>3775</td>\n",
       "      <td>3815</td>\n",
       "      <td>3250663</td>\n",
       "      <td>078150</td>\n",
       "      <td>HB Technology</td>\n",
       "    </tr>\n",
       "    <tr>\n",
       "      <th>193</th>\n",
       "      <td>2019-02-27</td>\n",
       "      <td>3815</td>\n",
       "      <td>3815</td>\n",
       "      <td>3700</td>\n",
       "      <td>3765</td>\n",
       "      <td>1573367</td>\n",
       "      <td>078150</td>\n",
       "      <td>HB Technology</td>\n",
       "    </tr>\n",
       "    <tr>\n",
       "      <th>194</th>\n",
       "      <td>2019-02-28</td>\n",
       "      <td>3715</td>\n",
       "      <td>3850</td>\n",
       "      <td>3620</td>\n",
       "      <td>3625</td>\n",
       "      <td>1722462</td>\n",
       "      <td>078150</td>\n",
       "      <td>HB Technology</td>\n",
       "    </tr>\n",
       "  </tbody>\n",
       "</table>\n",
       "<p>195 rows × 8 columns</p>\n",
       "</div>"
      ],
      "text/plain": [
       "          Date   Open   High    Low  Close   Volume  Ticker        Company\n",
       "0   2019-01-02  28350  28550  26650  26750  1621370  064350  Hyundai Rotem\n",
       "1   2019-01-03  27000  29150  26650  28450  2698290  064350  Hyundai Rotem\n",
       "2   2019-01-04  28200  28300  27600  28100  1072464  064350  Hyundai Rotem\n",
       "3   2019-01-07  28600  28850  28200  28250  1105569  064350  Hyundai Rotem\n",
       "4   2019-01-08  28450  29450  28350  28700  2009963  064350  Hyundai Rotem\n",
       "..         ...    ...    ...    ...    ...      ...     ...            ...\n",
       "190 2019-02-22   3850   3960   3810   3900  1487860  078150  HB Technology\n",
       "191 2019-02-25   3905   4175   3905   3990  5484191  078150  HB Technology\n",
       "192 2019-02-26   3990   4000   3775   3815  3250663  078150  HB Technology\n",
       "193 2019-02-27   3815   3815   3700   3765  1573367  078150  HB Technology\n",
       "194 2019-02-28   3715   3850   3620   3625  1722462  078150  HB Technology\n",
       "\n",
       "[195 rows x 8 columns]"
      ]
     },
     "execution_count": 138,
     "metadata": {},
     "output_type": "execute_result"
    }
   ],
   "source": [
    "data.reset_index(inplace = False)"
   ]
  },
  {
   "cell_type": "code",
   "execution_count": 139,
   "metadata": {},
   "outputs": [],
   "source": [
    "data.to_csv('NaverStock.csv')"
   ]
  },
  {
   "cell_type": "code",
   "execution_count": 144,
   "metadata": {},
   "outputs": [
    {
     "data": {
      "text/plain": [
       "'Hyundai Rotem'"
      ]
     },
     "execution_count": 144,
     "metadata": {},
     "output_type": "execute_result"
    }
   ],
   "source": [
    "data.Company.unique()[0]"
   ]
  },
  {
   "cell_type": "code",
   "execution_count": null,
   "metadata": {},
   "outputs": [],
   "source": []
  }
 ],
 "metadata": {
  "kernelspec": {
   "display_name": "bair_env",
   "language": "python",
   "name": "python3"
  },
  "language_info": {
   "codemirror_mode": {
    "name": "ipython",
    "version": 3
   },
   "file_extension": ".py",
   "mimetype": "text/x-python",
   "name": "python",
   "nbconvert_exporter": "python",
   "pygments_lexer": "ipython3",
   "version": "3.11.9"
  }
 },
 "nbformat": 4,
 "nbformat_minor": 2
}
